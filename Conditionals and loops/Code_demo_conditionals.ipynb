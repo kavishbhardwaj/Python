{
 "cells": [
  {
   "cell_type": "markdown",
   "metadata": {},
   "source": [
    "# Conditionals\n"
   ]
  },
  {
   "cell_type": "markdown",
   "metadata": {},
   "source": [
    "### Use of Boolean expressions to avoid conditionals"
   ]
  },
  {
   "cell_type": "code",
   "execution_count": null,
   "metadata": {},
   "outputs": [],
   "source": [
    "dob = input()  # Read input in \"dd/mm/yy\" format\n",
    "\n",
    "# Extract day, month, and year as integers\n",
    "day = int(dob[0:2])\n",
    "month = int(dob[3:5])\n",
    "year = int(dob[6:])\n",
    "\n",
    "new_month = (month + 10) % 12\n",
    "new_year = year + ((month + 10) // 12)\n",
    "if new_month == 0:\n",
    "    new_month = 12\n",
    "    new_year -= 1  # Adjusting the year in case month becomes 0 (December)\n",
    "tenth_month = f\"{day}/{new_month}/{new_year}\"\n",
    "\n",
    "# How to avoid use of conditionals by using Boolean expressions\n",
    "\n",
    "# Calculate the new month and year after adding 10 months\n",
    "new_month = (month + 10) % 12\n",
    "new_year = year + (month + 10) // 12\n",
    "\n",
    "# Adjust the month to be 12 (December) if new_month is 0\n",
    "new_month = new_month + 12 * (new_month == 0)\n",
    "new_year = new_year - (new_month == 12)\n",
    "\n",
    "# Format the date as \"dd/mm/yy\"\n",
    "new_date = f\"{day:02d}/{new_month:02d}/{new_year:02d}\"\n",
    "\n",
    "# Print the resulting date\n",
    "print(new_date)"
   ]
  },
  {
   "cell_type": "code",
   "execution_count": null,
   "metadata": {},
   "outputs": [
    {
     "name": "stdout",
     "output_type": "stream",
     "text": [
      "14/9/23\n",
      "14/9/23\n",
      "14/9/23\n",
      "14/9/23\n"
     ]
    }
   ],
   "source": [
    "# Calculate last birthday\n",
    "\n",
    "dob = '14/09/91'    # or Read input in \"dd/mm/yy\" format\n",
    "todays_date = '04/09/24'   # or Read input in \"dd/mm/yy\" format\n",
    "# Extract day, month, and year as integers\n",
    "day = int(dob[0:2])\n",
    "month = int(dob[3:5])\n",
    "year = int(dob[6:])\n",
    "\n",
    "d_t = int(todays_date[0:2])\n",
    "m_t = int(todays_date[3:5])\n",
    "y_t = int(todays_date[6:])\n",
    "\n",
    "last_birthday = str(day) + '/' + str(month) + '/' + str(y_t-1) if ((month>m_t)or((month==m_t) and (day>d_t))) else str(day) + '/' + str(month) + '/' + str(y_t)\n",
    "print(last_birthday)\n",
    "\n",
    "last_birthday = str(day) + '/' + str(month) + '/' + str((y_t-1)*((month>m_t)or((month==m_t) and (day>d_t))) + (y_t)*((month<m_t)or((month==m_t) and (day<=d_t)))) \n",
    "print(last_birthday)\n",
    "\n",
    "last_birthday = str(day) + '/' + str(month) + '/' + str(y_t - ((month > m_t) or (month == m_t and day > d_t)))\n",
    "print(last_birthday)\n",
    "\n",
    "last_birthday = str(day) + '/' + str(month) + '/' + str(y_t - ((month, day) > (m_t, d_t)))\n",
    "print(last_birthday)"
   ]
  },
  {
   "cell_type": "markdown",
   "metadata": {},
   "source": [
    "### If else elif"
   ]
  },
  {
   "cell_type": "code",
   "execution_count": null,
   "metadata": {},
   "outputs": [],
   "source": [
    "name = input(\"What's your name? \")\n",
    "\n",
    "if name == \"Harry\" or name == \"Hermione\" or name == \"Ron\": \n",
    "      print(\"Gryffindor\")\n",
    "elif name == \"Draco\":\n",
    "      print(\"Slytherin\")\n",
    "else:\n",
    "      print(\"Who?\")"
   ]
  },
  {
   "cell_type": "code",
   "execution_count": null,
   "metadata": {},
   "outputs": [],
   "source": [
    "name = input(\"What's your name? \")\n",
    "\n",
    "match name: \n",
    "    case \"Harry\" | \"Hermione\" | \"Ron\":\n",
    "        print(\"Gryffindor\")\n",
    "    case \"Draco\":\n",
    "        print(\"Slytherin\")\n",
    "    case _:                     # _ is used in other contexts also. Here, it acts as \"else\" \n",
    "        print(\"Who?\")"
   ]
  },
  {
   "cell_type": "code",
   "execution_count": null,
   "metadata": {},
   "outputs": [],
   "source": [
    "#Finding whether a number is even or odd \n",
    "#The modulo % operator in programming allows one to see if two numbers divide evenly or divide and have a remainder.\n",
    "\n",
    "def main():\n",
    "    x = int(input(\"What's x? \"))\n",
    "    if is_even(x):\n",
    "        print(\"Even\")\n",
    "    else:\n",
    "        print(\"Odd\")\n",
    "\n",
    "\n",
    "def is_even(n):\n",
    "    return True if n % 2 == 0 else False      #Pythonic way; % means modulo\n",
    "    # return n % 2 == 0                       #Alternate way to perfrom same function\n",
    "\n",
    "main()"
   ]
  },
  {
   "cell_type": "code",
   "execution_count": null,
   "metadata": {},
   "outputs": [
    {
     "name": "stdout",
     "output_type": "stream",
     "text": [
      "String\n",
      "Float\n"
     ]
    }
   ],
   "source": [
    "s1 = input()\n",
    "if isinstance(s1, int):\n",
    "    print(\"Integer\")\n",
    "elif isinstance(s1, float):\n",
    "    print(\"Float\")\n",
    "elif isinstance(s1, str):\n",
    "    print(\"String\")\n",
    "else:\n",
    "    print(\"None\")\n",
    "    \n",
    "a = input()\n",
    "if a.isdigit():\n",
    "   print(\"Integer\")\n",
    "elif a.replace('.','',1).isdigit() and a.count('.') < 2:\n",
    "   print(\"Float\")\n",
    "else:\n",
    "   print(\"None\")"
   ]
  },
  {
   "cell_type": "code",
   "execution_count": null,
   "metadata": {},
   "outputs": [
    {
     "name": "stdout",
     "output_type": "stream",
     "text": [
      "x < y < z\n"
     ]
    }
   ],
   "source": [
    "x = int(input(\"Enter the value of x ? \"))\n",
    "y = int(input(\"Enter the value of y ? \"))\n",
    "z = int(input(\"Enter value of z ? \"))\n",
    "\n",
    "\n",
    "if x == y or x == z or y == z:        # or\n",
    "    if y != z:\n",
    "        if y<z:             #can be written as  x == y < z in python\n",
    "            print(\"x = y < z\")\n",
    "        else:\n",
    "            print(\"x = y > z\")\n",
    "\n",
    "    elif z != y:                        #not equal to !=\n",
    "        if z<y:\n",
    "            print(\"x = z < y\")\n",
    "        else:\n",
    "            print(\"x = z > y\")\n",
    "\n",
    "    elif z != x:\n",
    "        if z<x:\n",
    "            print(\"x < y = z\")\n",
    "        else:\n",
    "            print(\"x > y = z\")\n",
    "\n",
    "    else:\n",
    "        print(\"x = y = z\")\n",
    "\n",
    "else: \n",
    "    if x<y and y<z:                      #can be written as x < y < z in python\n",
    "        print(\"x < y < z\")\n",
    "\n",
    "    elif x<z<y:\n",
    "        print(\"x < z < y\")\n",
    "\n",
    "    elif z<x<y:\n",
    "        print(\"z < x < y\")\n",
    "\n",
    "    elif z<y<x:\n",
    "        print(\"z < y < x\")\n",
    "\n",
    "    elif y<x<z:\n",
    "        print(\"y < x < z\")\n",
    "\n",
    "    else:\n",
    "        print(\"y < z < x\")\n",
    "\n",
    "\n"
   ]
  }
 ],
 "metadata": {
  "language_info": {
   "name": "python"
  }
 },
 "nbformat": 4,
 "nbformat_minor": 2
}
