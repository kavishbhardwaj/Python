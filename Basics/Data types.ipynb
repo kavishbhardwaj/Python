{
 "cells": [
  {
   "cell_type": "markdown",
   "id": "767b698f",
   "metadata": {},
   "source": [
    "# String \n",
    "\n",
    " print is a function and its arguements/parameters are inside the brackets\n",
    " \n",
    " print(*objects, sep=' ', end='\\n', file=None, flush=False)  \n",
    "\n",
    "https://docs.python.org/3/library/functions.html\n",
    "\n",
    " https://docs.python.org/3/library/stdtypes.html#string-methods "
   ]
  },
  {
   "cell_type": "markdown",
   "id": "465bc514",
   "metadata": {},
   "source": [
    " ### Introduction to strings - Print function "
   ]
  },
  {
   "cell_type": "code",
   "execution_count": 10,
   "id": "375b5cdf",
   "metadata": {},
   "outputs": [
    {
     "name": "stdout",
     "output_type": "stream",
     "text": [
      "Hello India Hello World 20 20.5\n",
      "2\n",
      "Sudarshan\n"
     ]
    },
    {
     "data": {
      "text/plain": [
       "'name and x are variables & Sudarshan , 2 are literals '"
      ]
     },
     "execution_count": 10,
     "metadata": {},
     "output_type": "execute_result"
    }
   ],
   "source": [
    "print('Hello India','Hello World', 20, 20.5)\n",
    "\n",
    "name = 'Sudarshan'\n",
    "x = 2             \n",
    "print(x)\n",
    "print(name) \n",
    "\n",
    "'''name and x are variables & Sudarshan , 2 are literals '''\n"
   ]
  },
  {
   "cell_type": "code",
   "execution_count": 11,
   "id": "d8c106e2",
   "metadata": {},
   "outputs": [
    {
     "name": "stdout",
     "output_type": "stream",
     "text": [
      "<class 'str'>\n",
      "Hello Kavish How are you And howz weather in your city Indore\n",
      "<class 'str'>\n",
      "Hello Kavish\n"
     ]
    }
   ],
   "source": [
    "n = input(\"What's your name\")\n",
    "m = input(\"Whats your city ?\")\n",
    "print(type(n))\n",
    "print('Hello', n, 'How are you ?', 'And howz weather in your city', m)\n",
    "n = str(n)\n",
    "# input() function: The input() function always returns the user input as a string, regardless of what the user enters.\n",
    "# There’s no need to convert it again with str(n)\n",
    "print(type(n))\n",
    "print('Hello', n)"
   ]
  },
  {
   "cell_type": "code",
   "execution_count": 3,
   "id": "de4347d7",
   "metadata": {},
   "outputs": [
    {
     "name": "stdout",
     "output_type": "stream",
     "text": [
      "What's your name ? \n",
      "Hello, \"dear\" 'user'   Respected kavish"
     ]
    }
   ],
   "source": [
    "print(\"What's your name ? \")     #Ask user for their name                                                          \n",
    "name = input()                   #result of input function is assigned to VARIABLE \"name\"  \n",
    "name = f' Respected {name}'                          \n",
    "print(\"Hello, \\\"dear\\\" 'user' \", name, end = \"\")       #quotation mark inside a string \n",
    "# #end of the line will be nothing whereas in original syntax its \\n   \n",
    "\n",
    "#in python both single and double quotes can be used provided end and start is by the same type"
   ]
  },
  {
   "cell_type": "code",
   "execution_count": null,
   "id": "2443b613",
   "metadata": {},
   "outputs": [],
   "source": [
    "\"\"\"\n",
    "This is a multi-line string.\n",
    "It will be displayed as output in Jupyter.\n",
    "interactive python mode- not needed to save a .py file \n",
    "type python in terminal window and three arrows appear \n",
    "any line of code is interpreted immediately;\n",
    "use exit() or ctrl+z+enter to exit\n",
    "\"\"\"\n",
    "\n",
    "\n",
    "docstring = \"\"\"\n",
    "This is a multi-line string.\n",
    "It won't display as output now because it's assigned to a variable.\n",
    "\"\"\"\n",
    "\n",
    "\n",
    "#In Python, the backslash - \\ - is called the escape character\n",
    "print('India\\'s capital is \\t New Delhi \\n Really?')"
   ]
  },
  {
   "cell_type": "code",
   "execution_count": 20,
   "id": "f52895e7",
   "metadata": {},
   "outputs": [
    {
     "name": "stdout",
     "output_type": "stream",
     "text": [
      "False\n",
      "True\n",
      "False\n",
      "False\n"
     ]
    }
   ],
   "source": [
    "print(5>10)\n",
    "print(5>=5)\n",
    "print(True and False)\n",
    "print(not(True))"
   ]
  },
  {
   "cell_type": "code",
   "execution_count": null,
   "id": "bd310a03",
   "metadata": {},
   "outputs": [],
   "source": [
    "s1 = 'atul '\n",
    "s2 = 'thora '\n",
    "\n",
    "string_add = s1+s2+s1+s2+s1  #Concatenation\n",
    "print(string_add)\n",
    "string_repl = s1*5  #Replication\n",
    "print(string_repl)\n",
    "string_new = string_add.replace(\"atul\", \"\", 2)\n",
    "print(string_new)\n",
    "string_new = string_add.replace(\"a\", \"\", 3)\n",
    "print(string_new)"
   ]
  },
  {
   "cell_type": "markdown",
   "id": "2637f3bb",
   "metadata": {},
   "source": [
    "### String methods"
   ]
  },
  {
   "cell_type": "code",
   "execution_count": null,
   "id": "04e93c97",
   "metadata": {},
   "outputs": [],
   "source": [
    "print(\"Can you tell your full name again ?\", end =\"039  \")          #Ask user for their name\n",
    "first_name, last_name = input().strip().title().split(\" \")          # strip away blank spaces and capitalise\n",
    "# title function and strip function are methods here\n",
    "print(f\"Hello, {name}\", first_name, end = \"\\n\")                     #F string makes it possible to enter variable inside quotes\n",
    "\n",
    "#Ask user for their friend's name\n",
    "friend_name = input(\"What's your best friend's name ?\").strip().title()\n",
    "print(\"Say Hello to \" + friend_name)"
   ]
  },
  {
   "cell_type": "code",
   "execution_count": null,
   "id": "43426a37",
   "metadata": {},
   "outputs": [],
   "source": [
    "valid = name.isalpha()\n",
    "print(valid)\n",
    "'''name.isalpha() returns a boolean value. \n",
    "If every character in the string is an alphabet and \n",
    "the string is non-empty, it returns True, and False otherwise\n",
    "above string is considered as docstring as it is right after a function\n",
    "'''"
   ]
  },
  {
   "cell_type": "code",
   "execution_count": null,
   "id": "87b51512",
   "metadata": {},
   "outputs": [],
   "source": [
    "#The Python string translate() method replaces each character in the string \n",
    "#using the given mapping table or dictionary.\n",
    "\n",
    "s = 'abc12321cba'                     #Here, s is variable and abc12321cba is a literal \n",
    "print(s.translate({ord('b'): None}))\n",
    "\n",
    "s1 = input(\"Enter a string s1: \")\n",
    "s2 = input(\"Enter another string s2: \")\n",
    "print(s1.translate({ord(i): None for i in s2}))"
   ]
  },
  {
   "cell_type": "markdown",
   "id": "b50f17c0",
   "metadata": {},
   "source": [
    "### Indexing"
   ]
  },
  {
   "cell_type": "code",
   "execution_count": 46,
   "id": "b4e5ef3e",
   "metadata": {},
   "outputs": [
    {
     "name": "stdout",
     "output_type": "stream",
     "text": [
      "5\n",
      "w\n",
      "o\n",
      "r\n",
      "l\n",
      "d\n",
      "w\n",
      "o\n",
      "r\n",
      "l\n",
      "d\n",
      "or\n",
      "or\n"
     ]
    }
   ],
   "source": [
    "#A string is a sequence of characters. Sequences support indexing.\n",
    "\n",
    "word = 'world'\n",
    "print(len(word))\n",
    "print(word[0])\n",
    "print(word[1])\n",
    "print(word[2])\n",
    "print(word[3])\n",
    "print(word[4])\n",
    "\n",
    "\n",
    "print(word[-5])\n",
    "print(word[-4])\n",
    "print(word[-3])\n",
    "print(word[-2])\n",
    "print(word[-1])\n",
    "\n",
    "\n",
    "word = 'world'\n",
    "print(word[-4 : 3])\n",
    "print(word[1 : -2])"
   ]
  },
  {
   "cell_type": "code",
   "execution_count": 53,
   "id": "530b5a04",
   "metadata": {},
   "outputs": [
    {
     "name": "stdout",
     "output_type": "stream",
     "text": [
      "Edu\n",
      "Euain\n",
      "ion\n",
      "noitacudE\n"
     ]
    }
   ],
   "source": [
    "s = 'Education'\n",
    "\n",
    "print(s[0:3]) # str: get the first 3 characters of s\n",
    "\n",
    "print(s[0:len(s):2]) # str: get every second character of s\n",
    "\n",
    "print(s[-3:]) # str: get the last 3 characters of s\n",
    "\n",
    "print(s[::-1]) # str: get the reverse of s"
   ]
  },
  {
   "cell_type": "code",
   "execution_count": 52,
   "id": "034c7e6a",
   "metadata": {},
   "outputs": [
    {
     "name": "stdout",
     "output_type": "stream",
     "text": [
      "CS\n",
      "10\n",
      "014\n",
      "iitm\n",
      "CS_10_014\n",
      "iitm.ac.in\n"
     ]
    }
   ],
   "source": [
    "# Slicing\n",
    "\n",
    "\n",
    "email = 'CS_10_014@iitm.ac.in'\n",
    "branch = email[0 : 2]\n",
    "print(branch)\n",
    "print(email[3 : 5])\n",
    "print(email[6 : 9])\n",
    "print(email[10 : 14])\n",
    "\n",
    "\n",
    "in_roll = email[ : 9]\n",
    "print(in_roll)\n",
    "\n",
    "\n",
    "\n",
    "email = 'CS_10_014@iitm.ac.in'\n",
    "domain = email[-10 : ]\n",
    "print(domain)"
   ]
  },
  {
   "cell_type": "code",
   "execution_count": 39,
   "id": "2169970b",
   "metadata": {},
   "outputs": [
    {
     "name": "stdout",
     "output_type": "stream",
     "text": [
      "bat\n"
     ]
    }
   ],
   "source": [
    "original_string = \"bad\"\n",
    "index = 2\n",
    "\n",
    "# ``t`` will replace ``d`\n",
    "new_character = \"t\"\n",
    "\n",
    "original_string = original_string[:index] + new_character + original_string[index + 1:]\n",
    "\n",
    "print(original_string)"
   ]
  },
  {
   "cell_type": "code",
   "execution_count": 59,
   "id": "3a446b32",
   "metadata": {},
   "outputs": [
    {
     "name": "stdout",
     "output_type": "stream",
     "text": [
      "True\n",
      "True\n",
      "True\n"
     ]
    }
   ],
   "source": [
    "# To find if a word has a letter \n",
    "\n",
    "word1 = 'hello'\n",
    "has_h = word1 != word1.replace('h',\"\") # bool: True if word1 has the letter h\n",
    "print(has_h)\n",
    "has_h = word1.find('h') != -1\n",
    "print(has_h)\n",
    "has_h = 'h' in word1\n",
    "print(has_h)\n",
    "\n"
   ]
  },
  {
   "cell_type": "code",
   "execution_count": 60,
   "id": "3d86923b",
   "metadata": {},
   "outputs": [
    {
     "name": "stdout",
     "output_type": "stream",
     "text": [
      "True\n",
      "True\n"
     ]
    }
   ],
   "source": [
    "# To find if a sentence has a word python\n",
    "\n",
    "sentence = 'I like programming in python'\n",
    "has_the_word_python = sentence != sentence.replace('python',\"\") # bool: True if the sentence has the word python\n",
    "print(has_the_word_python)\n",
    "has_the_word_python = \"python\" in sentence.lower()\n",
    "print(has_the_word_python)\n",
    "has_the_word_python = sentence.lower().find(\"python\") != -1\n",
    "print(has_the_word_python)\n",
    "\n",
    "print(has_the_word_python)"
   ]
  },
  {
   "cell_type": "markdown",
   "id": "649bb863",
   "metadata": {},
   "source": [
    "### Lexicography\n",
    "https://www.unicode.org/charts/          unicode charts  \n",
    "go to latin script, ascii code for english "
   ]
  },
  {
   "cell_type": "code",
   "execution_count": null,
   "id": "5c1ce692",
   "metadata": {},
   "outputs": [],
   "source": [
    "x = 'India'\n",
    "print(x == 'India')\n",
    "print(x == 'india')"
   ]
  },
  {
   "cell_type": "code",
   "execution_count": 45,
   "id": "c3a63817",
   "metadata": {},
   "outputs": [
    {
     "name": "stdout",
     "output_type": "stream",
     "text": [
      "97 98\n",
      "97 65\n",
      "'a' < 'b' True\n",
      "'good' > 'bad' True\n",
      "'nine' < 'one' True\n",
      "'a' < 'ab' < 'abc' < 'b' True\n",
      "False\n",
      "True\n"
     ]
    }
   ],
   "source": [
    "'''The first characters from the two strings are compared. \n",
    "If they differ this determines the outcome of the comparison\n",
    "If they are equal, then the second character of both the strings are compared.\n",
    "'''\n",
    "print(ord('a'), ord('b'))\n",
    "print(ord('a'), ord('A'))\n",
    "\n",
    "print(\"'a' < 'b'\",'a' < 'b')\n",
    "\n",
    "print(\"'good' > 'bad'\",'good' > 'bad')\n",
    "print(\"'nine' < 'one'\",'nine' < 'one' )\n",
    "print(\"'a' < 'ab' < 'abc' < 'b'\",'a' < 'ab' < 'abc' < 'b')\n",
    "\n",
    "print('abc'<'ab')\n",
    "print('abc'>'ab')"
   ]
  },
  {
   "cell_type": "code",
   "execution_count": null,
   "id": "c5985804",
   "metadata": {},
   "outputs": [],
   "source": [
    "a = 'good'\n",
    "b = 'very good'\n",
    "present = a in b\n",
    "print(present)\n",
    "not_present = b in a\n",
    "print(not_present)"
   ]
  },
  {
   "cell_type": "markdown",
   "id": "47346386",
   "metadata": {},
   "source": [
    "# Numbers\n",
    " https://docs.python.org/3/library/functions.html\n"
   ]
  },
  {
   "cell_type": "code",
   "execution_count": 3,
   "id": "f7144e5e",
   "metadata": {},
   "outputs": [
    {
     "name": "stdout",
     "output_type": "stream",
     "text": [
      "False <class 'bool'>\n",
      "2.2 <class 'float'>\n"
     ]
    }
   ],
   "source": [
    "sit = 2\n",
    "alex = False  # F capital\n",
    "Sid = True    # T capital\n",
    "x = 2.2\n",
    "\n",
    "print(alex, type(alex))\n",
    "print(x, type(x))\n"
   ]
  },
  {
   "cell_type": "code",
   "execution_count": 15,
   "id": "65bb0421",
   "metadata": {},
   "outputs": [
    {
     "name": "stdout",
     "output_type": "stream",
     "text": [
      "([2, 5, 7], [4, 7, 9]) <class 'tuple'>\n",
      "[4, 7, 9] <class 'list'>\n",
      "7 <class 'int'>\n",
      "[1, 2, 3] <class 'list'>\n",
      "1 <class 'int'>\n"
     ]
    }
   ],
   "source": [
    "A = ( [ 2, 5, 7 ],\n",
    "      [ 4, 7, 9 ] )\n",
    "print(A,type(A))\n",
    "print(A[1], type(A[1]))\n",
    "print(A[1][1], type(A[1][1]))\n",
    "\n",
    "l = [1,2,3]\n",
    "print(l, type(l))\n",
    "print(l[0], type(l[0]))"
   ]
  },
  {
   "cell_type": "code",
   "execution_count": null,
   "id": "c407b245",
   "metadata": {},
   "outputs": [],
   "source": [
    "numbers = range(10)   #this is a sequence which can be iterated upon\n",
    "print(numbers)"
   ]
  },
  {
   "cell_type": "markdown",
   "id": "5a2e5ac6",
   "metadata": {},
   "source": [
    "### Type conversion or type casting"
   ]
  },
  {
   "cell_type": "code",
   "execution_count": 11,
   "id": "19f35b82",
   "metadata": {},
   "outputs": [
    {
     "name": "stdout",
     "output_type": "stream",
     "text": [
      "2 <class 'str'> 2 <class 'str'>\n",
      "2 <class 'int'>\n",
      "5.77 <class 'float'> 5 <class 'float'>\n",
      "5 <class 'int'>\n"
     ]
    },
    {
     "data": {
      "text/plain": [
       "\"print(type(b), int(b)) would result into an error, Python raises an error because int() can only convert strings that represent whole numbers (like '2' or '5') into integers\""
      ]
     },
     "execution_count": 11,
     "metadata": {},
     "output_type": "execute_result"
    }
   ],
   "source": [
    "#String to integer/float conversion\n",
    "#Float to integer conversion \n",
    "\n",
    "a = '2'\n",
    "print(a, type(a), int(a), type(a))\n",
    "\n",
    "a = int('2')\n",
    "print(a, type(a))\n",
    "\n",
    "b = 5.77\n",
    "print(b, type(b), int(b), type(b))\n",
    "\n",
    "b = int(5.77)\n",
    "print(b, type(b))\n",
    "\n",
    "b = '2.2'\n",
    "'''print(type(b), int(b)) would result into an error, Python raises an error because int() can only convert strings that represent whole numbers (like '2' or '5') into integers'''\n"
   ]
  },
  {
   "cell_type": "code",
   "execution_count": 12,
   "id": "a12a0076",
   "metadata": {},
   "outputs": [
    {
     "name": "stdout",
     "output_type": "stream",
     "text": [
      "9 <class 'str'>\n",
      "5.3 <class 'str'>\n"
     ]
    }
   ],
   "source": [
    "#Integer/float to string conversion\n",
    "\n",
    "a = str(9)\n",
    "print(a, type(a))\n",
    "\n",
    "b = str(5.3)\n",
    "print(b, type(b))"
   ]
  },
  {
   "cell_type": "code",
   "execution_count": 15,
   "id": "f6407f7a",
   "metadata": {},
   "outputs": [
    {
     "name": "stdout",
     "output_type": "stream",
     "text": [
      "True <class 'bool'>\n",
      "False <class 'bool'>\n",
      "True <class 'bool'>\n",
      "True <class 'bool'>\n",
      "False <class 'bool'>\n"
     ]
    }
   ],
   "source": [
    "#Integer/float to Boolean conversion\n",
    "\n",
    "a = bool(10)\n",
    "b = bool(0)\n",
    "c = bool(-10)\n",
    "d = bool(-10.99)\n",
    "e = bool(0.00)\n",
    "print(a, type(a))\n",
    "print(b, type(b))\n",
    "print(c, type(c))\n",
    "print(d, type(d))\n",
    "print(e, type(e))"
   ]
  },
  {
   "cell_type": "code",
   "execution_count": 16,
   "id": "1e530647",
   "metadata": {},
   "outputs": [
    {
     "name": "stdout",
     "output_type": "stream",
     "text": [
      "True <class 'bool'>\n",
      "True <class 'bool'>\n",
      "True <class 'bool'>\n",
      "True <class 'bool'>\n",
      "True <class 'bool'>\n",
      "False <class 'bool'>\n"
     ]
    }
   ],
   "source": [
    "#String to Boolean conversion\n",
    "\n",
    "a = bool('India')\n",
    "b = bool('10')\n",
    "c = bool('-10.33')\n",
    "d = bool('0')\n",
    "e = bool('0.00')\n",
    "f = bool('')\n",
    "print(a, type(a))\n",
    "print(b, type(b))\n",
    "print(c, type(c))\n",
    "print(d, type(d))\n",
    "print(e, type(e))\n",
    "print(f, type(f))"
   ]
  },
  {
   "cell_type": "markdown",
   "id": "796f2b73",
   "metadata": {},
   "source": [
    "### Integer"
   ]
  },
  {
   "cell_type": "code",
   "execution_count": 4,
   "id": "6f221d7c",
   "metadata": {},
   "outputs": [
    {
     "name": "stdout",
     "output_type": "stream",
     "text": [
      "concatenation 56\n",
      "The type of x is <class 'str'>\n",
      "No, the correct sum of inetegers is 11\n"
     ]
    }
   ],
   "source": [
    "'''x += a\tx = x + a\n",
    "x -= a\tx = x - a\n",
    "x *= a\tx = x * a\n",
    "x /= a\tx = x / a\n",
    "x %= a\tx = x % a\n",
    "x **= a\tx = x ** a'''\n",
    "\n",
    "x = input(\"what's x ?\")\n",
    "y = input(\"What's y ?\")\n",
    "z = x+y\n",
    "print(\"concatenation\", z)           #Concatenation\n",
    "print('The type of x is', type(x))\n",
    "\n",
    "#type conversion #int function will convert input to integer type\n",
    "z = int(x) \\\n",
    "    + int(y)       # int is not only a data type but also a function\n",
    "print(\"No, the correct sum of inetegers is\", z)"
   ]
  },
  {
   "cell_type": "code",
   "execution_count": 1,
   "id": "4bb02fd6",
   "metadata": {},
   "outputs": [
    {
     "name": "stdout",
     "output_type": "stream",
     "text": [
      "1 2\n",
      "The type of x is <class 'int'>\n"
     ]
    }
   ],
   "source": [
    "x, y = 1, 2\n",
    "print(x, y)\n",
    "print('The type of x is', type(x))"
   ]
  },
  {
   "cell_type": "code",
   "execution_count": 3,
   "id": "304d4022",
   "metadata": {},
   "outputs": [
    {
     "name": "stdout",
     "output_type": "stream",
     "text": [
      "11\n",
      "sum 11\n"
     ]
    }
   ],
   "source": [
    "x = int(input(\"what's x again?\"))  #nesting of functions\n",
    "y = int(input(\"What's y again?\"))\n",
    "\n",
    "print(x+y)\n",
    "\n",
    "print(\"sum\", int(input(\"What's x ?\"))+int(input(\"What's y ?\")))      #nesting of functions"
   ]
  },
  {
   "cell_type": "code",
   "execution_count": 48,
   "id": "4cb2856c",
   "metadata": {},
   "outputs": [
    {
     "name": "stdout",
     "output_type": "stream",
     "text": [
      "14\n",
      "sum 17\n",
      "Division 3.6666666666666665 <class 'float'>\n",
      "Remainder 2 <class 'int'>\n",
      "floor division 3; exponentiation 1331 <class 'int'> <class 'int'>\n"
     ]
    }
   ],
   "source": [
    "'''\n",
    "#round() accepts a number as input and returns integer closest to it\n",
    "#abs() accepts a number as input and returns its absolute value\n",
    "int() - If an integer enclosed within quotes is entered as input, then the output is that integer. int('123') is 123. \n",
    "If a float is entered as input, then the decimal part is thrown away and the integer part is returned. int(1.2) returns 1\n",
    "If a float is passed in the form of a string, a ValueError will be thrown- int('2.5')\n",
    "isinstance() is used to check if an object is of a specified type. \n",
    "For example isinstance(3, int) returns the value True as the literal 3 is of type int\n",
    "pow(x, y, z) gives the remainder when x^y is divided by z\n",
    "pow(x, y) returns the value of x^y or x**y\n",
    "'''\n",
    "\n",
    "x = int(input(\"what's x again?\"))  #nesting of functions\n",
    "y = int(input(\"What's y again?\"))\n",
    "\n",
    "print(x+y)\n",
    "\n",
    "print(\"sum\", int(input(\"What's x ?\"))+int(input(\"What's y ?\")))      #nesting of functions\n",
    "\n",
    "z = x/y\n",
    "print(\"Division\", z, type(z))\n",
    "\n",
    "z = x % y #Modulo\n",
    "print(\"Remainder\", z, type(z))\n",
    "\n",
    "z1 = x//y   #floor division\n",
    "z2 = x**y\n",
    "print('floor division {}; exponentiation {}'.format(z1, z2), type(z1), type(z2))"
   ]
  },
  {
   "cell_type": "code",
   "execution_count": 49,
   "id": "e7625da8",
   "metadata": {},
   "outputs": [
    {
     "name": "stdout",
     "output_type": "stream",
     "text": [
      "2\n"
     ]
    },
    {
     "data": {
      "text/plain": [
       "' (2 ** 3) ** 0 or 2 ** (3 ** 0) The interpreter is following the second way, i.e., the statement is being executed from right to left. \\nThis kind of execution happens only in the case of the exponentiation operator and the assignment operator. It is good to know that this behavior is a part of the language.\\n'"
      ]
     },
     "execution_count": 49,
     "metadata": {},
     "output_type": "execute_result"
    }
   ],
   "source": [
    "\n",
    "print(2 ** 3 ** 0)\n",
    "\n",
    "''' (2 ** 3) ** 0 or 2 ** (3 ** 0) The interpreter is following the second way, i.e., the statement is being executed from right to left. \n",
    "This kind of execution happens only in the case of the exponentiation operator and the assignment operator. It is good to know that this behavior is a part of the language.\n",
    "'''"
   ]
  },
  {
   "cell_type": "markdown",
   "id": "74e87e32",
   "metadata": {},
   "source": [
    "### Float"
   ]
  },
  {
   "cell_type": "code",
   "execution_count": null,
   "id": "db12f30e",
   "metadata": {},
   "outputs": [],
   "source": [
    "#Float is real number; its a data type similar to int or string\n",
    "\n",
    "x = float(input(\"What's x?\"))  #enter decimal point\n",
    "y = float(input(\"What's y?\"))\n",
    "\n",
    "# https://docs.python.org/3/library/functions.html#round\n",
    "z = round(x+y)\n",
    "print(f\"{z:,}\")  #formatting numbers\n",
    "\n",
    "z= x/y\n",
    "print(z, type(z))\n",
    "\n",
    "z = f'{z:10.1f}'\n",
    "print(z)\n",
    "\n",
    "z = round(x/y , 2)\n",
    "print(z)\n",
    "\n",
    "z = x/y\n",
    "print(f\"{z:0.3f}\")"
   ]
  },
  {
   "cell_type": "code",
   "execution_count": 51,
   "id": "20910573",
   "metadata": {},
   "outputs": [
    {
     "name": "stdout",
     "output_type": "stream",
     "text": [
      "2.0\n",
      "2\n",
      "2.0\n",
      "2.0\n"
     ]
    }
   ],
   "source": [
    "'''The division operation will always produce a float value irrespective of the operands involved. \n",
    "For example, in the expression a / b, even if a and b are integers such that a is divisible by b, \n",
    "the result will still be a float. '''\n",
    "\n",
    "print(10 / 5)\n",
    "\n",
    "''' For any arithmetic operation, even if one of the operands is float, \n",
    "the resulting value is a float. '''\n",
    "\n",
    "print(10 // 5)\n",
    "print(10.0 // 5)\n",
    "print(10 // 5.0)"
   ]
  },
  {
   "cell_type": "markdown",
   "id": "bb00d3da",
   "metadata": {},
   "source": [
    "### F string\n",
    "F-strings, also known as **formatted string literals**, were introduced in Python 3.6 and are a concise and readable way to format strings. They automatically handle type conversion, making it easier to work with variables of different types when constructing strings.\n",
    "\n",
    "F-strings make it easier to work with string formatting, especially when dealing with multiple data types or when you want to embed expressions within strings. "
   ]
  },
  {
   "cell_type": "code",
   "execution_count": 54,
   "id": "baade096",
   "metadata": {},
   "outputs": [
    {
     "name": "stdout",
     "output_type": "stream",
     "text": [
      "9-10-2024\n"
     ]
    },
    {
     "data": {
      "text/plain": [
       "\"Here, the `format()` method takes the `day`, `month`, and `year` and \\ninjects them into the string, \\nbut you don't have the option to directly include variables inside the string like you do with f-strings.\""
      ]
     },
     "execution_count": 54,
     "metadata": {},
     "output_type": "execute_result"
    }
   ],
   "source": [
    "# Without F-strings: MANUALLY CONVERT INTEGER TO STRINGS\n",
    "# In this method, you would manually convert integers to strings when combining them.\n",
    "\n",
    "\n",
    "day = 9\n",
    "month = 10\n",
    "year = 2024\n",
    "\n",
    "formatted_date = \"{}-{}-{}\".format(day, month, year)    \n",
    "print(formatted_date)  # Output: 9-10-2024\n",
    "\n",
    "\n",
    "'''Here, the `format()` method takes the `day`, `month`, and `year` and \n",
    "injects them into the string, \n",
    "but you don't have the option to directly include variables inside the string like you do with f-strings.'''"
   ]
  },
  {
   "cell_type": "code",
   "execution_count": null,
   "id": "81920fe1",
   "metadata": {},
   "outputs": [],
   "source": [
    "# With F-strings:\n",
    "# F-strings are much cleaner and automatically handle type conversion, so you don’t have to manually convert integers to strings.\n",
    "\n",
    "day = 9\n",
    "month = 10\n",
    "year = 2024\n",
    "\n",
    "formatted_date = f\"{day:02d}-{month:02d}-{year}\"\n",
    "print(formatted_date)  # Output: 09-10-2024\n",
    "\n",
    "\n",
    "'''In this example:\n",
    "- The `f` before the string tells Python to evaluate the variables inside the curly braces `{}`.'''"
   ]
  },
  {
   "cell_type": "markdown",
   "id": "5fce2080",
   "metadata": {},
   "source": [
    "##### Comparison: Key Benefits of F-strings\n",
    "\n",
    "1. **Cleaner Syntax**: F-strings allow you to embed variables directly into the string without needing to call methods like `format()` or use concatenation (`+`).\n",
    "2. **Automatic Type Conversion**: You don’t need to worry about converting types manually. F-strings handle it for you.\n",
    "3. **More Readable**: Since variables are embedded directly inside the string, it's easier to read and understand the code."
   ]
  },
  {
   "cell_type": "code",
   "execution_count": 55,
   "id": "4e9e6001",
   "metadata": {},
   "outputs": [
    {
     "name": "stdout",
     "output_type": "stream",
     "text": [
      "My name is Kavish and I am 30 years old.\n",
      "The area of the rectangle is 15.\n",
      "Pi rounded to two decimal places is 3.14.\n"
     ]
    }
   ],
   "source": [
    "\n",
    "\n",
    "name = \"Kavish\"\n",
    "age = 30\n",
    "print(f\"My name is {name} and I am {age} years old.\")  # Output: My name is Kavish and I am 30 years old.\n",
    "  \n",
    "\n",
    "# Expressions inside F-strings:\n",
    "    \n",
    "length = 5\n",
    "width = 3\n",
    "print(f\"The area of the rectangle is {length * width}.\")  # Output: The area of the rectangle is 15.\n",
    "\n",
    "\n",
    "# Float formatting:\n",
    "    \n",
    "pi = 3.14159\n",
    "print(f\"Pi rounded to two decimal places is {pi:.2f}.\")  # Output: Pi rounded to two decimal places is 3.14.\n"
   ]
  }
 ],
 "metadata": {
  "kernelspec": {
   "display_name": "Python 3 (ipykernel)",
   "language": "python",
   "name": "python3"
  },
  "language_info": {
   "codemirror_mode": {
    "name": "ipython",
    "version": 3
   },
   "file_extension": ".py",
   "mimetype": "text/x-python",
   "name": "python",
   "nbconvert_exporter": "python",
   "pygments_lexer": "ipython3",
   "version": "3.12.3"
  }
 },
 "nbformat": 4,
 "nbformat_minor": 5
}
