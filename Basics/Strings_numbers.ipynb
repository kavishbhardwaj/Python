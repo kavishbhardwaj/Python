{
 "cells": [
  {
   "cell_type": "markdown",
   "id": "767b698f",
   "metadata": {},
   "source": [
    "# String \n",
    "\n",
    " print is a function and its arguements/parameters are inside the brackets\n",
    " print(*objects, sep=' ', end='\\n', file=None, flush=False)  \n",
    "\n",
    "https://docs.python.org/3/library/functions.html\n",
    "\n",
    " https://docs.python.org/3/library/stdtypes.html#string-methods "
   ]
  },
  {
   "cell_type": "markdown",
   "id": "465bc514",
   "metadata": {},
   "source": [
    " ### Introduction to strings - Print function "
   ]
  },
  {
   "cell_type": "code",
   "execution_count": null,
   "id": "de4347d7",
   "metadata": {},
   "outputs": [],
   "source": [
    "print(\"What's your name ? \")     #Ask user for their name                                                          \n",
    "name = input()                   #result of input function is assigned to variable \"name\"  \n",
    "name = f' Respected {name}'                          \n",
    "print(\"Hello, \\\"dear\\\" 'user' \", name, end = \"\")       #quotation mark inside a string \n",
    "# #end of the line will be nothing whereas in original syntax its \\n   \n",
    "\n",
    "#in python both single and double quotes can be used provided end and start is by the same type"
   ]
  },
  {
   "cell_type": "code",
   "execution_count": null,
   "id": "2443b613",
   "metadata": {},
   "outputs": [],
   "source": [
    "\"\"\"\n",
    "This is a multi-line string.\n",
    "It will be displayed as output in Jupyter.\n",
    "interactive python mode- not needed to save a .py file \n",
    "type python in terminal window and three arrows appear \n",
    "any line of code is interpreted immediately;\n",
    "use exit() or ctrl+z+enter to exit\n",
    "\"\"\"\n",
    "\n",
    "\n",
    "docstring = \"\"\"\n",
    "This is a multi-line string.\n",
    "It won't display as output now because it's assigned to a variable.\n",
    "\"\"\"\n",
    "\n",
    "\n",
    "#In Python, the backslash - \\ - is called the escape character\n",
    "print('India\\'s capital is \\t New Delhi \\n Really?')"
   ]
  },
  {
   "cell_type": "markdown",
   "id": "2637f3bb",
   "metadata": {},
   "source": [
    "### String methods"
   ]
  },
  {
   "cell_type": "code",
   "execution_count": null,
   "id": "04e93c97",
   "metadata": {},
   "outputs": [],
   "source": [
    "print(\"Can you tell your full name again ?\", end =\"039  \")          #Ask user for their name\n",
    "first_name, last_name = input().strip().title().split(\" \")          # strip away blank spaces and capitalise\n",
    "# title function and strip function are methods here\n",
    "print(f\"Hello, {name}\", first_name, end = \"\\n\")                     #F string makes it possible to enter variable inside quotes\n",
    "\n",
    "#Ask user for their friend's name\n",
    "friend_name = input(\"What's your best friend's name ?\").strip().title()\n",
    "print(\"Say Hello to \" + friend_name)"
   ]
  },
  {
   "cell_type": "code",
   "execution_count": null,
   "id": "43426a37",
   "metadata": {},
   "outputs": [],
   "source": [
    "valid = name.isalpha()\n",
    "print(valid)\n",
    "'''name.isalpha() returns a boolean value. \n",
    "If every character in the string is an alphabet and \n",
    "the string is non-empty, it returns True, and False otherwise\n",
    "above string is considered as docstring as it is right after a function\n",
    "'''"
   ]
  },
  {
   "cell_type": "code",
   "execution_count": null,
   "id": "87b51512",
   "metadata": {},
   "outputs": [],
   "source": [
    "#The Python string translate() method replaces each character in the string \n",
    "#using the given mapping table or dictionary.\n",
    "\n",
    "s = 'abc12321cba'\n",
    "print(s.translate({ord('b'): None}))\n",
    "\n",
    "s1 = input(\"Enter a string s1: \")\n",
    "s2 = input(\"Enter another string s2: \")\n",
    "print(s1.translate({ord(i): None for i in s2}))"
   ]
  },
  {
   "cell_type": "markdown",
   "id": "b50f17c0",
   "metadata": {},
   "source": [
    "### Indexing"
   ]
  },
  {
   "cell_type": "code",
   "execution_count": null,
   "id": "b4e5ef3e",
   "metadata": {},
   "outputs": [],
   "source": [
    "#A string is a sequence of characters. Sequences support indexing.\n",
    "\n",
    "word = 'world'\n",
    "print(word[0])\n",
    "print(word[1])\n",
    "print(word[2])\n",
    "print(word[3])\n",
    "print(word[4])\n",
    "\n",
    "\n",
    "print(word[-5])\n",
    "print(word[-4])\n",
    "print(word[-3])\n",
    "print(word[-2])\n",
    "print(word[-1])\n",
    "\n",
    "\n",
    "\n",
    "email = 'CS_10_014@iitm.ac.in'\n",
    "branch = email[0 : 2]\n",
    "print(branch)\n",
    "print(email[3 : 5])\n",
    "print(email[6 : 9])\n",
    "print(email[10 : 14])\n",
    "\n",
    "\n",
    "in_roll = email[ : 9]\n",
    "print(in_roll)\n",
    "\n",
    "\n",
    "\n",
    "email = 'CS_10_014@iitm.ac.in'\n",
    "domain = email[-10 : ]\n",
    "print(domain)\n",
    "\n",
    "\n",
    "\n",
    "word = 'world'\n",
    "print(word[-4 : 3])\n",
    "print(word[1 : -2])"
   ]
  },
  {
   "cell_type": "markdown",
   "id": "649bb863",
   "metadata": {},
   "source": [
    "### Lexicography\n",
    "https://www.unicode.org/charts/          unicode charts  \n",
    "go to latin script, ascii code for english "
   ]
  },
  {
   "cell_type": "code",
   "execution_count": null,
   "id": "c3a63817",
   "metadata": {},
   "outputs": [],
   "source": [
    "'''The first characters from the two strings are compared. \n",
    "If they differ this determines the outcome of the comparison\n",
    "If they are equal, then the second character of both the strings are compared.\n",
    "'''\n",
    "print(ord('a'), ord('b'))\n",
    "print(ord('a'), ord('A'))\n",
    "\n",
    "print('a' < 'b')\n",
    "\n",
    "print('good' > 'bad')\n",
    "print('nine' < 'one' )\n",
    "print('a' < 'ab' < 'abc' < 'b')\n"
   ]
  },
  {
   "cell_type": "code",
   "execution_count": null,
   "id": "c5985804",
   "metadata": {},
   "outputs": [],
   "source": [
    "a = 'good'\n",
    "b = 'very good'\n",
    "present = a in b\n",
    "print(present)\n",
    "not_present = b in a\n",
    "print(not_present)"
   ]
  },
  {
   "cell_type": "markdown",
   "id": "47346386",
   "metadata": {},
   "source": [
    "# Numbers\n",
    " https://docs.python.org/3/library/functions.html\n"
   ]
  },
  {
   "cell_type": "code",
   "execution_count": null,
   "id": "65bb0421",
   "metadata": {},
   "outputs": [],
   "source": [
    "A = ( [ 2, 5, 7 ],\n",
    "      [ 4, 7, 9 ] )\n",
    "print(A)"
   ]
  },
  {
   "cell_type": "code",
   "execution_count": null,
   "id": "c407b245",
   "metadata": {},
   "outputs": [],
   "source": [
    "numbers = range(10)   #this is a sequence which can be iterated upon\n",
    "print(numbers)"
   ]
  },
  {
   "cell_type": "markdown",
   "id": "796f2b73",
   "metadata": {},
   "source": [
    "### Integer"
   ]
  },
  {
   "cell_type": "code",
   "execution_count": 4,
   "id": "6f221d7c",
   "metadata": {},
   "outputs": [
    {
     "name": "stdout",
     "output_type": "stream",
     "text": [
      "concatenation 56\n",
      "The type of x is <class 'str'>\n",
      "No, the correct sum of inetegers is 11\n"
     ]
    }
   ],
   "source": [
    "'''x += a\tx = x + a\n",
    "x -= a\tx = x - a\n",
    "x *= a\tx = x * a\n",
    "x /= a\tx = x / a\n",
    "x %= a\tx = x % a\n",
    "x **= a\tx = x ** a'''\n",
    "\n",
    "x = input(\"what's x ?\")\n",
    "y = input(\"What's y ?\")\n",
    "z = x+y\n",
    "print(\"concatenation\", z)\n",
    "print('The type of x is', type(x))\n",
    "\n",
    "#type conversion #int function will convert input to integer type\n",
    "z = int(x) \\\n",
    "    + int(y)       # int is not only a data type but also a function\n",
    "print(\"No, the correct sum of inetegers is\", z)"
   ]
  },
  {
   "cell_type": "code",
   "execution_count": 1,
   "id": "4bb02fd6",
   "metadata": {},
   "outputs": [
    {
     "name": "stdout",
     "output_type": "stream",
     "text": [
      "1 2\n",
      "The type of x is <class 'int'>\n"
     ]
    }
   ],
   "source": [
    "x, y = 1, 2\n",
    "print(x, y)\n",
    "print('The type of x is', type(x))"
   ]
  },
  {
   "cell_type": "code",
   "execution_count": 3,
   "id": "304d4022",
   "metadata": {},
   "outputs": [
    {
     "name": "stdout",
     "output_type": "stream",
     "text": [
      "11\n",
      "sum 11\n"
     ]
    }
   ],
   "source": [
    "x = int(input(\"what's x again?\"))  #nesting of functions\n",
    "y = int(input(\"What's y again?\"))\n",
    "\n",
    "print(x+y)\n",
    "\n",
    "print(\"sum\", int(input(\"What's x ?\"))+int(input(\"What's y ?\")))      #nesting of functions"
   ]
  },
  {
   "cell_type": "code",
   "execution_count": null,
   "id": "4cb2856c",
   "metadata": {},
   "outputs": [],
   "source": [
    "'''\n",
    "#round() accepts a number as input and returns integer closest to it\n",
    "#abs() accepts a number as input and returns its absolute value\n",
    "int() - If an integer enclosed within quotes is entered as input, then the output is that integer. int('123') is 123. \n",
    "If a float is entered as input, then the decimal part is thrown away and the integer part is returned. int(1.2) returns 1\n",
    "If a float is passed in the form of a string, a ValueError will be thrown- int('2.5')\n",
    "isinstance() is used to check if an object is of a specified type. \n",
    "For example isinstance(3, int) returns the value True as the literal 3 is of type int\n",
    "pow(x, y, z) gives the remainder when x^y is divided by z\n",
    "pow(x, y) returns the value of x^y or x**y\n",
    "'''\n",
    "\n",
    "x = int(input(\"what's x again?\"))  #nesting of functions\n",
    "y = int(input(\"What's y again?\"))\n",
    "\n",
    "print(x+y)\n",
    "\n",
    "print(\"sum\", int(input(\"What's x ?\"))+int(input(\"What's y ?\")))      #nesting of functions\n",
    "\n",
    "z = x/y\n",
    "print(\"Division\", z)\n",
    "\n",
    "z = x % y #Modulo\n",
    "print(\"Remainder\", z)\n",
    "\n",
    "z1 = x//y   #floor division\n",
    "z2 = x**y\n",
    "print('floor division {}; exponentiation {}'.format(z1, z2))"
   ]
  },
  {
   "cell_type": "markdown",
   "id": "74e87e32",
   "metadata": {},
   "source": [
    "### Float"
   ]
  },
  {
   "cell_type": "code",
   "execution_count": null,
   "id": "db12f30e",
   "metadata": {},
   "outputs": [],
   "source": [
    "#Float is real number; its a data type similar to int or string\n",
    "\n",
    "x = float(input(\"What's x?\"))  #enter decimal point\n",
    "y = float(input(\"What's y?\"))\n",
    "\n",
    "# https://docs.python.org/3/library/functions.html#round\n",
    "z = round(x+y)\n",
    "print(f\"{z:,}\")  #formatting numbers\n",
    "\n",
    "z= x/y\n",
    "print(z)\n",
    "\n",
    "z = f'{z:10.1f}'\n",
    "print(z)\n",
    "\n",
    "z = round(x/y , 2)\n",
    "print(z)\n",
    "\n",
    "z = x/y\n",
    "print(f\"{z:0.3f}\")"
   ]
  }
 ],
 "metadata": {
  "kernelspec": {
   "display_name": "Python 3 (ipykernel)",
   "language": "python",
   "name": "python3"
  },
  "language_info": {
   "codemirror_mode": {
    "name": "ipython",
    "version": 3
   },
   "file_extension": ".py",
   "mimetype": "text/x-python",
   "name": "python",
   "nbconvert_exporter": "python",
   "pygments_lexer": "ipython3",
   "version": "3.12.3"
  }
 },
 "nbformat": 4,
 "nbformat_minor": 5
}
