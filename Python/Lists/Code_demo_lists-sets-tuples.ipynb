{
 "cells": [
  {
   "cell_type": "markdown",
   "metadata": {},
   "source": [
    "# LIST"
   ]
  },
  {
   "cell_type": "code",
   "execution_count": 131,
   "metadata": {},
   "outputs": [
    {
     "name": "stdout",
     "output_type": "stream",
     "text": [
      "The list is:  ['alpha', 'beta', 'gamma', 'delta', 1, 2, 4, 2, 2, 2]\n",
      "Second element of list is:  beta\n",
      "First three elements of list are:  alpha beta gamma\n",
      "[] []\n"
     ]
    }
   ],
   "source": [
    "# Create a list\n",
    "\n",
    "l = ['alpha', 'beta', 'gamma', 'delta', 1, 2, 4, 2, 2, 2]\n",
    "print(\"The list is: \", l)\n",
    "print(\"Second element of list is: \", l[1])\n",
    "a, b, c, d, e, f, g, h, i, j = l #Tuple unpacking - elements of list l are unpacked\n",
    "print(\"First three elements of list are: \", a, b, c) \n",
    "\n",
    "m = []       #empty list\n",
    "n = list()   #empty list\n",
    "print(m, n)"
   ]
  },
  {
   "cell_type": "code",
   "execution_count": 15,
   "metadata": {},
   "outputs": [
    {
     "name": "stdout",
     "output_type": "stream",
     "text": [
      "Appended list [2]\n",
      "Concatenated list:  [2, 100, 'psi']\n",
      "List after removal of first occurence of '2':  [100, 'psi']\n"
     ]
    }
   ],
   "source": [
    "# List methods\n",
    "\n",
    "l.append(2)    #repetition is allowed\n",
    "print(\"Appended list\", l)\n",
    "\n",
    "l = l + [100, 'psi']\n",
    "print(\"Concatenated list: \", l)\n",
    "\n",
    "l.remove(2)   #removes first occurence\n",
    "print(\"List after removal of first occurence of '2': \", l) \n",
    "\n",
    " "
   ]
  },
  {
   "cell_type": "code",
   "execution_count": 16,
   "metadata": {},
   "outputs": [
    {
     "name": "stdout",
     "output_type": "stream",
     "text": [
      "['__add__', '__class__', '__class_getitem__', '__contains__', '__delattr__', '__delitem__', '__dir__', '__doc__', '__eq__', '__format__', '__ge__', '__getattribute__', '__getitem__', '__getstate__', '__gt__', '__hash__', '__iadd__', '__imul__', '__init__', '__init_subclass__', '__iter__', '__le__', '__len__', '__lt__', '__mul__', '__ne__', '__new__', '__reduce__', '__reduce_ex__', '__repr__', '__reversed__', '__rmul__', '__setattr__', '__setitem__', '__sizeof__', '__str__', '__subclasshook__', 'append', 'clear', 'copy', 'count', 'extend', 'index', 'insert', 'pop', 'remove', 'reverse', 'sort']\n"
     ]
    }
   ],
   "source": [
    "l = []\n",
    "# typing l. will suggest all methods\n",
    "#or \n",
    "print(dir(l))"
   ]
  },
  {
   "cell_type": "code",
   "execution_count": 147,
   "metadata": {},
   "outputs": [
    {
     "name": "stdout",
     "output_type": "stream",
     "text": [
      "[]\n",
      "List of list l:  [['3', '5', '7']]\n",
      "List of lists l and 1, 2, 3 :     [['3', '5', '7'], [1, 2, 3]]\n",
      "List containing another list m which contains two lists l and 1, 2, 3 :          [[['3', '5', '7'], [1, 2, 3]]]\n"
     ]
    }
   ],
   "source": [
    "# List of lists\n",
    "\n",
    "m = []      \n",
    "print(m)\n",
    "m.append(l)\n",
    "print(\"List of list l: \", m)\n",
    "m.append([1, 2, 3])\n",
    "print(\"List of lists l and 1, 2, 3 :    \", m)\n",
    "t = []\n",
    "t.append(m)\n",
    "print(\"List containing another list m which contains two lists l and 1, 2, 3 :         \", t)"
   ]
  },
  {
   "cell_type": "code",
   "execution_count": 136,
   "metadata": {},
   "outputs": [
    {
     "name": "stdout",
     "output_type": "stream",
     "text": [
      "gamma\n",
      "The list l has 13 elements in it\n",
      "alpha beta gamma delta\n",
      "['beta', 'gamma']\n",
      "100\n"
     ]
    }
   ],
   "source": [
    "print(m[0][2])\n",
    "print(f'The list l has {len(l)} elements in it')\n",
    "print(l[0], l[1], l[2], l[3])\n",
    "print(l[1 : 3])\n",
    "print(l[-2])"
   ]
  },
  {
   "cell_type": "code",
   "execution_count": 142,
   "metadata": {},
   "outputs": [
    {
     "name": "stdout",
     "output_type": "stream",
     "text": [
      "Sum: 75, Min: 0, Max: 56, Sorted list: [0, 1, 1, 3, 5, 9, 56], Length of list: 7\n",
      "List sorted in descending order [56, 9, 5, 3, 1, 1, 0]\n",
      "None\n",
      "List sorted in ascending order [0, 1, 1, 3, 5, 9, 56]\n"
     ]
    }
   ],
   "source": [
    "# List operations\n",
    "k = [1, 5, 9, 1, 3, 56, 0]\n",
    "print(f'Sum: {sum(k)}, Min: {min(k)}, Max: {max(k)}, Sorted list: {sorted(k)}, Length of list: {len(k)}')\n",
    "\n",
    "k.sort(reverse = True)      # Sorts the list l in descending order and m = sorted(l) doesnt modify l creates a new list m\n",
    "print(\"List sorted in descending order\", k)\n",
    "\n",
    "k.sort()                    #Sorts the list l in ascending order\n",
    "print(k.sort())             #l.sort() returns None\n",
    "print(\"List sorted in ascending order\", k)  "
   ]
  },
  {
   "cell_type": "code",
   "execution_count": 26,
   "metadata": {},
   "outputs": [
    {
     "name": "stdout",
     "output_type": "stream",
     "text": [
      "range(5):  [0, 1, 2, 3, 4]\n",
      "range(1,5):  [1, 2, 3, 4]\n",
      "range(1,5,2):  [1, 3]\n"
     ]
    },
    {
     "data": {
      "text/plain": [
       "' \\nrange(5) generates a sequence of numbers starting from 0 (default start) up to 5 (exclusive), i.e., [0, 1, 2, 3, 4].\\nlist(range(5)) converts this range into a list\\n'"
      ]
     },
     "execution_count": 26,
     "metadata": {},
     "output_type": "execute_result"
    }
   ],
   "source": [
    "print(\"range(5): \", list(range(5)))\n",
    "print(\"range(1,5): \", list(range(1,5)))\n",
    "print(\"range(1,5,2): \", list(range(1,5,2)))\n",
    "      \n",
    "''' \n",
    "range(5) generates a sequence of numbers starting from 0 (default start) up to 5 (exclusive), i.e., [0, 1, 2, 3, 4].\n",
    "list(range(5)) converts this range into a list\n",
    "'''"
   ]
  },
  {
   "cell_type": "code",
   "execution_count": 168,
   "metadata": {},
   "outputs": [
    {
     "name": "stdout",
     "output_type": "stream",
     "text": [
      "<class 'int'>\n",
      "<class 'list'>\n",
      "Is k a list: True\n",
      "True\n",
      "False\n",
      "False\n"
     ]
    }
   ],
   "source": [
    "print(type(k[1]))  # l[1] is an integer equal to 2\n",
    "print(type(k))\n",
    "print(\"Is k a list:\", isinstance(k, list))\n",
    "# isinstance(l, list) Checks if l is of type list\n",
    "\n",
    "print(1 in k)\n",
    "print(100 in k)\n",
    "print(-1 in k)\n"
   ]
  },
  {
   "cell_type": "code",
   "execution_count": 28,
   "metadata": {},
   "outputs": [
    {
     "name": "stdout",
     "output_type": "stream",
     "text": [
      "1 2 3 4 \n",
      "1 2 3 4 \n",
      "1 2 3 4 "
     ]
    }
   ],
   "source": [
    "# Iterating over a list\n",
    "# Method-1\n",
    "numbers = [1, 2, 3, 4]\n",
    "for num in numbers:\n",
    "    print(num, end = \" \")\n",
    "print()\n",
    "\n",
    "\n",
    "# Method-2\n",
    "numbers = [1, 2, 3, 4]\n",
    "index = 0\n",
    "while index < len(numbers):\n",
    "    print(numbers[index], end = \" \")\n",
    "    index += 1\n",
    "print()\n",
    "\n",
    "# Method-3\n",
    "numbers = [1, 2, 3, 4]\n",
    "for index in range(len(numbers)):\n",
    "    print(numbers[index], end = \" \")"
   ]
  },
  {
   "cell_type": "code",
   "execution_count": 144,
   "metadata": {},
   "outputs": [
    {
     "name": "stdout",
     "output_type": "stream",
     "text": [
      "Repeates:  [4, 7, 8]\n"
     ]
    }
   ],
   "source": [
    "# Check if consecutive elements of a list are repeating\n",
    "\n",
    "m = [1, 2, 3, 4, 4, 5, 6, 7, 7, 8, 8]  # list of 11 elements\n",
    "j = []\n",
    "\n",
    "i = 0\n",
    "flag = 0\n",
    "while i<len(m)-1:       # len(m) = 11, i goes from 0 to 9 so, Iterate only upto 10th element\n",
    "    if m[i] == m[i+1]:\n",
    "        j.append(m[i])\n",
    "        flag = 1        # Indiciates atleast one repetition was found\n",
    "    i  = i+1\n",
    "\n",
    "if flag == 0:\n",
    "    print(\"Doesn't repeat\")\n",
    "if flag == 1:\n",
    "    print(\"Repeates: \", j)"
   ]
  },
  {
   "cell_type": "code",
   "execution_count": 109,
   "metadata": {},
   "outputs": [
    {
     "name": "stdout",
     "output_type": "stream",
     "text": [
      "List of 50 random days of year [192, 4, 145, 323, 363, 33, 348, 256, 195, 60, 199, 272, 89, 33, 222, 196, 247, 75, 184, 269, 349, 226, 111, 238, 288, 329, 41, 161, 219, 350, 4, 256, 294, 103, 129, 153, 151, 209, 139, 223, 360, 226, 225, 67, 263, 24, 229, 354, 51, 95]\n",
      "Sorted list of birthdays [4, 4, 24, 33, 33, 41, 51, 60, 67, 75, 89, 95, 103, 111, 129, 139, 145, 151, 153, 161, 184, 192, 195, 196, 199, 209, 219, 222, 223, 225, 226, 226, 229, 238, 247, 256, 256, 263, 269, 272, 288, 294, 323, 329, 348, 349, 350, 354, 360, 363]\n",
      "Repeats 4\n"
     ]
    }
   ],
   "source": [
    "# Birthday paradox - if we have even few (50) people with their birthdays on one of 365 days of year, we will definitely have some people whose birthdays coincide\n",
    "\n",
    "import random\n",
    "\n",
    "b = []\n",
    "\n",
    "for i in range(50):   # Iterates 50 times using a loop.\n",
    "    b.append(random.randint(1,365))   # random.randint(1, 365) generates a random integer between 1 and 365 (inclusive).\n",
    "print(\"List of 50 random days of year\", b)    # After the loop, l contains 50 random integers between 1 and 365 (inclusive).\n",
    "\n",
    "b.sort()   # sorts the list l in ascending order in place\n",
    "print(\"Sorted list of birthdays\", b)\n",
    "\n",
    "\n",
    "i = 0\n",
    "flag = 0\n",
    "while i<=len(m)-2:\n",
    "    if b[i] == b[i+1]:\n",
    "        print(\"Repeats\", b[i])\n",
    "        flag = 1\n",
    "        break\n",
    "    i  = i+1\n",
    "\n",
    "if flag == 0:\n",
    "    print(\"Doesn't repeat\")\n",
    "\n",
    "\n"
   ]
  },
  {
   "cell_type": "markdown",
   "metadata": {},
   "source": [
    "### Naive and basic way to create matrix in python using lists "
   ]
  },
  {
   "cell_type": "code",
   "execution_count": 145,
   "metadata": {},
   "outputs": [
    {
     "name": "stdout",
     "output_type": "stream",
     "text": [
      "[['1', '5', '9'], ['3', '5', '7']]\n",
      "Matrix with int elements: [[1, 5, 9], [3, 5, 7]]\n"
     ]
    }
   ],
   "source": [
    "# Method-1\n",
    "\n",
    "n = int(input(\"Enter number of rows of matrix: \"))\n",
    "matrix = []\n",
    "for i in range(n):\n",
    "    a, b, c = input(\"Enter three space separated values : \").split() \n",
    "    #split() creates a list of substrings\n",
    "    l = [a, b, c]\n",
    "    matrix.append(l)  \n",
    "print(matrix)\n",
    "\n",
    "# dont forget to convert str input to integer type for mathematical operations on matrix\n",
    "\n",
    "for i in range(len(matrix)):\n",
    "    matrix[i] = [int(x) for x in matrix[i]]  # Convert each element in the sublist to int (iterating over a list elemets using for loop)\n",
    "\n",
    "print(\"Matrix with int elements:\", matrix)\n",
    "\n",
    "\n"
   ]
  },
  {
   "cell_type": "code",
   "execution_count": 120,
   "metadata": {},
   "outputs": [
    {
     "name": "stdout",
     "output_type": "stream",
     "text": [
      "Matrix with int elements: [[3, 5, 7], [1, 5, 9]]\n"
     ]
    }
   ],
   "source": [
    "# Method-1 again \n",
    "\n",
    "n = int(input(\"Enter number of rows of matrix: \"))\n",
    "matrix = []\n",
    "for i in range(n):\n",
    "    a, b, c = input(\"Enter three space separated values : \").split()\n",
    "    a, b, c = int(a), int(b), int(c)\n",
    "    l = [a, b, c]\n",
    "    matrix.append(l)\n",
    "print(\"Matrix with int elements:\", matrix)\n",
    "\n"
   ]
  },
  {
   "cell_type": "code",
   "execution_count": 123,
   "metadata": {},
   "outputs": [
    {
     "name": "stdout",
     "output_type": "stream",
     "text": [
      "Enter elements of row 1:\n",
      "Enter elements of row 2:\n",
      "[[2, 3, 6], [1, 2, 3]]\n"
     ]
    }
   ],
   "source": [
    "# Method-2\n",
    "\n",
    "n = int(input(\"Enter number of rows of matrix: \"))\n",
    "matrix = []\n",
    "for i in range(n):\n",
    "    row = []\n",
    "    print(f'Enter elements of row {i+1}:')\n",
    "    for j in range(3):  # Assuming each row has 3 elements\n",
    "        value = int(input(f\"Enter element {j+1} of row {i+1}: \"))\n",
    "        row.append(value)\n",
    "    matrix.append(row)\n",
    "print(matrix)\n",
    "\n"
   ]
  },
  {
   "cell_type": "code",
   "execution_count": 126,
   "metadata": {},
   "outputs": [
    {
     "name": "stdout",
     "output_type": "stream",
     "text": [
      "[[2, 5, 6]]\n"
     ]
    }
   ],
   "source": [
    "# Method-3\n",
    "\n",
    "n = int(input(\"Enter number of rows of matrix: \"))\n",
    "\n",
    "matrix = [ ]\n",
    "for i in range(n): # Loop runs once for each row\n",
    "    L = [ ]         #empty list L to hold the elements of the current row\n",
    "    for num in input(\"Enter three space separated values: \").split(' '):\n",
    "        #for num in ...: Iterates over each element (num) in the list of substrings generated by .split()\n",
    "        L.append(int(num))\n",
    "    matrix.append(L)\n",
    "print(matrix)"
   ]
  },
  {
   "cell_type": "code",
   "execution_count": 1,
   "metadata": {},
   "outputs": [
    {
     "name": "stdout",
     "output_type": "stream",
     "text": [
      "l1 + l2: [1, 2, 3, 10, 20, 30]\n",
      "l2 + l1: [10, 20, 30, 1, 2, 3]\n",
      "List with 10 zeros: [0, 0, 0, 0, 0, 0, 0, 0, 0, 0]\n",
      "Replicated list: [1, 2, 3, 1, 2, 3, 1, 2, 3]\n"
     ]
    }
   ],
   "source": [
    "\n",
    "## **List Concatenation and Replication**\n",
    "\n",
    "### **Concatenation Example**\n",
    "\n",
    "# Example: Concatenation\n",
    "l1 = [1, 2, 3]\n",
    "l2 = [10, 20, 30]\n",
    "\n",
    "# Concatenating two lists\n",
    "print(\"l1 + l2:\", l1 + l2)\n",
    "print(\"l2 + l1:\", l2 + l1)\n",
    "\n",
    "\n",
    "### **Replication Example**\n",
    "\n",
    "# Example: Replication\n",
    "l3 = [0] * 10  # List of ten zeros\n",
    "print(\"List with 10 zeros:\", l3)\n",
    "\n",
    "l4 = [1, 2, 3] * 3  # Replicating [1, 2, 3] three times\n",
    "print(\"Replicated list:\", l4)\n",
    "\n"
   ]
  },
  {
   "cell_type": "code",
   "execution_count": 5,
   "metadata": {},
   "outputs": [
    {
     "name": "stdout",
     "output_type": "stream",
     "text": [
      "l1 == l2: False\n",
      "l1 < l2: True\n"
     ]
    }
   ],
   "source": [
    "## **Logical Comparisons**\n",
    "\n",
    "### **Comparison Examples**\n",
    "\n",
    "# Example: Comparing lists\n",
    "l1 = [1, 2, 3]\n",
    "l2 = [1, 3, 2]\n",
    "\n",
    "print(\"l1 == l2:\", l1 == l2)  # False\n",
    "print(\"l1 < l2:\", l1 < l2)    # True (lexicographical comparison)\n",
    "\n"
   ]
  },
  {
   "cell_type": "code",
   "execution_count": 15,
   "metadata": {},
   "outputs": [
    {
     "name": "stdout",
     "output_type": "stream",
     "text": [
      "Modified l1: [1, 100, 3]\n",
      "Error: 'str' object does not support item assignment\n"
     ]
    }
   ],
   "source": [
    "## **Mutability and Immutability**\n",
    "\n",
    "### **Mutability Example**\n",
    "\n",
    "# Lists are mutable\n",
    "l1 = [1, 2, 3]\n",
    "l1[1] = 100  # Change second element\n",
    "print(\"Modified l1:\", l1)\n",
    "\n",
    "\n",
    "### **Immutability Example**\n",
    "\n",
    "# Strings are immutable\n",
    "s = \"abc\"\n",
    "try:\n",
    "    s[1] = 'x'  # This will raise an error\n",
    "except TypeError as e:\n",
    "    print(\"Error:\", e)\n",
    "\n"
   ]
  },
  {
   "cell_type": "code",
   "execution_count": 14,
   "metadata": {},
   "outputs": [
    {
     "name": "stdout",
     "output_type": "stream",
     "text": [
      "l1: [100, 2, 3]\n",
      "l2: [100, 2, 3]\n",
      "After copying:\n",
      "l1: [500, 2, 3]\n",
      "l3: [100, 2, 3]\n"
     ]
    }
   ],
   "source": [
    "## **Memory Behavior of Lists**\n",
    "\n",
    "### **Shared Reference Example**\n",
    "\n",
    "l1 = [1, 2, 3]\n",
    "l2 = l1  # l2 refers to the same list as l1\n",
    "l1[0] = 100\n",
    "print(\"l1:\", l1)\n",
    "print(\"l2:\", l2)  # l2 also shows the change\n",
    "\n",
    "# To avoid this, use copying methods\n",
    "l3 = list(l1)  # or l1[:], or l1.copy()\n",
    "l1[0] = 500\n",
    "print(\"After copying:\")\n",
    "print(\"l1:\", l1)\n",
    "print(\"l3:\", l3)  # l3 does not reflect the change in l1\n"
   ]
  },
  {
   "cell_type": "code",
   "execution_count": 8,
   "metadata": {},
   "outputs": [
    {
     "name": "stdout",
     "output_type": "stream",
     "text": [
      "After function call: [1, 2, 3, 100]\n",
      "After function call: hello\n"
     ]
    }
   ],
   "source": [
    "\n",
    "## **Lists in Functions**\n",
    "\n",
    "### **Call by Reference Example**\n",
    "\n",
    "def modify_list(lst):\n",
    "    lst.append(100)\n",
    "\n",
    "l1 = [1, 2, 3]\n",
    "modify_list(l1)\n",
    "print(\"After function call:\", l1)  # l1 is modified\n",
    "\n",
    "\n",
    "### **Immutable Type in Functions**\n",
    "\n",
    "def modify_string(s):\n",
    "    s = s + \" world\"\n",
    "\n",
    "s = \"hello\"\n",
    "modify_string(s)\n",
    "print(\"After function call:\", s)  # s remains unchanged\n",
    "\n"
   ]
  },
  {
   "cell_type": "code",
   "execution_count": 10,
   "metadata": {},
   "outputs": [
    {
     "name": "stdout",
     "output_type": "stream",
     "text": [
      "After append: [1, 2, 3, 4]\n",
      "After insert: [1, 2, 9, 3, 4]\n",
      "After remove: [1, 2, 3, 4]\n",
      "After pop: [2, 3, 4] , Popped value: 1\n"
     ]
    }
   ],
   "source": [
    "\n",
    "## **List Methods**\n",
    "\n",
    "### **Common Methods**\n",
    "\n",
    "# append\n",
    "l1 = [1, 2, 3]\n",
    "l1.append(4)\n",
    "print(\"After append:\", l1)\n",
    "\n",
    "# insert\n",
    "l1.insert(2, 9)\n",
    "print(\"After insert:\", l1)\n",
    "\n",
    "# remove\n",
    "l1.remove(9)\n",
    "print(\"After remove:\", l1)\n",
    "\n",
    "# pop\n",
    "popped_value = l1.pop(0)\n",
    "print(\"After pop:\", l1, \", Popped value:\", popped_value)\n"
   ]
  },
  {
   "cell_type": "code",
   "execution_count": 13,
   "metadata": {},
   "outputs": [
    {
     "name": "stdout",
     "output_type": "stream",
     "text": [
      "Sorted list: [1, 2, 3, 4]\n",
      "Reversed list: [4, 3, 2, 1]\n",
      "Sorted in descending order: [9, 5, 2, 1]\n"
     ]
    }
   ],
   "source": [
    "### **Sorting and Reversing**\n",
    "\n",
    "l1 = [3, 1, 4, 2]\n",
    "l1.sort()\n",
    "print(\"Sorted list:\", l1)\n",
    "l1.reverse()\n",
    "print(\"Reversed list:\", l1)\n",
    "\n",
    "\n",
    "## **Additional Examples for Practice**\n",
    "\n",
    "### **Sorting in Descending Order**\n",
    "\n",
    "l = [5, 2, 9, 1]\n",
    "l.sort(reverse=True)\n",
    "print(\"Sorted in descending order:\", l)\n",
    "\n"
   ]
  },
  {
   "cell_type": "code",
   "execution_count": 12,
   "metadata": {},
   "outputs": [
    {
     "name": "stdout",
     "output_type": "stream",
     "text": [
      "Original list: [1, 2, 3]\n",
      "Copied list: [1, 2, 3, 4]\n"
     ]
    }
   ],
   "source": [
    "\n",
    "### **Copying a List and Modifying**\n",
    "\n",
    "l1 = [1, 2, 3]\n",
    "l2 = l1.copy()\n",
    "l2.append(4)\n",
    "print(\"Original list:\", l1)\n",
    "print(\"Copied list:\", l2)"
   ]
  },
  {
   "cell_type": "code",
   "execution_count": null,
   "metadata": {},
   "outputs": [],
   "source": [
    "## Single-line Conditional Statements\n",
    "# Multi-line if-else statement\n",
    "a, b = 10, 20\n",
    "\n",
    "if a < b:\n",
    "    small = a\n",
    "else:\n",
    "    small = b\n",
    "\n",
    "print(\"Smallest value (multi-line):\", small)\n",
    "\n",
    "# Equivalent one-liner\n",
    "small = a if a < b else b\n",
    "print(\"Smallest value (one-liner):\", small)\n"
   ]
  },
  {
   "cell_type": "code",
   "execution_count": null,
   "metadata": {},
   "outputs": [],
   "source": [
    "## Single-line Loops\n",
    "\n",
    "# Traditional while loop\n",
    "a = 5\n",
    "while a > 0:\n",
    "    print(a)\n",
    "    a -= 1\n",
    "\n",
    "# Equivalent one-liner using semicolons\n",
    "a = 5\n",
    "while a > 0: print(a); a -= 1\n"
   ]
  },
  {
   "cell_type": "markdown",
   "metadata": {},
   "source": [
    "## List Comprehension\n",
    "**List comprehension** is a concise way to create lists in Python. It can replace multiple lines of looping and conditional logic with a single-line expression.\n",
    "\n",
    "### General Syntax: \n",
    "*********[expression for item in iterable if condition]**********\n",
    "\n",
    "- `expression`: Operation applied to each item.\n",
    "- `item`: Element from the iterable.\n",
    "- `condition` (optional): Filters elements from the iterable.\n",
    "\n",
    "### Advantages of List Comprehension:\n",
    "1. **Concise Code**: Reduces multiple lines into a single, readable line.\n",
    "2. **Functionality**: Performs filtering and modification in one step.\n",
    "3. **Improved Readability**: Easier to understand simple transformations.\n",
    "\n",
    "**However**, for complex logic, using traditional loops might be more readable.\n"
   ]
  },
  {
   "cell_type": "code",
   "execution_count": 25,
   "metadata": {},
   "outputs": [
    {
     "name": "stdout",
     "output_type": "stream",
     "text": [
      "Filtered and Capitalized (traditional): ['Banana', 'Mango']\n",
      "Filtered and Capitalized (comprehension): ['Banana', 'Mango']\n"
     ]
    }
   ],
   "source": [
    "\n",
    "### Example:\n",
    "# Traditional loop method\n",
    "fruits = [\"apple\", \"banana\", \"cherry\", \"mango\"]\n",
    "new_list = []\n",
    "for fruit in fruits:\n",
    "    if 'n' in fruit:\n",
    "        new_list.append(fruit.capitalize())\n",
    "\n",
    "print(\"Filtered and Capitalized (traditional):\", new_list)\n",
    "\n",
    "# Equivalent list comprehension\n",
    "new_list = [fruit.capitalize() for fruit in fruits if 'n' in fruit]\n",
    "print(\"Filtered and Capitalized (comprehension):\", new_list)\n"
   ]
  },
  {
   "cell_type": "code",
   "execution_count": 26,
   "metadata": {},
   "outputs": [
    {
     "name": "stdout",
     "output_type": "stream",
     "text": [
      "Minimum of 15 and 25: 15\n"
     ]
    }
   ],
   "source": [
    "# Example: Using one-liner in a function\n",
    "def min_value(a, b):\n",
    "    return a if a < b else b\n",
    "\n",
    "print(\"Minimum of 15 and 25:\", min_value(15, 25))\n"
   ]
  },
  {
   "cell_type": "markdown",
   "metadata": {},
   "source": [
    "# SET"
   ]
  },
  {
   "cell_type": "code",
   "execution_count": 14,
   "metadata": {},
   "outputs": [
    {
     "name": "stdout",
     "output_type": "stream",
     "text": [
      "<class 'list'>\n",
      "<class 'set'>\n",
      "Print set y (it automatically removes repeated elements) {1, 2, 3, 5, 7, 9}\n",
      "True\n"
     ]
    },
    {
     "data": {
      "text/plain": [
       "set"
      ]
     },
     "execution_count": 14,
     "metadata": {},
     "output_type": "execute_result"
    }
   ],
   "source": [
    "z = [1, 2, 3]\n",
    "print(type(z))\n",
    "y = {1, 2, 3, 5, 7, 9, 9}\n",
    "print(type(y))\n",
    "print(\"Print set y (it automatically removes repeated elements)\", y)                    # Set doesn't have repeated elements\n",
    "print(9 in y)\n",
    "type(y)"
   ]
  },
  {
   "cell_type": "code",
   "execution_count": 10,
   "metadata": {},
   "outputs": [
    {
     "name": "stdout",
     "output_type": "stream",
     "text": [
      "Time taken to create a list: 5.872474 seconds\n",
      "Time taken to create a set: 26.221825 seconds\n"
     ]
    }
   ],
   "source": [
    "import time\n",
    "\n",
    "n = 10**7  # Adjust the size of range to see significant time differences\n",
    "\n",
    "# Measuring time for creating a list\n",
    "start_time = time.time()\n",
    "l = list(range(n))\n",
    "end_time = time.time()\n",
    "print(f\"Time taken to create a list: {end_time - start_time:.6f} seconds\")\n",
    "\n",
    "# Measuring time for creating a set\n",
    "start_time = time.time()\n",
    "s = set(range(n))\n",
    "end_time = time.time()\n",
    "print(f\"Time taken to create a set: {end_time - start_time:.6f} seconds\")\n"
   ]
  },
  {
   "cell_type": "code",
   "execution_count": null,
   "metadata": {},
   "outputs": [],
   "source": [
    "# Measuring time for membership testing in list\n",
    "start_time = time.time()\n",
    "-1 in l  # Sequential search in list\n",
    "end_time = time.time()\n",
    "print(f\"Time taken for '-1 in list': {end_time - start_time:.6f} seconds\")\n",
    "\n",
    "# Measuring time for membership testing in set\n",
    "start_time = time.time()\n",
    "-1 in s  # Hash lookup in set\n",
    "end_time = time.time()\n",
    "print(f\"Time taken for '-1 in set': {end_time - start_time:.6f} seconds\")\n"
   ]
  },
  {
   "cell_type": "markdown",
   "metadata": {},
   "source": [
    "### Understanding the Performance Differences Between Sets and Lists in Python\n",
    "\n",
    "When working with Python, it’s important to understand how different data structures like `list` and `set` perform under various operations. Let's dive into the performance characteristics of two commonly used structures:\n",
    "\n",
    "1. **Creating a Set vs. Creating a List**:\n",
    "   ```python\n",
    "   s = set(range(n))  # Creating a set from 0 to n-1\n",
    "   l = list(range(n))  # Creating a list from 0 to n-1\n",
    "   ```\n",
    "\n",
    "2. **Membership Testing**:\n",
    "   ```python\n",
    "   -1 in s  # Checking if -1 exists in the set\n",
    "   -1 in l  # Checking if -1 exists in the list\n",
    "   ```\n",
    "\n",
    "### 1. **Creation Time: `set` vs. `list`**\n",
    "\n",
    "- **`list(range(n))`**:\n",
    "  - A `list` is an ordered collection of elements.\n",
    "  - When you create a list using `list(range(n))`, Python simply allocates memory and stores each element sequentially.\n",
    "  - The time complexity of creating a list from `range(n)` is **O(n)**.\n",
    "\n",
    "- **`set(range(n))`**:\n",
    "  - A `set` is an unordered collection of unique elements.\n",
    "  - When you create a set using `set(range(n))`, Python internally needs to hash each element to ensure uniqueness and store them in a hash table.\n",
    "  - The time complexity of creating a set from `range(n)` is also **O(n)**, but the constant factors involved in hashing and storing elements in a hash table make it much slower than list creation.\n",
    "\n",
    "### 2. **Membership Testing: `-1 in s` vs. `-1 in l`**\n",
    "\n",
    "- **`-1 in s`**:\n",
    "  - Sets in Python use **hash tables** for storage.\n",
    "  - When checking membership (e.g., `-1 in s`), Python calculates the hash of `-1` and directly looks up this hash in the set's internal hash table.\n",
    "  - This process is highly efficient and has an **average time complexity of O(1)**.\n",
    "  - In other words, the time to check membership in a set is constant, regardless of the size of the set.\n",
    "\n",
    "- **`-1 in l`**:\n",
    "  - Lists do not use hashing; instead, they rely on a **sequential search** to check for membership.\n",
    "  - Python iterates through each element in the list from the beginning until it finds the target element or reaches the end of the list.\n",
    "  - This operation has a **time complexity of O(n)**, meaning the time taken grows linearly with the size of the list.\n",
    "  - If the element is not present (as in `-1 in list(range(n))`), Python will check all `n` elements.\n",
    "\n",
    "### **Summary of Performance Differences**\n",
    "\n",
    "| Operation              | Time Complexity | Reason                                                     |\n",
    "|------------------------|-----------------|------------------------------------------------------------|\n",
    "| `list(range(n))`       | **O(n)**        | Sequentially creates elements and stores them in memory.   |\n",
    "| `set(range(n))`        | **O(n)**        | Hashes each element and stores them in a hash table (slower constant factor). |\n",
    "| `-1 in s` (set)        | **O(1)**        | Direct hash lookup in constant time.                       |\n",
    "| `-1 in l` (list)       | **O(n)**        | Sequential search through all elements.                    |\n",
    "\n",
    "\n",
    "### **Conclusion**\n",
    "\n",
    "- Use **`list`** when you need to maintain order or perform operations like indexing or slicing.\n",
    "- Use **`set`** when you need fast membership testing, even at the cost of slower initialization."
   ]
  },
  {
   "cell_type": "code",
   "execution_count": 7,
   "metadata": {},
   "outputs": [
    {
     "name": "stdout",
     "output_type": "stream",
     "text": [
      "72\n",
      "856\n",
      "8408\n"
     ]
    },
    {
     "ename": "TypeError",
     "evalue": "'set' object is not subscriptable",
     "output_type": "error",
     "traceback": [
      "\u001b[1;31m---------------------------------------------------------------------------\u001b[0m",
      "\u001b[1;31mTypeError\u001b[0m                                 Traceback (most recent call last)",
      "Cell \u001b[1;32mIn[7], line 11\u001b[0m\n\u001b[0;32m      8\u001b[0m \u001b[38;5;28mprint\u001b[39m(sys\u001b[38;5;241m.\u001b[39mgetsizeof(li))\n\u001b[0;32m      9\u001b[0m \u001b[38;5;28mprint\u001b[39m(sys\u001b[38;5;241m.\u001b[39mgetsizeof(x))\n\u001b[1;32m---> 11\u001b[0m \u001b[38;5;28mprint\u001b[39m(x[\u001b[38;5;241m0\u001b[39m])\n",
      "\u001b[1;31mTypeError\u001b[0m: 'set' object is not subscriptable"
     ]
    }
   ],
   "source": [
    "import sys\n",
    "\n",
    "l2 = [0,1]\n",
    "print(sys.getsizeof(l2))\n",
    "\n",
    "x = set(range(100))\n",
    "li = list(range(100))\n",
    "print(sys.getsizeof(li))\n",
    "print(sys.getsizeof(x))\n",
    "\n",
    "print(x[0])\n",
    "\n",
    "''' \n",
    "The error 'set' object is not subscriptable occurs in Python when you attempt to access elements of a set using an index, \n",
    "like set_variable[index]. Sets are unordered collections of unique elements, and they do not support indexing or slicing, unlike lists or tuples.\n",
    "'''\n"
   ]
  },
  {
   "cell_type": "markdown",
   "metadata": {},
   "source": [
    "\n",
    "### Why Sets Aren't Subscriptable:\n",
    "- **Unordered**: Sets don't maintain the order of elements.\n",
    "- **Unique Elements**: They only store unique values.\n",
    "- **No Indexing**: Since sets are unordered, there's no guarantee of a consistent element order, so operations like `set[0]` don't make sense.\n",
    "\n",
    "### access elements of set:\n",
    "1. **Convert set to list to access elements by index\n",
    " \n",
    "   ```python\n",
    "   my_list = list(my_set)\n",
    "   print(my_list[0])  # ✅ Convert set to list to access elements by index\n",
    "   ```\n",
    "\n",
    "2. **Need for Iteration**:\n",
    "   When you don't need a specific order but just want to process all elements:\n",
    "   ```python\n",
    "   for item in my_set:\n",
    "       print(item)  # ✅ Prints each item without indexing\n",
    "   ```\n",
    "\n",
    "3. **Sorting the Set**:\n",
    "   If you need the elements in a specific order:\n",
    "   ```python\n",
    "   sorted_set = sorted(my_set)  # Returns a sorted list\n",
    "   print(sorted_set[0])  # ✅ Access first element of the sorted list\n",
    "   ```\n",
    "\n",
    "### Best Practices:\n",
    "- Use **lists** or **tuples** when you need order or indexing.\n",
    "- Use **sets** for fast membership testing, ensuring unique values, or when the order doesn't matter.\n",
    "\n",
    "\n",
    "### Why the Set Uses More Memory:\n",
    "- **Lists** store elements in a contiguous memory block, optimized for accessing elements by index.\n",
    "- **Sets** require more memory because they implement a hash table for fast membership checks, which includes overhead for hashing and handling collisions.\n",
    "\n",
    "Thus, sets are more memory-intensive compared to lists but offer faster lookup operations."
   ]
  },
  {
   "cell_type": "code",
   "execution_count": 11,
   "metadata": {},
   "outputs": [
    {
     "name": "stdout",
     "output_type": "stream",
     "text": [
      "{'ashish', 'ayushi', 'sudarshan', 'amit'}\n",
      "False\n"
     ]
    },
    {
     "name": "stdout",
     "output_type": "stream",
     "text": [
      "\u001b[1;31mDocstring:\u001b[0m\n",
      "Add an element to a set.\n",
      "\n",
      "This has no effect if the element is already present.\n",
      "\u001b[1;31mType:\u001b[0m      builtin_function_or_method"
     ]
    }
   ],
   "source": [
    "z = {'amit', 'ayushi', 'ashish'}\n",
    "\n",
    "z.add?\n",
    "\n",
    "z.add('sudarshan')\n",
    "print(z)\n",
    "print('karthik' in z)"
   ]
  },
  {
   "cell_type": "code",
   "execution_count": 16,
   "metadata": {},
   "outputs": [
    {
     "name": "stdout",
     "output_type": "stream",
     "text": [
      "Set 1: {1, 2, 3, 4, 5}\n",
      "Set 2 (with duplicates removed): {1, 2, 3, 4, 5}\n",
      "Set 3: {'a', 'c', 'b', 'd'}\n"
     ]
    }
   ],
   "source": [
    "\n",
    "## Creating Sets and Their Properties\n",
    "\n",
    "# Creating a set\n",
    "set1 = {1, 2, 3, 4, 5}\n",
    "print(\"Set 1:\", set1)\n",
    "\n",
    "# Sets automatically remove duplicates\n",
    "set2 = {1, 2, 2, 3, 4, 4, 5}\n",
    "print(\"Set 2 (with duplicates removed):\", set2)\n",
    "\n",
    "# Sets are unordered\n",
    "set3 = {'a', 'b', 'c', 'd'}\n",
    "print(\"Set 3:\", set3)\n",
    "\n",
    "\n"
   ]
  },
  {
   "cell_type": "code",
   "execution_count": 17,
   "metadata": {},
   "outputs": [
    {
     "name": "stdout",
     "output_type": "stream",
     "text": [
      "Set after adding 6: {1, 2, 3, 4, 5, 6}\n",
      "Set after removing 3: {1, 2, 4, 5, 6}\n",
      "Set after adding a tuple: {1, 2, 4, 5, 6, (7, 8)}\n",
      "Error: unhashable type: 'list'\n"
     ]
    }
   ],
   "source": [
    "## Mutability of Sets\n",
    "\n",
    "# Adding and removing elements\n",
    "set1.add(6)\n",
    "print(\"Set after adding 6:\", set1)\n",
    "\n",
    "set1.remove(3)  # Removes element 3\n",
    "print(\"Set after removing 3:\", set1)\n",
    "\n",
    "# Adding immutable elements (valid)\n",
    "set1.add((7, 8))  # Tuple is immutable\n",
    "print(\"Set after adding a tuple:\", set1)\n",
    "\n",
    "# Attempting to add mutable elements raises an error\n",
    "try:\n",
    "    set1.add([9, 10])  # List is mutable\n",
    "except TypeError as e:\n",
    "    print(\"Error:\", e)\n",
    "\n"
   ]
  },
  {
   "cell_type": "code",
   "execution_count": 18,
   "metadata": {},
   "outputs": [
    {
     "name": "stdout",
     "output_type": "stream",
     "text": [
      "Union of A and B: {1, 2, 3, 4, 5, 6}\n",
      "Union using method: {1, 2, 3, 4, 5, 6}\n",
      "Intersection of A and B: {3, 4}\n",
      "Intersection using method: {3, 4}\n",
      "Difference (A - B): {1, 2}\n",
      "Difference using method: {1, 2}\n"
     ]
    }
   ],
   "source": [
    "## Mathematical Operations on Sets\n",
    "\n",
    "# Defining two sets\n",
    "A = {1, 2, 3, 4}\n",
    "B = {3, 4, 5, 6}\n",
    "\n",
    "# Union\n",
    "print(\"Union of A and B:\", A | B)  # Using operator\n",
    "print(\"Union using method:\", A.union(B))\n",
    "\n",
    "# Intersection\n",
    "print(\"Intersection of A and B:\", A & B)  # Using operator\n",
    "print(\"Intersection using method:\", A.intersection(B))\n",
    "\n",
    "# Difference\n",
    "print(\"Difference (A - B):\", A - B)  # Elements in A but not in B\n",
    "print(\"Difference using method:\", A.difference(B))\n"
   ]
  },
  {
   "cell_type": "code",
   "execution_count": 19,
   "metadata": {},
   "outputs": [
    {
     "name": "stdout",
     "output_type": "stream",
     "text": [
      "Is C a subset of A? True\n",
      "Is A a superset of C? True\n",
      "Is C a proper subset of A? True\n",
      "Is A a proper superset of C? True\n"
     ]
    }
   ],
   "source": [
    "\n",
    "\n",
    "## Subset and Superset Checks\n",
    "\n",
    "# Checking subsets and supersets\n",
    "C = {1, 2}\n",
    "print(\"Is C a subset of A?\", C <= A)  # or C.issubset(A)\n",
    "print(\"Is A a superset of C?\", A >= C)  # or A.issuperset(C)\n",
    "\n",
    "# Proper subset and superset\n",
    "print(\"Is C a proper subset of A?\", C < A)\n",
    "print(\"Is A a proper superset of C?\", A > C)\n"
   ]
  },
  {
   "cell_type": "code",
   "execution_count": 20,
   "metadata": {},
   "outputs": [
    {
     "name": "stdout",
     "output_type": "stream",
     "text": [
      "Symmetric Difference (A ^ B): {1, 2, 5, 6}\n",
      "Set1 after clearing: set()\n"
     ]
    }
   ],
   "source": [
    "## Additional Examples for Practice\n",
    "\n",
    "# Symmetric Difference (elements in A or B but not both)\n",
    "print(\"Symmetric Difference (A ^ B):\", A ^ B)\n",
    "\n",
    "# Clearing all elements in a set\n",
    "set1.clear()\n",
    "print(\"Set1 after clearing:\", set1)"
   ]
  },
  {
   "cell_type": "markdown",
   "metadata": {},
   "source": [
    "# Tuples\n"
   ]
  },
  {
   "cell_type": "code",
   "execution_count": 20,
   "metadata": {},
   "outputs": [
    {
     "name": "stdout",
     "output_type": "stream",
     "text": [
      "2\n"
     ]
    },
    {
     "ename": "AttributeError",
     "evalue": "'tuple' object has no attribute 'append'",
     "output_type": "error",
     "traceback": [
      "\u001b[1;31m---------------------------------------------------------------------------\u001b[0m",
      "\u001b[1;31mAttributeError\u001b[0m                            Traceback (most recent call last)",
      "Cell \u001b[1;32mIn[20], line 3\u001b[0m\n\u001b[0;32m      1\u001b[0m t \u001b[38;5;241m=\u001b[39m (\u001b[38;5;241m2\u001b[39m, \u001b[38;5;241m3\u001b[39m, \u001b[38;5;241m4\u001b[39m)\n\u001b[0;32m      2\u001b[0m \u001b[38;5;28mprint\u001b[39m(t[\u001b[38;5;241m0\u001b[39m])\n\u001b[1;32m----> 3\u001b[0m t\u001b[38;5;241m.\u001b[39mappend(\u001b[38;5;241m5\u001b[39m)\n",
      "\u001b[1;31mAttributeError\u001b[0m: 'tuple' object has no attribute 'append'"
     ]
    }
   ],
   "source": [
    "t = (2, 3, 4)\n",
    "print(t[0])\n",
    "t.append(5)\n"
   ]
  },
  {
   "cell_type": "markdown",
   "metadata": {},
   "source": [
    "\n",
    "### Code Explanation:\n",
    "```python\n",
    "t = (2, 3, 4)       # Creates a tuple with three elements\n",
    "print(t[0])         # ✅ This will print `2`, as tuples support indexing\n",
    "t.append(5)         # ❌ This will raise an AttributeError\n",
    "```\n",
    "\n",
    "### Why It Fails:\n",
    "- **Tuples are immutable**: Once created, you cannot modify a tuple (i.e., you can't add, remove, or change its elements).\n",
    "- **`append` method doesn't exist for tuples**: Unlike lists, tuples do not have an `append` method because they are designed to be immutable.\n",
    "\n",
    "### Correct Approaches:\n",
    "If you need to \"append\" an element, you can create a new tuple:\n",
    "\n",
    "1. **Concatenation**:\n",
    "   ```python\n",
    "   t = t + (5,)\n",
    "   print(t)  # Output: (2, 3, 4, 5)\n",
    "   ```\n",
    "\n",
    "2. **Convert to a List (if mutability is required)**:\n",
    "   ```python\n",
    "   t = list(t)  # Convert to a list\n",
    "   t.append(5)  # Now append works\n",
    "   t = tuple(t) # Convert back to tuple\n",
    "   print(t)     # Output: (2, 3, 4, 5)\n",
    "   ```\n",
    "\n"
   ]
  },
  {
   "cell_type": "code",
   "execution_count": 28,
   "metadata": {},
   "outputs": [
    {
     "name": "stdout",
     "output_type": "stream",
     "text": [
      "Tuple t: (0, 1, 2, 3, 4, 5, 6, 7, 8, 9)\n"
     ]
    }
   ],
   "source": [
    "# Title: Exploring Tuples in Python\n",
    "\n",
    "# Create a tuple of numbers from 0 to 9\n",
    "t = tuple(range(10))\n",
    "print(\"Tuple t:\", t)\n"
   ]
  },
  {
   "cell_type": "code",
   "execution_count": 29,
   "metadata": {},
   "outputs": [
    {
     "name": "stdout",
     "output_type": "stream",
     "text": [
      "\n",
      "String s (string.ascii_letters): abcdefghijklmnopqrstuvwxyzABCDEFGHIJKLMNOPQRSTUVWXYZ\n",
      "\n",
      "Tuple created from string using tuple(): ('a', 'b', 'c', 'd', 'e', 'f', 'g', 'h', 'i', 'j', 'k', 'l', 'm', 'n', 'o', 'p', 'q', 'r', 's', 't', 'u', 'v', 'w', 'x', 'y', 'z', 'A', 'B', 'C', 'D', 'E', 'F', 'G', 'H', 'I', 'J', 'K', 'L', 'M', 'N', 'O', 'P', 'Q', 'R', 'S', 'T', 'U', 'V', 'W', 'X', 'Y', 'Z')\n",
      "Tuple created from string via list conversion: ('a', 'b', 'c', 'd', 'e', 'f', 'g', 'h', 'i', 'j', 'k', 'l', 'm', 'n', 'o', 'p', 'q', 'r', 's', 't', 'u', 'v', 'w', 'x', 'y', 'z', 'A', 'B', 'C', 'D', 'E', 'F', 'G', 'H', 'I', 'J', 'K', 'L', 'M', 'N', 'O', 'P', 'Q', 'R', 'S', 'T', 'U', 'V', 'W', 'X', 'Y', 'Z')\n"
     ]
    },
    {
     "data": {
      "text/plain": [
       "'\\nHow assert Works:\\nassert is used to test if a condition is True.\\nIf the condition evaluates to True, the program continues without any output.\\nIf the condition evaluates to False, an AssertionError is raised, optionally with a custom message.\\n'"
      ]
     },
     "execution_count": 29,
     "metadata": {},
     "output_type": "execute_result"
    }
   ],
   "source": [
    "\n",
    "## Comparing Tuple Creation Methods\n",
    "import string\n",
    "import sys\n",
    "\n",
    "s = string.ascii_letters  # A string of all alphabetic characters\n",
    "print(\"\\nString s (string.ascii_letters):\", s)\n",
    "\n",
    "## Convert string to tuple directly\n",
    "t_direct = tuple(s)\n",
    "print(\"\\nTuple created from string using tuple():\", t_direct)\n",
    "\n",
    "## Convert string to list, then to tuple\n",
    "t_list_to_tuple = tuple(list(s))\n",
    "print(\"Tuple created from string via list conversion:\", t_list_to_tuple)\n",
    "\n",
    "# Observation: Both methods produce identical tuples.\n",
    "assert t_direct == t_list_to_tuple, \"The tuples created from direct conversion and via list conversion should match!\"\n",
    "\n",
    "'''\n",
    "How assert Works:\n",
    "assert is used to test if a condition is True.\n",
    "If the condition evaluates to True, the program continues without any output.\n",
    "If the condition evaluates to False, an AssertionError is raised, optionally with a custom message.\n",
    "'''"
   ]
  },
  {
   "cell_type": "code",
   "execution_count": 32,
   "metadata": {},
   "outputs": [
    {
     "name": "stdout",
     "output_type": "stream",
     "text": [
      "Matching characters in list: ['e', 'm', 'i', 'n', 'e', 'm', 'i', 's', 'a', 'r', 'a', 'p', 'p', 'e', 'r', 'S', 'O', 'W', 'H', 'A', 'T']\n",
      "Matching characters in set: {'H', 'W', 'i', 'e', 'n', 'a', 'O', 'T', 'r', 's', 'p', 'S', 'm', 'A'}\n",
      "Matching characters in tuple: ('e', 'm', 'i', 'n', 'e', 'm', 'i', 's', 'a', 'r', 'a', 'p', 'p', 'e', 'r', 'S', 'O', 'W', 'H', 'A', 'T')\n"
     ]
    }
   ],
   "source": [
    "# Extract elements from random string present in tuple t\n",
    "\n",
    "import string\n",
    "\n",
    "# Define the random string\n",
    "random_string = 'eminem%is#a#rapper SO WHAT'\n",
    "\n",
    "# Initialize list, set, and tuple to store matching characters\n",
    "matching_chars_list = []\n",
    "matching_chars_set = set()\n",
    "matching_chars_tuple = ()  # Start with an empty tuple\n",
    "\n",
    "# Loop through each character in the random string\n",
    "for char in random_string:\n",
    "    if char in string.ascii_letters:  # Check if the character is an ASCII letter\n",
    "        matching_chars_list.append(char)  # Append to list\n",
    "        matching_chars_set.add(char)      # Add to set\n",
    "        matching_chars_tuple += (char,)   # Add to tuple by creating a new tuple\n",
    "\n",
    "print(\"Matching characters in list:\", matching_chars_list)\n",
    "print(\"Matching characters in set:\", matching_chars_set)\n",
    "print(\"Matching characters in tuple:\", matching_chars_tuple)\n",
    "\n",
    "\n"
   ]
  },
  {
   "cell_type": "code",
   "execution_count": 24,
   "metadata": {},
   "outputs": [
    {
     "name": "stdout",
     "output_type": "stream",
     "text": [
      "\n",
      "Memory Usage Comparison:\n",
      "Size of tuple_example: 120 bytes\n",
      "Size of list_example: 136 bytes\n",
      "\n",
      "Advantages of Tuples:\n",
      " \n",
      "Tuples in Python are immutable sequences, which makes them different from lists. Some key points to consider:\n",
      "1. **Immutability**: Once created, the elements of a tuple cannot be modified. This provides:\n",
      "   - Data integrity\n",
      "   - Easier debugging\n",
      "2. **Performance**: Tuples are faster than lists for similar operations because they are immutable.\n",
      "3. **Memory Usage**: Tuples generally use less memory than lists (for fixed-length collections).\n",
      "4. **Use Cases**:\n",
      "   - Storing fixed data: e.g., coordinates, database records.\n",
      "   - As keys in dictionaries (because they are hashable).\n",
      "\n"
     ]
    }
   ],
   "source": [
    "\n",
    "# Memory Usage Comparison\n",
    "tuple_example = tuple(range(10))\n",
    "list_example = list(range(10))\n",
    "tuple_size = sys.getsizeof(tuple_example)\n",
    "list_size = sys.getsizeof(list_example)\n",
    "\n",
    "print(\"\\nMemory Usage Comparison:\")\n",
    "print(f\"Size of tuple_example: {tuple_size} bytes\")\n",
    "print(f\"Size of list_example: {list_size} bytes\")\n",
    "\n",
    "\n",
    "# Why Use Tuples\n",
    "# Add extra information about the advantages and use cases of tuples\n",
    "advantages_of_tuples = \"\"\"\n",
    "Tuples in Python are immutable sequences, which makes them different from lists. Some key points to consider:\n",
    "1. **Immutability**: Once created, the elements of a tuple cannot be modified. This provides:\n",
    "   - Data integrity\n",
    "   - Easier debugging\n",
    "2. **Performance**: Tuples are faster than lists for similar operations because they are immutable.\n",
    "3. **Memory Usage**: Tuples generally use less memory than lists (for fixed-length collections).\n",
    "4. **Use Cases**:\n",
    "   - Storing fixed data: e.g., coordinates, database records.\n",
    "   - As keys in dictionaries (because they are hashable).\n",
    "\"\"\"\n",
    "\n",
    "print(\"\\nAdvantages of Tuples:\\n\", advantages_of_tuples)\n"
   ]
  },
  {
   "cell_type": "code",
   "execution_count": 21,
   "metadata": {},
   "outputs": [
    {
     "name": "stdout",
     "output_type": "stream",
     "text": [
      "Tuple t1: (1, 2, 3, 4, 5)\n",
      "First element of t1: 1\n",
      "Slice t1[1:4]: (2, 3, 4)\n",
      "Element: 1\n",
      "Element: 2\n",
      "Element: 3\n",
      "Element: 4\n",
      "Element: 5\n"
     ]
    }
   ],
   "source": [
    "\n",
    "## Creating and Accessing Tuples\n",
    "\n",
    "# Creating tuples\n",
    "t1 = (1, 2, 3, 4, 5)\n",
    "print(\"Tuple t1:\", t1)\n",
    "\n",
    "# Accessing elements\n",
    "print(\"First element of t1:\", t1[0])\n",
    "\n",
    "# Slicing\n",
    "print(\"Slice t1[1:4]:\", t1[1:4])\n",
    "\n",
    "# Iterating over a tuple\n",
    "for element in t1:\n",
    "    print(\"Element:\", element)\n"
   ]
  },
  {
   "cell_type": "code",
   "execution_count": null,
   "metadata": {},
   "outputs": [],
   "source": [
    "## Packing and Unpacking Tuples\n",
    "\n",
    "# Packing\n",
    "t2 = 10, 20, 30  # No need for parentheses\n",
    "print(\"Packed tuple t2:\", t2)\n",
    "\n",
    "# Unpacking\n",
    "a, b, c = t2\n",
    "print(\"Unpacked values:\", a, b, c)\n"
   ]
  },
  {
   "cell_type": "code",
   "execution_count": 23,
   "metadata": {},
   "outputs": [
    {
     "name": "stdout",
     "output_type": "stream",
     "text": [
      "Before swapping: x = 5 , y = 10\n",
      "After swapping: x = 10 , y = 5\n",
      "Error: 'tuple' object does not support item assignment\n"
     ]
    }
   ],
   "source": [
    "\n",
    "# Swapping values using tuples\n",
    "x, y = 5, 10\n",
    "print(\"Before swapping: x =\", x, \", y =\", y)\n",
    "x, y = y, x  # Swap values\n",
    "print(\"After swapping: x =\", x, \", y =\", y)\n",
    "\n",
    "t2 = 10, 20, 30\n",
    "\n",
    "## Immutability of Tuples\n",
    "# Trying to modify a tuple element\n",
    "try:\n",
    "    t2[0] = 100  # This will raise an error\n",
    "except TypeError as e:\n",
    "    print(\"Error:\", e)\n"
   ]
  },
  {
   "cell_type": "code",
   "execution_count": null,
   "metadata": {},
   "outputs": [],
   "source": [
    "\n",
    "# Tuples can contain mutable elements like lists\n",
    "t3 = (1, [2, 3], 4)\n",
    "print(\"Original tuple t3:\", t3)\n",
    "t3[1][0] = 99  # Modifying the list inside the tuple\n",
    "print(\"Modified tuple t3:\", t3)  # The list element changes\n",
    "\n"
   ]
  },
  {
   "cell_type": "code",
   "execution_count": null,
   "metadata": {},
   "outputs": [],
   "source": [
    "\n",
    "# Tuple methods\n",
    "t4 = (1, 2, 3, 2, 4, 2)\n",
    "print(\"Count of 2 in t4:\", t4.count(2))  # Count occurrences of 2\n",
    "print(\"Index of 3 in t4:\", t4.index(3))  # Find index of the first occurrence of 3\n"
   ]
  },
  {
   "cell_type": "code",
   "execution_count": 24,
   "metadata": {},
   "outputs": [
    {
     "name": "stdout",
     "output_type": "stream",
     "text": [
      "Minimum: 5 , Maximum: 40\n"
     ]
    }
   ],
   "source": [
    "\n",
    "## Practical Examples\n",
    "\n",
    "# Example: Returning multiple values from a function using tuples\n",
    "def min_max(numbers):\n",
    "    return min(numbers), max(numbers)\n",
    "\n",
    "nums = [10, 20, 5, 40, 30]\n",
    "min_val, max_val = min_max(nums)\n",
    "print(\"Minimum:\", min_val, \", Maximum:\", max_val)\n"
   ]
  }
 ],
 "metadata": {
  "kernelspec": {
   "display_name": "Python 3",
   "language": "python",
   "name": "python3"
  },
  "language_info": {
   "codemirror_mode": {
    "name": "ipython",
    "version": 3
   },
   "file_extension": ".py",
   "mimetype": "text/x-python",
   "name": "python",
   "nbconvert_exporter": "python",
   "pygments_lexer": "ipython3",
   "version": "3.12.3"
  }
 },
 "nbformat": 4,
 "nbformat_minor": 2
}
