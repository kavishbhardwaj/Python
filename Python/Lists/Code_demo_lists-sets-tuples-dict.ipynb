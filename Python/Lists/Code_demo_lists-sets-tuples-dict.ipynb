{
 "cells": [
  {
   "cell_type": "markdown",
   "metadata": {},
   "source": [
    "# LIST"
   ]
  },
  {
   "cell_type": "code",
   "execution_count": 131,
   "metadata": {},
   "outputs": [
    {
     "name": "stdout",
     "output_type": "stream",
     "text": [
      "The list is:  ['alpha', 'beta', 'gamma', 'delta', 1, 2, 4, 2, 2, 2]\n",
      "Second element of list is:  beta\n",
      "First three elements of list are:  alpha beta gamma\n",
      "[] []\n"
     ]
    }
   ],
   "source": [
    "# Create a list\n",
    "\n",
    "l = ['alpha', 'beta', 'gamma', 'delta', 1, 2, 4, 2, 2, 2]\n",
    "print(\"The list is: \", l)\n",
    "print(\"Second element of list is: \", l[1])\n",
    "a, b, c, d, e, f, g, h, i, j = l #Tuple unpacking - elements of list l are unpacked\n",
    "print(\"First three elements of list are: \", a, b, c) \n",
    "\n",
    "m = []       #empty list\n",
    "n = list()   #empty list\n",
    "print(m, n)"
   ]
  },
  {
   "cell_type": "code",
   "execution_count": 15,
   "metadata": {},
   "outputs": [
    {
     "name": "stdout",
     "output_type": "stream",
     "text": [
      "Appended list [2]\n",
      "Concatenated list:  [2, 100, 'psi']\n",
      "List after removal of first occurence of '2':  [100, 'psi']\n"
     ]
    }
   ],
   "source": [
    "# List methods\n",
    "\n",
    "l.append(2)    #repetition is allowed\n",
    "print(\"Appended list\", l)\n",
    "\n",
    "l = l + [100, 'psi']\n",
    "print(\"Concatenated list: \", l)\n",
    "\n",
    "l.remove(2)   #removes first occurence\n",
    "print(\"List after removal of first occurence of '2': \", l) \n",
    "\n",
    " "
   ]
  },
  {
   "cell_type": "code",
   "execution_count": 16,
   "metadata": {},
   "outputs": [
    {
     "name": "stdout",
     "output_type": "stream",
     "text": [
      "['__add__', '__class__', '__class_getitem__', '__contains__', '__delattr__', '__delitem__', '__dir__', '__doc__', '__eq__', '__format__', '__ge__', '__getattribute__', '__getitem__', '__getstate__', '__gt__', '__hash__', '__iadd__', '__imul__', '__init__', '__init_subclass__', '__iter__', '__le__', '__len__', '__lt__', '__mul__', '__ne__', '__new__', '__reduce__', '__reduce_ex__', '__repr__', '__reversed__', '__rmul__', '__setattr__', '__setitem__', '__sizeof__', '__str__', '__subclasshook__', 'append', 'clear', 'copy', 'count', 'extend', 'index', 'insert', 'pop', 'remove', 'reverse', 'sort']\n"
     ]
    }
   ],
   "source": [
    "l = []\n",
    "# typing l. will suggest all methods\n",
    "#or \n",
    "print(dir(l))"
   ]
  },
  {
   "cell_type": "code",
   "execution_count": 147,
   "metadata": {},
   "outputs": [
    {
     "name": "stdout",
     "output_type": "stream",
     "text": [
      "[]\n",
      "List of list l:  [['3', '5', '7']]\n",
      "List of lists l and 1, 2, 3 :     [['3', '5', '7'], [1, 2, 3]]\n",
      "List containing another list m which contains two lists l and 1, 2, 3 :          [[['3', '5', '7'], [1, 2, 3]]]\n"
     ]
    }
   ],
   "source": [
    "# List of lists\n",
    "\n",
    "m = []      \n",
    "print(m)\n",
    "m.append(l)\n",
    "print(\"List of list l: \", m)\n",
    "m.append([1, 2, 3])\n",
    "print(\"List of lists l and 1, 2, 3 :    \", m)\n",
    "t = []\n",
    "t.append(m)\n",
    "print(\"List containing another list m which contains two lists l and 1, 2, 3 :         \", t)"
   ]
  },
  {
   "cell_type": "code",
   "execution_count": 136,
   "metadata": {},
   "outputs": [
    {
     "name": "stdout",
     "output_type": "stream",
     "text": [
      "gamma\n",
      "The list l has 13 elements in it\n",
      "alpha beta gamma delta\n",
      "['beta', 'gamma']\n",
      "100\n"
     ]
    }
   ],
   "source": [
    "print(m[0][2])\n",
    "print(f'The list l has {len(l)} elements in it')\n",
    "print(l[0], l[1], l[2], l[3])\n",
    "print(l[1 : 3])\n",
    "print(l[-2])"
   ]
  },
  {
   "cell_type": "code",
   "execution_count": 142,
   "metadata": {},
   "outputs": [
    {
     "name": "stdout",
     "output_type": "stream",
     "text": [
      "Sum: 75, Min: 0, Max: 56, Sorted list: [0, 1, 1, 3, 5, 9, 56], Length of list: 7\n",
      "List sorted in descending order [56, 9, 5, 3, 1, 1, 0]\n",
      "None\n",
      "List sorted in ascending order [0, 1, 1, 3, 5, 9, 56]\n"
     ]
    }
   ],
   "source": [
    "# List operations\n",
    "k = [1, 5, 9, 1, 3, 56, 0]\n",
    "print(f'Sum: {sum(k)}, Min: {min(k)}, Max: {max(k)}, Sorted list: {sorted(k)}, Length of list: {len(k)}')\n",
    "\n",
    "k.sort(reverse = True)      # Sorts the list l in descending order and m = sorted(l) doesnt modify l creates a new list m\n",
    "print(\"List sorted in descending order\", k)\n",
    "\n",
    "k.sort()                    #Sorts the list l in ascending order\n",
    "print(k.sort())             #l.sort() returns None\n",
    "print(\"List sorted in ascending order\", k)  "
   ]
  },
  {
   "cell_type": "code",
   "execution_count": 26,
   "metadata": {},
   "outputs": [
    {
     "name": "stdout",
     "output_type": "stream",
     "text": [
      "range(5):  [0, 1, 2, 3, 4]\n",
      "range(1,5):  [1, 2, 3, 4]\n",
      "range(1,5,2):  [1, 3]\n"
     ]
    },
    {
     "data": {
      "text/plain": [
       "' \\nrange(5) generates a sequence of numbers starting from 0 (default start) up to 5 (exclusive), i.e., [0, 1, 2, 3, 4].\\nlist(range(5)) converts this range into a list\\n'"
      ]
     },
     "execution_count": 26,
     "metadata": {},
     "output_type": "execute_result"
    }
   ],
   "source": [
    "print(\"range(5): \", list(range(5)))\n",
    "print(\"range(1,5): \", list(range(1,5)))\n",
    "print(\"range(1,5,2): \", list(range(1,5,2)))\n",
    "      \n",
    "''' \n",
    "range(5) generates a sequence of numbers starting from 0 (default start) up to 5 (exclusive), i.e., [0, 1, 2, 3, 4].\n",
    "list(range(5)) converts this range into a list\n",
    "'''"
   ]
  },
  {
   "cell_type": "code",
   "execution_count": 168,
   "metadata": {},
   "outputs": [
    {
     "name": "stdout",
     "output_type": "stream",
     "text": [
      "<class 'int'>\n",
      "<class 'list'>\n",
      "Is k a list: True\n",
      "True\n",
      "False\n",
      "False\n"
     ]
    }
   ],
   "source": [
    "print(type(k[1]))  # l[1] is an integer equal to 2\n",
    "print(type(k))\n",
    "print(\"Is k a list:\", isinstance(k, list))\n",
    "# isinstance(l, list) Checks if l is of type list\n",
    "\n",
    "print(1 in k)\n",
    "print(100 in k)\n",
    "print(-1 in k)\n"
   ]
  },
  {
   "cell_type": "code",
   "execution_count": 28,
   "metadata": {},
   "outputs": [
    {
     "name": "stdout",
     "output_type": "stream",
     "text": [
      "1 2 3 4 \n",
      "1 2 3 4 \n",
      "1 2 3 4 "
     ]
    }
   ],
   "source": [
    "# Iterating over a list\n",
    "# Method-1\n",
    "numbers = [1, 2, 3, 4]\n",
    "for num in numbers:\n",
    "    print(num, end = \" \")\n",
    "print()\n",
    "\n",
    "\n",
    "# Method-2\n",
    "numbers = [1, 2, 3, 4]\n",
    "index = 0\n",
    "while index < len(numbers):\n",
    "    print(numbers[index], end = \" \")\n",
    "    index += 1\n",
    "print()\n",
    "\n",
    "# Method-3\n",
    "numbers = [1, 2, 3, 4]\n",
    "for index in range(len(numbers)):\n",
    "    print(numbers[index], end = \" \")"
   ]
  },
  {
   "cell_type": "code",
   "execution_count": 144,
   "metadata": {},
   "outputs": [
    {
     "name": "stdout",
     "output_type": "stream",
     "text": [
      "Repeates:  [4, 7, 8]\n"
     ]
    }
   ],
   "source": [
    "# Check if consecutive elements of a list are repeating\n",
    "\n",
    "m = [1, 2, 3, 4, 4, 5, 6, 7, 7, 8, 8]  # list of 11 elements\n",
    "j = []\n",
    "\n",
    "i = 0\n",
    "flag = 0\n",
    "while i<len(m)-1:       # len(m) = 11, i goes from 0 to 9 so, Iterate only upto 10th element\n",
    "    if m[i] == m[i+1]:\n",
    "        j.append(m[i])\n",
    "        flag = 1        # Indiciates atleast one repetition was found\n",
    "    i  = i+1\n",
    "\n",
    "if flag == 0:\n",
    "    print(\"Doesn't repeat\")\n",
    "if flag == 1:\n",
    "    print(\"Repeates: \", j)"
   ]
  },
  {
   "cell_type": "code",
   "execution_count": 109,
   "metadata": {},
   "outputs": [
    {
     "name": "stdout",
     "output_type": "stream",
     "text": [
      "List of 50 random days of year [192, 4, 145, 323, 363, 33, 348, 256, 195, 60, 199, 272, 89, 33, 222, 196, 247, 75, 184, 269, 349, 226, 111, 238, 288, 329, 41, 161, 219, 350, 4, 256, 294, 103, 129, 153, 151, 209, 139, 223, 360, 226, 225, 67, 263, 24, 229, 354, 51, 95]\n",
      "Sorted list of birthdays [4, 4, 24, 33, 33, 41, 51, 60, 67, 75, 89, 95, 103, 111, 129, 139, 145, 151, 153, 161, 184, 192, 195, 196, 199, 209, 219, 222, 223, 225, 226, 226, 229, 238, 247, 256, 256, 263, 269, 272, 288, 294, 323, 329, 348, 349, 350, 354, 360, 363]\n",
      "Repeats 4\n"
     ]
    }
   ],
   "source": [
    "# Birthday paradox - if we have even few (50) people with their birthdays on one of 365 days of year, we will definitely have some people whose birthdays coincide\n",
    "\n",
    "import random\n",
    "\n",
    "b = []\n",
    "\n",
    "for i in range(50):   # Iterates 50 times using a loop.\n",
    "    b.append(random.randint(1,365))   # random.randint(1, 365) generates a random integer between 1 and 365 (inclusive).\n",
    "print(\"List of 50 random days of year\", b)    # After the loop, l contains 50 random integers between 1 and 365 (inclusive).\n",
    "\n",
    "b.sort()   # sorts the list l in ascending order in place\n",
    "print(\"Sorted list of birthdays\", b)\n",
    "\n",
    "\n",
    "i = 0\n",
    "flag = 0\n",
    "while i<=len(m)-2:\n",
    "    if b[i] == b[i+1]:\n",
    "        print(\"Repeats\", b[i])\n",
    "        flag = 1\n",
    "        break\n",
    "    i  = i+1\n",
    "\n",
    "if flag == 0:\n",
    "    print(\"Doesn't repeat\")\n",
    "\n",
    "\n"
   ]
  },
  {
   "cell_type": "markdown",
   "metadata": {},
   "source": [
    "### Naive and basic way to create matrix in python using lists "
   ]
  },
  {
   "cell_type": "code",
   "execution_count": 145,
   "metadata": {},
   "outputs": [
    {
     "name": "stdout",
     "output_type": "stream",
     "text": [
      "[['1', '5', '9'], ['3', '5', '7']]\n",
      "Matrix with int elements: [[1, 5, 9], [3, 5, 7]]\n"
     ]
    }
   ],
   "source": [
    "# Method-1\n",
    "\n",
    "n = int(input(\"Enter number of rows of matrix: \"))\n",
    "matrix = []\n",
    "for i in range(n):\n",
    "    a, b, c = input(\"Enter three space separated values : \").split() \n",
    "    #split() creates a list of substrings\n",
    "    l = [a, b, c]\n",
    "    matrix.append(l)  \n",
    "print(matrix)\n",
    "\n",
    "# dont forget to convert str input to integer type for mathematical operations on matrix\n",
    "\n",
    "for i in range(len(matrix)):\n",
    "    matrix[i] = [int(x) for x in matrix[i]]  # Convert each element in the sublist to int (iterating over a list elemets using for loop)\n",
    "\n",
    "print(\"Matrix with int elements:\", matrix)\n",
    "\n",
    "\n"
   ]
  },
  {
   "cell_type": "code",
   "execution_count": 120,
   "metadata": {},
   "outputs": [
    {
     "name": "stdout",
     "output_type": "stream",
     "text": [
      "Matrix with int elements: [[3, 5, 7], [1, 5, 9]]\n"
     ]
    }
   ],
   "source": [
    "# Method-1 again \n",
    "\n",
    "n = int(input(\"Enter number of rows of matrix: \"))\n",
    "matrix = []\n",
    "for i in range(n):\n",
    "    a, b, c = input(\"Enter three space separated values : \").split()\n",
    "    a, b, c = int(a), int(b), int(c)\n",
    "    l = [a, b, c]\n",
    "    matrix.append(l)\n",
    "print(\"Matrix with int elements:\", matrix)\n",
    "\n"
   ]
  },
  {
   "cell_type": "code",
   "execution_count": 123,
   "metadata": {},
   "outputs": [
    {
     "name": "stdout",
     "output_type": "stream",
     "text": [
      "Enter elements of row 1:\n",
      "Enter elements of row 2:\n",
      "[[2, 3, 6], [1, 2, 3]]\n"
     ]
    }
   ],
   "source": [
    "# Method-2\n",
    "\n",
    "n = int(input(\"Enter number of rows of matrix: \"))\n",
    "matrix = []\n",
    "for i in range(n):\n",
    "    row = []\n",
    "    print(f'Enter elements of row {i+1}:')\n",
    "    for j in range(3):  # Assuming each row has 3 elements\n",
    "        value = int(input(f\"Enter element {j+1} of row {i+1}: \"))\n",
    "        row.append(value)\n",
    "    matrix.append(row)\n",
    "print(matrix)\n",
    "\n"
   ]
  },
  {
   "cell_type": "code",
   "execution_count": 126,
   "metadata": {},
   "outputs": [
    {
     "name": "stdout",
     "output_type": "stream",
     "text": [
      "[[2, 5, 6]]\n"
     ]
    }
   ],
   "source": [
    "# Method-3\n",
    "\n",
    "n = int(input(\"Enter number of rows of matrix: \"))\n",
    "\n",
    "matrix = [ ]\n",
    "for i in range(n): # Loop runs once for each row\n",
    "    L = [ ]         #empty list L to hold the elements of the current row\n",
    "    for num in input(\"Enter three space separated values: \").split(' '):\n",
    "        #for num in ...: Iterates over each element (num) in the list of substrings generated by .split()\n",
    "        L.append(int(num))\n",
    "    matrix.append(L)\n",
    "print(matrix)"
   ]
  },
  {
   "cell_type": "code",
   "execution_count": 1,
   "metadata": {},
   "outputs": [
    {
     "name": "stdout",
     "output_type": "stream",
     "text": [
      "l1 + l2: [1, 2, 3, 10, 20, 30]\n",
      "l2 + l1: [10, 20, 30, 1, 2, 3]\n",
      "List with 10 zeros: [0, 0, 0, 0, 0, 0, 0, 0, 0, 0]\n",
      "Replicated list: [1, 2, 3, 1, 2, 3, 1, 2, 3]\n"
     ]
    }
   ],
   "source": [
    "\n",
    "## **List Concatenation and Replication**\n",
    "\n",
    "### **Concatenation Example**\n",
    "\n",
    "# Example: Concatenation\n",
    "l1 = [1, 2, 3]\n",
    "l2 = [10, 20, 30]\n",
    "\n",
    "# Concatenating two lists\n",
    "print(\"l1 + l2:\", l1 + l2)\n",
    "print(\"l2 + l1:\", l2 + l1)\n",
    "\n",
    "\n",
    "### **Replication Example**\n",
    "\n",
    "# Example: Replication\n",
    "l3 = [0] * 10  # List of ten zeros\n",
    "print(\"List with 10 zeros:\", l3)\n",
    "\n",
    "l4 = [1, 2, 3] * 3  # Replicating [1, 2, 3] three times\n",
    "print(\"Replicated list:\", l4)\n",
    "\n"
   ]
  },
  {
   "cell_type": "code",
   "execution_count": 5,
   "metadata": {},
   "outputs": [
    {
     "name": "stdout",
     "output_type": "stream",
     "text": [
      "l1 == l2: False\n",
      "l1 < l2: True\n"
     ]
    }
   ],
   "source": [
    "## **Logical Comparisons**\n",
    "\n",
    "### **Comparison Examples**\n",
    "\n",
    "# Example: Comparing lists\n",
    "l1 = [1, 2, 3]\n",
    "l2 = [1, 3, 2]\n",
    "\n",
    "print(\"l1 == l2:\", l1 == l2)  # False\n",
    "print(\"l1 < l2:\", l1 < l2)    # True (lexicographical comparison)\n",
    "\n"
   ]
  },
  {
   "cell_type": "code",
   "execution_count": 15,
   "metadata": {},
   "outputs": [
    {
     "name": "stdout",
     "output_type": "stream",
     "text": [
      "Modified l1: [1, 100, 3]\n",
      "Error: 'str' object does not support item assignment\n"
     ]
    }
   ],
   "source": [
    "## **Mutability and Immutability**\n",
    "\n",
    "### **Mutability Example**\n",
    "\n",
    "# Lists are mutable\n",
    "l1 = [1, 2, 3]\n",
    "l1[1] = 100  # Change second element\n",
    "print(\"Modified l1:\", l1)\n",
    "\n",
    "\n",
    "### **Immutability Example**\n",
    "\n",
    "# Strings are immutable\n",
    "s = \"abc\"\n",
    "try:\n",
    "    s[1] = 'x'  # This will raise an error\n",
    "except TypeError as e:\n",
    "    print(\"Error:\", e)\n",
    "\n"
   ]
  },
  {
   "cell_type": "code",
   "execution_count": 14,
   "metadata": {},
   "outputs": [
    {
     "name": "stdout",
     "output_type": "stream",
     "text": [
      "l1: [100, 2, 3]\n",
      "l2: [100, 2, 3]\n",
      "After copying:\n",
      "l1: [500, 2, 3]\n",
      "l3: [100, 2, 3]\n"
     ]
    }
   ],
   "source": [
    "## **Memory Behavior of Lists**\n",
    "\n",
    "### **Shared Reference Example**\n",
    "\n",
    "l1 = [1, 2, 3]\n",
    "l2 = l1  # l2 refers to the same list as l1\n",
    "l1[0] = 100\n",
    "print(\"l1:\", l1)\n",
    "print(\"l2:\", l2)  # l2 also shows the change\n",
    "\n",
    "# To avoid this, use copying methods\n",
    "l3 = list(l1)  # or l1[:], or l1.copy()\n",
    "l1[0] = 500\n",
    "print(\"After copying:\")\n",
    "print(\"l1:\", l1)\n",
    "print(\"l3:\", l3)  # l3 does not reflect the change in l1\n"
   ]
  },
  {
   "cell_type": "code",
   "execution_count": 8,
   "metadata": {},
   "outputs": [
    {
     "name": "stdout",
     "output_type": "stream",
     "text": [
      "After function call: [1, 2, 3, 100]\n",
      "After function call: hello\n"
     ]
    }
   ],
   "source": [
    "\n",
    "## **Lists in Functions**\n",
    "\n",
    "### **Call by Reference Example**\n",
    "\n",
    "def modify_list(lst):\n",
    "    lst.append(100)\n",
    "\n",
    "l1 = [1, 2, 3]\n",
    "modify_list(l1)\n",
    "print(\"After function call:\", l1)  # l1 is modified\n",
    "\n",
    "\n",
    "### **Immutable Type in Functions**\n",
    "\n",
    "def modify_string(s):\n",
    "    s = s + \" world\"\n",
    "\n",
    "s = \"hello\"\n",
    "modify_string(s)\n",
    "print(\"After function call:\", s)  # s remains unchanged\n",
    "\n"
   ]
  },
  {
   "cell_type": "code",
   "execution_count": 10,
   "metadata": {},
   "outputs": [
    {
     "name": "stdout",
     "output_type": "stream",
     "text": [
      "After append: [1, 2, 3, 4]\n",
      "After insert: [1, 2, 9, 3, 4]\n",
      "After remove: [1, 2, 3, 4]\n",
      "After pop: [2, 3, 4] , Popped value: 1\n"
     ]
    }
   ],
   "source": [
    "\n",
    "## **List Methods**\n",
    "\n",
    "### **Common Methods**\n",
    "\n",
    "# append\n",
    "l1 = [1, 2, 3]\n",
    "l1.append(4)\n",
    "print(\"After append:\", l1)\n",
    "\n",
    "# insert\n",
    "l1.insert(2, 9)\n",
    "print(\"After insert:\", l1)\n",
    "\n",
    "# remove\n",
    "l1.remove(9)\n",
    "print(\"After remove:\", l1)\n",
    "\n",
    "# pop\n",
    "popped_value = l1.pop(0)\n",
    "print(\"After pop:\", l1, \", Popped value:\", popped_value)\n"
   ]
  },
  {
   "cell_type": "code",
   "execution_count": 13,
   "metadata": {},
   "outputs": [
    {
     "name": "stdout",
     "output_type": "stream",
     "text": [
      "Sorted list: [1, 2, 3, 4]\n",
      "Reversed list: [4, 3, 2, 1]\n",
      "Sorted in descending order: [9, 5, 2, 1]\n"
     ]
    }
   ],
   "source": [
    "### **Sorting and Reversing**\n",
    "\n",
    "l1 = [3, 1, 4, 2]\n",
    "l1.sort()\n",
    "print(\"Sorted list:\", l1)\n",
    "l1.reverse()\n",
    "print(\"Reversed list:\", l1)\n",
    "\n",
    "\n",
    "## **Additional Examples for Practice**\n",
    "\n",
    "### **Sorting in Descending Order**\n",
    "\n",
    "l = [5, 2, 9, 1]\n",
    "l.sort(reverse=True)\n",
    "print(\"Sorted in descending order:\", l)\n",
    "\n"
   ]
  },
  {
   "cell_type": "code",
   "execution_count": 12,
   "metadata": {},
   "outputs": [
    {
     "name": "stdout",
     "output_type": "stream",
     "text": [
      "Original list: [1, 2, 3]\n",
      "Copied list: [1, 2, 3, 4]\n"
     ]
    }
   ],
   "source": [
    "\n",
    "### **Copying a List and Modifying**\n",
    "\n",
    "l1 = [1, 2, 3]\n",
    "l2 = l1.copy()\n",
    "l2.append(4)\n",
    "print(\"Original list:\", l1)\n",
    "print(\"Copied list:\", l2)"
   ]
  },
  {
   "cell_type": "code",
   "execution_count": null,
   "metadata": {},
   "outputs": [],
   "source": [
    "## Single-line Conditional Statements\n",
    "# Multi-line if-else statement\n",
    "a, b = 10, 20\n",
    "\n",
    "if a < b:\n",
    "    small = a\n",
    "else:\n",
    "    small = b\n",
    "\n",
    "print(\"Smallest value (multi-line):\", small)\n",
    "\n",
    "# Equivalent one-liner\n",
    "small = a if a < b else b\n",
    "print(\"Smallest value (one-liner):\", small)\n"
   ]
  },
  {
   "cell_type": "code",
   "execution_count": null,
   "metadata": {},
   "outputs": [],
   "source": [
    "## Single-line Loops\n",
    "\n",
    "# Traditional while loop\n",
    "a = 5\n",
    "while a > 0:\n",
    "    print(a)\n",
    "    a -= 1\n",
    "\n",
    "# Equivalent one-liner using semicolons\n",
    "a = 5\n",
    "while a > 0: print(a); a -= 1\n"
   ]
  },
  {
   "cell_type": "markdown",
   "metadata": {},
   "source": [
    "## List Comprehension\n",
    "**List comprehension** is a concise way to create lists in Python. It can replace multiple lines of looping and conditional logic with a single-line expression.\n",
    "\n",
    "### General Syntax: \n",
    "*********[expression for item in iterable if condition]**********\n",
    "\n",
    "- `expression`: Operation applied to each item.\n",
    "- `item`: Element from the iterable.\n",
    "- `condition` (optional): Filters elements from the iterable.\n",
    "\n",
    "### Advantages of List Comprehension:\n",
    "1. **Concise Code**: Reduces multiple lines into a single, readable line.\n",
    "2. **Functionality**: Performs filtering and modification in one step.\n",
    "3. **Improved Readability**: Easier to understand simple transformations.\n",
    "\n",
    "**However**, for complex logic, using traditional loops might be more readable.\n"
   ]
  },
  {
   "cell_type": "code",
   "execution_count": 25,
   "metadata": {},
   "outputs": [
    {
     "name": "stdout",
     "output_type": "stream",
     "text": [
      "Filtered and Capitalized (traditional): ['Banana', 'Mango']\n",
      "Filtered and Capitalized (comprehension): ['Banana', 'Mango']\n"
     ]
    }
   ],
   "source": [
    "\n",
    "### Example:\n",
    "# Traditional loop method\n",
    "fruits = [\"apple\", \"banana\", \"cherry\", \"mango\"]\n",
    "new_list = []\n",
    "for fruit in fruits:\n",
    "    if 'n' in fruit:\n",
    "        new_list.append(fruit.capitalize())\n",
    "\n",
    "print(\"Filtered and Capitalized (traditional):\", new_list)\n",
    "\n",
    "# Equivalent list comprehension\n",
    "new_list = [fruit.capitalize() for fruit in fruits if 'n' in fruit]\n",
    "print(\"Filtered and Capitalized (comprehension):\", new_list)\n"
   ]
  },
  {
   "cell_type": "code",
   "execution_count": 26,
   "metadata": {},
   "outputs": [
    {
     "name": "stdout",
     "output_type": "stream",
     "text": [
      "Minimum of 15 and 25: 15\n"
     ]
    }
   ],
   "source": [
    "# Example: Using one-liner in a function\n",
    "def min_value(a, b):\n",
    "    return a if a < b else b\n",
    "\n",
    "print(\"Minimum of 15 and 25:\", min_value(15, 25))\n"
   ]
  },
  {
   "cell_type": "markdown",
   "metadata": {},
   "source": [
    "# SET"
   ]
  },
  {
   "cell_type": "code",
   "execution_count": 14,
   "metadata": {},
   "outputs": [
    {
     "name": "stdout",
     "output_type": "stream",
     "text": [
      "<class 'list'>\n",
      "<class 'set'>\n",
      "Print set y (it automatically removes repeated elements) {1, 2, 3, 5, 7, 9}\n",
      "True\n"
     ]
    },
    {
     "data": {
      "text/plain": [
       "set"
      ]
     },
     "execution_count": 14,
     "metadata": {},
     "output_type": "execute_result"
    }
   ],
   "source": [
    "z = [1, 2, 3]\n",
    "print(type(z))\n",
    "y = {1, 2, 3, 5, 7, 9, 9}\n",
    "print(type(y))\n",
    "print(\"Print set y (it automatically removes repeated elements)\", y)                    # Set doesn't have repeated elements\n",
    "print(9 in y)\n",
    "type(y)"
   ]
  },
  {
   "cell_type": "code",
   "execution_count": 10,
   "metadata": {},
   "outputs": [
    {
     "name": "stdout",
     "output_type": "stream",
     "text": [
      "Time taken to create a list: 5.872474 seconds\n",
      "Time taken to create a set: 26.221825 seconds\n"
     ]
    }
   ],
   "source": [
    "import time\n",
    "\n",
    "n = 10**7  # Adjust the size of range to see significant time differences\n",
    "\n",
    "# Measuring time for creating a list\n",
    "start_time = time.time()\n",
    "l = list(range(n))\n",
    "end_time = time.time()\n",
    "print(f\"Time taken to create a list: {end_time - start_time:.6f} seconds\")\n",
    "\n",
    "# Measuring time for creating a set\n",
    "start_time = time.time()\n",
    "s = set(range(n))\n",
    "end_time = time.time()\n",
    "print(f\"Time taken to create a set: {end_time - start_time:.6f} seconds\")\n"
   ]
  },
  {
   "cell_type": "code",
   "execution_count": null,
   "metadata": {},
   "outputs": [],
   "source": [
    "# Measuring time for membership testing in list\n",
    "start_time = time.time()\n",
    "-1 in l  # Sequential search in list\n",
    "end_time = time.time()\n",
    "print(f\"Time taken for '-1 in list': {end_time - start_time:.6f} seconds\")\n",
    "\n",
    "# Measuring time for membership testing in set\n",
    "start_time = time.time()\n",
    "-1 in s  # Hash lookup in set\n",
    "end_time = time.time()\n",
    "print(f\"Time taken for '-1 in set': {end_time - start_time:.6f} seconds\")\n"
   ]
  },
  {
   "cell_type": "markdown",
   "metadata": {},
   "source": [
    "### Understanding the Performance Differences Between Sets and Lists in Python\n",
    "\n",
    "When working with Python, it’s important to understand how different data structures like `list` and `set` perform under various operations. Let's dive into the performance characteristics of two commonly used structures:\n",
    "\n",
    "1. **Creating a Set vs. Creating a List**:\n",
    "   ```python\n",
    "   s = set(range(n))  # Creating a set from 0 to n-1\n",
    "   l = list(range(n))  # Creating a list from 0 to n-1\n",
    "   ```\n",
    "\n",
    "2. **Membership Testing**:\n",
    "   ```python\n",
    "   -1 in s  # Checking if -1 exists in the set\n",
    "   -1 in l  # Checking if -1 exists in the list\n",
    "   ```\n",
    "\n",
    "### 1. **Creation Time: `set` vs. `list`**\n",
    "\n",
    "- **`list(range(n))`**:\n",
    "  - A `list` is an ordered collection of elements.\n",
    "  - When you create a list using `list(range(n))`, Python simply allocates memory and stores each element sequentially.\n",
    "  - The time complexity of creating a list from `range(n)` is **O(n)**.\n",
    "\n",
    "- **`set(range(n))`**:\n",
    "  - A `set` is an unordered collection of unique elements.\n",
    "  - When you create a set using `set(range(n))`, Python internally needs to hash each element to ensure uniqueness and store them in a hash table.\n",
    "  - The time complexity of creating a set from `range(n)` is also **O(n)**, but the constant factors involved in hashing and storing elements in a hash table make it much slower than list creation.\n",
    "\n",
    "### 2. **Membership Testing: `-1 in s` vs. `-1 in l`**\n",
    "\n",
    "- **`-1 in s`**:\n",
    "  - Sets in Python use **hash tables** for storage.\n",
    "  - When checking membership (e.g., `-1 in s`), Python calculates the hash of `-1` and directly looks up this hash in the set's internal hash table.\n",
    "  - This process is highly efficient and has an **average time complexity of O(1)**.\n",
    "  - In other words, the time to check membership in a set is constant, regardless of the size of the set.\n",
    "\n",
    "- **`-1 in l`**:\n",
    "  - Lists do not use hashing; instead, they rely on a **sequential search** to check for membership.\n",
    "  - Python iterates through each element in the list from the beginning until it finds the target element or reaches the end of the list.\n",
    "  - This operation has a **time complexity of O(n)**, meaning the time taken grows linearly with the size of the list.\n",
    "  - If the element is not present (as in `-1 in list(range(n))`), Python will check all `n` elements.\n",
    "\n",
    "### **Summary of Performance Differences**\n",
    "\n",
    "| Operation              | Time Complexity | Reason                                                     |\n",
    "|------------------------|-----------------|------------------------------------------------------------|\n",
    "| `list(range(n))`       | **O(n)**        | Sequentially creates elements and stores them in memory.   |\n",
    "| `set(range(n))`        | **O(n)**        | Hashes each element and stores them in a hash table (slower constant factor). |\n",
    "| `-1 in s` (set)        | **O(1)**        | Direct hash lookup in constant time.                       |\n",
    "| `-1 in l` (list)       | **O(n)**        | Sequential search through all elements.                    |\n",
    "\n",
    "\n",
    "### **Conclusion**\n",
    "\n",
    "- Use **`list`** when you need to maintain order or perform operations like indexing or slicing.\n",
    "- Use **`set`** when you need fast membership testing, even at the cost of slower initialization."
   ]
  },
  {
   "cell_type": "code",
   "execution_count": 7,
   "metadata": {},
   "outputs": [
    {
     "name": "stdout",
     "output_type": "stream",
     "text": [
      "72\n",
      "856\n",
      "8408\n"
     ]
    },
    {
     "ename": "TypeError",
     "evalue": "'set' object is not subscriptable",
     "output_type": "error",
     "traceback": [
      "\u001b[1;31m---------------------------------------------------------------------------\u001b[0m",
      "\u001b[1;31mTypeError\u001b[0m                                 Traceback (most recent call last)",
      "Cell \u001b[1;32mIn[7], line 11\u001b[0m\n\u001b[0;32m      8\u001b[0m \u001b[38;5;28mprint\u001b[39m(sys\u001b[38;5;241m.\u001b[39mgetsizeof(li))\n\u001b[0;32m      9\u001b[0m \u001b[38;5;28mprint\u001b[39m(sys\u001b[38;5;241m.\u001b[39mgetsizeof(x))\n\u001b[1;32m---> 11\u001b[0m \u001b[38;5;28mprint\u001b[39m(x[\u001b[38;5;241m0\u001b[39m])\n",
      "\u001b[1;31mTypeError\u001b[0m: 'set' object is not subscriptable"
     ]
    }
   ],
   "source": [
    "import sys\n",
    "\n",
    "l2 = [0,1]\n",
    "print(sys.getsizeof(l2))\n",
    "\n",
    "x = set(range(100))\n",
    "li = list(range(100))\n",
    "print(sys.getsizeof(li))\n",
    "print(sys.getsizeof(x))\n",
    "\n",
    "print(x[0])\n",
    "\n",
    "''' \n",
    "The error 'set' object is not subscriptable occurs in Python when you attempt to access elements of a set using an index, \n",
    "like set_variable[index]. Sets are unordered collections of unique elements, and they do not support indexing or slicing, unlike lists or tuples.\n",
    "'''\n"
   ]
  },
  {
   "cell_type": "markdown",
   "metadata": {},
   "source": [
    "\n",
    "### Why Sets Aren't Subscriptable:\n",
    "- **Unordered**: Sets don't maintain the order of elements.\n",
    "- **Unique Elements**: They only store unique values.\n",
    "- **No Indexing**: Since sets are unordered, there's no guarantee of a consistent element order, so operations like `set[0]` don't make sense.\n",
    "\n",
    "### access elements of set:\n",
    "1. **Convert set to list to access elements by index\n",
    " \n",
    "   ```python\n",
    "   my_list = list(my_set)\n",
    "   print(my_list[0])  # ✅ Convert set to list to access elements by index\n",
    "   ```\n",
    "\n",
    "2. **Need for Iteration**:\n",
    "   When you don't need a specific order but just want to process all elements:\n",
    "   ```python\n",
    "   for item in my_set:\n",
    "       print(item)  # ✅ Prints each item without indexing\n",
    "   ```\n",
    "\n",
    "3. **Sorting the Set**:\n",
    "   If you need the elements in a specific order:\n",
    "   ```python\n",
    "   sorted_set = sorted(my_set)  # Returns a sorted list\n",
    "   print(sorted_set[0])  # ✅ Access first element of the sorted list\n",
    "   ```\n",
    "\n",
    "### Best Practices:\n",
    "- Use **lists** or **tuples** when you need order or indexing.\n",
    "- Use **sets** for fast membership testing, ensuring unique values, or when the order doesn't matter.\n",
    "\n",
    "\n",
    "### Why the Set Uses More Memory:\n",
    "- **Lists** store elements in a contiguous memory block, optimized for accessing elements by index.\n",
    "- **Sets** require more memory because they implement a hash table for fast membership checks, which includes overhead for hashing and handling collisions.\n",
    "\n",
    "Thus, sets are more memory-intensive compared to lists but offer faster lookup operations."
   ]
  },
  {
   "cell_type": "code",
   "execution_count": 11,
   "metadata": {},
   "outputs": [
    {
     "name": "stdout",
     "output_type": "stream",
     "text": [
      "{'ashish', 'ayushi', 'sudarshan', 'amit'}\n",
      "False\n"
     ]
    },
    {
     "name": "stdout",
     "output_type": "stream",
     "text": [
      "\u001b[1;31mDocstring:\u001b[0m\n",
      "Add an element to a set.\n",
      "\n",
      "This has no effect if the element is already present.\n",
      "\u001b[1;31mType:\u001b[0m      builtin_function_or_method"
     ]
    }
   ],
   "source": [
    "z = {'amit', 'ayushi', 'ashish'}\n",
    "\n",
    "z.add?\n",
    "\n",
    "z.add('sudarshan')\n",
    "print(z)\n",
    "print('karthik' in z)"
   ]
  },
  {
   "cell_type": "code",
   "execution_count": 16,
   "metadata": {},
   "outputs": [
    {
     "name": "stdout",
     "output_type": "stream",
     "text": [
      "Set 1: {1, 2, 3, 4, 5}\n",
      "Set 2 (with duplicates removed): {1, 2, 3, 4, 5}\n",
      "Set 3: {'a', 'c', 'b', 'd'}\n"
     ]
    }
   ],
   "source": [
    "\n",
    "## Creating Sets and Their Properties\n",
    "\n",
    "# Creating a set\n",
    "set1 = {1, 2, 3, 4, 5}\n",
    "print(\"Set 1:\", set1)\n",
    "\n",
    "# Sets automatically remove duplicates\n",
    "set2 = {1, 2, 2, 3, 4, 4, 5}\n",
    "print(\"Set 2 (with duplicates removed):\", set2)\n",
    "\n",
    "# Sets are unordered\n",
    "set3 = {'a', 'b', 'c', 'd'}\n",
    "print(\"Set 3:\", set3)\n",
    "\n",
    "\n"
   ]
  },
  {
   "cell_type": "code",
   "execution_count": 17,
   "metadata": {},
   "outputs": [
    {
     "name": "stdout",
     "output_type": "stream",
     "text": [
      "Set after adding 6: {1, 2, 3, 4, 5, 6}\n",
      "Set after removing 3: {1, 2, 4, 5, 6}\n",
      "Set after adding a tuple: {1, 2, 4, 5, 6, (7, 8)}\n",
      "Error: unhashable type: 'list'\n"
     ]
    }
   ],
   "source": [
    "## Mutability of Sets\n",
    "\n",
    "# Adding and removing elements\n",
    "set1.add(6)\n",
    "print(\"Set after adding 6:\", set1)\n",
    "\n",
    "set1.remove(3)  # Removes element 3\n",
    "print(\"Set after removing 3:\", set1)\n",
    "\n",
    "# Adding immutable elements (valid)\n",
    "set1.add((7, 8))  # Tuple is immutable\n",
    "print(\"Set after adding a tuple:\", set1)\n",
    "\n",
    "# Attempting to add mutable elements raises an error\n",
    "try:\n",
    "    set1.add([9, 10])  # List is mutable\n",
    "except TypeError as e:\n",
    "    print(\"Error:\", e)\n",
    "\n"
   ]
  },
  {
   "cell_type": "code",
   "execution_count": 18,
   "metadata": {},
   "outputs": [
    {
     "name": "stdout",
     "output_type": "stream",
     "text": [
      "Union of A and B: {1, 2, 3, 4, 5, 6}\n",
      "Union using method: {1, 2, 3, 4, 5, 6}\n",
      "Intersection of A and B: {3, 4}\n",
      "Intersection using method: {3, 4}\n",
      "Difference (A - B): {1, 2}\n",
      "Difference using method: {1, 2}\n"
     ]
    }
   ],
   "source": [
    "## Mathematical Operations on Sets\n",
    "\n",
    "# Defining two sets\n",
    "A = {1, 2, 3, 4}\n",
    "B = {3, 4, 5, 6}\n",
    "\n",
    "# Union\n",
    "print(\"Union of A and B:\", A | B)  # Using operator\n",
    "print(\"Union using method:\", A.union(B))\n",
    "\n",
    "# Intersection\n",
    "print(\"Intersection of A and B:\", A & B)  # Using operator\n",
    "print(\"Intersection using method:\", A.intersection(B))\n",
    "\n",
    "# Difference\n",
    "print(\"Difference (A - B):\", A - B)  # Elements in A but not in B\n",
    "print(\"Difference using method:\", A.difference(B))\n"
   ]
  },
  {
   "cell_type": "code",
   "execution_count": 19,
   "metadata": {},
   "outputs": [
    {
     "name": "stdout",
     "output_type": "stream",
     "text": [
      "Is C a subset of A? True\n",
      "Is A a superset of C? True\n",
      "Is C a proper subset of A? True\n",
      "Is A a proper superset of C? True\n"
     ]
    }
   ],
   "source": [
    "\n",
    "\n",
    "## Subset and Superset Checks\n",
    "\n",
    "# Checking subsets and supersets\n",
    "C = {1, 2}\n",
    "print(\"Is C a subset of A?\", C <= A)  # or C.issubset(A)\n",
    "print(\"Is A a superset of C?\", A >= C)  # or A.issuperset(C)\n",
    "\n",
    "# Proper subset and superset\n",
    "print(\"Is C a proper subset of A?\", C < A)\n",
    "print(\"Is A a proper superset of C?\", A > C)\n"
   ]
  },
  {
   "cell_type": "code",
   "execution_count": 20,
   "metadata": {},
   "outputs": [
    {
     "name": "stdout",
     "output_type": "stream",
     "text": [
      "Symmetric Difference (A ^ B): {1, 2, 5, 6}\n",
      "Set1 after clearing: set()\n"
     ]
    }
   ],
   "source": [
    "## Additional Examples for Practice\n",
    "\n",
    "# Symmetric Difference (elements in A or B but not both)\n",
    "print(\"Symmetric Difference (A ^ B):\", A ^ B)\n",
    "\n",
    "# Clearing all elements in a set\n",
    "set1.clear()\n",
    "print(\"Set1 after clearing:\", set1)"
   ]
  },
  {
   "cell_type": "markdown",
   "metadata": {},
   "source": [
    "# Tuples\n"
   ]
  },
  {
   "cell_type": "code",
   "execution_count": 20,
   "metadata": {},
   "outputs": [
    {
     "name": "stdout",
     "output_type": "stream",
     "text": [
      "2\n"
     ]
    },
    {
     "ename": "AttributeError",
     "evalue": "'tuple' object has no attribute 'append'",
     "output_type": "error",
     "traceback": [
      "\u001b[1;31m---------------------------------------------------------------------------\u001b[0m",
      "\u001b[1;31mAttributeError\u001b[0m                            Traceback (most recent call last)",
      "Cell \u001b[1;32mIn[20], line 3\u001b[0m\n\u001b[0;32m      1\u001b[0m t \u001b[38;5;241m=\u001b[39m (\u001b[38;5;241m2\u001b[39m, \u001b[38;5;241m3\u001b[39m, \u001b[38;5;241m4\u001b[39m)\n\u001b[0;32m      2\u001b[0m \u001b[38;5;28mprint\u001b[39m(t[\u001b[38;5;241m0\u001b[39m])\n\u001b[1;32m----> 3\u001b[0m t\u001b[38;5;241m.\u001b[39mappend(\u001b[38;5;241m5\u001b[39m)\n",
      "\u001b[1;31mAttributeError\u001b[0m: 'tuple' object has no attribute 'append'"
     ]
    }
   ],
   "source": [
    "t = (2, 3, 4)\n",
    "print(t[0])\n",
    "t.append(5)\n"
   ]
  },
  {
   "cell_type": "markdown",
   "metadata": {},
   "source": [
    "\n",
    "### Code Explanation:\n",
    "```python\n",
    "t = (2, 3, 4)       # Creates a tuple with three elements\n",
    "print(t[0])         # ✅ This will print `2`, as tuples support indexing\n",
    "t.append(5)         # ❌ This will raise an AttributeError\n",
    "```\n",
    "\n",
    "### Why It Fails:\n",
    "- **Tuples are immutable**: Once created, you cannot modify a tuple (i.e., you can't add, remove, or change its elements).\n",
    "- **`append` method doesn't exist for tuples**: Unlike lists, tuples do not have an `append` method because they are designed to be immutable.\n",
    "\n",
    "### Correct Approaches:\n",
    "If you need to \"append\" an element, you can create a new tuple:\n",
    "\n",
    "1. **Concatenation**:\n",
    "   ```python\n",
    "   t = t + (5,)\n",
    "   print(t)  # Output: (2, 3, 4, 5)\n",
    "   ```\n",
    "\n",
    "2. **Convert to a List (if mutability is required)**:\n",
    "   ```python\n",
    "   t = list(t)  # Convert to a list\n",
    "   t.append(5)  # Now append works\n",
    "   t = tuple(t) # Convert back to tuple\n",
    "   print(t)     # Output: (2, 3, 4, 5)\n",
    "   ```\n",
    "\n"
   ]
  },
  {
   "cell_type": "code",
   "execution_count": 28,
   "metadata": {},
   "outputs": [
    {
     "name": "stdout",
     "output_type": "stream",
     "text": [
      "Tuple t: (0, 1, 2, 3, 4, 5, 6, 7, 8, 9)\n"
     ]
    }
   ],
   "source": [
    "# Title: Exploring Tuples in Python\n",
    "\n",
    "# Create a tuple of numbers from 0 to 9\n",
    "t = tuple(range(10))\n",
    "print(\"Tuple t:\", t)\n"
   ]
  },
  {
   "cell_type": "code",
   "execution_count": 29,
   "metadata": {},
   "outputs": [
    {
     "name": "stdout",
     "output_type": "stream",
     "text": [
      "\n",
      "String s (string.ascii_letters): abcdefghijklmnopqrstuvwxyzABCDEFGHIJKLMNOPQRSTUVWXYZ\n",
      "\n",
      "Tuple created from string using tuple(): ('a', 'b', 'c', 'd', 'e', 'f', 'g', 'h', 'i', 'j', 'k', 'l', 'm', 'n', 'o', 'p', 'q', 'r', 's', 't', 'u', 'v', 'w', 'x', 'y', 'z', 'A', 'B', 'C', 'D', 'E', 'F', 'G', 'H', 'I', 'J', 'K', 'L', 'M', 'N', 'O', 'P', 'Q', 'R', 'S', 'T', 'U', 'V', 'W', 'X', 'Y', 'Z')\n",
      "Tuple created from string via list conversion: ('a', 'b', 'c', 'd', 'e', 'f', 'g', 'h', 'i', 'j', 'k', 'l', 'm', 'n', 'o', 'p', 'q', 'r', 's', 't', 'u', 'v', 'w', 'x', 'y', 'z', 'A', 'B', 'C', 'D', 'E', 'F', 'G', 'H', 'I', 'J', 'K', 'L', 'M', 'N', 'O', 'P', 'Q', 'R', 'S', 'T', 'U', 'V', 'W', 'X', 'Y', 'Z')\n"
     ]
    },
    {
     "data": {
      "text/plain": [
       "'\\nHow assert Works:\\nassert is used to test if a condition is True.\\nIf the condition evaluates to True, the program continues without any output.\\nIf the condition evaluates to False, an AssertionError is raised, optionally with a custom message.\\n'"
      ]
     },
     "execution_count": 29,
     "metadata": {},
     "output_type": "execute_result"
    }
   ],
   "source": [
    "\n",
    "## Comparing Tuple Creation Methods\n",
    "import string\n",
    "import sys\n",
    "\n",
    "s = string.ascii_letters  # A string of all alphabetic characters\n",
    "print(\"\\nString s (string.ascii_letters):\", s)\n",
    "\n",
    "## Convert string to tuple directly\n",
    "t_direct = tuple(s)\n",
    "print(\"\\nTuple created from string using tuple():\", t_direct)\n",
    "\n",
    "## Convert string to list, then to tuple\n",
    "t_list_to_tuple = tuple(list(s))\n",
    "print(\"Tuple created from string via list conversion:\", t_list_to_tuple)\n",
    "\n",
    "# Observation: Both methods produce identical tuples.\n",
    "assert t_direct == t_list_to_tuple, \"The tuples created from direct conversion and via list conversion should match!\"\n",
    "\n",
    "'''\n",
    "How assert Works:\n",
    "assert is used to test if a condition is True.\n",
    "If the condition evaluates to True, the program continues without any output.\n",
    "If the condition evaluates to False, an AssertionError is raised, optionally with a custom message.\n",
    "'''"
   ]
  },
  {
   "cell_type": "code",
   "execution_count": 32,
   "metadata": {},
   "outputs": [
    {
     "name": "stdout",
     "output_type": "stream",
     "text": [
      "Matching characters in list: ['e', 'm', 'i', 'n', 'e', 'm', 'i', 's', 'a', 'r', 'a', 'p', 'p', 'e', 'r', 'S', 'O', 'W', 'H', 'A', 'T']\n",
      "Matching characters in set: {'H', 'W', 'i', 'e', 'n', 'a', 'O', 'T', 'r', 's', 'p', 'S', 'm', 'A'}\n",
      "Matching characters in tuple: ('e', 'm', 'i', 'n', 'e', 'm', 'i', 's', 'a', 'r', 'a', 'p', 'p', 'e', 'r', 'S', 'O', 'W', 'H', 'A', 'T')\n"
     ]
    }
   ],
   "source": [
    "# Extract elements from random string present in tuple t\n",
    "\n",
    "import string\n",
    "\n",
    "# Define the random string\n",
    "random_string = 'eminem%is#a#rapper SO WHAT'\n",
    "\n",
    "# Initialize list, set, and tuple to store matching characters\n",
    "matching_chars_list = []\n",
    "matching_chars_set = set()\n",
    "matching_chars_tuple = ()  # Start with an empty tuple\n",
    "\n",
    "# Loop through each character in the random string\n",
    "for char in random_string:\n",
    "    if char in string.ascii_letters:  # Check if the character is an ASCII letter\n",
    "        matching_chars_list.append(char)  # Append to list\n",
    "        matching_chars_set.add(char)      # Add to set\n",
    "        matching_chars_tuple += (char,)   # Add to tuple by creating a new tuple\n",
    "\n",
    "print(\"Matching characters in list:\", matching_chars_list)\n",
    "print(\"Matching characters in set:\", matching_chars_set)\n",
    "print(\"Matching characters in tuple:\", matching_chars_tuple)\n",
    "\n",
    "\n"
   ]
  },
  {
   "cell_type": "code",
   "execution_count": 24,
   "metadata": {},
   "outputs": [
    {
     "name": "stdout",
     "output_type": "stream",
     "text": [
      "\n",
      "Memory Usage Comparison:\n",
      "Size of tuple_example: 120 bytes\n",
      "Size of list_example: 136 bytes\n",
      "\n",
      "Advantages of Tuples:\n",
      " \n",
      "Tuples in Python are immutable sequences, which makes them different from lists. Some key points to consider:\n",
      "1. **Immutability**: Once created, the elements of a tuple cannot be modified. This provides:\n",
      "   - Data integrity\n",
      "   - Easier debugging\n",
      "2. **Performance**: Tuples are faster than lists for similar operations because they are immutable.\n",
      "3. **Memory Usage**: Tuples generally use less memory than lists (for fixed-length collections).\n",
      "4. **Use Cases**:\n",
      "   - Storing fixed data: e.g., coordinates, database records.\n",
      "   - As keys in dictionaries (because they are hashable).\n",
      "\n"
     ]
    }
   ],
   "source": [
    "\n",
    "# Memory Usage Comparison\n",
    "tuple_example = tuple(range(10))\n",
    "list_example = list(range(10))\n",
    "tuple_size = sys.getsizeof(tuple_example)\n",
    "list_size = sys.getsizeof(list_example)\n",
    "\n",
    "print(\"\\nMemory Usage Comparison:\")\n",
    "print(f\"Size of tuple_example: {tuple_size} bytes\")\n",
    "print(f\"Size of list_example: {list_size} bytes\")\n",
    "\n",
    "\n",
    "# Why Use Tuples\n",
    "# Add extra information about the advantages and use cases of tuples\n",
    "advantages_of_tuples = \"\"\"\n",
    "Tuples in Python are immutable sequences, which makes them different from lists. Some key points to consider:\n",
    "1. **Immutability**: Once created, the elements of a tuple cannot be modified. This provides:\n",
    "   - Data integrity\n",
    "   - Easier debugging\n",
    "2. **Performance**: Tuples are faster than lists for similar operations because they are immutable.\n",
    "3. **Memory Usage**: Tuples generally use less memory than lists (for fixed-length collections).\n",
    "4. **Use Cases**:\n",
    "   - Storing fixed data: e.g., coordinates, database records.\n",
    "   - As keys in dictionaries (because they are hashable).\n",
    "\"\"\"\n",
    "\n",
    "print(\"\\nAdvantages of Tuples:\\n\", advantages_of_tuples)\n"
   ]
  },
  {
   "cell_type": "code",
   "execution_count": 21,
   "metadata": {},
   "outputs": [
    {
     "name": "stdout",
     "output_type": "stream",
     "text": [
      "Tuple t1: (1, 2, 3, 4, 5)\n",
      "First element of t1: 1\n",
      "Slice t1[1:4]: (2, 3, 4)\n",
      "Element: 1\n",
      "Element: 2\n",
      "Element: 3\n",
      "Element: 4\n",
      "Element: 5\n"
     ]
    }
   ],
   "source": [
    "\n",
    "## Creating and Accessing Tuples\n",
    "\n",
    "# Creating tuples\n",
    "t1 = (1, 2, 3, 4, 5)\n",
    "print(\"Tuple t1:\", t1)\n",
    "\n",
    "# Accessing elements\n",
    "print(\"First element of t1:\", t1[0])\n",
    "\n",
    "# Slicing\n",
    "print(\"Slice t1[1:4]:\", t1[1:4])\n",
    "\n",
    "# Iterating over a tuple\n",
    "for element in t1:\n",
    "    print(\"Element:\", element)\n"
   ]
  },
  {
   "cell_type": "code",
   "execution_count": null,
   "metadata": {},
   "outputs": [],
   "source": [
    "## Packing and Unpacking Tuples\n",
    "\n",
    "# Packing\n",
    "t2 = 10, 20, 30  # No need for parentheses\n",
    "print(\"Packed tuple t2:\", t2)\n",
    "\n",
    "# Unpacking\n",
    "a, b, c = t2\n",
    "print(\"Unpacked values:\", a, b, c)\n"
   ]
  },
  {
   "cell_type": "code",
   "execution_count": 23,
   "metadata": {},
   "outputs": [
    {
     "name": "stdout",
     "output_type": "stream",
     "text": [
      "Before swapping: x = 5 , y = 10\n",
      "After swapping: x = 10 , y = 5\n",
      "Error: 'tuple' object does not support item assignment\n"
     ]
    }
   ],
   "source": [
    "\n",
    "# Swapping values using tuples\n",
    "x, y = 5, 10\n",
    "print(\"Before swapping: x =\", x, \", y =\", y)\n",
    "x, y = y, x  # Swap values\n",
    "print(\"After swapping: x =\", x, \", y =\", y)\n",
    "\n",
    "t2 = 10, 20, 30\n",
    "\n",
    "## Immutability of Tuples\n",
    "# Trying to modify a tuple element\n",
    "try:\n",
    "    t2[0] = 100  # This will raise an error\n",
    "except TypeError as e:\n",
    "    print(\"Error:\", e)\n"
   ]
  },
  {
   "cell_type": "code",
   "execution_count": null,
   "metadata": {},
   "outputs": [],
   "source": [
    "\n",
    "# Tuples can contain mutable elements like lists\n",
    "t3 = (1, [2, 3], 4)\n",
    "print(\"Original tuple t3:\", t3)\n",
    "t3[1][0] = 99  # Modifying the list inside the tuple\n",
    "print(\"Modified tuple t3:\", t3)  # The list element changes\n",
    "\n"
   ]
  },
  {
   "cell_type": "code",
   "execution_count": null,
   "metadata": {},
   "outputs": [],
   "source": [
    "\n",
    "# Tuple methods\n",
    "t4 = (1, 2, 3, 2, 4, 2)\n",
    "print(\"Count of 2 in t4:\", t4.count(2))  # Count occurrences of 2\n",
    "print(\"Index of 3 in t4:\", t4.index(3))  # Find index of the first occurrence of 3\n"
   ]
  },
  {
   "cell_type": "code",
   "execution_count": 24,
   "metadata": {},
   "outputs": [
    {
     "name": "stdout",
     "output_type": "stream",
     "text": [
      "Minimum: 5 , Maximum: 40\n"
     ]
    }
   ],
   "source": [
    "\n",
    "## Practical Examples\n",
    "\n",
    "# Example: Returning multiple values from a function using tuples\n",
    "def min_max(numbers):\n",
    "    return min(numbers), max(numbers)\n",
    "\n",
    "nums = [10, 20, 5, 40, 30]\n",
    "min_val, max_val = min_max(nums)\n",
    "print(\"Minimum:\", min_val, \", Maximum:\", max_val)\n"
   ]
  },
  {
   "cell_type": "markdown",
   "metadata": {},
   "source": [
    "# DICTIONARY"
   ]
  },
  {
   "cell_type": "markdown",
   "metadata": {},
   "source": [
    "### **1. Introduction to Dictionaries**\n",
    "\n",
    "Dictionaries are key-value pairs used to store data efficiently.\n",
    "\n"
   ]
  },
  {
   "cell_type": "code",
   "execution_count": 1,
   "metadata": {},
   "outputs": [
    {
     "name": "stdout",
     "output_type": "stream",
     "text": [
      "Ajit\n"
     ]
    }
   ],
   "source": [
    "\n",
    "# Example: Basic Dictionary\n",
    "student = {\"name\": \"Ajit\", \"age\": 21, \"course\": \"Physics\"}\n",
    "\n",
    "### ** Accessing and Modifying Data**\n",
    "\n",
    "#### Access Elements:\n",
    "print(student[\"name\"])  # Output: Ajit\n",
    "\n",
    "#### Update and Add New Key-Value Pairs:\n",
    "\n",
    "student[\"age\"] = 22  # Update\n",
    "student[\"grade\"] = \"A\"  # Add\n",
    "\n"
   ]
  },
  {
   "cell_type": "code",
   "execution_count": 2,
   "metadata": {},
   "outputs": [
    {
     "name": "stdout",
     "output_type": "stream",
     "text": [
      "Ajit's email: ajit@example.com\n"
     ]
    }
   ],
   "source": [
    "\n",
    "#### **Employee Email Management**\n",
    "\n",
    "\n",
    "employee_emails = {\n",
    "    \"Sudarshan\": \"sudarshan@example.com\",\n",
    "    \"Ajit\": \"ajit@example.com\",\n",
    "    \"Supriya\": \"supriya@example.com\"\n",
    "}\n",
    "\n",
    "# Accessing Email\n",
    "print(f\"Ajit's email: {employee_emails['Ajit']}\")\n",
    "\n",
    "# Updating and Adding\n",
    "employee_emails[\"Supriya\"] = \"supriya.new@example.com\"\n",
    "employee_emails[\"Radhika\"] = \"radhika@example.com\"\n"
   ]
  },
  {
   "cell_type": "code",
   "execution_count": null,
   "metadata": {},
   "outputs": [],
   "source": [
    "\n",
    "# Iterating Through Dictionary\n",
    "for employee, email in employee_emails.items():\n",
    "    print(f\"{employee}: {email}\")\n",
    "\n",
    "# Removing Entries\n",
    "del employee_emails[\"Ajit\"]\n"
   ]
  },
  {
   "cell_type": "code",
   "execution_count": 3,
   "metadata": {},
   "outputs": [
    {
     "name": "stdout",
     "output_type": "stream",
     "text": [
      "Supriya's Marks: 92\n",
      "Ajit: 88\n",
      "Supriya: 92\n",
      "Radhika: 95\n"
     ]
    }
   ],
   "source": [
    "\n",
    "\n",
    "#### **Student Marks Management**\n",
    "\n",
    "\n",
    "student_marks = {\n",
    "    \"Sudarshan\": 85,\n",
    "    \"Ajit\": 78,\n",
    "    \"Supriya\": 92\n",
    "}\n",
    "\n",
    "# Accessing and Updating\n",
    "print(f\"Supriya's Marks: {student_marks['Supriya']}\")\n",
    "student_marks[\"Ajit\"] = 88\n",
    "\n",
    "# Adding New Entry\n",
    "student_marks[\"Radhika\"] = 95\n",
    "\n",
    "# Removing Entry\n",
    "del student_marks[\"Sudarshan\"]\n",
    "\n",
    "# Iterating Through Marks\n",
    "for student, marks in student_marks.items():\n",
    "    print(f\"{student}: {marks}\")\n"
   ]
  },
  {
   "cell_type": "code",
   "execution_count": null,
   "metadata": {},
   "outputs": [],
   "source": [
    "malgudi = {\n",
    "    \"Swami\": \"Malgudi Days\",\n",
    "    \"Raju\": \"The Guide\",\n",
    "    \"Chandran\": \"Bachelor of Arts\"\n",
    "}\n",
    "print(malgudi[\"Swami\"])  # Output: Malgudi Days\n",
    "\n"
   ]
  },
  {
   "cell_type": "code",
   "execution_count": null,
   "metadata": {},
   "outputs": [],
   "source": [
    "\n",
    "#### **Sherlock Holmes Word Count**\n",
    "\n",
    "\n",
    "sherlock_text = \"\"\"\n",
    "Mr. Sherlock Holmes, who was usually very late in the mornings, save upon those not infrequent occasions \n",
    "when he stayed up all night, was seated at the breakfast table. I stood upon the hearth-rug and picked up \n",
    "the stick which our visitor had left behind him.\n",
    "\"\"\"\n",
    "\n",
    "# Cleaning and Counting\n",
    "words = sherlock_text.lower().split()\n",
    "word_count = {}\n",
    "\n",
    "for word in words:\n",
    "    cleaned_word = word.strip(\",.\")\n",
    "    word_count[cleaned_word] = word_count.get(cleaned_word, 0) + 1\n",
    "\n",
    "print(\"Word Frequencies:\")\n",
    "for word, count in word_count.items():\n",
    "    print(f\"{word}: {count}\")\n"
   ]
  },
  {
   "cell_type": "markdown",
   "metadata": {},
   "source": [
    "\n",
    "\n",
    "### ** Dictionary Methods**\n",
    "\n",
    "- `get()`: Avoids KeyError.\n",
    "- `setdefault()`: Adds a default value.\n",
    "- `update()`: Merges dictionaries.\n",
    "- `pop()`: Removes and returns value.\n"
   ]
  },
  {
   "cell_type": "code",
   "execution_count": null,
   "metadata": {},
   "outputs": [],
   "source": [
    "\n",
    "# Example of `get()`:\n",
    "print(employee_emails.get(\"Ajit\", \"Email not found\"))\n",
    "\n",
    "# Example of `update()`:\n",
    "new_emails = {\"Kavish\": \"kavish@example.com\"}\n",
    "employee_emails.update(new_emails)\n"
   ]
  },
  {
   "cell_type": "code",
   "execution_count": null,
   "metadata": {},
   "outputs": [],
   "source": [
    "\n",
    "\n",
    "### ** Nested Dictionaries**\n",
    "\n",
    "\n",
    "class_data = {\n",
    "    \"student1\": {\"name\": \"Alice\", \"age\": 20},\n",
    "    \"student2\": {\"name\": \"Bob\", \"age\": 22}\n",
    "}\n",
    "\n",
    "print(class_data[\"student1\"][\"name\"])  # Output: Alice\n"
   ]
  },
  {
   "cell_type": "code",
   "execution_count": null,
   "metadata": {},
   "outputs": [],
   "source": [
    "#### **Counting Characters**\n",
    "\n",
    "word = \"malgudi\"\n",
    "char_count = {}\n",
    "\n",
    "for char in word:\n",
    "    char_count[char] = char_count.get(char, 0) + 1\n",
    "\n",
    "print(char_count)\n"
   ]
  },
  {
   "cell_type": "code",
   "execution_count": null,
   "metadata": {},
   "outputs": [],
   "source": [
    "\n",
    "\n",
    "#### **Grouping Data**\n",
    "students = [(\"Ajit\", \"A\"), (\"Sudarshan\", \"B\"), (\"Ajit\", \"B\")]\n",
    "\n",
    "grouped = {}\n",
    "for name, grade in students:\n",
    "    grouped.setdefault(name, []).append(grade)\n",
    "\n",
    "print(grouped)\n",
    "\n"
   ]
  },
  {
   "cell_type": "code",
   "execution_count": null,
   "metadata": {},
   "outputs": [],
   "source": [
    "\n",
    "### ** Dictionary Comprehensions**\n",
    "\n",
    "\n",
    "squares = {x: x**2 for x in range(1, 6)}\n",
    "print(squares)\n",
    "\n"
   ]
  },
  {
   "cell_type": "code",
   "execution_count": null,
   "metadata": {},
   "outputs": [],
   "source": [
    "\n",
    "### ** Sorting Dictionaries**\n",
    "\n",
    "\n",
    "unsorted_dict = {\"b\": 3, \"a\": 1, \"c\": 2}\n",
    "sorted_dict = dict(sorted(unsorted_dict.items()))\n",
    "print(sorted_dict)\n"
   ]
  },
  {
   "cell_type": "code",
   "execution_count": 4,
   "metadata": {},
   "outputs": [],
   "source": [
    "\n",
    "### ** Practical Applications**\n",
    "\n",
    "#### **Email Verification**\n",
    "\n",
    "for name, email in employee_emails.items():\n",
    "    if \"@example.com\" not in email:\n",
    "        print(f\"{name}'s email is not valid.\")\n"
   ]
  },
  {
   "cell_type": "code",
   "execution_count": null,
   "metadata": {},
   "outputs": [],
   "source": [
    "\n",
    "#### ** Iterating Over a Dictionary**\n",
    "\n",
    "##### **Example: Iterating Through Keys**\n",
    "\n",
    "employee_data = {\"Sudarshan\": 30, \"Ajit\": 25, \"Supriya\": 28}\n",
    "\n",
    "print(\"Iterating over keys:\")\n",
    "for key in employee_data:\n",
    "    print(key)\n"
   ]
  },
  {
   "cell_type": "code",
   "execution_count": null,
   "metadata": {},
   "outputs": [],
   "source": [
    "\n",
    "\n",
    "##### **Example: Iterating Through Values**\n",
    "\n",
    "print(\"\\nIterating over values:\")\n",
    "for value in employee_data.values():\n",
    "    print(value)\n",
    "\n",
    "\n",
    "##### **Example: Iterating Through Key-Value Pairs**\n",
    "\n",
    "print(\"\\nIterating over key-value pairs:\")\n",
    "for key, value in employee_data.items():\n",
    "    print(f\"{key}: {value}\")\n"
   ]
  },
  {
   "cell_type": "code",
   "execution_count": null,
   "metadata": {},
   "outputs": [],
   "source": [
    "\n",
    "#### **. Dictionary Methods**\n",
    "\n",
    "\n",
    "##### **`.keys()` Method**\n",
    "#Returns all the keys in the dictionary.\n",
    "\n",
    "print(employee_data.keys())  # Output: dict_keys(['Sudarshan', 'Ajit', 'Supriya'])\n"
   ]
  },
  {
   "cell_type": "code",
   "execution_count": null,
   "metadata": {},
   "outputs": [],
   "source": [
    "\n",
    "\n",
    "##### **`.values()` Method** Returns all the values in the dictionary.\n",
    "\n",
    "print(employee_data.values())  # Output: dict_values([30, 25, 28])\n"
   ]
  },
  {
   "cell_type": "code",
   "execution_count": null,
   "metadata": {},
   "outputs": [],
   "source": [
    "\n",
    "\n",
    "##### **`.items()` Method** Returns a view object of key-value pairs.\n",
    "\n",
    "\n",
    "print(employee_data.items())  # Output: dict_items([('Sudarshan', 30), ('Ajit', 25), ('Supriya', 28)])\n"
   ]
  },
  {
   "cell_type": "markdown",
   "metadata": {},
   "source": [
    "\n",
    "\n",
    "#### **. What Can Be a Dictionary Key?**\n",
    "\n",
    "A dictionary key must be:\n",
    "1. **Immutable** (cannot be changed after creation).\n",
    "2. **Hashable** (able to produce a unique hash).\n",
    "\n",
    "**Allowed Types for Keys:**\n",
    "- Strings\n",
    "- Numbers (integers, floats)\n",
    "- Tuples (if they contain only immutable elements)\n",
    "\n",
    "---\n"
   ]
  },
  {
   "cell_type": "code",
   "execution_count": null,
   "metadata": {},
   "outputs": [],
   "source": [
    "\n",
    "##### **Example: Valid Keys**\n",
    "\n",
    "valid_dict = {\n",
    "    \"name\": \"Alice\",\n",
    "    42: \"Answer to everything\",\n",
    "    (1, 2): \"Tuple as key\"\n",
    "}\n",
    "print(valid_dict)\n"
   ]
  },
  {
   "cell_type": "code",
   "execution_count": null,
   "metadata": {},
   "outputs": [],
   "source": [
    "\n",
    "##### **Example: Invalid Keys**\n",
    "\n",
    "# Unhashable types like lists cannot be keys\n",
    "invalid_dict = {\n",
    "    [1, 2, 3]: \"This will raise an error\"\n",
    "}\n",
    "\n"
   ]
  },
  {
   "cell_type": "markdown",
   "metadata": {},
   "source": [
    "\n",
    "#### **. What Can Be Used as Dictionary Values?**\n",
    "\n",
    "Dictionary values can be **any type of object**, including:\n",
    "- Integers, floats\n",
    "- Strings\n",
    "- Lists\n",
    "- Other dictionaries\n",
    "- Objects\n",
    "\n",
    "---\n"
   ]
  },
  {
   "cell_type": "code",
   "execution_count": null,
   "metadata": {},
   "outputs": [],
   "source": [
    "\n",
    "##### **Example:**\n",
    "\n",
    "data = {\n",
    "    \"number\": 42,\n",
    "    \"string\": \"Hello\",\n",
    "    \"list\": [1, 2, 3],\n",
    "    \"dict\": {\"nested_key\": \"nested_value\"}\n",
    "}\n",
    "print(data)\n",
    "\n"
   ]
  },
  {
   "cell_type": "code",
   "execution_count": null,
   "metadata": {},
   "outputs": [],
   "source": [
    "\n",
    "#### ** Call by Reference**\n",
    "\n",
    "#Python uses a **call by reference** approach for mutable objects (like dictionaries).\n",
    "# When you pass a dictionary to a function, changes made inside the function will reflect outside.\n",
    "\n",
    "\n",
    "\n",
    "##### **Example: Call by Reference**\n",
    "\n",
    "def modify_dict(d):\n",
    "    d[\"new_key\"] = \"new_value\"\n",
    "\n",
    "my_dict = {\"original_key\": \"original_value\"}\n",
    "print(\"Before modification:\", my_dict)\n",
    "\n",
    "modify_dict(my_dict)\n",
    "print(\"After modification:\", my_dict)\n"
   ]
  },
  {
   "cell_type": "markdown",
   "metadata": {},
   "source": [
    "\n",
    "\n",
    "#### ** Understanding Hashable and Immutable Keys**\n",
    "\n",
    "A key is hashable if its hash value never changes during its lifetime.\n",
    "\n",
    "- **Immutable objects (like strings and tuples)** are hashable.\n",
    "- **Mutable objects (like lists)** are not hashable.\n",
    "\n",
    "---\n"
   ]
  },
  {
   "cell_type": "code",
   "execution_count": 5,
   "metadata": {},
   "outputs": [
    {
     "name": "stdout",
     "output_type": "stream",
     "text": [
      "-7632192863078008806\n",
      "529344067295497451\n"
     ]
    }
   ],
   "source": [
    "\n",
    "##### **Hashability Check**\n",
    "\n",
    "key1 = \"immutable string\"\n",
    "key2 = (1, 2, 3)  # Tuple\n",
    "key3 = [1, 2, 3]  # List\n",
    "\n",
    "print(hash(key1))  # This works\n",
    "print(hash(key2))  # This works\n",
    "# print(hash(key3))  # This will raise a TypeError\n",
    "\n",
    "\n"
   ]
  },
  {
   "cell_type": "markdown",
   "metadata": {},
   "source": [
    "\n",
    "### **Jupyter Notebook: Functional Programming, Sorting, and Matrix Multiplication**\n",
    "\n",
    "\n",
    "#### ** Introduction**\n",
    "- **Recap of Obvious Sort**: A basic sorting technique revisited with a modular approach.\n",
    "- **Functional Programming**:\n",
    "  - Breaking down complex problems into smaller, reusable functions.\n",
    "  - Benefits include easier debugging, testing, and understanding.\n",
    "\n",
    "---\n"
   ]
  },
  {
   "cell_type": "code",
   "execution_count": null,
   "metadata": {},
   "outputs": [],
   "source": [
    "\n",
    "#### ** Revisiting the 'Obvious Sort' Algorithm**\n",
    "\n",
    "##### **Step 1: Basic Obvious Sort**\n",
    "\n",
    "def obvious_sort(lst):\n",
    "    sorted_list = []\n",
    "    while len(lst) > 0:\n",
    "        minimum = min(lst)\n",
    "        sorted_list.append(minimum)\n",
    "        lst.remove(minimum)\n",
    "    return sorted_list\n",
    "\n",
    "# Example usage\n",
    "unsorted_list = [9, 0, 2, 3]\n",
    "print(\"Sorted list:\", obvious_sort(unsorted_list))\n"
   ]
  },
  {
   "cell_type": "code",
   "execution_count": null,
   "metadata": {},
   "outputs": [],
   "source": [
    "\n",
    "\n",
    "#### ** Modular Approach: Breaking Down the Sorting Algorithm**\n",
    "\n",
    "**Task 1: Find Minimum**\n",
    "\n",
    "def find_minimum(lst):\n",
    "    minimum = lst[0]\n",
    "    for item in lst:\n",
    "        if item < minimum:\n",
    "            minimum = item\n",
    "    return minimum\n",
    "\n",
    "\n",
    "**Task 2: Refactor Sorting**\n",
    "\n",
    "def obvious_sort_refactored(lst):\n",
    "    sorted_list = []\n",
    "    while len(lst) > 0:\n",
    "        minimum = find_minimum(lst)\n",
    "        sorted_list.append(minimum)\n",
    "        lst.remove(minimum)\n",
    "    return sorted_list\n",
    "\n",
    "# Example usage\n",
    "print(\"Sorted list (Refactored):\", obvious_sort_refactored([9, 0, 2, 3]))\n"
   ]
  },
  {
   "cell_type": "code",
   "execution_count": null,
   "metadata": {},
   "outputs": [],
   "source": [
    "\n",
    "\n",
    "#### ** Debugging: Learning from Mistakes**\n",
    "\n",
    "- **Common Error Example**:\n",
    "\n",
    "def obvious_sort(lst):\n",
    "    sorted_list = []\n",
    "    while len(lst) > 0:\n",
    "        minimum = min(lst)\n",
    "        sorted_list.append(minimum)\n",
    "        lst.remove(minimum)\n",
    "    return lst  # Mistake: Should return sorted_list\n",
    "\n",
    "# Corrected:\n",
    "# return sorted_list\n",
    "\n",
    "#- Lesson: Always double-check return values.\n"
   ]
  },
  {
   "cell_type": "code",
   "execution_count": null,
   "metadata": {},
   "outputs": [],
   "source": [
    "#### ** Functional Approach to Matrix Multiplication**\n",
    "\n",
    "- Matrix multiplication can also be simplified using modular programming.\n",
    "\n",
    "**Matrix Multiplication Function:**\n",
    "\n",
    "def matrix_multiply(A, B):\n",
    "    result = [[0 for _ in range(len(B[0]))] for _ in range(len(A))]\n",
    "    for i in range(len(A)):\n",
    "        for j in range(len(B[0])):\n",
    "            for k in range(len(B)):\n",
    "                result[i][j] += A[i][k] * B[k][j]\n",
    "    return result\n",
    "\n",
    "# Example usage\n",
    "A = [[1, 2], [3, 4]]\n",
    "B = [[5, 6], [7, 8]]\n",
    "print(\"Resultant Matrix:\", matrix_multiply(A, B))\n"
   ]
  },
  {
   "cell_type": "code",
   "execution_count": null,
   "metadata": {},
   "outputs": [],
   "source": [
    "\n",
    "\n",
    "#### ** Call by Reference vs. Call by Value**\n",
    "\n",
    "- **Python Lists are Passed by Reference**:\n",
    "\n",
    "def modify_list(lst):\n",
    "    lst.append(100)\n",
    "\n",
    "my_list = [1, 2, 3]\n",
    "modify_list(my_list)\n",
    "print(my_list)  # Output: [1, 2, 3, 100]\n",
    "\n",
    "- Strings and integers, on the other hand, are immutable and act like \"call by value.\"\n",
    "\n"
   ]
  },
  {
   "cell_type": "code",
   "execution_count": null,
   "metadata": {},
   "outputs": [],
   "source": [
    "\n",
    "\n",
    "#### ** Exploring Dictionary Methods**\n",
    "\n",
    "- **Iteration and Methods:**\n",
    "\n",
    "sample_dict = {\"a\": 1, \"b\": 2, \"c\": 3}\n",
    "\n",
    "# Keys\n",
    "print(\"Keys:\", sample_dict.keys())\n",
    "\n",
    "# Values\n",
    "print(\"Values:\", sample_dict.values())\n",
    "\n",
    "# Items\n",
    "print(\"Items:\", sample_dict.items())\n",
    "\n",
    "# Iteration Example:\n",
    "for key, value in sample_dict.items():\n",
    "    print(f\"{key}: {value}\")\n",
    "\n",
    "\n"
   ]
  },
  {
   "cell_type": "markdown",
   "metadata": {},
   "source": [
    "### Matrix Multiplication**\n"
   ]
  },
  {
   "cell_type": "code",
   "execution_count": 10,
   "metadata": {},
   "outputs": [
    {
     "name": "stdout",
     "output_type": "stream",
     "text": [
      "Resultant Matrix C: [[19, 22], [43, 50]]\n"
     ]
    }
   ],
   "source": [
    "\n",
    "\n",
    "#### ** Manual Matrix Multiplication in Python**\n",
    "\n",
    "##### **Step 1: Initialize Matrices**\n",
    "A = [[1, 2],\n",
    "     [3, 4]]\n",
    "\n",
    "B = [[5, 6],\n",
    "     [7, 8]]\n",
    "\n",
    "# Result matrix with zeros\n",
    "result = [[0 for _ in range(len(B[0]))] for _ in range(len(A))]\n",
    "\n",
    "##### **Step 2: Compute Dot Product**\n",
    "\n",
    "for i in range(len(A)):  # Iterate over rows of A\n",
    "    for j in range(len(B[0])):  # Iterate over columns of B\n",
    "        for k in range(len(B)):  # Iterate over elements in row of A and column of B\n",
    "            result[i][j] += A[i][k] * B[k][j]\n",
    "\n",
    "print(\"Resultant Matrix C:\", result)\n",
    "\n"
   ]
  },
  {
   "cell_type": "code",
   "execution_count": 13,
   "metadata": {},
   "outputs": [
    {
     "name": "stdout",
     "output_type": "stream",
     "text": [
      "Matrix C (Product of A and B):\n",
      "[30, 24, 18]\n",
      "[84, 69, 54]\n",
      "[138, 114, 90]\n"
     ]
    }
   ],
   "source": [
    "\n",
    "\n",
    "#### ** Refactoring with Functions**\n",
    "\n",
    "#**Step 1: Define a Function for Matrix Multiplication**\n",
    "\n",
    "def matrix_multiply(A, B):\n",
    "    # Validate matrices for multiplication\n",
    "    if len(A[0]) != len(B):\n",
    "        raise ValueError(\"Number of columns in A must equal number of rows in B.\")\n",
    "    \n",
    "    result = [[0 for _ in range(len(B[0]))] for _ in range(len(A))]\n",
    "    \n",
    "    for i in range(len(A)):\n",
    "        for j in range(len(B[0])):\n",
    "            for k in range(len(B)):\n",
    "                result[i][j] += A[i][k] * B[k][j]\n",
    "                \n",
    "    return result\n",
    "\n",
    "\n",
    "#**Step 2: Example Usage**\n",
    "\n",
    "A = [[1, 2, 3],\n",
    "     [4, 5, 6],\n",
    "     [7, 8, 9]]\n",
    "\n",
    "B = [[9, 8, 7],\n",
    "     [6, 5, 4],\n",
    "     [3, 2, 1]]\n",
    "\n",
    "C = matrix_multiply(A, B)\n",
    "print(\"Matrix C (Product of A and B):\")\n",
    "for row in C:\n",
    "    print(row)\n"
   ]
  },
  {
   "cell_type": "markdown",
   "metadata": {},
   "source": [
    "\n",
    "\n",
    "#### ** Debugging Common Errors**\n",
    "\n",
    "- **Dimension Mismatch**:\n",
    "```python\n",
    "A = [[1, 2], [3, 4]]\n",
    "B = [[5, 6]]  # Incorrect dimensions for multiplication\n",
    "\n",
    "# This will raise a ValueError\n",
    "matrix_multiply(A, B)\n",
    "```\n",
    "\n",
    "- **Logic Error**: Forgetting to reset intermediate values for each computation in the nested loop.\n",
    "\n",
    "---\n",
    "\n",
    "#### ** Insights from the Lecture**\n",
    "\n",
    "- **Row and Column Notation**:\n",
    "  - Use Python’s 0-indexing carefully when navigating rows and columns.\n",
    "  \n",
    "- **Visualizing Matrix Operations**:\n",
    "  - Highlighting which rows/columns correspond to specific entries in \\(C\\).\n",
    "  - Example: Entry \\(C[1][1]\\) = Dot product of the second row of \\(A\\) and the second column of \\(B\\).\n",
    "\n",
    "---\n",
    "\n"
   ]
  },
  {
   "cell_type": "code",
   "execution_count": null,
   "metadata": {},
   "outputs": [],
   "source": [
    "Here is the comprehensive content formatted for a Jupyter Notebook, incorporating the lecture content and examples. Each section is divided into cells to facilitate step-by-step learning and execution.\n",
    "\n",
    "---\n",
    "\n",
    "```markdown\n",
    "# Matrix Multiplication: Comprehensive Guide\n",
    "\n",
    "## Introduction\n",
    "Matrix multiplication is a core concept in linear algebra. This notebook will walk through:\n",
    "- Manual computation of matrix multiplication.\n",
    "- Python implementation from first principles.\n",
    "- Verification using NumPy.\n",
    "\n",
    "## Matrix Definitions\n",
    "\n",
    "Let's define two matrices, \\(A\\) and \\(B\\).\n",
    "\n",
    "**Matrix A**:\n",
    "\\[\n",
    "A = \\begin{bmatrix}\n",
    "1 & 2 & 3 \\\\\n",
    "4 & 5 & 6 \\\\\n",
    "7 & 8 & 9\n",
    "\\end{bmatrix}\n",
    "\\]\n",
    "\n",
    "**Matrix B**:\n",
    "\\[\n",
    "B = \\begin{bmatrix}\n",
    "1 & 2 & 1 \\\\\n",
    "6 & 2 & 3 \\\\\n",
    "4 & 2 & 1\n",
    "\\end{bmatrix}\n",
    "\\]\n",
    "\n",
    "The objective is to calculate the product \\(C = A \\times B\\).\n",
    "```\n",
    "\n",
    "---\n",
    "\n",
    "```python\n",
    "# Define matrices A and B\n",
    "A = [[1, 2, 3], \n",
    "     [4, 5, 6], \n",
    "     [7, 8, 9]]\n",
    "\n",
    "B = [[1, 2, 1], \n",
    "     [6, 2, 3], \n",
    "     [4, 2, 1]]\n",
    "```\n",
    "\n",
    "---\n",
    "\n",
    "```markdown\n",
    "## Manual Calculation Example\n",
    "\n",
    "To calculate \\(C[0][0]\\):\n",
    "\n",
    "\\[\n",
    "C[0][0] = (1 \\times 1) + (2 \\times 6) + (3 \\times 4) = 1 + 12 + 12 = 25\n",
    "\\]\n",
    "\n",
    "### General Formula for Matrix Multiplication\n",
    "For each element \\(C[i][j]\\) in matrix \\(C\\):\n",
    "\\[\n",
    "C[i][j] = \\sum_{k=0}^{n-1} A[i][k] \\times B[k][j]\n",
    "\\]\n",
    "```\n",
    "\n",
    "---\n",
    "\n",
    "```python\n",
    "# Initialize an empty 3x3 result matrix C\n",
    "dim = 3  # Dimension of the matrices\n",
    "C = [[0 for _ in range(dim)] for _ in range(dim)]\n",
    "\n",
    "# Perform matrix multiplication using nested loops\n",
    "for i in range(dim):\n",
    "    for j in range(dim):\n",
    "        for k in range(dim):\n",
    "            C[i][j] += A[i][k] * B[k][j]\n",
    "\n",
    "# Display the resultant matrix C\n",
    "print(\"Resultant Matrix C:\")\n",
    "for row in C:\n",
    "    print(row)\n",
    "```\n",
    "\n",
    "---\n",
    "\n",
    "```markdown\n",
    "## Verifying Results Using NumPy\n",
    "\n",
    "To verify our results, we will use the NumPy library, which simplifies matrix operations.\n",
    "```\n",
    "\n",
    "---\n",
    "\n",
    "```python\n",
    "# Import NumPy and define matrices\n",
    "import numpy as np\n",
    "\n",
    "A_np = np.matrix(A)\n",
    "B_np = np.matrix(B)\n",
    "\n",
    "# Calculate the product using NumPy\n",
    "C_np = A_np * B_np\n",
    "\n",
    "print(\"Matrix C using NumPy:\")\n",
    "print(C_np)\n",
    "```\n",
    "\n",
    "---\n",
    "\n",
    "```markdown\n",
    "## Key Takeaways\n",
    "\n",
    "1. **Dot Product**: The essence of matrix multiplication is calculating dot products between rows of \\(A\\) and columns of \\(B\\).\n",
    "2. **Looping Logic**: The manual approach involves three nested loops to compute each entry of the result matrix.\n",
    "3. **Verification**: Libraries like NumPy simplify the process, but understanding the manual approach provides deeper insight.\n",
    "\n",
    "## Practice Tip\n",
    "- Rewrite the code from scratch multiple times to internalize the process.\n",
    "- Use forums or communities to clarify doubts and improve understanding.\n",
    "\n",
    "## Conclusion\n",
    "Matrix multiplication may seem complex at first, but with practice and understanding of first principles, it becomes intuitive. Leverage libraries for efficiency but never skip the foundational concepts.\n",
    "```\n",
    "\n",
    "---\n",
    "\n",
    "Copy this content into your Jupyter Notebook, and execute the cells step-by-step. Let me know if you need further adjustments!"
   ]
  },
  {
   "cell_type": "code",
   "execution_count": null,
   "metadata": {},
   "outputs": [],
   "source": [
    "Here’s the revised and comprehensive Jupyter Notebook content based on the lecture, ensuring no points are missed:\n",
    "\n",
    "---\n",
    "\n",
    "```markdown\n",
    "# Matrix Multiplication Using Functions\n",
    "\n",
    "## Introduction\n",
    "In this session, we'll explore matrix multiplication by encapsulating its logic within reusable functions. The goal is to develop a deep understanding of matrix operations and learn to implement them efficiently.\n",
    "\n",
    "## Objectives\n",
    "- Understand the mathematical concept of matrix multiplication.\n",
    "- Implement a function-based approach for matrix multiplication.\n",
    "- Validate results using NumPy.\n",
    "- Reinforce the understanding of indexing and looping in Python.\n",
    "```\n",
    "\n",
    "---\n",
    "\n",
    "```markdown\n",
    "## 1. Recap: Manual Matrix Multiplication\n",
    "\n",
    "Matrix multiplication involves taking the dot product of rows from matrix \\(A\\) and columns from matrix \\(B\\).\n",
    "\n",
    "### Formula for Matrix Multiplication:\n",
    "Given matrices \\(A\\) (of size \\(m \\times n\\)) and \\(B\\) (of size \\(n \\times p\\)), the resultant matrix \\(C\\) (of size \\(m \\times p\\)) has elements:\n",
    "\\[\n",
    "C[i][j] = \\sum_{k=0}^{n-1} A[i][k] \\times B[k][j]\n",
    "\\]\n",
    "\n",
    "### Important Points:\n",
    "- **Row from \\(A\\)**: Select a row.\n",
    "- **Column from \\(B\\)**: Select a column.\n",
    "- **Dot Product**: Multiply corresponding elements and sum them.\n",
    "```\n",
    "\n",
    "---\n",
    "\n",
    "```markdown\n",
    "## 2. Function Implementation\n",
    "\n",
    "We will write modular functions to handle each part of the matrix multiplication process.\n",
    "\n",
    "### Functions:\n",
    "1. **Dot Product**: Compute the dot product of a row and a column.\n",
    "2. **Matrix Multiplication**: Use the dot product function to fill the resultant matrix.\n",
    "```\n",
    "\n",
    "---\n",
    "\n",
    "```python\n",
    "# Function to compute the dot product\n",
    "def dot_product(row, col):\n",
    "    \"\"\"\n",
    "    Computes the dot product of a row vector and a column vector.\n",
    "\n",
    "    Args:\n",
    "    row (list): A list representing a row vector.\n",
    "    col (list): A list representing a column vector.\n",
    "\n",
    "    Returns:\n",
    "    int: Dot product of the row and column.\n",
    "    \"\"\"\n",
    "    return sum(r * c for r, c in zip(row, col))\n",
    "```\n",
    "\n",
    "---\n",
    "\n",
    "```python\n",
    "# Function to multiply matrices\n",
    "def matrix_multiply(A, B):\n",
    "    \"\"\"\n",
    "    Multiplies two matrices A and B.\n",
    "\n",
    "    Args:\n",
    "    A (list of lists): Matrix A with dimensions m x n.\n",
    "    B (list of lists): Matrix B with dimensions n x p.\n",
    "\n",
    "    Returns:\n",
    "    list of lists: Resultant matrix C with dimensions m x p.\n",
    "    \"\"\"\n",
    "    # Transpose matrix B to access its columns easily\n",
    "    B_transposed = list(zip(*B))\n",
    "    \n",
    "    # Initialize result matrix with zeros\n",
    "    result = [[0 for _ in range(len(B[0]))] for _ in range(len(A))]\n",
    "    \n",
    "    # Compute each element of the result matrix\n",
    "    for i in range(len(A)):\n",
    "        for j in range(len(B[0])):\n",
    "            result[i][j] = dot_product(A[i], B_transposed[j])\n",
    "    \n",
    "    return result\n",
    "```\n",
    "\n",
    "---\n",
    "\n",
    "```markdown\n",
    "## 3. Example Walkthrough\n",
    "\n",
    "We will now demonstrate matrix multiplication using two 3x3 matrices.\n",
    "```\n",
    "\n",
    "---\n",
    "\n",
    "```python\n",
    "# Define matrices A and B\n",
    "A = [[1, 2, 3], \n",
    "     [4, 5, 6], \n",
    "     [7, 8, 9]]\n",
    "\n",
    "B = [[1, 2, 1], \n",
    "     [6, 2, 3], \n",
    "     [4, 2, 1]]\n",
    "\n",
    "# Multiply matrices using the defined function\n",
    "C = matrix_multiply(A, B)\n",
    "\n",
    "# Display the resultant matrix\n",
    "print(\"Resultant Matrix C:\")\n",
    "for row in C:\n",
    "    print(row)\n",
    "```\n",
    "\n",
    "---\n",
    "\n",
    "```markdown\n",
    "## 4. Validation with NumPy\n",
    "\n",
    "NumPy provides an efficient way to handle matrix operations. Let's verify our implementation.\n",
    "```\n",
    "\n",
    "---\n",
    "\n",
    "```python\n",
    "# Import NumPy for validation\n",
    "import numpy as np\n",
    "\n",
    "# Convert lists to NumPy matrices\n",
    "A_np = np.array(A)\n",
    "B_np = np.array(B)\n",
    "\n",
    "# Compute matrix multiplication using NumPy\n",
    "C_np = np.matmul(A_np, B_np)\n",
    "\n",
    "print(\"Matrix C using NumPy:\")\n",
    "print(C_np)\n",
    "```\n",
    "\n",
    "---\n",
    "\n",
    "```markdown\n",
    "## 5. Debugging Tips and Insights from the Lecture\n",
    "\n",
    "### Common Mistakes:\n",
    "- **Index Errors**: Ensure loops iterate correctly over the dimensions.\n",
    "- **Initialization Issues**: Always initialize the result matrix with zeros.\n",
    "- **Understanding Dot Product**: Double-check how rows and columns are combined.\n",
    "\n",
    "### Tips from Lecture:\n",
    "- Break down the problem step-by-step.\n",
    "- Visualize row and column interactions.\n",
    "- Use manual checks for smaller matrices to validate your logic.\n",
    "```\n",
    "\n",
    "---\n",
    "\n",
    "```markdown\n",
    "## 6. Exploring Advanced Verification\n",
    "\n",
    "### Using NumPy's `@` Operator:\n",
    "For matrix multiplication, NumPy also allows using the `@` operator for brevity.\n",
    "```\n",
    "\n",
    "---\n",
    "\n",
    "```python\n",
    "# Validate using the @ operator\n",
    "C_np_alt = A_np @ B_np\n",
    "\n",
    "print(\"Matrix C using NumPy (@ operator):\")\n",
    "print(C_np_alt)\n",
    "```\n",
    "\n",
    "---\n",
    "\n",
    "```markdown\n",
    "## 7. Summary and Reflection\n",
    "\n",
    "### Key Takeaways:\n",
    "- **Modularity**: Functions improve readability and reusability.\n",
    "- **Step-by-Step Approach**: Breaking tasks into smaller functions simplifies complex problems.\n",
    "- **Validation**: Always verify manual implementations with reliable tools like NumPy.\n",
    "\n",
    "### Next Steps:\n",
    "- Explore performance improvements using NumPy.\n",
    "- Practice with larger matrices and optimize your functions.\n",
    "```\n",
    "\n",
    "---\n",
    "\n",
    "This comprehensive notebook includes all points from the lecture, ensuring every detail is captured. Let me know if you need any additional enhancements!"
   ]
  },
  {
   "cell_type": "code",
   "execution_count": null,
   "metadata": {},
   "outputs": [],
   "source": []
  },
  {
   "cell_type": "code",
   "execution_count": null,
   "metadata": {},
   "outputs": [],
   "source": [
    "To ensure I capture **everything** from the lecture and nothing is left behind, I'll do a thorough review and provide the final, comprehensive content based on the file you uploaded.\n",
    "\n",
    "Here is the **detailed explanation** of Iterators and Generators, along with any additional concepts discussed in the lecture:\n",
    "\n",
    "---\n",
    "\n",
    "# Iterators and Generators in Python: Comprehensive Guide\n",
    "\n",
    "### **1. Introduction to Iterators**\n",
    "- An **iterator** is an object that allows traversal through all elements in a collection, such as lists or tuples, without exposing its underlying structure.\n",
    "- **Key Methods**:\n",
    "  - `__iter__()` : Returns the iterator object itself.\n",
    "  - `__next__()` : Returns the next value in the sequence. Raises `StopIteration` when no items are left.\n",
    "\n",
    "### **2. How Iterators Work**\n",
    "- Any object implementing both `__iter__()` and `__next__()` is considered an iterator.\n",
    "- Iterators are consumed one value at a time and are inherently **stateful**.\n",
    "\n",
    "### **Example**:\n",
    "```python\n",
    "my_list = [1, 2, 3]\n",
    "iterator = iter(my_list)  # Get iterator\n",
    "print(next(iterator))  # Output: 1\n",
    "print(next(iterator))  # Output: 2\n",
    "print(next(iterator))  # Output: 3\n",
    "print(next(iterator))  # Raises StopIteration\n",
    "```\n",
    "\n",
    "---\n",
    "\n",
    "### **3. Custom Iterator Implementation**\n",
    "You can create your own iterator by defining `__iter__()` and `__next__()`.\n",
    "\n",
    "```python\n",
    "class MyIterator:\n",
    "    def __init__(self, start, end):\n",
    "        self.current = start\n",
    "        self.end = end\n",
    "    \n",
    "    def __iter__(self):\n",
    "        return self  # Returns the iterator object itself\n",
    "    \n",
    "    def __next__(self):\n",
    "        if self.current >= self.end:\n",
    "            raise StopIteration  # End of iteration\n",
    "        else:\n",
    "            self.current += 1\n",
    "            return self.current - 1\n",
    "\n",
    "# Using custom iterator\n",
    "for val in MyIterator(1, 5):\n",
    "    print(val)  # Output: 1, 2, 3, 4\n",
    "```\n",
    "\n",
    "---\n",
    "\n",
    "### **4. Generators: A Simplified Approach**\n",
    "- **Generators** are special iterators defined using functions and the `yield` statement.\n",
    "- Instead of returning a value and terminating like `return`, `yield` pauses the function and saves its state for the next invocation.\n",
    "\n",
    "### **Benefits of Generators**:\n",
    "- **Memory Efficiency**: Produces values lazily, one at a time, without holding the entire sequence in memory.\n",
    "- **Concise Syntax**: Simplifies iterator implementation.\n",
    "\n",
    "### **Example**:\n",
    "```python\n",
    "def simple_generator():\n",
    "    yield 1\n",
    "    yield 2\n",
    "    yield 3\n",
    "\n",
    "gen = simple_generator()\n",
    "print(next(gen))  # Output: 1\n",
    "print(next(gen))  # Output: 2\n",
    "print(next(gen))  # Output: 3\n",
    "```\n",
    "\n",
    "---\n",
    "\n",
    "### **5. Generator Expressions**\n",
    "- A concise way to create generators using a syntax similar to list comprehensions.\n",
    "- Unlike list comprehensions, generator expressions do not create the entire list in memory.\n",
    "\n",
    "### **Example**:\n",
    "```python\n",
    "gen_expr = (x * x for x in range(5))\n",
    "for value in gen_expr:\n",
    "    print(value)  # Output: 0, 1, 4, 9, 16\n",
    "```\n",
    "\n",
    "---\n",
    "\n",
    "### **6. Generator Methods**\n",
    "Generators have additional methods to control their behavior:\n",
    "- **`send(value)`**: Sends a value to the generator and resumes execution. Can be used to modify the generator’s behavior dynamically.\n",
    "- **`throw(exception)`**: Raises an exception inside the generator.\n",
    "- **`close()`**: Stops the generator by raising `GeneratorExit`.\n",
    "\n",
    "### **Example with `send`**:\n",
    "```python\n",
    "def generator_with_send():\n",
    "    value = yield \"Initial value\"\n",
    "    yield f\"Received {value}\"\n",
    "\n",
    "gen = generator_with_send()\n",
    "print(next(gen))  # Output: \"Initial value\"\n",
    "print(gen.send(\"Hello\"))  # Output: \"Received Hello\"\n",
    "```\n",
    "\n",
    "---\n",
    "\n",
    "### **7. Infinite Generators**\n",
    "Generators are especially useful for producing infinite sequences.\n",
    "\n",
    "### **Example: Fibonacci Sequence**:\n",
    "```python\n",
    "def fibonacci():\n",
    "    a, b = 0, 1\n",
    "    while True:\n",
    "        yield a\n",
    "        a, b = b, a + b\n",
    "\n",
    "fib = fibonacci()\n",
    "for _ in range(10):\n",
    "    print(next(fib))  # Outputs first 10 Fibonacci numbers\n",
    "```\n",
    "\n",
    "---\n",
    "\n",
    "### **8. Itertools Module**\n",
    "The lecture might have included details on `itertools`, a powerful Python module providing advanced iterator functionalities.\n",
    "\n",
    "### **Key Functions**:\n",
    "- **`count()`**: Infinite counter.\n",
    "- **`cycle()`**: Cycles through iterable values infinitely.\n",
    "- **`repeat()`**: Repeats a value infinitely or a specified number of times.\n",
    "- **`islice()`**: Slices an iterator.\n",
    "  \n",
    "### **Example**:\n",
    "```python\n",
    "from itertools import count, islice\n",
    "\n",
    "for val in islice(count(10), 5):\n",
    "    print(val)  # Output: 10, 11, 12, 13, 14\n",
    "```\n",
    "\n",
    "---\n",
    "\n",
    "### **9. Comparison of Iterators and Generators**\n",
    "| **Feature**       | **Iterator**                           | **Generator**                          |\n",
    "|--------------------|----------------------------------------|----------------------------------------|\n",
    "| **Implementation** | Requires `__iter__` and `__next__`     | Uses `yield` for state retention       |\n",
    "| **State Management**| Manual                                | Automatic                              |\n",
    "| **Memory Usage**   | Depends on collection                  | More efficient (lazy evaluation)       |\n",
    "| **Use Case**       | Custom, advanced iteration logic        | Simplified iteration with minimal code |\n",
    "\n",
    "---\n",
    "\n",
    "### **10. Practical Use Cases**\n",
    "- **Data Streams**: Reading large files or streaming data in chunks.\n",
    "- **Real-time Computations**: Handling continuous input/output.\n",
    "- **Pipelining**: Processing data in stages efficiently.\n",
    "\n",
    "### **Example: Reading Large Files**\n",
    "```python\n",
    "def read_large_file(file_path):\n",
    "    with open(file_path) as file:\n",
    "        for line in file:\n",
    "            yield line.strip()\n",
    "\n",
    "for line in read_large_file('large_text.txt'):\n",
    "    print(line)\n",
    "```\n",
    "\n",
    "---\n",
    "\n",
    "### **Summary**\n",
    "- **Iterators** provide the fundamental building blocks for iteration in Python.\n",
    "- **Generators** offer a more elegant and memory-efficient way to iterate, particularly for large or infinite datasets.\n",
    "- **Mastering both** allows for efficient and scalable Python programming.\n",
    "\n",
    "---\n",
    "\n",
    "Let me know if you need further details or any additional sections!"
   ]
  },
  {
   "cell_type": "code",
   "execution_count": null,
   "metadata": {},
   "outputs": [],
   "source": []
  },
  {
   "cell_type": "markdown",
   "metadata": {},
   "source": [
    "### **Detailed Lecture Summary: Functional Programming (Part 3)**\n",
    "\n",
    "---\n",
    "\n",
    "#### **Introduction**\n",
    "- The lecture continues exploring **functional programming** principles, emphasizing efficient, modular, and expressive ways of writing Python code.\n",
    "- Key topics include **lambda functions**, **higher-order functions**, **utility functions** (`zip`, `enumerate`), **function composition**, and **integration with classes**.\n",
    "\n",
    "---\n",
    "\n",
    "### **1. Lambda Functions (Anonymous Functions)**\n",
    "\n",
    "- **Definition and Use**:\n",
    "  - **Lambda functions** are unnamed functions defined using the `lambda` keyword.\n",
    "  - They are often used for small, single-operation tasks that don’t require the overhead of defining a full function with `def`.\n",
    "\n",
    "- **Syntax**:\n",
    "  ```python\n",
    "  lambda arguments: expression\n",
    "  ```\n",
    "\n",
    "- **Detailed Examples**:\n",
    "  \n",
    "  **a. Arithmetic Operations**:\n",
    "  ```python\n",
    "  add = lambda x, y: x + y\n",
    "  print(add(3, 5))  # Output: 8\n",
    "  ```\n",
    "  \n",
    "  **b. Sorting with Lambda**:\n",
    "  - Sorting a list of tuples by the second element:\n",
    "    ```python\n",
    "    data = [(1, 'b'), (2, 'a'), (3, 'c')]\n",
    "    sorted_data = sorted(data, key=lambda x: x[1])\n",
    "    print(sorted_data)  # Output: [(2, 'a'), (1, 'b'), (3, 'c')]\n",
    "    ```\n",
    "\n",
    "  **c. Conditional Expressions**:\n",
    "  - Use `lambda` to create compact conditional logic:\n",
    "    ```python\n",
    "    max_val = lambda x, y: x if x > y else y\n",
    "    print(max_val(10, 20))  # Output: 20\n",
    "    ```\n",
    "\n",
    "- **Use Cases**:\n",
    "  - Writing quick, one-off functions.\n",
    "  - As arguments to higher-order functions like `map`, `filter`, and `reduce`.\n",
    "\n",
    "---\n",
    "\n",
    "### **2. Higher-Order Functions**\n",
    "\n",
    "Higher-order functions are central to functional programming. They promote **code reuse** and **abstraction** by working with other functions.\n",
    "\n",
    "---\n",
    "\n",
    "#### **a. Map Function**\n",
    "\n",
    "- **Definition**:\n",
    "  - `map` applies a given function to each item in an iterable and returns a map object (an iterator).\n",
    "\n",
    "- **Detailed Example**:\n",
    "  - Squaring each element in a list:\n",
    "    ```python\n",
    "    numbers = [1, 2, 3, 4]\n",
    "    squared = map(lambda x: x ** 2, numbers)\n",
    "    print(list(squared))  # Output: [1, 4, 9, 16]\n",
    "    ```\n",
    "\n",
    "  - **Chaining with Other Functions**:\n",
    "    ```python\n",
    "    result = map(lambda x: x ** 2, filter(lambda y: y % 2 == 0, range(10)))\n",
    "    print(list(result))  # Output: [0, 4, 16, 36, 64]\n",
    "    ```\n",
    "\n",
    "---\n",
    "\n",
    "#### **b. Filter Function**\n",
    "\n",
    "- **Definition**:\n",
    "  - Filters elements in an iterable based on a boolean condition.\n",
    "\n",
    "- **Detailed Example**:\n",
    "  - Filtering even numbers:\n",
    "    ```python\n",
    "    numbers = [1, 2, 3, 4, 5, 6]\n",
    "    even_numbers = filter(lambda x: x % 2 == 0, numbers)\n",
    "    print(list(even_numbers))  # Output: [2, 4, 6]\n",
    "    ```\n",
    "\n",
    "- **Chaining with `map`**:\n",
    "  ```python\n",
    "  doubled_evens = map(lambda x: x * 2, filter(lambda x: x % 2 == 0, numbers))\n",
    "  print(list(doubled_evens))  # Output: [4, 8, 12]\n",
    "  ```\n",
    "\n",
    "---\n",
    "\n",
    "#### **c. Reduce Function**\n",
    "\n",
    "- **Definition**:\n",
    "  - `reduce` combines elements in an iterable cumulatively using a binary function, ultimately reducing them to a single value.\n",
    "\n",
    "- **Detailed Example**:\n",
    "  - Summing elements:\n",
    "    ```python\n",
    "    from functools import reduce\n",
    "    numbers = [1, 2, 3, 4]\n",
    "    total = reduce(lambda x, y: x + y, numbers)\n",
    "    print(total)  # Output: 10\n",
    "    ```\n",
    "\n",
    "  - Finding the maximum value:\n",
    "    ```python\n",
    "    max_value = reduce(lambda x, y: x if x > y else y, numbers)\n",
    "    print(max_value)  # Output: 4\n",
    "    ```\n",
    "\n",
    "---\n",
    "\n",
    "### **3. Utility Functions**\n",
    "\n",
    "---\n",
    "\n",
    "#### **a. Zip Function**\n",
    "\n",
    "- **Definition**:\n",
    "  - Combines elements from two or more iterables into tuples.\n",
    "\n",
    "- **Detailed Examples**:\n",
    "  - Pairing names and scores:\n",
    "    ```python\n",
    "    names = ['Alice', 'Bob', 'Charlie']\n",
    "    scores = [85, 90, 95]\n",
    "    result = zip(names, scores)\n",
    "    print(list(result))  # Output: [('Alice', 85), ('Bob', 90), ('Charlie', 95)]\n",
    "    ```\n",
    "\n",
    "  - **Multiple Iterables**:\n",
    "    ```python\n",
    "    items = ['A', 'B', 'C']\n",
    "    values1 = [1, 2, 3]\n",
    "    values2 = [10, 20, 30]\n",
    "    combined = zip(items, values1, values2)\n",
    "    print(list(combined))  # Output: [('A', 1, 10), ('B', 2, 20), ('C', 3, 30)]\n",
    "    ```\n",
    "\n",
    "---\n",
    "\n",
    "#### **b. Enumerate Function**\n",
    "\n",
    "- **Definition**:\n",
    "  - Adds an index to an iterable, producing tuples of the form `(index, value)`.\n",
    "\n",
    "- **Detailed Example**:\n",
    "  ```python\n",
    "  items = ['apple', 'banana', 'cherry']\n",
    "  for index, item in enumerate(items, start=1):\n",
    "      print(index, item)\n",
    "  # Output:\n",
    "  # 1 apple\n",
    "  # 2 banana\n",
    "  # 3 cherry\n",
    "  ```\n",
    "\n",
    "---\n",
    "\n",
    "### **4. Function Composition**\n",
    "\n",
    "- **Definition**:\n",
    "  - The process of combining two or more functions to produce a new function.\n",
    "\n",
    "- **Detailed Example**:\n",
    "  ```python\n",
    "  def increment(x):\n",
    "      return x + 1\n",
    "\n",
    "  def double(x):\n",
    "      return x * 2\n",
    "\n",
    "  composed = lambda x: double(increment(x))\n",
    "  print(composed(3))  # Output: 8\n",
    "  ```\n",
    "\n",
    "- **Significance**:\n",
    "  - Breaks down complex processes into smaller, reusable functions.\n",
    "\n",
    "---\n",
    "\n",
    "### **5. Class Functions**\n",
    "\n",
    "---\n",
    "\n",
    "#### **Classes in Python**\n",
    "\n",
    "- **Definition**:\n",
    "  - A class is a blueprint for creating objects.\n",
    "  - It encapsulates data (attributes) and methods (functions that operate on the data).\n",
    "\n",
    "- **Basic Example**:\n",
    "  ```python\n",
    "  class MyClass:\n",
    "      def __init__(self, value):\n",
    "          self.value = value\n",
    "      \n",
    "      def display(self):\n",
    "          return self.value\n",
    "  ```\n",
    "\n",
    "#### **Functional Techniques within Classes**\n",
    "\n",
    "- **Using Lambda in Class Methods**:\n",
    "  ```python\n",
    "  class Operations:\n",
    "      def __init__(self):\n",
    "          self.multiply = lambda x, y: x * y\n",
    "\n",
    "  op = Operations()\n",
    "  print(op.multiply(5, 4))  # Output: 20\n",
    "  ```\n",
    "\n",
    "- **Higher-Order Methods**:\n",
    "  ```python\n",
    "  class Processor:\n",
    "      def apply(self, func, data):\n",
    "          return [func(d) for d in data]\n",
    "\n",
    "  processor = Processor()\n",
    "  result = processor.apply(lambda x: x * 2, [1, 2, 3])\n",
    "  print(result)  # Output: [2, 4, 6]\n",
    "  ```\n",
    "\n",
    "---\n",
    "\n",
    "### **Key Insights**\n",
    "\n",
    "- **Functional Programming Concepts**:\n",
    "  - Tools like **`lambda`**, **`map`**, **`filter`**, and **`reduce`** streamline complex workflows.\n",
    "  - Utility functions like **`zip`** and **`enumerate`** simplify handling of iterables.\n",
    "\n",
    "- **Integration with OOP**:\n",
    "  - Functional paradigms can enhance object-oriented designs, promoting flexible and modular code.\n",
    "\n",
    "- **Real-World Applications**:\n",
    "  - Simplifying data transformations.\n",
    "  - Efficiently processing large datasets.\n",
    "\n",
    "---\n",
    "\n",
    "### **Conclusion**\n",
    "\n",
    "- The lecture emphasizes the synergy between **functional programming** and **object-oriented principles**, encouraging students to apply these tools in real-world projects.\n",
    "- Combining these paradigms results in clean, efficient, and maintainable code.\n",
    "\n",
    "---\n",
    "\n",
    "Would you like additional in-depth explanations, exercises, or examples?"
   ]
  }
 ],
 "metadata": {
  "kernelspec": {
   "display_name": "simulations_env",
   "language": "python",
   "name": "python3"
  },
  "language_info": {
   "codemirror_mode": {
    "name": "ipython",
    "version": 3
   },
   "file_extension": ".py",
   "mimetype": "text/x-python",
   "name": "python",
   "nbconvert_exporter": "python",
   "pygments_lexer": "ipython3",
   "version": "3.12.3"
  }
 },
 "nbformat": 4,
 "nbformat_minor": 2
}
