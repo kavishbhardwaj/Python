{
 "cells": [
  {
   "cell_type": "markdown",
   "id": "767b698f",
   "metadata": {},
   "source": [
    "# String \n",
    "\n",
    " print is a function and its arguements/parameters are inside the brackets\n",
    " \n",
    " print(*objects, sep=' ', end='\\n', file=None, flush=False)  \n",
    "\n",
    "https://docs.python.org/3/library/functions.html\n",
    "\n",
    " https://docs.python.org/3/library/stdtypes.html#string-methods "
   ]
  },
  {
   "cell_type": "markdown",
   "id": "465bc514",
   "metadata": {},
   "source": [
    " ### Introduction to strings & Print function "
   ]
  },
  {
   "cell_type": "code",
   "execution_count": 3,
   "id": "375b5cdf",
   "metadata": {
    "vscode": {
     "languageId": "shellscript"
    }
   },
   "outputs": [
    {
     "name": "stdout",
     "output_type": "stream",
     "text": [
      "Hello India Hello World 20 20.5\n",
      "2\n",
      "Sudarshan\n"
     ]
    },
    {
     "data": {
      "text/plain": [
       "' variable name cant be a keyword like print, otherwise print wont function'"
      ]
     },
     "execution_count": 3,
     "metadata": {},
     "output_type": "execute_result"
    }
   ],
   "source": [
    "\n",
    "print('Hello India','Hello World', 20, 20.5)\n",
    "\n",
    "name = 'Sudarshan'\n",
    "x = 2             \n",
    "print(x)\n",
    "print(name) \n",
    "\n",
    "'''name and x are variables & Sudarshan , 2 are literals '''\n",
    "''' variable name can start with an alphabet or underscore only '''\n",
    "''' variable name cant be a keyword like print, otherwise print wont function'''\n",
    "''' variables are case sensitive in Python '''\n"
   ]
  },
  {
   "cell_type": "code",
   "execution_count": 5,
   "id": "7972fb0f",
   "metadata": {
    "vscode": {
     "languageId": "shellscript"
    }
   },
   "outputs": [
    {
     "name": "stdout",
     "output_type": "stream",
     "text": [
      "True\n",
      "True\n",
      "True\n"
     ]
    }
   ],
   "source": [
    "k = 'a'\n",
    "print('a' in 'abcde')\n",
    "print('cat' in 'rrcat')\n",
    "print(k in 'abcde')\n"
   ]
  },
  {
   "cell_type": "code",
   "execution_count": 16,
   "id": "992f99a1",
   "metadata": {
    "vscode": {
     "languageId": "shellscript"
    }
   },
   "outputs": [
    {
     "name": "stdout",
     "output_type": "stream",
     "text": [
      "True\n",
      "True\n",
      "False\n",
      "False\n",
      "True\n"
     ]
    }
   ],
   "source": [
    "print('alpha' in 'a variable name can only conatin alpha-numeric character or an underscore')\n",
    "print('alpha' in 'A variable name must begin with an alphabet or an underscore')\n",
    "print('alpha' in 'A variable name must begin with an letter or an underscore')\n",
    "print('z' in 'A variable name must begin with an alphabet or an underscore')\n",
    "print('v' in 'A variable name must begin with an alphabet or an underscore')"
   ]
  },
  {
   "cell_type": "code",
   "execution_count": 17,
   "id": "d1a4550a",
   "metadata": {
    "vscode": {
     "languageId": "shellscript"
    }
   },
   "outputs": [
    {
     "name": "stdout",
     "output_type": "stream",
     "text": [
      "True\n",
      "True\n"
     ]
    }
   ],
   "source": [
    "x = 5\n",
    "print(10 > x <= 9)\n",
    "print(2 < x < x*10)\n",
    "# multiple relational operators in a line - chaining"
   ]
  },
  {
   "cell_type": "code",
   "execution_count": 18,
   "id": "f3f4203c",
   "metadata": {
    "vscode": {
     "languageId": "shellscript"
    }
   },
   "outputs": [
    {
     "name": "stdout",
     "output_type": "stream",
     "text": [
      "10\n"
     ]
    },
    {
     "ename": "NameError",
     "evalue": "name 'x' is not defined",
     "output_type": "error",
     "traceback": [
      "\u001b[1;31m---------------------------------------------------------------------------\u001b[0m",
      "\u001b[1;31mNameError\u001b[0m                                 Traceback (most recent call last)",
      "Cell \u001b[1;32mIn[18], line 4\u001b[0m\n\u001b[0;32m      2\u001b[0m \u001b[38;5;28mprint\u001b[39m(x)\n\u001b[0;32m      3\u001b[0m \u001b[38;5;28;01mdel\u001b[39;00m x\n\u001b[1;32m----> 4\u001b[0m \u001b[38;5;28mprint\u001b[39m(x)\n",
      "\u001b[1;31mNameError\u001b[0m: name 'x' is not defined"
     ]
    }
   ],
   "source": [
    "x = 10\n",
    "print(x)\n",
    "del x\n",
    "print(x)"
   ]
  },
  {
   "cell_type": "markdown",
   "id": "e245297c",
   "metadata": {
    "vscode": {
     "languageId": "shellscript"
    }
   },
   "source": [
    "In Python, escape characters are used in strings to represent certain special characters or to give special meanings to characters \n",
    "that would otherwise be interpreted literally. \n",
    "Each escape character is prefixed by a backslash (\\) and is followed by a specific character or sequence of characters. \n",
    "Here are some common uses and examples:"
   ]
  },
  {
   "cell_type": "code",
   "execution_count": 22,
   "id": "9d2a93cc",
   "metadata": {
    "vscode": {
     "languageId": "shellscript"
    }
   },
   "outputs": [
    {
     "name": "stdout",
     "output_type": "stream",
     "text": [
      "Hello, World!\n",
      "Welcome to Python.\n",
      "Name\tAge\tLocation\n",
      "This is a backslash: \\\n",
      "It's a nice day.\n"
     ]
    }
   ],
   "source": [
    "\n",
    "# Newline (\\n)\n",
    "text = \"Hello, World!\\nWelcome to Python.\"\n",
    "print(text)\n",
    "\n",
    "\n",
    "# Tab (\\t)\n",
    "text = \"Name\\tAge\\tLocation\"\n",
    "print(text)\n",
    "\n",
    "\n",
    "# Backslash (\\\\)\n",
    "text = \"This is a backslash: \\\\\"\n",
    "print(text)\n",
    "\n",
    "\n",
    "# Single Quote (\\')\n",
    "text = 'It\\'s a nice day.'\n",
    "print(text)"
   ]
  },
  {
   "cell_type": "code",
   "execution_count": 21,
   "id": "602a2d80",
   "metadata": {
    "vscode": {
     "languageId": "shellscript"
    }
   },
   "outputs": [
    {
     "name": "stdout",
     "output_type": "stream",
     "text": [
      "He said, \"Python is fun!\"\n",
      "☺\n",
      "Hillo, World!\n",
      "HellWorld\n"
     ]
    }
   ],
   "source": [
    "\n",
    "\n",
    "# Double Quote (\\\")\n",
    "text = \"He said, \\\"Python is fun!\\\"\"\n",
    "print(text)\n",
    "\n",
    "\n",
    "# Unicode Characters (\\u or \\U)\n",
    "text = \"\\u263A\"  # Unicode for a smiley face\n",
    "print(text)\n",
    "\n",
    "\n",
    "# Octal and Hexadecimal Values (\\ooo and \\xhh)\n",
    "text = \"\\x48\\x65\\x6C\\x6C\\x6F\"  # Hexadecimal for 'Hello'\n",
    "\n",
    "\n",
    "# Carriage Return (\\r) Moves the cursor to the beginning of the line without advancing to the next line.\n",
    "text = \"Hello, World!\\rHi\"\n",
    "print(text)\n",
    "\n",
    "\n",
    "#Backspace (\\b)\n",
    "text = \"Hello\\bWorld\"\n",
    "print(text)\n"
   ]
  },
  {
   "cell_type": "code",
   "execution_count": 20,
   "id": "aefc29b0",
   "metadata": {
    "vscode": {
     "languageId": "shellscript"
    }
   },
   "outputs": [
    {
     "name": "stdout",
     "output_type": "stream",
     "text": [
      "C:\\Users\\Kavish\\Documents\n"
     ]
    }
   ],
   "source": [
    "# Raw Strings (r or R)\n",
    "''' If you want to use backslashes in a string without them being treated as escape characters, \n",
    "you can use a raw string by prefixing the string with an r or R. '''\n",
    "\n",
    "path = r\"C:\\Users\\Kavish\\Documents\"\n",
    "print(path)"
   ]
  },
  {
   "cell_type": "code",
   "execution_count": 24,
   "id": "0bb0bdf1",
   "metadata": {},
   "outputs": [
    {
     "name": "stdout",
     "output_type": "stream",
     "text": [
      "We are from \"IIT Delhi\" \n",
      "It's okay\n"
     ]
    }
   ],
   "source": [
    "''' insert single quote in a string - use double quotes for string\n",
    "and to insert double quote in a string - use single quote for string'''\n",
    "print('We are from \"IIT Delhi\" ')\n",
    "print(\"It's okay\")\n"
   ]
  },
  {
   "cell_type": "code",
   "execution_count": 25,
   "id": "946dc9ab",
   "metadata": {},
   "outputs": [
    {
     "name": "stdout",
     "output_type": "stream",
     "text": [
      "  I \n",
      "want to \n",
      "go to \n",
      "India \n",
      "\n"
     ]
    }
   ],
   "source": [
    "# multiple line string\n",
    "\n",
    "str = '''  I \n",
    "want to \n",
    "go to \n",
    "India \n",
    "'''\n",
    "\n",
    "print(str)"
   ]
  },
  {
   "cell_type": "code",
   "execution_count": 2,
   "id": "d8c106e2",
   "metadata": {
    "vscode": {
     "languageId": "shellscript"
    }
   },
   "outputs": [
    {
     "name": "stdout",
     "output_type": "stream",
     "text": [
      "<class 'str'>\n",
      "Hello kavish How are you ? And howz weather in your city indore\n",
      "<class 'str'>\n",
      "Hello kavish\n"
     ]
    }
   ],
   "source": [
    "n = input(\"What's your name\")\n",
    "m = input(\"Whats your city ?\")\n",
    "print(type(n))\n",
    "print('Hello', n, 'How are you ?', 'And howz weather in your city', m)\n",
    "n = str(n)\n",
    "# input() function: The input() function always returns the user input as a string, regardless of what the user enters.\n",
    "# There’s no need to convert it again with str(n)\n",
    "print(type(n))\n",
    "print('Hello', n)"
   ]
  },
  {
   "cell_type": "code",
   "execution_count": 19,
   "id": "de4347d7",
   "metadata": {
    "vscode": {
     "languageId": "shellscript"
    }
   },
   "outputs": [
    {
     "name": "stdout",
     "output_type": "stream",
     "text": [
      "What's your name ? \n",
      "Hello, \"dear\" 'user'   Respected ka"
     ]
    }
   ],
   "source": [
    "print(\"What's your name ? \")     #Ask user for their name                                                          \n",
    "name = input()                   #result of input function is assigned to VARIABLE \"name\"  \n",
    "name = f' Respected {name}'                          \n",
    "print(\"Hello, \\\"dear\\\" 'user' \", name, end = \"\")       #quotation mark inside a string \n",
    "# #end of the line will be nothing whereas in original syntax its \\n   \n",
    "\n",
    "#in python both single and double quotes can be used provided end and start is by the same type"
   ]
  },
  {
   "cell_type": "code",
   "execution_count": 9,
   "id": "cb778f47",
   "metadata": {
    "vscode": {
     "languageId": "shellscript"
    }
   },
   "outputs": [
    {
     "name": "stdout",
     "output_type": "stream",
     "text": [
      "Today's date is    10/9/2024\n"
     ]
    }
   ],
   "source": [
    "d = 10\n",
    "m = 9\n",
    "y = 2024\n",
    "\n",
    "print(\"Today's date is\", end = \"    \")\n",
    "print(d, m, y, sep = \"/\")\n",
    "\n",
    "#By default, Python separates items in a print() function with a space.\n",
    "#By using sep=\"/\", you are telling Python to use a slash (/) instead of a space"
   ]
  },
  {
   "cell_type": "code",
   "execution_count": null,
   "id": "2443b613",
   "metadata": {
    "vscode": {
     "languageId": "shellscript"
    }
   },
   "outputs": [],
   "source": [
    "\"\"\"\n",
    "This is a multi-line string.\n",
    "It will be displayed as output in Jupyter.\n",
    "interactive python mode- not needed to save a .py file \n",
    "type python in terminal window and three arrows appear \n",
    "any line of code is interpreted immediately;\n",
    "use exit() or ctrl+z+enter to exit\n",
    "\"\"\"\n",
    "\n",
    "\n",
    "docstring = \"\"\"\n",
    "This is a multi-line string.\n",
    "It won't display as output now because it's assigned to a variable.\n",
    "\"\"\"\n",
    "\n",
    "def square(x):\n",
    "    \"\"\"Return the square of x.\"\"\"    \n",
    "    #docstring\n",
    "    return x ** 2\n",
    "\n",
    "print(square.__doc__)\n",
    "\n",
    "\n",
    "\n",
    "#In Python, the backslash - \\ - is called the escape character\n",
    "print('India\\'s capital is \\t New Delhi \\n Really?')"
   ]
  },
  {
   "cell_type": "code",
   "execution_count": 20,
   "id": "f52895e7",
   "metadata": {
    "vscode": {
     "languageId": "shellscript"
    }
   },
   "outputs": [
    {
     "name": "stdout",
     "output_type": "stream",
     "text": [
      "False\n",
      "True\n",
      "False\n",
      "False\n"
     ]
    }
   ],
   "source": [
    "print(5>10)\n",
    "print(5>=5)\n",
    "print(True and False)\n",
    "print(not(True))"
   ]
  },
  {
   "cell_type": "code",
   "execution_count": 22,
   "id": "37b98440",
   "metadata": {},
   "outputs": [
    {
     "name": "stdout",
     "output_type": "stream",
     "text": [
      "5 x 6 = 10\n",
      "5 x 6 = 30\n",
      "5 x 6 = 30\n",
      "5 x 6 = 10\n",
      "The name is Kavish and height is    8\n",
      "The name is Kavish and height is 0008\n",
      "The name is Kavish and height is 8.000\n",
      "The name is Kavish and height is 8.000\n"
     ]
    }
   ],
   "source": [
    "n = 5\n",
    "i = 6\n",
    "height = 8\n",
    "name = \"Kavish\"\n",
    "print(n ,\"x\", i, \"=\", 2*n )\n",
    "print('%d x %d = %d' % (n , i, n*i))       #String formating\n",
    "print('{0} x {1} = {2}'.format(n, i, n*i))     #str.format() Method\n",
    "print(f'{n} x {i} = {2*n}')   #F-strings (Formatted String Literals) - Python 3.6+\n",
    "\n",
    "print(\"The name is %s and height is %4d\" % (name, height))\n",
    "print(\"The name is %s and height is %.4d\" % (name, height))\n",
    "print(\"The name is {:s} and height is {:.03f}\".format(name, height))\n",
    "print(f\"The name is {name:s} and height is {height:.03f}\")\n",
    "\n",
    "#In Python, when using string formatting with f-strings or the str.format() method, \n",
    "# it doesn't matter if you write {name:s} or just {name} when formatting strings because Python automatically detects the data type."
   ]
  },
  {
   "cell_type": "code",
   "execution_count": 25,
   "id": "c2871aa4",
   "metadata": {},
   "outputs": [
    {
     "name": "stdout",
     "output_type": "stream",
     "text": [
      "1\n",
      "11\n",
      "111\n",
      "1111\n",
      "   1\n",
      "  11\n",
      " 111\n",
      "1111\n"
     ]
    }
   ],
   "source": [
    "print('{}'.format(1))\n",
    "print('{}'.format(11))\n",
    "print('{}'.format(111))\n",
    "print('{}'.format(1111))\n",
    "\n",
    "print('{:4d}'.format(1))\n",
    "print('{:4d}'.format(11))\n",
    "print('{:4d}'.format(111))\n",
    "print('{:4d}'.format(1111))\n"
   ]
  },
  {
   "cell_type": "markdown",
   "id": "e2791726",
   "metadata": {},
   "source": [
    "What are Placeholders?\n",
    "\n",
    "Placeholders are symbols or markers in a string that tell Python, \"Insert some value here.\" In different types of string formatting in Python, you use different types of placeholders.\n",
    "\n",
    "\n",
    "Old-Style % Formatting (C-style)\n",
    "Here, placeholders are similar to C-style, and you use special symbols like %d, %s, etc., to represent the data type.\n",
    "%d: Placeholder for integers (like int in C)\n",
    "%s: Placeholder for strings\n",
    "%f: Placeholder for floating-point numbers\n",
    "\n",
    "\n",
    "str.format() Method\n",
    "With this method, the placeholders are represented by curly braces {}. You can use them without specifying the type (%d, %s, etc.).\n",
    "{height:.1f} will format height to show one decimal place\n",
    "\n",
    "\n",
    "F-strings (Formatted String Literals)\n",
    "This is the easiest way. You don’t need %d, %s, or .format(). You simply use curly braces {} and place the variable directly inside the string.\n",
    "{n}, {i}, and {height:.1f} will be replaced by their respective values. {height:.1f} formats height to one decimal place.\n",
    "\n",
    "\n",
    "For a variable var, \n",
    "%d (integer) → \"{:d}\".format() or just f\"{var}\"\n",
    "\n",
    "%f (floating-point) → \"{:.2f}\".format() or f\"{var:.2f}\"\n",
    "\n",
    "%s (string) → \"{:s}\".format() or f\"{var}\""
   ]
  },
  {
   "cell_type": "code",
   "execution_count": null,
   "id": "bd310a03",
   "metadata": {
    "vscode": {
     "languageId": "shellscript"
    }
   },
   "outputs": [],
   "source": [
    "s1 = 'atul '\n",
    "s2 = 'thora '\n",
    "\n",
    "string_add = s1+s2+s1+s2+s1  #Concatenation\n",
    "print(string_add)\n",
    "string_repl = s1*5  #Replication\n",
    "print(string_repl)\n",
    "string_new = string_add.replace(\"atul\", \"\", 2)\n",
    "print(string_new)\n",
    "string_new = string_add.replace(\"a\", \"\", 3)\n",
    "print(string_new)"
   ]
  },
  {
   "cell_type": "code",
   "execution_count": 5,
   "id": "20c35b41",
   "metadata": {
    "vscode": {
     "languageId": "shellscript"
    }
   },
   "outputs": [
    {
     "name": "stdout",
     "output_type": "stream",
     "text": [
      "I am 🙂 and 🙁 \n"
     ]
    }
   ],
   "source": [
    "# https://docs.python.org/3/howto/unicode.html\n",
    "\n",
    "#    https://unicode.org/emoji/charts/full-emoji-list.html emojis\n",
    "#Emojis \n",
    "\n",
    "emoticon = 'I am :) and :( '\n",
    "\n",
    "emoticon =  emoticon.replace(\":)\", \"\\U0001F642\").replace(\":(\" , \"\\U0001F641\")\n",
    "print(emoticon)\n"
   ]
  },
  {
   "cell_type": "markdown",
   "id": "2637f3bb",
   "metadata": {},
   "source": [
    "### String methods\n",
    "String methods are case sensitive"
   ]
  },
  {
   "cell_type": "code",
   "execution_count": 29,
   "id": "e9e8d24e",
   "metadata": {
    "vscode": {
     "languageId": "shellscript"
    }
   },
   "outputs": [
    {
     "name": "stdout",
     "output_type": "stream",
     "text": [
      "python programming is fun!\n",
      "PYTHON PROGRAMMING IS FUN!\n",
      "Python programming is fun!\n",
      "Python Programming Is Fun!\n",
      "pYthON pROgrAMMing iS fUn!\n"
     ]
    }
   ],
   "source": [
    "\n",
    "text = \"PyTHon ProGRammING Is FuN!\"\n",
    "\n",
    "# Lowercase the entire string\n",
    "print(text.lower())  # Converts all characters to lowercase: 'python programming is fun!'\n",
    "\n",
    "# Uppercase the entire string\n",
    "print(text.upper())  # Converts all characters to uppercase: 'PYTHON PROGRAMMING IS FUN!'\n",
    "\n",
    "# Capitalize the first letter and lowercases the rest\n",
    "print(text.capitalize())  # Capitalizes the first character and lowers the rest: 'Python programming is fun!'\n",
    "\n",
    "# Title-case each word in the string\n",
    "print(text.title())  # Converts the first letter of each word to uppercase: 'Python Programming Is Fun!'\n",
    "\n",
    "# Swap the case of each character in the string\n",
    "print(text.swapcase())  # Swaps the case of each character: 'pYthON pROgrAMMing iS fUn!'\n"
   ]
  },
  {
   "cell_type": "code",
   "execution_count": 30,
   "id": "21a9cf38",
   "metadata": {
    "vscode": {
     "languageId": "shellscript"
    }
   },
   "outputs": [
    {
     "name": "stdout",
     "output_type": "stream",
     "text": [
      "Hello, World!\n",
      "Hello, World!\n",
      "Hello, World!\n"
     ]
    }
   ],
   "source": [
    "text = \"PyTHon ProGRammING Is FuN!\"\n",
    "\n",
    "# Strip whitespace from both ends of the string\n",
    "text_with_spaces = \"   Hello, World!   \"\n",
    "print(text_with_spaces.strip())  # Removes leading and trailing spaces: 'Hello, World!'\n",
    "\n",
    "# Remove whitespace from the left side of the string\n",
    "text_with_left_spaces = \"   Hello, World!\"\n",
    "print(text_with_left_spaces.lstrip())  # Removes leading spaces: 'Hello, World!'\n",
    "\n",
    "# Remove whitespace from the right side of the string\n",
    "text_with_right_spaces = \"Hello, World!   \"\n",
    "print(text_with_right_spaces.rstrip())  # Removes trailing spaces: 'Hello, World!'\n"
   ]
  },
  {
   "cell_type": "code",
   "execution_count": 31,
   "id": "e9195c42",
   "metadata": {
    "vscode": {
     "languageId": "shellscript"
    }
   },
   "outputs": [
    {
     "name": "stdout",
     "output_type": "stream",
     "text": [
      "['PyTHon', 'ProGRammING', 'Is', 'FuN!']\n",
      "Python is fun\n",
      "**PyTHon ProGRammING Is FuN!**\n"
     ]
    }
   ],
   "source": [
    "text = \"PyTHon ProGRammING Is FuN!\"\n",
    "\n",
    "# Split the string into a list of words\n",
    "print(text.split())  # Splits into ['PyTHon', 'ProGRammING', 'Is', 'FuN!']\n",
    "\n",
    "# Join elements of a list into a single string with a delimiter\n",
    "words = [\"Python\", \"is\", \"fun\"]\n",
    "print(\" \".join(words))  # Joins list into 'Python is fun'\n",
    "\n",
    "# Center the string with padding\n",
    "print(text.center(30, '*'))  # Centers the string with '*' padding: '****PyTHon ProGRammING Is FuN!****'"
   ]
  },
  {
   "cell_type": "code",
   "execution_count": 32,
   "id": "19e04743",
   "metadata": {
    "vscode": {
     "languageId": "shellscript"
    }
   },
   "outputs": [
    {
     "name": "stdout",
     "output_type": "stream",
     "text": [
      "True\n",
      "True\n",
      "True\n",
      "True\n",
      "True\n",
      "True\n",
      "True\n",
      "True\n"
     ]
    }
   ],
   "source": [
    "# Check if the string is in title case\n",
    "text = \"Python Programming Is Fun\"\n",
    "print(text.istitle())  # Returns True if each word starts with an uppercase letter and the rest are lowercase\n",
    "\n",
    "# Check if all characters in the string are uppercase\n",
    "text = \"PYTHON PROGRAMMING IS FUN\"\n",
    "print(text.isupper())  # Returns True if all characters in the string are uppercase\n",
    "\n",
    "# Check if all characters in the string are lowercase\n",
    "text = \"python programming is fun\"\n",
    "print(text.islower())  # Returns True if all characters in the string are lowercase\n",
    "\n",
    "# Check if all characters in the string are alphanumeric\n",
    "text = \"Python123\"\n",
    "print(text.isalnum())  # Returns True because all characters are alphanumeric without spaces or punctuation\n",
    "\n",
    "# Check if all characters in the string are alphabetic\n",
    "text = \"Python\"\n",
    "print(text.isalpha())  # Returns True because the string contains only alphabetic characters\n",
    "\n",
    "# Check if all characters in the string are digits\n",
    "text = \"12345\"\n",
    "print(text.isdigit())  # Returns True because the string contains only digits\n",
    "\n",
    "# Check if the string starts with a given substring\n",
    "text = \"PyTHon ProGRammING Is FuN!\"\n",
    "print(text.startswith(\"PyTHon\"))  # Returns True if the string starts with 'PyTHon'\n",
    "\n",
    "# Check if the string ends with a given substring\n",
    "print(text.endswith(\"FuN!\"))  # Returns True if the string ends with 'FuN!'\n"
   ]
  },
  {
   "cell_type": "code",
   "execution_count": 33,
   "id": "085ec09b",
   "metadata": {
    "vscode": {
     "languageId": "shellscript"
    }
   },
   "outputs": [
    {
     "name": "stdout",
     "output_type": "stream",
     "text": [
      "7\n",
      "Python programming is amazing!\n",
      "Python programming is fun!\n",
      "-1\n",
      "2\n"
     ]
    }
   ],
   "source": [
    "text = \"Python programming is fun!\"\n",
    "\n",
    "# Find the index of the first occurrence of a substring\n",
    "print(text.index(\"programming\"))  # Returns the index of the first occurrence of 'programming': 7\n",
    "\n",
    "# Replace all occurrences of a substring with another substring\n",
    "print(text.replace(\"fun\", \"amazing\"))  # Replaces 'fun' with 'amazing': 'Python programming is amazing!'\n",
    "\n",
    "# Replace a substring with another substring (no match in this case)\n",
    "print(text.replace(\"FuN\", \"Amazing\"))  # 'FuN' is not found, so the original string is returned unchanged\n",
    "\n",
    "# Find the first occurrence of a substring\n",
    "print(text.find(\"Pro\"))  # Finds 'Pro' and returns the index position: -1 (because it's case-sensitive and not found)\n",
    "\n",
    "# Count the occurrences of a substring in the string\n",
    "print(text.count(\"o\"))  # Counts occurrences of 'o': 2\n"
   ]
  },
  {
   "cell_type": "code",
   "execution_count": null,
   "id": "04e93c97",
   "metadata": {
    "vscode": {
     "languageId": "shellscript"
    }
   },
   "outputs": [],
   "source": [
    "print(\"Can you tell your full name again ?\", end =\"039  \")          #Ask user for their name\n",
    "first_name, last_name = input().strip().title().split(\" \")          # strip away blank spaces and capitalise\n",
    "# title function and strip function are methods here\n",
    "print(f\"Hello, {name}\", first_name, end = \"\\n\")                     #F string makes it possible to enter variable inside quotes\n",
    "\n",
    "#Ask user for their friend's name\n",
    "friend_name = input(\"What's your best friend's name ?\").strip().title()\n",
    "print(\"Say Hello to \" + friend_name)"
   ]
  },
  {
   "cell_type": "code",
   "execution_count": null,
   "id": "43426a37",
   "metadata": {
    "vscode": {
     "languageId": "shellscript"
    }
   },
   "outputs": [],
   "source": [
    "valid = name.isalpha()\n",
    "print(valid)\n",
    "'''name.isalpha() returns a boolean value. \n",
    "If every character in the string is an alphabet and \n",
    "the string is non-empty, it returns True, and False otherwise\n",
    "above string is considered as docstring as it is right after a function\n",
    "'''"
   ]
  },
  {
   "cell_type": "code",
   "execution_count": null,
   "id": "87b51512",
   "metadata": {
    "vscode": {
     "languageId": "shellscript"
    }
   },
   "outputs": [],
   "source": [
    "#The Python string translate() method replaces each character in the string \n",
    "#using the given mapping table or dictionary.\n",
    "\n",
    "s = 'abc12321cba'                     #Here, s is variable and abc12321cba is a literal \n",
    "print(s.translate({ord('b'): None}))\n",
    "\n",
    "s1 = input(\"Enter a string s1: \")\n",
    "s2 = input(\"Enter another string s2: \")\n",
    "print(s1.translate({ord(i): None for i in s2}))"
   ]
  },
  {
   "cell_type": "markdown",
   "id": "b50f17c0",
   "metadata": {},
   "source": [
    "### Indexing"
   ]
  },
  {
   "cell_type": "code",
   "execution_count": 46,
   "id": "b4e5ef3e",
   "metadata": {
    "vscode": {
     "languageId": "shellscript"
    }
   },
   "outputs": [
    {
     "name": "stdout",
     "output_type": "stream",
     "text": [
      "5\n",
      "w\n",
      "o\n",
      "r\n",
      "l\n",
      "d\n",
      "w\n",
      "o\n",
      "r\n",
      "l\n",
      "d\n",
      "or\n",
      "or\n"
     ]
    }
   ],
   "source": [
    "#A string is a sequence of characters. Sequences support indexing.\n",
    "\n",
    "word = 'world'\n",
    "print(len(word))\n",
    "print(word[0])\n",
    "print(word[1])\n",
    "print(word[2])\n",
    "print(word[3])\n",
    "print(word[4])\n",
    "\n",
    "\n",
    "print(word[-5])\n",
    "print(word[-4])\n",
    "print(word[-3])\n",
    "print(word[-2])\n",
    "print(word[-1])\n",
    "\n",
    "\n",
    "word = 'world'\n",
    "print(word[-4 : 3])\n",
    "print(word[1 : -2])"
   ]
  },
  {
   "cell_type": "code",
   "execution_count": 53,
   "id": "530b5a04",
   "metadata": {
    "vscode": {
     "languageId": "shellscript"
    }
   },
   "outputs": [
    {
     "name": "stdout",
     "output_type": "stream",
     "text": [
      "Edu\n",
      "Euain\n",
      "ion\n",
      "noitacudE\n"
     ]
    }
   ],
   "source": [
    "s = 'Education'\n",
    "\n",
    "print(s[0:3]) # str: get the first 3 characters of s\n",
    "\n",
    "print(s[0:len(s):2]) # str: get every second character of s\n",
    "\n",
    "print(s[-3:]) # str: get the last 3 characters of s\n",
    "\n",
    "print(s[::-1]) # str: get the reverse of s"
   ]
  },
  {
   "cell_type": "code",
   "execution_count": 52,
   "id": "034c7e6a",
   "metadata": {
    "vscode": {
     "languageId": "shellscript"
    }
   },
   "outputs": [
    {
     "name": "stdout",
     "output_type": "stream",
     "text": [
      "CS\n",
      "10\n",
      "014\n",
      "iitm\n",
      "CS_10_014\n",
      "iitm.ac.in\n"
     ]
    }
   ],
   "source": [
    "# Slicing\n",
    "\n",
    "\n",
    "email = 'CS_10_014@iitm.ac.in'\n",
    "branch = email[0 : 2]\n",
    "print(branch)\n",
    "print(email[3 : 5])\n",
    "print(email[6 : 9])\n",
    "print(email[10 : 14])\n",
    "\n",
    "\n",
    "in_roll = email[ : 9]\n",
    "print(in_roll)\n",
    "\n",
    "\n",
    "\n",
    "email = 'CS_10_014@iitm.ac.in'\n",
    "domain = email[-10 : ]\n",
    "print(domain)"
   ]
  },
  {
   "cell_type": "code",
   "execution_count": 39,
   "id": "2169970b",
   "metadata": {
    "vscode": {
     "languageId": "shellscript"
    }
   },
   "outputs": [
    {
     "name": "stdout",
     "output_type": "stream",
     "text": [
      "bat\n"
     ]
    }
   ],
   "source": [
    "original_string = \"bad\"\n",
    "index = 2\n",
    "\n",
    "# ``t`` will replace ``d`\n",
    "new_character = \"t\"\n",
    "\n",
    "original_string = original_string[:index] + new_character + original_string[index + 1:]\n",
    "\n",
    "print(original_string)"
   ]
  },
  {
   "cell_type": "code",
   "execution_count": 59,
   "id": "3a446b32",
   "metadata": {
    "vscode": {
     "languageId": "shellscript"
    }
   },
   "outputs": [
    {
     "name": "stdout",
     "output_type": "stream",
     "text": [
      "True\n",
      "True\n",
      "True\n"
     ]
    }
   ],
   "source": [
    "# To find if a word has a letter \n",
    "\n",
    "word1 = 'hello'\n",
    "has_h = word1 != word1.replace('h',\"\") # bool: True if word1 has the letter h\n",
    "print(has_h)\n",
    "has_h = word1.find('h') != -1\n",
    "print(has_h)\n",
    "has_h = 'h' in word1\n",
    "print(has_h)\n",
    "\n"
   ]
  },
  {
   "cell_type": "code",
   "execution_count": 60,
   "id": "3d86923b",
   "metadata": {
    "vscode": {
     "languageId": "shellscript"
    }
   },
   "outputs": [
    {
     "name": "stdout",
     "output_type": "stream",
     "text": [
      "True\n",
      "True\n"
     ]
    }
   ],
   "source": [
    "# To find if a sentence has a word python\n",
    "\n",
    "sentence = 'I like programming in python'\n",
    "has_the_word_python = sentence != sentence.replace('python',\"\") # bool: True if the sentence has the word python\n",
    "print(has_the_word_python)\n",
    "has_the_word_python = \"python\" in sentence.lower()\n",
    "print(has_the_word_python)\n",
    "has_the_word_python = sentence.lower().find(\"python\") != -1\n",
    "print(has_the_word_python)\n",
    "\n",
    "print(has_the_word_python)"
   ]
  },
  {
   "cell_type": "markdown",
   "id": "649bb863",
   "metadata": {},
   "source": [
    "### Lexicography\n",
    "https://www.unicode.org/charts/          unicode charts  \n",
    "go to latin script, ascii code for english "
   ]
  },
  {
   "cell_type": "code",
   "execution_count": null,
   "id": "5c1ce692",
   "metadata": {
    "vscode": {
     "languageId": "shellscript"
    }
   },
   "outputs": [],
   "source": [
    "x = 'India'\n",
    "print(x == 'India')\n",
    "print(x == 'india')"
   ]
  },
  {
   "cell_type": "code",
   "execution_count": 45,
   "id": "c3a63817",
   "metadata": {
    "vscode": {
     "languageId": "shellscript"
    }
   },
   "outputs": [
    {
     "name": "stdout",
     "output_type": "stream",
     "text": [
      "97 98\n",
      "97 65\n",
      "'a' < 'b' True\n",
      "'good' > 'bad' True\n",
      "'nine' < 'one' True\n",
      "'a' < 'ab' < 'abc' < 'b' True\n",
      "False\n",
      "True\n"
     ]
    }
   ],
   "source": [
    "'''The first characters from the two strings are compared. \n",
    "If they differ this determines the outcome of the comparison\n",
    "If they are equal, then the second character of both the strings are compared.\n",
    "'''\n",
    "print(ord('a'), ord('b'))\n",
    "print(ord('a'), ord('A'))\n",
    "\n",
    "print(\"'a' < 'b'\",'a' < 'b')\n",
    "\n",
    "print(\"'good' > 'bad'\",'good' > 'bad')\n",
    "print(\"'nine' < 'one'\",'nine' < 'one' )\n",
    "print(\"'a' < 'ab' < 'abc' < 'b'\",'a' < 'ab' < 'abc' < 'b')\n",
    "\n",
    "print('abc'<'ab')\n",
    "print('abc'>'ab')"
   ]
  },
  {
   "cell_type": "code",
   "execution_count": null,
   "id": "c5985804",
   "metadata": {
    "vscode": {
     "languageId": "shellscript"
    }
   },
   "outputs": [],
   "source": [
    "a = 'good'\n",
    "b = 'very good'\n",
    "present = a in b\n",
    "print(present)\n",
    "not_present = b in a\n",
    "print(not_present)"
   ]
  },
  {
   "cell_type": "markdown",
   "id": "47346386",
   "metadata": {},
   "source": [
    "# Numbers\n",
    " https://docs.python.org/3/library/functions.html\n"
   ]
  },
  {
   "cell_type": "code",
   "execution_count": 3,
   "id": "f7144e5e",
   "metadata": {
    "vscode": {
     "languageId": "shellscript"
    }
   },
   "outputs": [
    {
     "name": "stdout",
     "output_type": "stream",
     "text": [
      "False <class 'bool'>\n",
      "2.2 <class 'float'>\n"
     ]
    }
   ],
   "source": [
    "sit = 2\n",
    "alex = False  # F capital\n",
    "Sid = True    # T capital\n",
    "x = 2.2\n",
    "\n",
    "print(alex, type(alex))\n",
    "print(x, type(x))\n"
   ]
  },
  {
   "cell_type": "code",
   "execution_count": 15,
   "id": "65bb0421",
   "metadata": {
    "vscode": {
     "languageId": "shellscript"
    }
   },
   "outputs": [
    {
     "name": "stdout",
     "output_type": "stream",
     "text": [
      "([2, 5, 7], [4, 7, 9]) <class 'tuple'>\n",
      "[4, 7, 9] <class 'list'>\n",
      "7 <class 'int'>\n",
      "[1, 2, 3] <class 'list'>\n",
      "1 <class 'int'>\n"
     ]
    }
   ],
   "source": [
    "A = ( [ 2, 5, 7 ],\n",
    "      [ 4, 7, 9 ] )\n",
    "print(A,type(A))\n",
    "print(A[1], type(A[1]))\n",
    "print(A[1][1], type(A[1][1]))\n",
    "\n",
    "l = [1,2,3]\n",
    "print(l, type(l))\n",
    "print(l[0], type(l[0]))"
   ]
  },
  {
   "cell_type": "code",
   "execution_count": null,
   "id": "c407b245",
   "metadata": {
    "vscode": {
     "languageId": "shellscript"
    }
   },
   "outputs": [],
   "source": [
    "numbers = range(10)   #this is a sequence which can be iterated upon\n",
    "print(numbers)"
   ]
  },
  {
   "cell_type": "code",
   "execution_count": 12,
   "id": "4fa08e2d",
   "metadata": {
    "vscode": {
     "languageId": "shellscript"
    }
   },
   "outputs": [
    {
     "name": "stdout",
     "output_type": "stream",
     "text": [
      "6\n",
      "5\n",
      "10\n",
      "5.0\n"
     ]
    }
   ],
   "source": [
    "count = 5\n",
    "count += 1   # count = count+1\n",
    "print(count)\n",
    "count -= 1\n",
    "print(count)\n",
    "count *= 2\n",
    "print(count)\n",
    "count /= 2\n",
    "print(count)"
   ]
  },
  {
   "cell_type": "markdown",
   "id": "5a2e5ac6",
   "metadata": {},
   "source": [
    "### Type conversion or type casting"
   ]
  },
  {
   "cell_type": "code",
   "execution_count": 11,
   "id": "19f35b82",
   "metadata": {
    "vscode": {
     "languageId": "shellscript"
    }
   },
   "outputs": [
    {
     "name": "stdout",
     "output_type": "stream",
     "text": [
      "2 <class 'str'> 2 <class 'str'>\n",
      "2 <class 'int'>\n",
      "5.77 <class 'float'> 5 <class 'float'>\n",
      "5 <class 'int'>\n"
     ]
    },
    {
     "data": {
      "text/plain": [
       "\"print(type(b), int(b)) would result into an error, Python raises an error because int() can only convert strings that represent whole numbers (like '2' or '5') into integers\""
      ]
     },
     "execution_count": 11,
     "metadata": {},
     "output_type": "execute_result"
    }
   ],
   "source": [
    "#String to integer/float conversion\n",
    "#Float to integer conversion \n",
    "\n",
    "a = '2'\n",
    "print(a, type(a), int(a), type(a))\n",
    "\n",
    "a = int('2')\n",
    "print(a, type(a))\n",
    "\n",
    "b = 5.77\n",
    "print(b, type(b), int(b), type(b))\n",
    "\n",
    "b = int(5.77)\n",
    "print(b, type(b))\n",
    "\n",
    "b = '2.2'\n",
    "'''print(type(b), int(b)) would result into an error, Python raises an error because int() can only convert strings that represent whole numbers (like '2' or '5') into integers'''\n"
   ]
  },
  {
   "cell_type": "code",
   "execution_count": 12,
   "id": "a12a0076",
   "metadata": {
    "vscode": {
     "languageId": "shellscript"
    }
   },
   "outputs": [
    {
     "name": "stdout",
     "output_type": "stream",
     "text": [
      "9 <class 'str'>\n",
      "5.3 <class 'str'>\n"
     ]
    }
   ],
   "source": [
    "#Integer/float to string conversion\n",
    "\n",
    "a = str(9)\n",
    "print(a, type(a))\n",
    "\n",
    "b = str(5.3)\n",
    "print(b, type(b))"
   ]
  },
  {
   "cell_type": "code",
   "execution_count": 15,
   "id": "f6407f7a",
   "metadata": {
    "vscode": {
     "languageId": "shellscript"
    }
   },
   "outputs": [
    {
     "name": "stdout",
     "output_type": "stream",
     "text": [
      "True <class 'bool'>\n",
      "False <class 'bool'>\n",
      "True <class 'bool'>\n",
      "True <class 'bool'>\n",
      "False <class 'bool'>\n"
     ]
    }
   ],
   "source": [
    "#Integer/float to Boolean conversion\n",
    "\n",
    "a = bool(10)\n",
    "b = bool(0)\n",
    "c = bool(-10)\n",
    "d = bool(-10.99)\n",
    "e = bool(0.00)\n",
    "print(a, type(a))\n",
    "print(b, type(b))\n",
    "print(c, type(c))\n",
    "print(d, type(d))\n",
    "print(e, type(e))"
   ]
  },
  {
   "cell_type": "code",
   "execution_count": 16,
   "id": "1e530647",
   "metadata": {
    "vscode": {
     "languageId": "shellscript"
    }
   },
   "outputs": [
    {
     "name": "stdout",
     "output_type": "stream",
     "text": [
      "True <class 'bool'>\n",
      "True <class 'bool'>\n",
      "True <class 'bool'>\n",
      "True <class 'bool'>\n",
      "True <class 'bool'>\n",
      "False <class 'bool'>\n"
     ]
    }
   ],
   "source": [
    "#String to Boolean conversion\n",
    "\n",
    "a = bool('India')\n",
    "b = bool('10')\n",
    "c = bool('-10.33')\n",
    "d = bool('0')\n",
    "e = bool('0.00')\n",
    "f = bool('')\n",
    "print(a, type(a))\n",
    "print(b, type(b))\n",
    "print(c, type(c))\n",
    "print(d, type(d))\n",
    "print(e, type(e))\n",
    "print(f, type(f))"
   ]
  },
  {
   "cell_type": "markdown",
   "id": "796f2b73",
   "metadata": {},
   "source": [
    "### Integer"
   ]
  },
  {
   "cell_type": "code",
   "execution_count": 4,
   "id": "6f221d7c",
   "metadata": {
    "vscode": {
     "languageId": "shellscript"
    }
   },
   "outputs": [
    {
     "name": "stdout",
     "output_type": "stream",
     "text": [
      "concatenation 56\n",
      "The type of x is <class 'str'>\n",
      "No, the correct sum of inetegers is 11\n"
     ]
    }
   ],
   "source": [
    "'''x += a\tx = x + a\n",
    "x -= a\tx = x - a\n",
    "x *= a\tx = x * a\n",
    "x /= a\tx = x / a\n",
    "x %= a\tx = x % a\n",
    "x **= a\tx = x ** a'''\n",
    "\n",
    "x = input(\"what's x ?\")\n",
    "y = input(\"What's y ?\")\n",
    "z = x+y\n",
    "print(\"concatenation\", z)           #Concatenation\n",
    "print('The type of x is', type(x))\n",
    "\n",
    "#type conversion #int function will convert input to integer type\n",
    "z = int(x) \\\n",
    "    + int(y)       # int is not only a data type but also a function\n",
    "print(\"No, the correct sum of inetegers is\", z)"
   ]
  },
  {
   "cell_type": "code",
   "execution_count": 1,
   "id": "4bb02fd6",
   "metadata": {
    "vscode": {
     "languageId": "shellscript"
    }
   },
   "outputs": [
    {
     "name": "stdout",
     "output_type": "stream",
     "text": [
      "1 2\n",
      "The type of x is <class 'int'>\n"
     ]
    }
   ],
   "source": [
    "x, y = 1, 2\n",
    "print(x, y)\n",
    "print('The type of x is', type(x))"
   ]
  },
  {
   "cell_type": "code",
   "execution_count": 3,
   "id": "304d4022",
   "metadata": {
    "vscode": {
     "languageId": "shellscript"
    }
   },
   "outputs": [
    {
     "name": "stdout",
     "output_type": "stream",
     "text": [
      "11\n",
      "sum 11\n"
     ]
    }
   ],
   "source": [
    "x = int(input(\"what's x again?\"))  #nesting of functions\n",
    "y = int(input(\"What's y again?\"))\n",
    "\n",
    "print(x+y)\n",
    "\n",
    "print(\"sum\", int(input(\"What's x ?\"))+int(input(\"What's y ?\")))      #nesting of functions"
   ]
  },
  {
   "cell_type": "code",
   "execution_count": 48,
   "id": "4cb2856c",
   "metadata": {
    "vscode": {
     "languageId": "shellscript"
    }
   },
   "outputs": [
    {
     "name": "stdout",
     "output_type": "stream",
     "text": [
      "14\n",
      "sum 17\n",
      "Division 3.6666666666666665 <class 'float'>\n",
      "Remainder 2 <class 'int'>\n",
      "floor division 3; exponentiation 1331 <class 'int'> <class 'int'>\n"
     ]
    }
   ],
   "source": [
    "'''\n",
    "#round() accepts a number as input and returns integer closest to it\n",
    "#abs() accepts a number as input and returns its absolute value\n",
    "int() - If an integer enclosed within quotes is entered as input, then the output is that integer. int('123') is 123. \n",
    "If a float is entered as input, then the decimal part is thrown away and the integer part is returned. int(1.2) returns 1\n",
    "If a float is passed in the form of a string, a ValueError will be thrown- int('2.5')\n",
    "isinstance() is used to check if an object is of a specified type. \n",
    "For example isinstance(3, int) returns the value True as the literal 3 is of type int\n",
    "pow(x, y, z) gives the remainder when x^y is divided by z\n",
    "pow(x, y) returns the value of x^y or x**y\n",
    "'''\n",
    "\n",
    "x = int(input(\"what's x again?\"))  #nesting of functions\n",
    "y = int(input(\"What's y again?\")) \n",
    "\n",
    "print(x+y)\n",
    "\n",
    "print(\"sum\", int(input(\"What's x ?\"))+int(input(\"What's y ?\")))      #nesting of functions\n",
    "\n",
    "z = x/y\n",
    "print(\"Division\", z, type(z))\n",
    "\n",
    "z = x % y #Modulo\n",
    "print(\"Remainder\", z, type(z))\n",
    "\n",
    "z1 = x//y   #floor division\n",
    "z2 = x**y\n",
    "print('floor division {}; exponentiation {}'.format(z1, z2), type(z1), type(z2))"
   ]
  },
  {
   "cell_type": "code",
   "execution_count": 49,
   "id": "e7625da8",
   "metadata": {
    "vscode": {
     "languageId": "shellscript"
    }
   },
   "outputs": [
    {
     "name": "stdout",
     "output_type": "stream",
     "text": [
      "2\n"
     ]
    },
    {
     "data": {
      "text/plain": [
       "' (2 ** 3) ** 0 or 2 ** (3 ** 0) The interpreter is following the second way, i.e., the statement is being executed from right to left. \\nThis kind of execution happens only in the case of the exponentiation operator and the assignment operator. It is good to know that this behavior is a part of the language.\\n'"
      ]
     },
     "execution_count": 49,
     "metadata": {},
     "output_type": "execute_result"
    }
   ],
   "source": [
    "\n",
    "print(2 ** 3 ** 0)\n",
    "\n",
    "''' (2 ** 3) ** 0 or 2 ** (3 ** 0) The interpreter is following the second way, i.e., the statement is being executed from right to left. \n",
    "This kind of execution happens only in the case of the exponentiation operator and the assignment operator. It is good to know that this behavior is a part of the language.\n",
    "'''\n",
    "\n",
    "#interactive python mode- not needed to save a .py file; type python in terminal window and three arrows appear; any line of code is interpreted immediately;\n",
    "#use exit() or ctrl+z+enter to exit"
   ]
  },
  {
   "cell_type": "markdown",
   "id": "af4174b4",
   "metadata": {},
   "source": [
    " Modulo function - The modulo operation works naturally with zero-based numbers. \n",
    "\n",
    " Get age(int), dob(str of format \"dd/mm/yy\") and weight(float) from the standard input and print the tenth_month formatted as \"day/month/year\"(do not include the preceeding zero for single digit number) separated by comma and a space"
   ]
  },
  {
   "cell_type": "code",
   "execution_count": 61,
   "id": "7efbe825",
   "metadata": {
    "vscode": {
     "languageId": "shellscript"
    }
   },
   "outputs": [
    {
     "name": "stdout",
     "output_type": "stream",
     "text": [
      "1/6/2000\n",
      "1/12/1999\n"
     ]
    }
   ],
   "source": [
    "dob = '01/08/1999'     # str or Read a string of format dd/mm/yy from standard input\n",
    "day, month, year = int(dob[0:2]), int(dob[3:5]), int(dob[6:]) # int, int, int: Get the correct parts from dob as int\n",
    "tenth_month = str(day) + '/' + str((month+10)%12) + '/' + str(year+((month+10)//12))      # str: dob same day after 10 months formatted as day/month/year\n",
    "print(tenth_month)\n",
    "\n",
    "''' But this doesnt work when month is Feb because we are using modulo function which works with zero based numbers. \n",
    "Here, we assigned 1 to January, so Feb is 2 and 2 + 10 = 12 ; 12%12 = 0 and 12//12 = 1 corresponding to next year and zero month'''\n",
    "\n",
    "dob = '01/02/1999'     # str or Read a string of format dd/mm/yy from standard input\n",
    "day, month, year = int(dob[0:2]), int(dob[3:5]), int(dob[6:]) # int, int, int: Get the correct parts from dob as int\n",
    "tenth_month = str(day) + '/' + str(((month-1+10)%12)+1) + '/' + str(year+((month-1+10)//12))      # str: dob same day after 10 months formatted as day/month/year\n",
    "print(tenth_month)\n"
   ]
  },
  {
   "cell_type": "markdown",
   "id": "74e87e32",
   "metadata": {},
   "source": [
    "### Float"
   ]
  },
  {
   "cell_type": "code",
   "execution_count": 77,
   "id": "db12f30e",
   "metadata": {
    "vscode": {
     "languageId": "shellscript"
    }
   },
   "outputs": [
    {
     "ename": "ValueError",
     "evalue": "could not convert string to float: ''",
     "output_type": "error",
     "traceback": [
      "\u001b[1;31m---------------------------------------------------------------------------\u001b[0m",
      "\u001b[1;31mValueError\u001b[0m                                Traceback (most recent call last)",
      "Cell \u001b[1;32mIn[77], line 3\u001b[0m\n\u001b[0;32m      1\u001b[0m \u001b[38;5;66;03m#Float is real number; its a data type similar to int or string\u001b[39;00m\n\u001b[1;32m----> 3\u001b[0m x \u001b[38;5;241m=\u001b[39m \u001b[38;5;28mfloat\u001b[39m(\u001b[38;5;28minput\u001b[39m(\u001b[38;5;124m\"\u001b[39m\u001b[38;5;124mWhat\u001b[39m\u001b[38;5;124m'\u001b[39m\u001b[38;5;124ms x?\u001b[39m\u001b[38;5;124m\"\u001b[39m))  \u001b[38;5;66;03m#enter decimal point\u001b[39;00m\n\u001b[0;32m      4\u001b[0m y \u001b[38;5;241m=\u001b[39m \u001b[38;5;28mfloat\u001b[39m(\u001b[38;5;28minput\u001b[39m(\u001b[38;5;124m\"\u001b[39m\u001b[38;5;124mWhat\u001b[39m\u001b[38;5;124m'\u001b[39m\u001b[38;5;124ms y?\u001b[39m\u001b[38;5;124m\"\u001b[39m))\n\u001b[0;32m      6\u001b[0m \u001b[38;5;66;03m# https://docs.python.org/3/library/functions.html#round\u001b[39;00m\n",
      "\u001b[1;31mValueError\u001b[0m: could not convert string to float: ''"
     ]
    }
   ],
   "source": [
    "#Float is real number; its a data type similar to int or string\n",
    "\n",
    "x = float(input(\"What's x?\"))  #enter decimal point\n",
    "y = float(input(\"What's y?\"))\n",
    "\n",
    "# https://docs.python.org/3/library/functions.html#round\n",
    "z = round(x+y)\n",
    "print(f\"{z:,}\")  #formatting numbers\n",
    "\n",
    "z= x/y\n",
    "print(z, type(z))\n",
    "\n",
    "z = f'{z:10.1f}'\n",
    "print(z)\n",
    "\n",
    "z = round(x/y , 2)\n",
    "print(z)\n",
    "\n",
    "z = x/y\n",
    "print(f\"{z:0.3f}\")"
   ]
  },
  {
   "cell_type": "code",
   "execution_count": 51,
   "id": "20910573",
   "metadata": {
    "vscode": {
     "languageId": "shellscript"
    }
   },
   "outputs": [
    {
     "name": "stdout",
     "output_type": "stream",
     "text": [
      "2.0\n",
      "2\n",
      "2.0\n",
      "2.0\n"
     ]
    }
   ],
   "source": [
    "'''The division operation will always produce a float value irrespective of the operands involved. \n",
    "For example, in the expression a / b, even if a and b are integers such that a is divisible by b, \n",
    "the result will still be a float. '''\n",
    "\n",
    "print(10 / 5)\n",
    "\n",
    "''' For any arithmetic operation, even if one of the operands is float, \n",
    "the resulting value is a float. '''\n",
    "\n",
    "print(10 // 5)\n",
    "print(10.0 // 5)\n",
    "print(10 // 5.0)"
   ]
  },
  {
   "cell_type": "markdown",
   "id": "bb00d3da",
   "metadata": {},
   "source": [
    "### F string\n",
    "F-strings, also known as **formatted string literals**, were introduced in Python 3.6 and are a concise and readable way to format strings. They automatically handle type conversion, making it easier to work with variables of different types when constructing strings.\n",
    "\n",
    "F-strings make it easier to work with string formatting, especially when dealing with multiple data types or when you want to embed expressions within strings. "
   ]
  },
  {
   "cell_type": "code",
   "execution_count": 54,
   "id": "baade096",
   "metadata": {
    "vscode": {
     "languageId": "shellscript"
    }
   },
   "outputs": [
    {
     "name": "stdout",
     "output_type": "stream",
     "text": [
      "9-10-2024\n"
     ]
    },
    {
     "data": {
      "text/plain": [
       "\"Here, the `format()` method takes the `day`, `month`, and `year` and \\ninjects them into the string, \\nbut you don't have the option to directly include variables inside the string like you do with f-strings.\""
      ]
     },
     "execution_count": 54,
     "metadata": {},
     "output_type": "execute_result"
    }
   ],
   "source": [
    "# Without F-strings: MANUALLY CONVERT INTEGER TO STRINGS\n",
    "# In this method, you would manually convert integers to strings when combining them.\n",
    "\n",
    "\n",
    "day = 9\n",
    "month = 10\n",
    "year = 2024\n",
    "\n",
    "formatted_date = \"{}-{}-{}\".format(day, month, year)    \n",
    "print(formatted_date)  # Output: 9-10-2024\n",
    "\n",
    "\n",
    "'''Here, the `format()` method takes the `day`, `month`, and `year` and \n",
    "injects them into the string, \n",
    "but you don't have the option to directly include variables inside the string like you do with f-strings.'''"
   ]
  },
  {
   "cell_type": "code",
   "execution_count": null,
   "id": "81920fe1",
   "metadata": {
    "vscode": {
     "languageId": "shellscript"
    }
   },
   "outputs": [],
   "source": [
    "# With F-strings:\n",
    "# F-strings are much cleaner and automatically handle type conversion, so you don’t have to manually convert integers to strings.\n",
    "\n",
    "day = 9\n",
    "month = 10\n",
    "year = 2024\n",
    "\n",
    "formatted_date = f\"{day:02d}-{month:02d}-{year}\"\n",
    "print(formatted_date)  # Output: 09-10-2024\n",
    "\n",
    "\n",
    "'''In this example:\n",
    "- The `f` before the string tells Python to evaluate the variables inside the curly braces `{}`.'''"
   ]
  },
  {
   "cell_type": "markdown",
   "id": "5fce2080",
   "metadata": {},
   "source": [
    "##### Comparison: Key Benefits of F-strings\n",
    "\n",
    "1. **Cleaner Syntax**: F-strings allow you to embed variables directly into the string without needing to call methods like `format()` or use concatenation (`+`).\n",
    "2. **Automatic Type Conversion**: You don’t need to worry about converting types manually. F-strings handle it for you.\n",
    "3. **More Readable**: Since variables are embedded directly inside the string, it's easier to read and understand the code."
   ]
  },
  {
   "cell_type": "code",
   "execution_count": 55,
   "id": "4e9e6001",
   "metadata": {
    "vscode": {
     "languageId": "shellscript"
    }
   },
   "outputs": [
    {
     "name": "stdout",
     "output_type": "stream",
     "text": [
      "My name is Kavish and I am 30 years old.\n",
      "The area of the rectangle is 15.\n",
      "Pi rounded to two decimal places is 3.14.\n"
     ]
    }
   ],
   "source": [
    "\n",
    "\n",
    "name = \"Kavish\"\n",
    "age = 30\n",
    "print(f\"My name is {name} and I am {age} years old.\")  # Output: My name is Kavish and I am 30 years old.\n",
    "  \n",
    "\n",
    "# Expressions inside F-strings:\n",
    "    \n",
    "length = 5\n",
    "width = 3\n",
    "print(f\"The area of the rectangle is {length * width}.\")  # Output: The area of the rectangle is 15.\n",
    "\n",
    "\n",
    "# Float formatting:\n",
    "    \n",
    "pi = 3.14159\n",
    "print(f\"Pi rounded to two decimal places is {pi:.2f}.\")  # Output: Pi rounded to two decimal places is 3.14.\n"
   ]
  },
  {
   "cell_type": "markdown",
   "id": "05dd260d",
   "metadata": {},
   "source": [
    "### Random number generation"
   ]
  },
  {
   "cell_type": "code",
   "execution_count": null,
   "id": "9626db48",
   "metadata": {
    "vscode": {
     "languageId": "shellscript"
    }
   },
   "outputs": [],
   "source": [
    "\n",
    "import random\n",
    "print(random.random())          #print a random number between 0 and 1\n",
    "print(random.randint(1, 6))\n",
    "\n",
    "\n"
   ]
  },
  {
   "cell_type": "code",
   "execution_count": 4,
   "id": "da1fbd83",
   "metadata": {
    "vscode": {
     "languageId": "shellscript"
    }
   },
   "outputs": [
    {
     "name": "stdout",
     "output_type": "stream",
     "text": [
      "P(H) = 0.7\n"
     ]
    }
   ],
   "source": [
    "\n",
    "import random\n",
    "n = int(input(\"Enter number of tosses\"))\n",
    "# n = 10\n",
    "heads = 0\n",
    "for i in range(n):\n",
    "    toss = random.choice('HT')\n",
    "    if toss == 'H':\n",
    "        heads += 1\n",
    "print(f'P(H) = {heads / n}')\n"
   ]
  }
 ],
 "metadata": {
  "kernelspec": {
   "display_name": "Python 3",
   "language": "python",
   "name": "python3"
  },
  "language_info": {
   "codemirror_mode": {
    "name": "ipython",
    "version": 3
   },
   "file_extension": ".py",
   "mimetype": "text/x-python",
   "name": "python",
   "nbconvert_exporter": "python",
   "pygments_lexer": "ipython3",
   "version": "3.12.3"
  }
 },
 "nbformat": 4,
 "nbformat_minor": 5
}
