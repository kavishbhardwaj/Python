{
 "cells": [
  {
   "cell_type": "markdown",
   "metadata": {},
   "source": [
    "# Import libraries"
   ]
  },
  {
   "cell_type": "code",
   "execution_count": null,
   "metadata": {},
   "outputs": [
    {
     "name": "stdout",
     "output_type": "stream",
     "text": [
      "Random float between 0 and 1: 0.8420408340651778\n",
      "Random integer between 1 and 20: 4\n",
      "Random number from range(10, 50, 5): 30\n",
      "Random number from range(10, 20) without step size: 19\n",
      "Random choice from list: banana\n",
      "Shuffled list: [5, 1, 4, 2, 3]\n"
     ]
    }
   ],
   "source": [
    "# Importing the entire random library\n",
    "import random\n",
    "\n",
    "# Generate a random floating-point number between 0 and 1\n",
    "random_float = random.random()\n",
    "print(\"Random float between 0 and 1:\", random_float)\n",
    "\n",
    "# Generate a random integer between 1 and 20\n",
    "random_int = random.randint(1, 20)\n",
    "print(\"Random integer between 1 and 20:\", random_int)\n",
    "\n",
    "# Generate a random number from a range with a step size of 5 (range(10, 50, 5))\n",
    "random_range_with_step = random.randrange(10, 50, 5)\n",
    "print(\"Random number from range(10, 50, 5):\", random_range_with_step)\n",
    "\n",
    "# Generate a random number from a range without specifying a step size (defaults to step size of 1)\n",
    "random_range_no_step = random.randrange(10, 20)\n",
    "print(\"Random number from range(10, 20) without step size:\", random_range_no_step)\n",
    "\n",
    "# Choose a random element from a list\n",
    "random_choice = random.choice(['apple', 'banana', 'cherry'])\n",
    "print(\"Random choice from list:\", random_choice)\n",
    "\n",
    "# Shuffle a list randomly\n",
    "sample_list = [1, 2, 3, 4, 5]\n",
    "random.shuffle(sample_list)\n",
    "print(\"Shuffled list:\", sample_list)\n"
   ]
  },
  {
   "cell_type": "code",
   "execution_count": null,
   "metadata": {},
   "outputs": [
    {
     "name": "stdout",
     "output_type": "stream",
     "text": [
      "Factorial of 5: 120\n",
      "GCD of 54 and 24: 6\n",
      "Exponential of 3 (e^3): 20.085536923187668\n",
      "Value of pi: 3.141592653589793\n",
      "Logarithm of 1000 with base 10: 3.0\n",
      "2.302585092994046\n",
      "0.0\n",
      "9.486832980505138\n",
      "3628800\n",
      "9.0\n"
     ]
    }
   ],
   "source": [
    "# Importing the math library\n",
    "import math\n",
    "\n",
    "# Calculate the factorial of a number\n",
    "factorial_result = math.factorial(5)\n",
    "print(\"Factorial of 5:\", factorial_result)\n",
    "\n",
    "# Find the greatest common divisor (GCD) of two numbers\n",
    "gcd_result = math.gcd(54, 24)\n",
    "print(\"GCD of 54 and 24:\", gcd_result)\n",
    "\n",
    "# Calculate the exponential of a number (e^3)\n",
    "exponential_result = math.exp(3)\n",
    "print(\"Exponential of 3 (e^3):\", exponential_result)\n",
    "\n",
    "# Get the value of pi\n",
    "pi_value = math.pi\n",
    "print(\"Value of pi:\", pi_value)\n",
    "\n",
    "# Calculate the logarithm of 1000 with base 10\n",
    "log_result = math.log10(1000)\n",
    "print(\"Logarithm of 1000 with base 10:\", log_result)\n",
    "\n",
    "\n",
    "print(math.log(10))\n",
    "print(math.sin(0))\n",
    "print(math.sqrt(90))\n",
    "print(math.factorial(10))\n",
    "print(math.pow(3,2))"
   ]
  },
  {
   "cell_type": "code",
   "execution_count": 5,
   "metadata": {},
   "outputs": [
    {
     "name": "stdout",
     "output_type": "stream",
     "text": [
      "Current time in seconds since Epoch: 1734697958.2645495\n",
      "Fri Dec 20 18:02:38 2024\n",
      "Local time object: time.struct_time(tm_year=2024, tm_mon=12, tm_mday=20, tm_hour=18, tm_min=2, tm_sec=38, tm_wday=4, tm_yday=355, tm_isdst=0)\n",
      "Formatted local time: 2024-12-20 18:02:38\n",
      "Pausing execution for 2 seconds...\n",
      "Code execution resumed after sleep.\n"
     ]
    }
   ],
   "source": [
    "# Import the time library with an alias\n",
    "import time as tm\n",
    "\n",
    "# Get the current time in seconds since the Epoch\n",
    "current_time = tm.time()\n",
    "print(\"Current time in seconds since Epoch:\", current_time)\n",
    "\n",
    "print(time.ctime())\n",
    "\n",
    "# Get the local time as a structured time object\n",
    "local_time = tm.localtime(current_time)\n",
    "print(\"Local time object:\", local_time)\n",
    "\n",
    "# Format the current time as a human-readable string\n",
    "formatted_time = tm.strftime(\"%Y-%m-%d %H:%M:%S\", local_time)\n",
    "print(\"Formatted local time:\", formatted_time)\n",
    "\n",
    "# Pause the execution of code for 2 seconds\n",
    "print(\"Pausing execution for 2 seconds...\")\n",
    "tm.sleep(2)\n",
    "print(\"Code execution resumed after sleep.\")\n",
    "#sleep(x) is a function in time that suspends the execution of the program for x seconds\n",
    "\n"
   ]
  },
  {
   "cell_type": "code",
   "execution_count": 6,
   "metadata": {},
   "outputs": [
    {
     "name": "stdout",
     "output_type": "stream",
     "text": [
      "Full calendar of 2024:\n",
      "                                   2024\n",
      "\n",
      "      January                   February                   March\n",
      "Mo Tu We Th Fr Sa Su      Mo Tu We Th Fr Sa Su      Mo Tu We Th Fr Sa Su\n",
      " 1  2  3  4  5  6  7                1  2  3  4                   1  2  3\n",
      " 8  9 10 11 12 13 14       5  6  7  8  9 10 11       4  5  6  7  8  9 10\n",
      "15 16 17 18 19 20 21      12 13 14 15 16 17 18      11 12 13 14 15 16 17\n",
      "22 23 24 25 26 27 28      19 20 21 22 23 24 25      18 19 20 21 22 23 24\n",
      "29 30 31                  26 27 28 29               25 26 27 28 29 30 31\n",
      "\n",
      "       April                      May                       June\n",
      "Mo Tu We Th Fr Sa Su      Mo Tu We Th Fr Sa Su      Mo Tu We Th Fr Sa Su\n",
      " 1  2  3  4  5  6  7             1  2  3  4  5                      1  2\n",
      " 8  9 10 11 12 13 14       6  7  8  9 10 11 12       3  4  5  6  7  8  9\n",
      "15 16 17 18 19 20 21      13 14 15 16 17 18 19      10 11 12 13 14 15 16\n",
      "22 23 24 25 26 27 28      20 21 22 23 24 25 26      17 18 19 20 21 22 23\n",
      "29 30                     27 28 29 30 31            24 25 26 27 28 29 30\n",
      "\n",
      "        July                     August                  September\n",
      "Mo Tu We Th Fr Sa Su      Mo Tu We Th Fr Sa Su      Mo Tu We Th Fr Sa Su\n",
      " 1  2  3  4  5  6  7                1  2  3  4                         1\n",
      " 8  9 10 11 12 13 14       5  6  7  8  9 10 11       2  3  4  5  6  7  8\n",
      "15 16 17 18 19 20 21      12 13 14 15 16 17 18       9 10 11 12 13 14 15\n",
      "22 23 24 25 26 27 28      19 20 21 22 23 24 25      16 17 18 19 20 21 22\n",
      "29 30 31                  26 27 28 29 30 31         23 24 25 26 27 28 29\n",
      "                                                    30\n",
      "\n",
      "      October                   November                  December\n",
      "Mo Tu We Th Fr Sa Su      Mo Tu We Th Fr Sa Su      Mo Tu We Th Fr Sa Su\n",
      "    1  2  3  4  5  6                   1  2  3                         1\n",
      " 7  8  9 10 11 12 13       4  5  6  7  8  9 10       2  3  4  5  6  7  8\n",
      "14 15 16 17 18 19 20      11 12 13 14 15 16 17       9 10 11 12 13 14 15\n",
      "21 22 23 24 25 26 27      18 19 20 21 22 23 24      16 17 18 19 20 21 22\n",
      "28 29 30 31               25 26 27 28 29 30         23 24 25 26 27 28 29\n",
      "                                                    30 31\n",
      "\n"
     ]
    }
   ],
   "source": [
    "# Import the calendar library\n",
    "import calendar\n",
    "\n",
    "# Display the calendar for the year 2024\n",
    "calendar_year = calendar.calendar(2024)\n",
    "print(\"Full calendar of 2024:\\n\", calendar_year)\n",
    "\n"
   ]
  },
  {
   "cell_type": "code",
   "execution_count": 8,
   "metadata": {},
   "outputs": [
    {
     "name": "stdout",
     "output_type": "stream",
     "text": [
      "Calendar for October 2024:\n",
      "     October 2024\n",
      "Mo Tu We Th Fr Sa Su\n",
      "    1  2  3  4  5  6\n",
      " 7  8  9 10 11 12 13\n",
      "14 15 16 17 18 19 20\n",
      "21 22 23 24 25 26 27\n",
      "28 29 30 31\n",
      "\n",
      "Is 2024 a leap year? True\n",
      "Number of leap years between 2000 and 2024: 6\n",
      "    August 3000\n",
      "Mo Tu We Th Fr Sa Su\n",
      "             1  2  3\n",
      " 4  5  6  7  8  9 10\n",
      "11 12 13 14 15 16 17\n",
      "18 19 20 21 22 23 24\n",
      "25 26 27 28 29 30 31\n",
      "None\n",
      "4\n"
     ]
    }
   ],
   "source": [
    "import calendar\n",
    "\n",
    "\n",
    "# Get the calendar for a specific month (October 2024)\n",
    "oct_calendar = calendar.month(2024, 10)\n",
    "print(\"Calendar for October 2024:\\n\", oct_calendar)\n",
    "\n",
    "# Check if 2024 is a leap year\n",
    "is_leap = calendar.isleap(2024)\n",
    "print(\"Is 2024 a leap year?\", is_leap)\n",
    "\n",
    "# Count the number of leap years between 2000 and 2024\n",
    "leap_count = calendar.leapdays(2000, 2024)\n",
    "print(\"Number of leap years between 2000 and 2024:\", leap_count)\n",
    "\n",
    "print(calendar.prmonth(3000, 8))\n",
    "print(calendar.weekday(3000, 8, 15)) # Monday-0, Friday-6\n",
    "\n"
   ]
  },
  {
   "cell_type": "code",
   "execution_count": null,
   "metadata": {},
   "outputs": [
    {
     "name": "stdout",
     "output_type": "stream",
     "text": [
      "Value of pi using full library import: 3.141592653589793\n",
      "Random integer between 1 and 10 using direct import: 1\n",
      "Random choice from list using direct import: green\n",
      "Current time using alias import: 1728324421.2979891\n",
      "                                  2024\n",
      "\n",
      "      January                   February                   March\n",
      "Mo Tu We Th Fr Sa Su      Mo Tu We Th Fr Sa Su      Mo Tu We Th Fr Sa Su\n",
      " 1  2  3  4  5  6  7                1  2  3  4                   1  2  3\n",
      " 8  9 10 11 12 13 14       5  6  7  8  9 10 11       4  5  6  7  8  9 10\n",
      "15 16 17 18 19 20 21      12 13 14 15 16 17 18      11 12 13 14 15 16 17\n",
      "22 23 24 25 26 27 28      19 20 21 22 23 24 25      18 19 20 21 22 23 24\n",
      "29 30 31                  26 27 28 29               25 26 27 28 29 30 31\n",
      "\n",
      "       April                      May                       June\n",
      "Mo Tu We Th Fr Sa Su      Mo Tu We Th Fr Sa Su      Mo Tu We Th Fr Sa Su\n",
      " 1  2  3  4  5  6  7             1  2  3  4  5                      1  2\n",
      " 8  9 10 11 12 13 14       6  7  8  9 10 11 12       3  4  5  6  7  8  9\n",
      "15 16 17 18 19 20 21      13 14 15 16 17 18 19      10 11 12 13 14 15 16\n",
      "22 23 24 25 26 27 28      20 21 22 23 24 25 26      17 18 19 20 21 22 23\n",
      "29 30                     27 28 29 30 31            24 25 26 27 28 29 30\n",
      "\n",
      "        July                     August                  September\n",
      "Mo Tu We Th Fr Sa Su      Mo Tu We Th Fr Sa Su      Mo Tu We Th Fr Sa Su\n",
      " 1  2  3  4  5  6  7                1  2  3  4                         1\n",
      " 8  9 10 11 12 13 14       5  6  7  8  9 10 11       2  3  4  5  6  7  8\n",
      "15 16 17 18 19 20 21      12 13 14 15 16 17 18       9 10 11 12 13 14 15\n",
      "22 23 24 25 26 27 28      19 20 21 22 23 24 25      16 17 18 19 20 21 22\n",
      "29 30 31                  26 27 28 29 30 31         23 24 25 26 27 28 29\n",
      "                                                    30\n",
      "\n",
      "      October                   November                  December\n",
      "Mo Tu We Th Fr Sa Su      Mo Tu We Th Fr Sa Su      Mo Tu We Th Fr Sa Su\n",
      "    1  2  3  4  5  6                   1  2  3                         1\n",
      " 7  8  9 10 11 12 13       4  5  6  7  8  9 10       2  3  4  5  6  7  8\n",
      "14 15 16 17 18 19 20      11 12 13 14 15 16 17       9 10 11 12 13 14 15\n",
      "21 22 23 24 25 26 27      18 19 20 21 22 23 24      16 17 18 19 20 21 22\n",
      "28 29 30 31               25 26 27 28 29 30         23 24 25 26 27 28 29\n",
      "                                                    30 31\n",
      "\n",
      "Square root of 16 using import *: 4.0\n",
      "     March 2024\n",
      "Mo Tu We Th Fr Sa Su\n",
      "             1  2  3\n",
      " 4  5  6  7  8  9 10\n",
      "11 12 13 14 15 16 17\n",
      "18 19 20 21 22 23 24\n",
      "25 26 27 28 29 30 31\n",
      "\n",
      "Check if 2024 is a leap year using submodule import: True\n",
      "Random integer using alias for specific function: 5\n"
     ]
    }
   ],
   "source": [
    "# WAYS TO IMPORT A LIBRARY\n",
    "\n",
    "# 1. Import the entire library\n",
    "import math\n",
    "print(\"Value of pi using full library import:\", math.pi)  # Access functions using the dot notation, e.g., math.pi\n",
    "\n",
    "# 2. Import specific functions from a library\n",
    "from random import randint, choice\n",
    "print(\"Random integer between 1 and 10 using direct import:\", randint(1, 10))  # Directly use the imported function\n",
    "print(\"Random choice from list using direct import:\", choice(['red', 'green', 'blue']))\n",
    "\n",
    "# 3. Import a library with an alias\n",
    "import time as tm\n",
    "print(\"Current time using alias import:\", tm.time())  # Use the alias to access the function\n",
    "\n",
    "import calendar as c\n",
    "print(c.calendar(2024))\n",
    "\n",
    "# 4. Import all functions from a library using `from library import *`\n",
    "from math import *\n",
    "print(\"Square root of 16 using import *:\", sqrt(16))  # Directly use the function without prefix\n",
    "\n",
    "\n",
    "from calendar import *\n",
    "print(month(2024, 3))\n",
    "\n",
    "\n",
    "# 5. Import a submodule from a library\n",
    "from calendar import isleap\n",
    "print(\"Check if 2024 is a leap year using submodule import:\", isleap(2024))\n",
    "\n",
    "# 6. Import a library and use an alias for a specific function\n",
    "from random import randint as random_integer\n",
    "print(\"Random integer using alias for specific function:\", random_integer(1, 5))\n"
   ]
  },
  {
   "cell_type": "code",
   "execution_count": null,
   "metadata": {},
   "outputs": [],
   "source": [
    "import os\n",
    "\n",
    "# Get the current working directory\n",
    "current_directory = os.getcwd()\n",
    "print(\"Current working directory:\", current_directory)\n",
    "\n",
    "# List all files and directories in the current directory\n",
    "files_and_directories = os.listdir()\n",
    "print(\"Files and directories in current directory:\", files_and_directories)\n",
    "\n",
    "# Get the user's home directory\n",
    "home_directory = os.path.expanduser(\"~\")\n",
    "print(\"Home directory:\", home_directory)\n"
   ]
  },
  {
   "cell_type": "code",
   "execution_count": null,
   "metadata": {},
   "outputs": [],
   "source": [
    "import sys\n",
    "\n",
    "# Get the list of command-line arguments\n",
    "command_line_args = sys.argv\n",
    "print(\"Command-line arguments passed to the script:\", command_line_args)\n",
    "\n",
    "# Get the Python version\n",
    "python_version = sys.version\n",
    "print(\"Python version:\", python_version)\n",
    "\n",
    "# Get the platform information\n",
    "platform_info = sys.platform\n",
    "print(\"Platform info:\", platform_info)\n"
   ]
  },
  {
   "cell_type": "code",
   "execution_count": null,
   "metadata": {},
   "outputs": [],
   "source": [
    "import numpy as np\n",
    "\n",
    "# Create an array of numbers from 0 to 9\n",
    "arr = np.arange(10)\n",
    "print(\"Numpy array from 0 to 9:\", arr)\n",
    "\n",
    "# Create a 2D array of zeros\n",
    "zeros_2d = np.zeros((2, 3))\n",
    "print(\"2D array of zeros:\\n\", zeros_2d)\n",
    "\n",
    "# Calculate the mean of an array\n",
    "mean_value = np.mean(arr)\n",
    "print(\"Mean of the array:\", mean_value)\n"
   ]
  },
  {
   "cell_type": "code",
   "execution_count": null,
   "metadata": {},
   "outputs": [],
   "source": [
    "import pandas as pd\n",
    "\n",
    "# Create a simple DataFrame\n",
    "data = {'Name': ['Alice', 'Bob', 'Charlie'], 'Age': [24, 27, 22]}\n",
    "df = pd.DataFrame(data)\n",
    "print(\"Pandas DataFrame:\\n\", df)\n",
    "\n",
    "# Get the summary statistics of the DataFrame\n",
    "summary_stats = df.describe()\n",
    "print(\"Summary statistics of the DataFrame:\\n\", summary_stats)\n",
    "\n",
    "# Access a specific column\n",
    "ages = df['Age']\n",
    "print(\"Age column values:\", ages)\n"
   ]
  },
  {
   "cell_type": "code",
   "execution_count": null,
   "metadata": {},
   "outputs": [],
   "source": [
    "from datetime import datetime\n",
    "\n",
    "# Get the current date and time\n",
    "current_datetime = datetime.now()\n",
    "print(\"Current date and time:\", current_datetime)\n",
    "\n",
    "# Format the date in a different way\n",
    "formatted_date = current_datetime.strftime(\"%Y-%m-%d %H:%M:%S\")\n",
    "print(\"Formatted date and time:\", formatted_date)\n",
    "\n",
    "# Parse a date string into a datetime object\n",
    "date_str = \"2024-10-07\"\n",
    "parsed_date = datetime.strptime(date_str, \"%Y-%m-%d\")\n",
    "print(\"Parsed date object:\", parsed_date)\n"
   ]
  },
  {
   "cell_type": "code",
   "execution_count": null,
   "metadata": {},
   "outputs": [
    {
     "name": "stdout",
     "output_type": "stream",
     "text": [
      "Frequency count of elements in list: Counter({'b': 3, 'a': 2, 'c': 1})\n"
     ]
    }
   ],
   "source": [
    "from collections import Counter\n",
    "\n",
    "# Count the frequency of each element in a list\n",
    "freq_count = Counter(['a', 'b', 'c', 'a', 'b', 'b'])\n",
    "print(\"Frequency count of elements in list:\", freq_count)\n"
   ]
  }
 ],
 "metadata": {
  "kernelspec": {
   "display_name": "simulations_env",
   "language": "python",
   "name": "python3"
  },
  "language_info": {
   "codemirror_mode": {
    "name": "ipython",
    "version": 3
   },
   "file_extension": ".py",
   "mimetype": "text/x-python",
   "name": "python",
   "nbconvert_exporter": "python",
   "pygments_lexer": "ipython3",
   "version": "3.12.3"
  }
 },
 "nbformat": 4,
 "nbformat_minor": 2
}
