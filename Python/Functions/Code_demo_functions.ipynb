{
 "cells": [
  {
   "cell_type": "code",
   "execution_count": null,
   "metadata": {},
   "outputs": [],
   "source": [
    "def hello(to= \"World\"):  \n",
    "    print(\"hello,\", to)\n",
    "\n",
    "name = input(\"What's your name ? \")\n",
    "hello(name)\n",
    "\n",
    "hello()"
   ]
  },
  {
   "cell_type": "code",
   "execution_count": null,
   "metadata": {},
   "outputs": [],
   "source": [
    "#to avoid defining functions at top\n",
    "\n",
    "def main():\n",
    "    name = ask() #scope of variable name is limited to main function\n",
    "    hello(name)\n",
    "    hello()\n",
    "\n",
    "def ask():\n",
    "    user = input(\"What's your name ? \")\n",
    "    return user\n",
    "\n",
    "def hello(to = \"World\"):  \n",
    "    print(\"hello,\", to)\n",
    "\n",
    "\n",
    "main()"
   ]
  },
  {
   "cell_type": "code",
   "execution_count": null,
   "metadata": {},
   "outputs": [],
   "source": [
    "def square(x):\n",
    "    \"\"\"Return the square of x.\"\"\"    \n",
    "    #docstring\n",
    "    return x ** 2\n",
    "\n",
    "print(square.__doc__)"
   ]
  },
  {
   "cell_type": "code",
   "execution_count": null,
   "metadata": {},
   "outputs": [],
   "source": [
    "def foo():\n",
    "    def bar():\n",
    "        print('bar is inside foo')\n",
    "    bar()\n",
    "\n",
    "foo()\n",
    "\n",
    "# bar can not be called from outside foo() \n"
   ]
  },
  {
   "cell_type": "code",
   "execution_count": null,
   "metadata": {},
   "outputs": [],
   "source": [
    "    \n",
    "def foo():\n",
    "    pass\n",
    "\n",
    "'''pass is a keyword in Python. \n",
    "When the interpreter comes across a pass statement, \n",
    "it doesn't perform any computation and moves on to the next line'''\n",
    "\n",
    "print(foo())\n",
    "#None is returned if no return statement is present"
   ]
  },
  {
   "cell_type": "code",
   "execution_count": null,
   "metadata": {},
   "outputs": [],
   "source": [
    "from math import gcd \n",
    "\n",
    "def co_prime(a,b): \n",
    "    return gcd(a,b) == 1 \n",
    "a = int(input())\n",
    "b = int(input())\n",
    "if co_prime(a,b):\n",
    "    print(\"Coprime\")\n",
    "else:\n",
    "    print(\"Prime\")"
   ]
  },
  {
   "cell_type": "code",
   "execution_count": null,
   "metadata": {},
   "outputs": [],
   "source": [
    "def distance(x, y, metric = 'manhattan'):   #The parameter metric has 'manhattan' as the default value\n",
    "    if metric == 'manhattan':\n",
    "        return abs(x) + abs(y)\n",
    "    elif metric == 'euclidean':\n",
    "        return pow(x ** 2 + y ** 2, 0.5)\n",
    "    \n",
    "\n",
    "print(\"Manhatttan distance = \", distance(2, y = 3))   \n",
    "#the keyword arguments must always come at the end\n",
    "\n",
    "\n",
    "print(\"Euclidean distance = \", distance(y = 3, x = 2, metric = 'euclidean'))\n",
    "\n",
    "#Default parameters always come at the end of the parameter list in a function definition"
   ]
  },
  {
   "cell_type": "code",
   "execution_count": null,
   "metadata": {},
   "outputs": [],
   "source": [
    "#namespace\n",
    "\n",
    "x = 1.0\n",
    "avar = 'cool'\n",
    "def foo():\n",
    "    print(locals())\n",
    "    y = 2.0\n",
    "    print(locals())\n",
    "    global z\n",
    "    print(locals())\n",
    "    # The moment control exits the function, the namespace corresponding to it is deleted\n",
    "\n",
    "foo()\n",
    "z = 10\n",
    "print(globals())\n",
    "\n",
    "''' \n",
    "How does the Python interpreter internally process these names? \n",
    "It uses a concept called namespaces.\n",
    "A namespace can be thought of as a lookup table — dictionary to be precise — that maps names to objects\n",
    "x, avar and foo are present in the namespace.\n",
    "x and avar are mapped to the objects 1 and cool respectively, \n",
    "while foo is mapped to the location in the memory where the function's definition is stored\n",
    "'''\n",
    "\n",
    "print('x' in globals())\n",
    "print('avar' in globals())\n",
    "print('foo' in globals())\n",
    "print('y' in globals())\n",
    "\n",
    "'''\n",
    "nothing prevents us from using the name of a built-in function, such as print, as the name of a variable. \n",
    "But this is a very bad practice that should be avoided at any cost because\n",
    "if in-bulit function print can't be used in this situation\n",
    "'''"
   ]
  },
  {
   "cell_type": "code",
   "execution_count": 2,
   "metadata": {},
   "outputs": [
    {
     "name": "stdout",
     "output_type": "stream",
     "text": [
      "6\n",
      "i am 🙁\n"
     ]
    }
   ],
   "source": [
    "def main():\n",
    "    user_input = input('''Enter a sentence \n",
    "    with emoticons: ''')\n",
    "    print(convert(user_input))\n",
    "\n",
    "# https://docs.python.org/3/howto/unicode.html\n",
    "\n",
    "def convert(emoticon):\n",
    "    emoticon = \\\n",
    "                 emoticon.replace(\":)\", \"\\U0001F642\") \\\n",
    "                                                      .replace(\":(\" , \"\\U0001F641\")\n",
    "    \n",
    "    # line continuation character, a backslash ( \\ ) \n",
    "\n",
    "    print(len(emoticon))   # length of string len()\n",
    "    return emoticon\n",
    "\n",
    "main()\n",
    "\n",
    "\n",
    "#    https://unicode.org/emoji/charts/full-emoji-list.html emojis"
   ]
  },
  {
   "cell_type": "code",
   "execution_count": null,
   "metadata": {},
   "outputs": [],
   "source": [
    "def caesar_cipher(text, shift):\n",
    "    result = \"\"\n",
    "\n",
    "    # Traverse through each character in the text\n",
    "    for char in text:\n",
    "        # Check if it's an uppercase letter\n",
    "        if char.isupper():\n",
    "            result += chr((ord(char) + shift - 65) % 26 + 65)\n",
    "        # Check if it's a lowercase letter\n",
    "        elif char.islower():\n",
    "            result += chr((ord(char) + shift - 97) % 26 + 97)\n",
    "        else:\n",
    "            result += char  # For non-alphabetic characters\n",
    "\n",
    "    return result\n",
    "\n",
    "# Input\n",
    "text = \"Sudarshan\"\n",
    "shift = 3\n",
    "\n",
    "# Encrypt the text using Caesar Cipher\n",
    "ciphered_text = caesar_cipher(text, shift)\n",
    "print(\"Original Text: \", text)\n",
    "print(\"Ciphered Text: \", ciphered_text)\n"
   ]
  }
 ],
 "metadata": {
  "kernelspec": {
   "display_name": "simulations_env",
   "language": "python",
   "name": "python3"
  },
  "language_info": {
   "codemirror_mode": {
    "name": "ipython",
    "version": 3
   },
   "file_extension": ".py",
   "mimetype": "text/x-python",
   "name": "python",
   "nbconvert_exporter": "python",
   "pygments_lexer": "ipython3",
   "version": "3.12.3"
  }
 },
 "nbformat": 4,
 "nbformat_minor": 2
}
