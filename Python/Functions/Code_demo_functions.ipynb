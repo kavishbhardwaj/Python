{
 "cells": [
  {
   "cell_type": "code",
   "execution_count": 1,
   "metadata": {},
   "outputs": [
    {
     "name": "stdout",
     "output_type": "stream",
     "text": [
      "hello, kavish\n",
      "hello, World\n"
     ]
    }
   ],
   "source": [
    "def hello(to= \"World\"):  \n",
    "    print(\"hello,\", to)\n",
    "\n",
    "name = input(\"What's your name ? \")\n",
    "hello(name)\n",
    "\n",
    "hello()"
   ]
  },
  {
   "cell_type": "code",
   "execution_count": 2,
   "metadata": {},
   "outputs": [
    {
     "name": "stdout",
     "output_type": "stream",
     "text": [
      "hello, kavish\n",
      "hello, World\n"
     ]
    }
   ],
   "source": [
    "#to avoid defining functions at top\n",
    "\n",
    "def main():\n",
    "    name = ask() #scope of variable name is limited to main function\n",
    "    hello(name)\n",
    "    hello()\n",
    "\n",
    "def ask():\n",
    "    user = input(\"What's your name ? \")\n",
    "    return user\n",
    "\n",
    "def hello(to = \"World\"):  \n",
    "    print(\"hello,\", to)\n",
    "\n",
    "\n",
    "main()"
   ]
  },
  {
   "cell_type": "code",
   "execution_count": 3,
   "metadata": {},
   "outputs": [
    {
     "name": "stdout",
     "output_type": "stream",
     "text": [
      "Answer inside function: 30\n"
     ]
    }
   ],
   "source": [
    "## Defining and Using Functions\n",
    "\n",
    "# Define a simple function to add two numbers\n",
    "def add(a, b):\n",
    "    ans = a + b\n",
    "    print(\"Answer inside function:\", ans)\n",
    "\n",
    "# Call the function\n",
    "add(10, 20)\n",
    "\n",
    "\n"
   ]
  },
  {
   "cell_type": "code",
   "execution_count": null,
   "metadata": {},
   "outputs": [
    {
     "name": "stdout",
     "output_type": "stream",
     "text": [
      "Returned result: 40\n"
     ]
    }
   ],
   "source": [
    "## Returning Values from Functions\n",
    "\n",
    "# Function that returns the sum of two numbers\n",
    "def add_return(a, b):\n",
    "    return a + b\n",
    "\n",
    "# Using the returned value\n",
    "result = add_return(15, 25)\n",
    "print(\"Returned result:\", result)\n"
   ]
  },
  {
   "cell_type": "code",
   "execution_count": 3,
   "metadata": {},
   "outputs": [
    {
     "name": "stdout",
     "output_type": "stream",
     "text": [
      "Price after 10% discount on $100: 90.0\n",
      "Price after 8% discount on $1200: 1104.0\n"
     ]
    }
   ],
   "source": [
    "\n",
    "## Practical Example: Discount Calculation\n",
    "\n",
    "# Function to calculate discount\n",
    "def discount(cost, d):\n",
    "    ans = cost - (cost * d / 100)\n",
    "    return ans\n",
    "\n",
    "# Example usage\n",
    "print(\"Price after 10% discount on $100:\", discount(100, 10))\n",
    "print(\"Price after 8% discount on $1200:\", discount(1200, 8))\n",
    "\n"
   ]
  },
  {
   "cell_type": "code",
   "execution_count": 4,
   "metadata": {},
   "outputs": [
    {
     "name": "stdout",
     "output_type": "stream",
     "text": [
      "Error: unsupported operand type(s) for +: 'NoneType' and 'int'\n"
     ]
    }
   ],
   "source": [
    "\n",
    "## Debugging Functions\n",
    "\n",
    "# Missing return value causes errors\n",
    "def faulty_add(a, b):\n",
    "    ans = a + b  # Missing return\n",
    "\n",
    "try:\n",
    "    result = faulty_add(10, 20) + 5  # Will raise TypeError\n",
    "except TypeError as e:\n",
    "    print(\"Error:\", e)\n"
   ]
  },
  {
   "cell_type": "code",
   "execution_count": null,
   "metadata": {},
   "outputs": [],
   "source": [
    "def square(x):\n",
    "    \"\"\"Return the square of x.\"\"\"    \n",
    "    #docstring\n",
    "    return x ** 2\n",
    "\n",
    "print(square.__doc__)"
   ]
  },
  {
   "cell_type": "code",
   "execution_count": null,
   "metadata": {},
   "outputs": [],
   "source": [
    "def foo():\n",
    "    def bar():\n",
    "        print('bar is inside foo')\n",
    "    bar()\n",
    "\n",
    "foo()\n",
    "\n",
    "# bar can not be called from outside foo() \n"
   ]
  },
  {
   "cell_type": "code",
   "execution_count": null,
   "metadata": {},
   "outputs": [],
   "source": [
    "    \n",
    "def foo():\n",
    "    pass\n",
    "\n",
    "'''pass is a keyword in Python. \n",
    "When the interpreter comes across a pass statement, \n",
    "it doesn't perform any computation and moves on to the next line'''\n",
    "\n",
    "print(foo())\n",
    "#None is returned if no return statement is present"
   ]
  },
  {
   "cell_type": "code",
   "execution_count": null,
   "metadata": {},
   "outputs": [],
   "source": [
    "from math import gcd \n",
    "\n",
    "def co_prime(a,b): \n",
    "    return gcd(a,b) == 1 \n",
    "a = int(input())\n",
    "b = int(input())\n",
    "if co_prime(a,b):\n",
    "    print(\"Coprime\")\n",
    "else:\n",
    "    print(\"Prime\")"
   ]
  },
  {
   "cell_type": "code",
   "execution_count": null,
   "metadata": {},
   "outputs": [],
   "source": [
    "def distance(x, y, metric = 'manhattan'):   #The parameter metric has 'manhattan' as the default value\n",
    "    if metric == 'manhattan':\n",
    "        return abs(x) + abs(y)\n",
    "    elif metric == 'euclidean':\n",
    "        return pow(x ** 2 + y ** 2, 0.5)\n",
    "    \n",
    "\n",
    "print(\"Manhatttan distance = \", distance(2, y = 3))   \n",
    "#the keyword arguments must always come at the end\n",
    "\n",
    "\n",
    "print(\"Euclidean distance = \", distance(y = 3, x = 2, metric = 'euclidean'))\n",
    "\n",
    "#Default parameters always come at the end of the parameter list in a function definition"
   ]
  },
  {
   "cell_type": "code",
   "execution_count": null,
   "metadata": {},
   "outputs": [],
   "source": [
    "#namespace\n",
    "\n",
    "x = 1.0\n",
    "avar = 'cool'\n",
    "def foo():\n",
    "    print(locals())\n",
    "    y = 2.0\n",
    "    print(locals())\n",
    "    global z\n",
    "    print(locals())\n",
    "    # The moment control exits the function, the namespace corresponding to it is deleted\n",
    "\n",
    "foo()\n",
    "z = 10\n",
    "print(globals())\n",
    "\n",
    "''' \n",
    "How does the Python interpreter internally process these names? \n",
    "It uses a concept called namespaces.\n",
    "A namespace can be thought of as a lookup table — dictionary to be precise — that maps names to objects\n",
    "x, avar and foo are present in the namespace.\n",
    "x and avar are mapped to the objects 1 and cool respectively, \n",
    "while foo is mapped to the location in the memory where the function's definition is stored\n",
    "'''\n",
    "\n",
    "print('x' in globals())\n",
    "print('avar' in globals())\n",
    "print('foo' in globals())\n",
    "print('y' in globals())\n",
    "\n",
    "'''\n",
    "nothing prevents us from using the name of a built-in function, such as print, as the name of a variable. \n",
    "But this is a very bad practice that should be avoided at any cost because\n",
    "if in-bulit function print can't be used in this situation\n",
    "'''"
   ]
  },
  {
   "cell_type": "code",
   "execution_count": 2,
   "metadata": {},
   "outputs": [
    {
     "name": "stdout",
     "output_type": "stream",
     "text": [
      "6\n",
      "i am 🙁\n"
     ]
    }
   ],
   "source": [
    "def main():\n",
    "    user_input = input('''Enter a sentence \n",
    "    with emoticons: ''')\n",
    "    print(convert(user_input))\n",
    "\n",
    "# https://docs.python.org/3/howto/unicode.html\n",
    "\n",
    "def convert(emoticon):\n",
    "    emoticon = \\\n",
    "                 emoticon.replace(\":)\", \"\\U0001F642\") \\\n",
    "                                                      .replace(\":(\" , \"\\U0001F641\")\n",
    "    \n",
    "    # line continuation character, a backslash ( \\ ) \n",
    "\n",
    "    print(len(emoticon))   # length of string len()\n",
    "    return emoticon\n",
    "\n",
    "main()\n",
    "\n",
    "\n",
    "#    https://unicode.org/emoji/charts/full-emoji-list.html emojis"
   ]
  },
  {
   "cell_type": "code",
   "execution_count": null,
   "metadata": {},
   "outputs": [],
   "source": [
    "def caesar_cipher(text, shift):\n",
    "    result = \"\"\n",
    "\n",
    "    # Traverse through each character in the text\n",
    "    for char in text:\n",
    "        # Check if it's an uppercase letter\n",
    "        if char.isupper():\n",
    "            result += chr((ord(char) + shift - 65) % 26 + 65)\n",
    "        # Check if it's a lowercase letter\n",
    "        elif char.islower():\n",
    "            result += chr((ord(char) + shift - 97) % 26 + 97)\n",
    "        else:\n",
    "            result += char  # For non-alphabetic characters\n",
    "\n",
    "    return result\n",
    "\n",
    "# Input\n",
    "text = \"Sudarshan\"\n",
    "shift = 3\n",
    "\n",
    "# Encrypt the text using Caesar Cipher\n",
    "ciphered_text = caesar_cipher(text, shift)\n",
    "print(\"Original Text: \", text)\n",
    "print(\"Ciphered Text: \", ciphered_text)\n"
   ]
  },
  {
   "cell_type": "code",
   "execution_count": 5,
   "metadata": {},
   "outputs": [
    {
     "name": "stdout",
     "output_type": "stream",
     "text": [
      "Minimum value in the list: -10\n"
     ]
    }
   ],
   "source": [
    "## Example 1: Finding Minimum in a List\n",
    "# Function to find the minimum value in a list without using min()\n",
    "def list_min(L):\n",
    "    mini = L[0]\n",
    "    for i in range(1, len(L)):\n",
    "        if L[i] < mini:\n",
    "            mini = L[i]\n",
    "    return mini\n",
    "\n",
    "# Test the function\n",
    "L = [1, 2, 3, 4, 5, -10]\n",
    "print(\"Minimum value in the list:\", list_min(L))\n"
   ]
  },
  {
   "cell_type": "code",
   "execution_count": 7,
   "metadata": {},
   "outputs": [
    {
     "name": "stdout",
     "output_type": "stream",
     "text": [
      "Maximum value in the list: 100\n"
     ]
    }
   ],
   "source": [
    "\n",
    "## Example 2: Finding Maximum in a List\n",
    "\n",
    "# Function to find the maximum value in a list without using max()\n",
    "def list_max(L):\n",
    "    maxi = L[0]\n",
    "    for i in range(1, len(L)):\n",
    "        if L[i] > maxi:\n",
    "            maxi = L[i]\n",
    "    return maxi\n",
    "\n",
    "# Test the function\n",
    "L = [6, 4, 100, -2, 50]\n",
    "print(\"Maximum value in the list:\", list_max(L))\n"
   ]
  },
  {
   "cell_type": "code",
   "execution_count": 6,
   "metadata": {},
   "outputs": [
    {
     "name": "stdout",
     "output_type": "stream",
     "text": [
      "Prepend Z to L: [1, 2, 3, 10, 20, 30]\n",
      "Append Z to L: [10, 20, 30, 1, 2, 3]\n"
     ]
    }
   ],
   "source": [
    "## Example 3: Prepending and Appending Lists\n",
    "# Prepend a list to another list\n",
    "def append_before(L, Z):\n",
    "    return Z + L\n",
    "\n",
    "# Append a list to another list\n",
    "def append_after(L, Z):\n",
    "    return L + Z\n",
    "\n",
    "# Test the functions\n",
    "L = [10, 20, 30]\n",
    "Z = [1, 2, 3]\n",
    "\n",
    "print(\"Prepend Z to L:\", append_before(L, Z))\n",
    "print(\"Append Z to L:\", append_after(L, Z))\n"
   ]
  },
  {
   "cell_type": "code",
   "execution_count": 8,
   "metadata": {},
   "outputs": [
    {
     "name": "stdout",
     "output_type": "stream",
     "text": [
      "Average of the list: 6.5\n"
     ]
    }
   ],
   "source": [
    "## Example 4: Calculating the Average of a List\n",
    "\n",
    "# Function to calculate the average of a list\n",
    "def list_average(L):\n",
    "    total = 0\n",
    "    for i in range(len(L)):\n",
    "        total += L[i]\n",
    "    return total / len(L)\n",
    "\n",
    "# Test the function\n",
    "L = [1, 7, 8, 10]\n",
    "print(\"Average of the list:\", list_average(L))\n"
   ]
  },
  {
   "cell_type": "markdown",
   "metadata": {},
   "source": [
    "# Types of Function Arguments\n",
    "\n",
    "## Introduction\n",
    "This lecture explores the **different types of function arguments** in Python, categorized as:\n",
    "\n",
    "1. **Positional Arguments**\n",
    "2. **Keyword Arguments**\n",
    "3. **Default Arguments**\n"
   ]
  },
  {
   "cell_type": "code",
   "execution_count": null,
   "metadata": {},
   "outputs": [],
   "source": [
    "\n",
    "## 1. Positional Arguments\n",
    "\n",
    "# Function with positional arguments\n",
    "def calculate(a, b, c):\n",
    "    return a + b - c\n",
    "\n",
    "# Call the function with positional arguments\n",
    "result = calculate(20, 30, 40)\n",
    "print(\"Result using positional arguments:\", result)\n",
    "\n"
   ]
  },
  {
   "cell_type": "code",
   "execution_count": null,
   "metadata": {},
   "outputs": [],
   "source": [
    "\n",
    "## 2. Keyword Arguments\n",
    "\n",
    "# Function with positional arguments\n",
    "def calculate(a, b, c):\n",
    "    return a + b - c\n",
    "\n",
    "# Call the function using keyword arguments\n",
    "result = calculate(a=20, b=30, c=40)\n",
    "print(\"Result using keyword arguments:\", result)\n",
    "\n",
    "# Keyword arguments allow flexibility in argument order\n",
    "result = calculate(c=40, a=20, b=30)\n",
    "print(\"Result with reordered keyword arguments:\", result)\n"
   ]
  },
  {
   "cell_type": "code",
   "execution_count": null,
   "metadata": {},
   "outputs": [],
   "source": [
    "\n",
    "\n",
    "## 3. Default Arguments\n",
    "\n",
    "# Function with default arguments\n",
    "def calculate(a, b=30, c=40):\n",
    "    return a + b - c\n",
    "\n",
    "# Call the function with all arguments\n",
    "print(\"Result with all arguments:\", calculate(20, 50, 60))\n",
    "\n",
    "# Call the function with some arguments missing\n",
    "print(\"Result with default values:\", calculate(20))\n"
   ]
  },
  {
   "cell_type": "code",
   "execution_count": null,
   "metadata": {},
   "outputs": [],
   "source": [
    "\n",
    "## Combining Positional, Keyword, and Default Arguments\n",
    "\n",
    "# Function combining all argument types\n",
    "def calculate(a, b=30, c=40):\n",
    "    return a + b - c\n",
    "\n",
    "# Mixed usage\n",
    "print(\"Mixed usage:\", calculate(20, c=10))  # Positional and keyword\n",
    "print(\"Only positional:\", calculate(10, 20, 30))\n"
   ]
  },
  {
   "cell_type": "code",
   "execution_count": 9,
   "metadata": {},
   "outputs": [
    {
     "name": "stdout",
     "output_type": "stream",
     "text": [
      "30\n",
      "Result from no_return_function: None\n"
     ]
    }
   ],
   "source": [
    "\n",
    "## Handling Missing Arguments and the None Return Value\n",
    "\n",
    "# Function without return statement\n",
    "def no_return_function(a, b):\n",
    "    print(a + b)\n",
    "\n",
    "result = no_return_function(10, 20)\n",
    "print(\"Result from no_return_function:\", result)  # This will print None\n"
   ]
  },
  {
   "cell_type": "markdown",
   "metadata": {},
   "source": [
    "# Types of Functions\n",
    "\n",
    "## Introduction\n",
    "This lecture explores the **different types of functions** in Python, categorized as:\n",
    "\n",
    "1. **Built-in Functions**: Predefined functions provided by Python.\n",
    "2. **Library Functions**: Functions available in specific libraries/modules.\n",
    "3. **Methods**: Functions associated with specific data types (e.g., strings).\n",
    "4. **User-defined Functions**: Custom functions created by programmers.\n",
    "\n"
   ]
  },
  {
   "cell_type": "code",
   "execution_count": null,
   "metadata": {},
   "outputs": [],
   "source": [
    "\n",
    "\n",
    "## 1. Built-in Functions\n",
    "\n",
    "# Example of Built-in Functions\n",
    "\n",
    "# print() is a built-in function to display output\n",
    "print(\"Hello, Python!\")\n",
    "\n",
    "# len() is a built-in function to calculate the length of a string\n",
    "print(\"Length of string 'Python':\", len(\"Python\"))\n"
   ]
  },
  {
   "cell_type": "code",
   "execution_count": null,
   "metadata": {},
   "outputs": [],
   "source": [
    "\n",
    "## 2. Library Functions\n",
    "\n",
    "# Importing specific libraries to use their functions\n",
    "import math\n",
    "import random\n",
    "import calendar\n",
    "\n",
    "# math.log() - Library function to calculate logarithms\n",
    "print(\"Logarithm of 10:\", math.log(10))\n",
    "\n",
    "# random.randrange() - Library function to generate a random number\n",
    "print(\"Random number between 1 and 10:\", random.randrange(1, 10))\n",
    "\n",
    "# calendar.month() - Library function to display a specific month\n",
    "print(\"Calendar for December 2024:\")\n",
    "print(calendar.month(2024, 12))\n"
   ]
  },
  {
   "cell_type": "code",
   "execution_count": null,
   "metadata": {},
   "outputs": [],
   "source": [
    "## 3. Methods (String Methods)\n",
    "\n",
    "# Example of String Methods\n",
    "\n",
    "text = \"hello, python\"\n",
    "\n",
    "# upper() - Converts all characters to uppercase\n",
    "print(\"Uppercase:\", text.upper())\n",
    "\n",
    "# strip() - Removes whitespace from both ends\n",
    "print(\"Stripped text:\", text.strip())\n",
    "\n",
    "# count() - Counts occurrences of a substring\n",
    "print(\"Occurrences of 'o':\", text.count('o'))\n"
   ]
  },
  {
   "cell_type": "code",
   "execution_count": 10,
   "metadata": {},
   "outputs": [
    {
     "name": "stdout",
     "output_type": "stream",
     "text": [
      "Square of 5: 25\n"
     ]
    }
   ],
   "source": [
    "\n",
    "## 4. User-defined Functions\n",
    "\n",
    "# Define a custom function to calculate the square of a number\n",
    "def square(num):\n",
    "    return num * num\n",
    "\n",
    "# Test the function\n",
    "print(\"Square of 5:\", square(5))\n",
    "\n"
   ]
  }
 ],
 "metadata": {
  "kernelspec": {
   "display_name": "simulations_env",
   "language": "python",
   "name": "python3"
  },
  "language_info": {
   "codemirror_mode": {
    "name": "ipython",
    "version": 3
   },
   "file_extension": ".py",
   "mimetype": "text/x-python",
   "name": "python",
   "nbconvert_exporter": "python",
   "pygments_lexer": "ipython3",
   "version": "3.12.3"
  }
 },
 "nbformat": 4,
 "nbformat_minor": 2
}
