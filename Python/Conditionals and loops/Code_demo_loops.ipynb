{
 "cells": [
  {
   "cell_type": "markdown",
   "metadata": {},
   "source": [
    "# While loop"
   ]
  },
  {
   "cell_type": "markdown",
   "metadata": {},
   "source": [
    "Use while only when the number of iterations is indefinite.\n",
    "If you can term the steps as do n times, do once for each item, etc. use for loop instead.\n",
    "\n",
    "### There are mainly two ways in which while loops are used in the context of taking inputs until a terminal word.\n",
    "\n",
    "### method 1\n",
    "a = input()\n",
    "\n",
    "while a != terminal_word: # opposite of the terminal condition\n",
    "\n",
    "    # do something with a\n",
    "\n",
    "    a = input() # take the next a\n",
    "\n",
    "\n",
    "\n",
    "\n",
    "### method 2\n",
    "while True: # loop forever\n",
    "\n",
    "    a = input()\n",
    "\n",
    "    if a == terminal_word: # the terminal condition\n",
    "\n",
    "        break\n",
    "        \n",
    "    # do something with a"
   ]
  },
  {
   "cell_type": "code",
   "execution_count": null,
   "metadata": {},
   "outputs": [],
   "source": [
    "num = int(input(\"Enter an integer to compute factorial \"))\n",
    "\n",
    "fac = 1\n",
    "while (num!=1):\n",
    "    fac = fac*num\n",
    "    num = num - 1\n",
    "\n",
    "print(\"Factorial is: \", fac)"
   ]
  },
  {
   "cell_type": "code",
   "execution_count": null,
   "metadata": {},
   "outputs": [],
   "source": [
    "'''\n",
    "Keep accepting integers as input from the user until the user enters a negative number. \n",
    "Print the maximum among the positive numbers entered by the user. \n",
    "Print 0 if the user doesn't enter any positive integer\n",
    "'''\n",
    "\n",
    "# Initialize\n",
    "num = int(input())\n",
    "max_num = 0\n",
    "# Loop\n",
    "while num >= 0:\n",
    "    if num > max_num:\n",
    "        max_num = num\n",
    "    num = int(input())\n",
    "# Print output\n",
    "print(max_num)\n"
   ]
  },
  {
   "cell_type": "code",
   "execution_count": null,
   "metadata": {},
   "outputs": [],
   "source": [
    "#minimum positive integer x such that (x**2 + x + 41) is divisible by 41\n",
    "\n",
    "z = 40\n",
    "x = 1\n",
    "while z % 41 != 0:\n",
    "    z = x**2 + x + 41\n",
    "    x = x + 1\n",
    "print(x-1)"
   ]
  },
  {
   "cell_type": "code",
   "execution_count": 7,
   "metadata": {},
   "outputs": [
    {
     "name": "stdout",
     "output_type": "stream",
     "text": [
      "6\n"
     ]
    }
   ],
   "source": [
    "x = int(input())\n",
    "y = 0\n",
    "while x > 1:\n",
    "    x = x // 2\n",
    "    y = y + 1\n",
    "print(y)\n",
    "\n",
    "#program that accepts a positive integer x as input and prints the maximum value of the integer y such that 2^y ≤ x"
   ]
  },
  {
   "cell_type": "code",
   "execution_count": null,
   "metadata": {},
   "outputs": [
    {
     "name": "stdout",
     "output_type": "stream",
     "text": [
      "3\n"
     ]
    }
   ],
   "source": [
    "x = int(input())\n",
    "i = 0\n",
    "while x % (10 ** i) != x:\n",
    "    i = i + 1\n",
    "print(i)\n",
    "\n",
    "#Number of digits in x"
   ]
  },
  {
   "cell_type": "code",
   "execution_count": null,
   "metadata": {},
   "outputs": [],
   "source": [
    "# Note this prefix code is to verify that you are not using any for loops in this exercise. This won't affect any other functionality of the program.\n",
    "with open(__file__) as f:\n",
    "    content = f.read().split(\"# <eoi>\")[2]\n",
    "if \"for \" in content:\n",
    "    print(\"You should not use for loop or the word for anywhere in this exercise\")\n",
    "\n",
    "\n",
    "#Accumulation - Accumulating a final result\n",
    "#sum_until_0: Continuously read integers from standard input until you receive a zero. Print the sum of these integers.\n",
    "#total_price: Continuously read pairs of integers from standard input, representing the quantity and price of items, until you receive the string \"END\". Print the total price of all items.\n",
    "\n",
    "\n",
    "# This is the first line of the exercise\n",
    "task = input()\n",
    "# <eoi>\n",
    "\n",
    "if task == \"sum_until_0\":\n",
    "    total = 0\n",
    "    n = int(input())\n",
    "    while n != 0: # the terminal condition\n",
    "        total = total + n # add n to the total\n",
    "        n = int(input()) # take the next n form the input\n",
    "    print(total)\n",
    "\n",
    "elif task == \"total_price\":\n",
    "    total_price = 0\n",
    "    while True: # repeat forever since we are breaking inside\n",
    "        line = input()\n",
    "        if line == 'END': # The terminal condition\n",
    "            break\n",
    "        quantity, price = line.split() # split uses space by default\n",
    "        quantity, price = int(quantity), int(price) # convert to ints\n",
    "        total_price += quantity*price  # accumulate the total price\n",
    "    print(total_price)\n"
   ]
  },
  {
   "cell_type": "code",
   "execution_count": 29,
   "metadata": {},
   "outputs": [
    {
     "ename": "NameError",
     "evalue": "name 'task' is not defined",
     "output_type": "error",
     "traceback": [
      "\u001b[0;31m---------------------------------------------------------------------------\u001b[0m",
      "\u001b[0;31mNameError\u001b[0m                                 Traceback (most recent call last)",
      "Cell \u001b[0;32mIn[29], line 1\u001b[0m\n\u001b[0;32m----> 1\u001b[0m \u001b[38;5;28;01mif\u001b[39;00m \u001b[43mtask\u001b[49m \u001b[38;5;241m==\u001b[39m \u001b[38;5;124m\"\u001b[39m\u001b[38;5;124monly_ed_or_ing\u001b[39m\u001b[38;5;124m\"\u001b[39m:\n\u001b[1;32m      2\u001b[0m     \u001b[38;5;28mstr\u001b[39m \u001b[38;5;241m=\u001b[39m \u001b[38;5;28minput\u001b[39m()\n\u001b[1;32m      3\u001b[0m     \u001b[38;5;28;01mwhile\u001b[39;00m (\u001b[38;5;28mstr\u001b[39m \u001b[38;5;241m!=\u001b[39m \u001b[38;5;124m'\u001b[39m\u001b[38;5;124mSTOP\u001b[39m\u001b[38;5;124m'\u001b[39m \u001b[38;5;129;01mor\u001b[39;00m \u001b[38;5;28mstr\u001b[39m \u001b[38;5;241m!=\u001b[39m \u001b[38;5;124m'\u001b[39m\u001b[38;5;124mstop\u001b[39m\u001b[38;5;124m'\u001b[39m):\n",
      "\u001b[0;31mNameError\u001b[0m: name 'task' is not defined"
     ]
    }
   ],
   "source": [
    "# Note this prefix code is to verify that you are not using any for loops in this exercise. This won't affect any other functionality of the program.\n",
    "with open(__file__) as f:\n",
    "    content = f.read().split(\"# <eoi>\")[2]\n",
    "if \"for \" in content:\n",
    "    print(\"You should not use for loop or the word for anywhere in this exercise\")\n",
    "\n",
    "#Filtering - Selecting based on a criterion\n",
    "#only_ed_or_ing: Continuously read strings from standard input until you encounter the word \"STOP\" (case insensitive and not included in the output). Print only those strings that end with \"ed\" or \"ing\" (case insensitive).\n",
    "#reverse_sum_palindrome: Continuously read positive integers from standard input until you encounter a \"-1\"(not included in the output). Print only those integers for which the sum of the number and its reverse is a palindrome.\n",
    "\n",
    "# This is the first line of the exercise\n",
    "task = input()\n",
    "\n",
    "if task == \"only_ed_or_ing\":\n",
    "    str = input()\n",
    "    while (str != 'STOP' or str != 'stop'):\n",
    "        (str.endswith(('ed', 'ing')) and print(str))\n",
    "        str = input()\n",
    "       \n",
    "elif task == \"reverse_sum_palindrome\":\n",
    "    n = int(input())\n",
    "    while (n != -1):\n",
    "        m = n\n",
    "        digit_sum = 0\n",
    "        while m > 0:\n",
    "            digit_sum += m % 10\n",
    "            m //= 10\n",
    "        (str(digit_sum) == str(digit_sum)[::-1]) and print(n) \n",
    "        n = int(input())\n"
   ]
  },
  {
   "cell_type": "markdown",
   "metadata": {},
   "source": [
    "# For loop"
   ]
  },
  {
   "cell_type": "code",
   "execution_count": null,
   "metadata": {},
   "outputs": [],
   "source": [
    "for i in range(11):\n",
    "    print(\"2 x\", i, \"=\", 2*i )\n"
   ]
  },
  {
   "cell_type": "code",
   "execution_count": null,
   "metadata": {},
   "outputs": [],
   "source": [
    "for i in range(5):\n",
    "    print(i, end=' ')\n",
    "print()\n",
    "\n",
    "for i in range(10, 100):\n",
    "    print(i, end=' ')\n",
    "print()\n",
    "\n",
    "print(' '.join(str(i) for i in range(98, 9, -2)))\n",
    "print()\n",
    "\n",
    "import sys\n",
    "for i in range(10, 100, 2):\n",
    "    sys.stdout.write(f\"{i} \")\n",
    "print()\n",
    "\n",
    "#empty sequence, range function only works when the starting number is less than the ending number by default\n",
    "for i in range(10, 5):\n",
    "    print(i)\n",
    "\n",
    "#for i in range(0.0, 10.0):\n",
    "# wrong code floats are not allowed  "
   ]
  },
  {
   "cell_type": "code",
   "execution_count": null,
   "metadata": {},
   "outputs": [],
   "source": [
    "# sum if integers from 1 to n (150 million)\n",
    "import time\n",
    "start_time = time.time()\n",
    "n = 150000000\n",
    "total = 0\n",
    "for i in range(1, n+1):\n",
    "    total = total + i \n",
    "\n",
    "print(total) \n",
    "end_time = time.time()  # End time tracking\n",
    "print(f\"Execution time: {end_time - start_time} seconds\")\n",
    "     "
   ]
  },
  {
   "cell_type": "markdown",
   "metadata": {},
   "source": [
    "An Intel 12th Gen Core i7-12700 CPU with following detils:\n",
    "12 physical cores in the processor  \n",
    "20 threads (This means that the CPU supports hyperthreading on some of its cores)\n",
    "2.10 GHz Base speed (the base frequency at which the CPU operates, though it can boost to higher speeds depending on workload)\n",
    "L1 cache: 1.0 MB\n",
    "L2 cache: 12.0 MB\n",
    "L3 cache: 25.0 MB\n",
    "Performance Estimation:\n",
    "Assuming the CPU can handle 4 instructions per clock cycle (a common assumption for modern CPUs) and each core is running at 2.1 GHz (its base speed):\n",
    "\n",
    "For each core: Calculations per second per core = 2.1 GHz × 4 = 8.4 × 10^9 calculations/second\n",
    "\n",
    "For 12 cores: 100.8 billion calculations/second\n",
    "\n",
    "If you factor in hyperthreading (20 threads instead of 12 cores), you can expect an additional boost in performance, giving an estimated total performance around 150 billion calculations per second under ideal conditions.\n",
    "\n",
    "This is a rough estimate. The actual performance can vary based on the type of calculations (integer vs. floating point), cache efficiency, and whether the workload can be effectively parallelized.\n",
    "\n",
    "Time = number of operations/Operations per second\n",
    "\n",
    "For each iteration, you are performing one addition, so the number of operations is proportional to n. \n",
    "Thus, in 1 second, you can sum 150 billion integers\n",
    "In 1 minute, you can sum 9 trillion (150 billion * 60) integers.\n"
   ]
  },
  {
   "cell_type": "markdown",
   "metadata": {},
   "source": [
    "\n",
    "However, the actual time taken is much longer (tens of sec in python and nearly a minute in Jupyter notebook). Factors Slowing Down Execution:\n",
    "\n",
    "Interpreted Language Overhead:Python is an interpreted language, meaning it’s not as fast as lower-level languages like C or C++. Each Python statement is interpreted and executed at runtime, which adds overhead compared to compiled languages.\n",
    "\n",
    "\n",
    "Jupyter Notebook Overhead: Jupyter adds additional overhead on top of Python. The kernel communicates back and forth between the notebook interface, which can slow things down. This is especially noticeable for CPU-bound tasks like adding large numbers.\n",
    "\n",
    "\n",
    "Global Interpreter Lock (GIL): Python's Global Interpreter Lock (GIL) allows only one thread to execute Python bytecode at a time, which severely limits the ability of Python to utilize multiple cores effectively. Even though your CPU has 12 cores and 20 threads, Python might not be fully utilizing them due to the GIL. This limits the parallelism that Python can achieve, meaning it won’t use all CPU threads efficiently for simple loops.\n",
    "\n",
    "\n",
    "Type Overhead (Integers): Python handles arbitrary-precision integers, which means every integer is represented as an object. This introduces extra overhead compared to native integer types in languages like C that are fixed in size. When you are summing up large integers, the overhead of managing these objects can significantly slow down performance.\n",
    "\n",
    "\n",
    "Memory Management: Python’s memory management (automatic garbage collection, dynamic typing) adds overhead, especially in loops involving large numbers of operations. If the total variable grows large, Python needs to allocate more memory and manage the dynamic resizing of integer objects, further slowing down the process.\n",
    "\n",
    "\n",
    "Ways to Improve Performance:\n",
    "Use NumPy: NumPy is a highly optimized library that operates in C under the hood. You can use it to sum integers efficiently using vectorized operations.\n",
    "\n",
    "You can try running the code in a standard Python script instead of Jupyter. Jupyter’s interactivity and its kernel’s communication with the front end can slow down tasks that involve many iterations or calculations.\n",
    "\n",
    "\n",
    "Use Cython or Numba: If performance is crucial and you're sticking with Python, you can use Cython or Numba to compile the code to a more efficient, low-level version.\n",
    "\n",
    "Numba is a just-in-time (JIT) compiler that can compile Python functions to machine code, making them run much faster. Here’s an example using Numba:"
   ]
  },
  {
   "cell_type": "code",
   "execution_count": null,
   "metadata": {},
   "outputs": [],
   "source": [
    "# Nested loop\n",
    "total = 0\n",
    "for i in range(1, 170):    \n",
    "    print(f'i = {i}')\n",
    "    for j in range(i): \n",
    "        print(f'j = {j}')       \n",
    "        total = total + i\n",
    "        print(f'total = {total}')\n",
    "print(total)  \n",
    "\n",
    "''' \n",
    "The overall sum is the sum of: 1×1+2×2+3×3+4×4.\n",
    "\n",
    "In more general terms, this is the sum of squares of integers, although you're computing it through a repetitive addition process rather than directly calculating \n",
    "It's direct formula is n(n+1)(2n+1)/6\n",
    "'''\n"
   ]
  },
  {
   "cell_type": "code",
   "execution_count": null,
   "metadata": {},
   "outputs": [],
   "source": [
    "\n",
    "\n",
    "Total number of operations are : 1 + 2 + 3 + 4 + ... = n(n+1)/2, for e.g. for n = 1700 number of operation will be nearly 1.5 million\n",
    "\n",
    "every print() statement in Python is considered an operation. \n",
    "In fact, print() is a relatively expensive operation because it involves interacting with the I/O system (sending output to the console). \n",
    "So, if you're counting the number of operations in a program, you should definitely include the print() calls.\n",
    "\n",
    "\n",
    "The outer loop runs n times, and the print(f'i = {i}') happens once per outer loop iteration (1 operation each time).\n",
    "\n",
    "The inner loop runs i times for each value of i, and for each iteration of the inner loop:\n",
    "\n",
    "print(f'j = {j}') is executed (1 operation).\n",
    "total = total + i is executed (1 operation).\n",
    "print(f'total = {total}') is executed (1 operation).\n",
    "Total Operations Including print():\n",
    "For each value of i, the inner loop runs i times, and the number of operations inside the inner loop includes 2 print() statements and 1 addition.\n",
    "So, the total number of operations including print() becomes:\n",
    "\n",
    "\n",
    "Total operations = 𝑛 + 3×𝑛(𝑛+1)/2 ~ 4 million operations for n = 1700 takes about half a minute in office i7 PC\n",
    "\n"
   ]
  },
  {
   "cell_type": "code",
   "execution_count": 8,
   "metadata": {},
   "outputs": [
    {
     "name": "stdout",
     "output_type": "stream",
     "text": [
      "|1|2|3|4|5|\n"
     ]
    }
   ],
   "source": [
    "for char in 'a1b2c3d4e5':    \n",
    "    if char in 'abcde':\n",
    "        print('|', end = '') # there is no space between the quotes\n",
    "        continue    \n",
    "    print(char, end = '')  # there is no space between the quotes\n",
    "print('|')"
   ]
  },
  {
   "cell_type": "code",
   "execution_count": 13,
   "metadata": {},
   "outputs": [
    {
     "name": "stdout",
     "output_type": "stream",
     "text": [
      "udymts\n"
     ]
    }
   ],
   "source": [
    "alpha = 'abcdefghijklmnopqrstuvwxyz'\n",
    "shift = 5\n",
    "word = 'python'\n",
    "encoded_word = ''  # there is no space between quotes\n",
    "for char in word:\n",
    "    shifted_index = (alpha.index(char) + shift) % 26\n",
    "    encoded_char = alpha[shifted_index]\n",
    "    encoded_word += encoded_char\n",
    "print(encoded_word)\n",
    "\n",
    "#Caesar cipher. A Caesar cipher is a type of substitution cipher \n",
    "#where each letter in the plaintext is \"shifted\" by a fixed number of positions down the alphabet"
   ]
  },
  {
   "cell_type": "code",
   "execution_count": 27,
   "metadata": {},
   "outputs": [
    {
     "name": "stdout",
     "output_type": "stream",
     "text": [
      "False\n"
     ]
    }
   ],
   "source": [
    "word = input()\n",
    "valid = True\n",
    "for i in range(len(word)):\n",
    "    char = word[i]\n",
    "    if i % 2 == 0 and char not in 'aeiou':\n",
    "        valid = False\n",
    "print(valid)\n",
    "\n",
    "#checks if all characters at even index positions are vowels"
   ]
  },
  {
   "cell_type": "code",
   "execution_count": null,
   "metadata": {},
   "outputs": [],
   "source": [
    "#Nested loop\n",
    "\n",
    "s = 'RWBY'  #Red, White, Black, Yellow\n",
    "t = 'RWBY'\n",
    "\n",
    "count = 0\n",
    "for i in range(4):\n",
    "    for j in range(4):\n",
    "        print(i, j, s[i], s[j])\n",
    "        count = count + 1\n",
    "\n",
    "print(\"Total ways in which shirt and trouser can be weared is:\", count)\n",
    "    "
   ]
  },
  {
   "cell_type": "code",
   "execution_count": null,
   "metadata": {},
   "outputs": [],
   "source": [
    "## Pyramid\n",
    "row = 4\n",
    "\n",
    "# Generating pattern\n",
    "for i in range(1,row+1):\n",
    "    \n",
    "    # for space\n",
    "    #for j in range(1, row+1-i):\n",
    "    #    print(' ', end='')\n",
    "    \n",
    "    # for increasing pattern\n",
    "    for j in range(1,i+2):\n",
    "        print(j, end='')\n",
    "    \n",
    "    # for decreasing pattern \n",
    "    for j in range(i,0,-1):\n",
    "        print(j, end='')\n",
    "    \n",
    "    # Moving to next line\n",
    "    print()"
   ]
  },
  {
   "cell_type": "code",
   "execution_count": null,
   "metadata": {},
   "outputs": [],
   "source": [
    "s = input()\n",
    "l = len(s)\n",
    "flag = True\n",
    "for i in range(0,l-1):\n",
    "    if s[i] != s[l-i-1]:\n",
    "        flag = False\n",
    "if flag:\n",
    "    print(\"PALINDROME\")\n",
    "else: \n",
    "    print(\"NOT PALINDROME\")   "
   ]
  },
  {
   "cell_type": "code",
   "execution_count": null,
   "metadata": {},
   "outputs": [],
   "source": [
    "#How to iterate over a string\n",
    "\n",
    "word = 'good'\n",
    "count = 1\n",
    "for char in word:\n",
    "    print(char, 'occurs at position', count, 'in the string', word)\n",
    "    count = count + 1\n",
    "\n",
    "\n",
    "\n",
    "word = 'good'\n",
    "count = 1\n",
    "for c in word:\n",
    "    print(c, 'occurs at position', count, 'in the string', word)\n",
    "    count = count + 1"
   ]
  },
  {
   "cell_type": "code",
   "execution_count": null,
   "metadata": {},
   "outputs": [],
   "source": [
    "#use of sep and end \n",
    "n = int(input(\"Integer in multiple of 3: \"))\n",
    "print('|', end = '')\n",
    "for i in range(1, n + 1, 3):\n",
    "    print(i, i + 1, i + 2, sep = ',', end = '|')"
   ]
  },
  {
   "cell_type": "markdown",
   "metadata": {},
   "source": [
    "# Loop control"
   ]
  },
  {
   "cell_type": "code",
   "execution_count": null,
   "metadata": {},
   "outputs": [],
   "source": [
    "# pass statement is a placeholder that does nothing. \n",
    "# It's often used in situations where a statement is syntactically required, but you don't want to execute any code.\n",
    "for i in range(5):\n",
    "    if i == 3:\n",
    "        pass  # Placeholder for future logic\n",
    "    print(i)\n"
   ]
  },
  {
   "cell_type": "code",
   "execution_count": null,
   "metadata": {},
   "outputs": [],
   "source": [
    "# prints all positive integers less than or equal to 50 that are divisible by 3\n",
    "x = 0\n",
    "print(\"Multiples of three <= 50\", end = ': ')\n",
    "while x < 50:\n",
    "    x = x + 1\n",
    "    if x % 3 != 0:\n",
    "        continue\n",
    "    print(x, end = ',')\n",
    "\n",
    "print()  #newline\n",
    "\n",
    "#continue statement is used to skip the current iteration of a loop and move to the next iteration"
   ]
  },
  {
   "cell_type": "code",
   "execution_count": null,
   "metadata": {},
   "outputs": [],
   "source": [
    "#prints the smallest positive integer that is divisible by 2, 3 and 4\n",
    "num = 1\n",
    "while True:\n",
    "    if (num % 2 == 0) and (num % 3 == 0) and (num % 4 == 0):\n",
    "        break\n",
    "    num = num + 1\n",
    "print(\"LCM of 2,3,4 is\", num)\n",
    "print()\n",
    "\n",
    "# When the break statement is encountered inside a loop, the loop is immediately terminated, and the program continues with the next statement following the loop."
   ]
  },
  {
   "cell_type": "code",
   "execution_count": null,
   "metadata": {},
   "outputs": [],
   "source": [
    "#how many times break gets executed\n",
    "for i in range(10):\n",
    "    for j in range(10):\n",
    "        print(f'j = {j}')\n",
    "        break\n",
    "    print(f'i = {i}')\n",
    "    break"
   ]
  },
  {
   "cell_type": "code",
   "execution_count": null,
   "metadata": {},
   "outputs": [],
   "source": [
    "name = input(\"What's your name? \")\n",
    "\n",
    "match name: \n",
    "    case \"Harry\" | \"Hermione\" | \"Ron\":\n",
    "        print(\"Gryffindor\")\n",
    "    case \"Draco\":\n",
    "        print(\"Slytherin\")\n",
    "    case _:                     # _ is used in other contexts also. Here, it acts as \"else\" \n",
    "        print(\"Who?\")"
   ]
  },
  {
   "cell_type": "markdown",
   "metadata": {},
   "source": [
    "# Applications"
   ]
  },
  {
   "cell_type": "code",
   "execution_count": null,
   "metadata": {},
   "outputs": [],
   "source": [
    "#train of square roots\n",
    "\n",
    "import math\n",
    "# sqrt(2 + sqrt(2 + sqrt(2 + ...) ))\n",
    "x = 0\n",
    "for n in range(1, 6):\n",
    "    x = math.sqrt(2 + x)\n",
    "    print(f'n = {n}, x_n = {x:.3f}')\n"
   ]
  },
  {
   "cell_type": "code",
   "execution_count": null,
   "metadata": {},
   "outputs": [],
   "source": [
    "\n",
    "x_prev, x_curr = 0, math.sqrt(2)\n",
    "tol, count = 0.00001, 0\n",
    "while abs(x_curr - x_prev) >= tol:\n",
    "    x_prev = x_curr\n",
    "    x_curr = math.sqrt(2 + x_prev)\n",
    "    count += 1\n",
    "print(f'Value of x at {tol} tolerance is {x_curr}')\n",
    "print(f'It took {count} iterations')\n"
   ]
  },
  {
   "cell_type": "code",
   "execution_count": null,
   "metadata": {},
   "outputs": [],
   "source": [
    "\n",
    "\n",
    "\n",
    "# {sqrt(2)-1}^n\n",
    "n = int(input(\"Enter number of iterations n: \"))                # sequence length\n",
    "CONST = math.pow(2, 0.5) - 1    # basic term in the sequence\n",
    "a_n = 1                         # zeroth term\n",
    "for i in range(n):\n",
    "    a_n = a_n * CONST           # computing the nth term\n"
   ]
  },
  {
   "cell_type": "code",
   "execution_count": null,
   "metadata": {},
   "outputs": [],
   "source": [
    "print(a_n)\n",
    "\n",
    "\n",
    "n = int(input(\"Find nth term for n: \"))    # sequence length\n",
    "x_n, y_n = -1, 1    # x_1 and y_1\n",
    "for i in range(n - 1):\n",
    "    x_n, y_n = 2 * y_n - x_n, x_n - y_n\n",
    "print(x_n, y_n)\n",
    "print(\"Value of root(2) is: \", -x_n/y_n)"
   ]
  }
 ],
 "metadata": {
  "kernelspec": {
   "display_name": "Python 3",
   "language": "python",
   "name": "python3"
  },
  "language_info": {
   "codemirror_mode": {
    "name": "ipython",
    "version": 3
   },
   "file_extension": ".py",
   "mimetype": "text/x-python",
   "name": "python",
   "nbconvert_exporter": "python",
   "pygments_lexer": "ipython3",
   "version": "3.12.3"
  }
 },
 "nbformat": 4,
 "nbformat_minor": 2
}
