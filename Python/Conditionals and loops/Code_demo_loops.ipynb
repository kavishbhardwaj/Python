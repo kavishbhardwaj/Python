{
 "cells": [
  {
   "cell_type": "markdown",
   "metadata": {},
   "source": [
    "# While loop"
   ]
  },
  {
   "cell_type": "code",
   "execution_count": 20,
   "metadata": {},
   "outputs": [
    {
     "name": "stdout",
     "output_type": "stream",
     "text": [
      "Factorial is:  "
     ]
    },
    {
     "ename": "ValueError",
     "evalue": "Exceeds the limit (4300 digits) for integer string conversion; use sys.set_int_max_str_digits() to increase the limit",
     "output_type": "error",
     "traceback": [
      "\u001b[1;31m---------------------------------------------------------------------------\u001b[0m",
      "\u001b[1;31mValueError\u001b[0m                                Traceback (most recent call last)",
      "Cell \u001b[1;32mIn[20], line 8\u001b[0m\n\u001b[0;32m      5\u001b[0m     fac \u001b[38;5;241m=\u001b[39m fac\u001b[38;5;241m*\u001b[39mnum\n\u001b[0;32m      6\u001b[0m     num \u001b[38;5;241m=\u001b[39m num \u001b[38;5;241m-\u001b[39m \u001b[38;5;241m1\u001b[39m\n\u001b[1;32m----> 8\u001b[0m \u001b[38;5;28mprint\u001b[39m(\u001b[38;5;124m\"\u001b[39m\u001b[38;5;124mFactorial is: \u001b[39m\u001b[38;5;124m\"\u001b[39m, fac)\n",
      "\u001b[1;31mValueError\u001b[0m: Exceeds the limit (4300 digits) for integer string conversion; use sys.set_int_max_str_digits() to increase the limit"
     ]
    }
   ],
   "source": [
    "num = int(input(\"Enter an integer to compute factorial \"))\n",
    "\n",
    "fac = 1\n",
    "while (num!=1):\n",
    "    fac = fac*num\n",
    "    num = num - 1\n",
    "\n",
    "print(\"Factorial is: \", fac)"
   ]
  },
  {
   "cell_type": "code",
   "execution_count": null,
   "metadata": {},
   "outputs": [],
   "source": [
    "'''\n",
    "Keep accepting integers as input from the user until the user enters a negative number. \n",
    "Print the maximum among the positive numbers entered by the user. \n",
    "Print 0 if the user doesn't enter any positive integer\n",
    "'''\n",
    "\n",
    "# Initialize\n",
    "num = int(input())\n",
    "max_num = 0\n",
    "# Loop\n",
    "while num >= 0:\n",
    "    if num > max_num:\n",
    "        max_num = num\n",
    "    num = int(input())\n",
    "# Print output\n",
    "print(max_num)\n"
   ]
  },
  {
   "cell_type": "code",
   "execution_count": null,
   "metadata": {},
   "outputs": [],
   "source": [
    "#minimum positive integer x such that (x**2 + x + 41) is divisible by 41\n",
    "\n",
    "z = 40\n",
    "x = 1\n",
    "while z % 41 != 0:\n",
    "    z = x**2 + x + 41\n",
    "    x = x + 1\n",
    "print(x-1)"
   ]
  },
  {
   "cell_type": "markdown",
   "metadata": {},
   "source": [
    "# For loop"
   ]
  },
  {
   "cell_type": "code",
   "execution_count": 27,
   "metadata": {},
   "outputs": [
    {
     "name": "stdout",
     "output_type": "stream",
     "text": [
      "0 1 2 3 4 \n",
      "10 11 12 13 14 15 16 17 18 19 20 21 22 23 24 25 26 27 28 29 30 31 32 33 34 35 36 37 38 39 40 41 42 43 44 45 46 47 48 49 50 51 52 53 54 55 56 57 58 59 60 61 62 63 64 65 66 67 68 69 70 71 72 73 74 75 76 77 78 79 80 81 82 83 84 85 86 87 88 89 90 91 92 93 94 95 96 97 98 99 \n",
      "98 96 94 92 90 88 86 84 82 80 78 76 74 72 70 68 66 64 62 60 58 56 54 52 50 48 46 44 42 40 38 36 34 32 30 28 26 24 22 20 18 16 14 12 10\n",
      "\n",
      "10 12 14 16 18 20 22 24 26 28 30 32 34 36 38 40 42 44 46 48 50 52 54 56 58 60 62 64 66 68 70 72 74 76 78 80 82 84 86 88 90 92 94 96 98 \n"
     ]
    }
   ],
   "source": [
    "for i in range(5):\n",
    "    print(i, end=' ')\n",
    "print()\n",
    "\n",
    "for i in range(10, 100):\n",
    "    print(i, end=' ')\n",
    "print()\n",
    "\n",
    "print(' '.join(str(i) for i in range(98, 9, -2)))\n",
    "print()\n",
    "\n",
    "import sys\n",
    "for i in range(10, 100, 2):\n",
    "    sys.stdout.write(f\"{i} \")\n",
    "print()\n",
    "\n",
    "#empty sequence, range function only works when the starting number is less than the ending number by default\n",
    "for i in range(10, 5):\n",
    "    print(i)\n",
    "\n",
    "#for i in range(0.0, 10.0):\n",
    "# wrong code floats are not allowed  "
   ]
  },
  {
   "cell_type": "code",
   "execution_count": 60,
   "metadata": {},
   "outputs": [
    {
     "name": "stdout",
     "output_type": "stream",
     "text": [
      "11250000075000000\n"
     ]
    }
   ],
   "source": [
    "# sum if integers from 1 to n (150 million)\n",
    "import time\n",
    "start_time = time.time()\n",
    "n = 150000000\n",
    "total = 0\n",
    "for i in range(1, n+1):\n",
    "    total = total + i \n",
    "\n",
    "print(total) \n",
    "end_time = time.time()  # End time tracking\n",
    "print(f\"Execution time: {end_time - start_time} seconds\")\n",
    "     "
   ]
  },
  {
   "cell_type": "markdown",
   "metadata": {},
   "source": [
    "An Intel 12th Gen Core i7-12700 CPU with following detils:\n",
    "12 physical cores in the processor  \n",
    "20 threads (This means that the CPU supports hyperthreading on some of its cores)\n",
    "2.10 GHz Base speed (the base frequency at which the CPU operates, though it can boost to higher speeds depending on workload)\n",
    "L1 cache: 1.0 MB\n",
    "L2 cache: 12.0 MB\n",
    "L3 cache: 25.0 MB\n",
    "Performance Estimation:\n",
    "Assuming the CPU can handle 4 instructions per clock cycle (a common assumption for modern CPUs) and each core is running at 2.1 GHz (its base speed):\n",
    "\n",
    "For each core: Calculations per second per core = 2.1 GHz × 4 = 8.4 × 10^9 calculations/second\n",
    "\n",
    "For 12 cores: 100.8 billion calculations/second\n",
    "\n",
    "If you factor in hyperthreading (20 threads instead of 12 cores), you can expect an additional boost in performance, giving an estimated total performance around 150 billion calculations per second under ideal conditions.\n",
    "\n",
    "This is a rough estimate. The actual performance can vary based on the type of calculations (integer vs. floating point), cache efficiency, and whether the workload can be effectively parallelized.\n",
    "\n",
    "Time = number of operations/Operations per second\n",
    "\n",
    "For each iteration, you are performing one addition, so the number of operations is proportional to n. \n",
    "Thus, in 1 second, you can sum 150 billion integers\n",
    "In 1 minute, you can sum 9 trillion (150 billion * 60) integers.\n"
   ]
  },
  {
   "cell_type": "markdown",
   "metadata": {},
   "source": [
    "\n",
    "However, the actual time taken is much longer (tens of sec in python and nearly a minute in Jupyter notebook). Factors Slowing Down Execution:\n",
    "\n",
    "Interpreted Language Overhead:Python is an interpreted language, meaning it’s not as fast as lower-level languages like C or C++. Each Python statement is interpreted and executed at runtime, which adds overhead compared to compiled languages.\n",
    "\n",
    "\n",
    "Jupyter Notebook Overhead: Jupyter adds additional overhead on top of Python. The kernel communicates back and forth between the notebook interface, which can slow things down. This is especially noticeable for CPU-bound tasks like adding large numbers.\n",
    "\n",
    "\n",
    "Global Interpreter Lock (GIL): Python's Global Interpreter Lock (GIL) allows only one thread to execute Python bytecode at a time, which severely limits the ability of Python to utilize multiple cores effectively. Even though your CPU has 12 cores and 20 threads, Python might not be fully utilizing them due to the GIL. This limits the parallelism that Python can achieve, meaning it won’t use all CPU threads efficiently for simple loops.\n",
    "\n",
    "\n",
    "Type Overhead (Integers): Python handles arbitrary-precision integers, which means every integer is represented as an object. This introduces extra overhead compared to native integer types in languages like C that are fixed in size. When you are summing up large integers, the overhead of managing these objects can significantly slow down performance.\n",
    "\n",
    "\n",
    "Memory Management: Python’s memory management (automatic garbage collection, dynamic typing) adds overhead, especially in loops involving large numbers of operations. If the total variable grows large, Python needs to allocate more memory and manage the dynamic resizing of integer objects, further slowing down the process.\n",
    "\n",
    "\n",
    "Ways to Improve Performance:\n",
    "Use NumPy: NumPy is a highly optimized library that operates in C under the hood. You can use it to sum integers efficiently using vectorized operations.\n",
    "\n",
    "You can try running the code in a standard Python script instead of Jupyter. Jupyter’s interactivity and its kernel’s communication with the front end can slow down tasks that involve many iterations or calculations.\n",
    "\n",
    "\n",
    "Use Cython or Numba: If performance is crucial and you're sticking with Python, you can use Cython or Numba to compile the code to a more efficient, low-level version.\n",
    "\n",
    "Numba is a just-in-time (JIT) compiler that can compile Python functions to machine code, making them run much faster. Here’s an example using Numba:"
   ]
  },
  {
   "cell_type": "code",
   "execution_count": 65,
   "metadata": {},
   "outputs": [
    {
     "name": "stdout",
     "output_type": "stream",
     "text": [
      "i = 1\n",
      "j = 0\n",
      "total = 1\n",
      "i = 2\n",
      "j = 0\n",
      "total = 3\n",
      "j = 1\n",
      "total = 5\n",
      "i = 3\n",
      "j = 0\n",
      "total = 8\n",
      "j = 1\n",
      "total = 11\n",
      "j = 2\n",
      "total = 14\n",
      "i = 4\n",
      "j = 0\n",
      "total = 18\n",
      "j = 1\n",
      "total = 22\n",
      "j = 2\n",
      "total = 26\n",
      "j = 3\n",
      "total = 30\n",
      "i = 5\n",
      "j = 0\n",
      "total = 35\n",
      "j = 1\n",
      "total = 40\n",
      "j = 2\n",
      "total = 45\n",
      "j = 3\n",
      "total = 50\n",
      "j = 4\n",
      "total = 55\n",
      "i = 6\n",
      "j = 0\n",
      "total = 61\n",
      "j = 1\n",
      "total = 67\n",
      "j = 2\n",
      "total = 73\n",
      "j = 3\n",
      "total = 79\n",
      "j = 4\n",
      "total = 85\n",
      "j = 5\n",
      "total = 91\n",
      "i = 7\n",
      "j = 0\n",
      "total = 98\n",
      "j = 1\n",
      "total = 105\n",
      "j = 2\n",
      "total = 112\n",
      "j = 3\n",
      "total = 119\n",
      "j = 4\n",
      "total = 126\n",
      "j = 5\n",
      "total = 133\n",
      "j = 6\n",
      "total = 140\n",
      "i = 8\n",
      "j = 0\n",
      "total = 148\n",
      "j = 1\n",
      "total = 156\n",
      "j = 2\n",
      "total = 164\n",
      "j = 3\n",
      "total = 172\n",
      "j = 4\n",
      "total = 180\n",
      "j = 5\n",
      "total = 188\n",
      "j = 6\n",
      "total = 196\n",
      "j = 7\n",
      "total = 204\n",
      "i = 9\n",
      "j = 0\n",
      "total = 213\n",
      "j = 1\n",
      "total = 222\n",
      "j = 2\n",
      "total = 231\n",
      "j = 3\n",
      "total = 240\n",
      "j = 4\n",
      "total = 249\n",
      "j = 5\n",
      "total = 258\n",
      "j = 6\n",
      "total = 267\n",
      "j = 7\n",
      "total = 276\n",
      "j = 8\n",
      "total = 285\n",
      "285\n"
     ]
    },
    {
     "data": {
      "text/plain": [
       "\"\\nTotal number of operations are : 1 + 2 + 3 + 4 + ... = n(n+1)/2, for e.g. for n = 1700 number of operation will be nearly 1.5 million\\n\\nThe overall sum is the sum of: 1×1+2×2+3×3+4×4.\\n\\nIn more general terms, this is the sum of squares of integers, although you're computing it through a repetitive addition process rather than directly calculating \\nIt's direct formula is n(n+1)(2n+1)/6\\n\""
      ]
     },
     "execution_count": 65,
     "metadata": {},
     "output_type": "execute_result"
    }
   ],
   "source": [
    "# Nested loop\n",
    "total = 0\n",
    "for i in range(1, 10):    \n",
    "    print(f'i = {i}')\n",
    "    for j in range(i): \n",
    "        print(f'j = {j}')       \n",
    "        total = total + i\n",
    "        print(f'total = {total}')\n",
    "print(total)  \n",
    "\n",
    "'''\n",
    "Total number of operations are : 1 + 2 + 3 + 4 + ... = n(n+1)/2, for e.g. for n = 1700 number of operation will be nearly 1.5 million\n",
    "\n",
    "The overall sum is the sum of: 1×1+2×2+3×3+4×4.\n",
    "\n",
    "In more general terms, this is the sum of squares of integers, although you're computing it through a repetitive addition process rather than directly calculating \n",
    "It's direct formula is n(n+1)(2n+1)/6\n",
    "'''"
   ]
  },
  {
   "cell_type": "code",
   "execution_count": 1,
   "metadata": {},
   "outputs": [
    {
     "name": "stdout",
     "output_type": "stream",
     "text": [
      "121\n",
      "12321\n",
      "1234321\n",
      "123454321\n"
     ]
    }
   ],
   "source": [
    "## Pyramid\n",
    "row = 4\n",
    "\n",
    "# Generating pattern\n",
    "for i in range(1,row+1):\n",
    "    \n",
    "    # for space\n",
    "    #for j in range(1, row+1-i):\n",
    "    #    print(' ', end='')\n",
    "    \n",
    "    # for increasing pattern\n",
    "    for j in range(1,i+2):\n",
    "        print(j, end='')\n",
    "    \n",
    "    # for decreasing pattern \n",
    "    for j in range(i,0,-1):\n",
    "        print(j, end='')\n",
    "    \n",
    "    # Moving to next line\n",
    "    print()"
   ]
  },
  {
   "cell_type": "code",
   "execution_count": null,
   "metadata": {},
   "outputs": [],
   "source": [
    "s = input()\n",
    "l = len(s)\n",
    "flag = True\n",
    "for i in range(0,l-1):\n",
    "    if s[i] != s[l-i-1]:\n",
    "        flag = False\n",
    "if flag:\n",
    "    print(\"PALINDROME\")\n",
    "else: \n",
    "    print(\"NOT PALINDROME\")   "
   ]
  },
  {
   "cell_type": "code",
   "execution_count": null,
   "metadata": {},
   "outputs": [],
   "source": [
    "#How to iterate over a string\n",
    "\n",
    "word = 'good'\n",
    "count = 1\n",
    "for char in word:\n",
    "    print(char, 'occurs at position', count, 'in the string', word)\n",
    "    count = count + 1\n",
    "\n",
    "\n",
    "\n",
    "word = 'good'\n",
    "count = 1\n",
    "for c in word:\n",
    "    print(c, 'occurs at position', count, 'in the string', word)\n",
    "    count = count + 1"
   ]
  },
  {
   "cell_type": "markdown",
   "metadata": {},
   "source": [
    "# Loop control"
   ]
  },
  {
   "cell_type": "code",
   "execution_count": null,
   "metadata": {},
   "outputs": [],
   "source": []
  },
  {
   "cell_type": "code",
   "execution_count": null,
   "metadata": {},
   "outputs": [],
   "source": [
    "# prints all positive integers less than or equal to 50 that are divisible by 3\n",
    "x = 0\n",
    "print(\"Multiples of three <= 50\", end = ': ')\n",
    "while x < 50:\n",
    "    x = x + 1\n",
    "    if x % 3 != 0:\n",
    "        continue\n",
    "    print(x, end = ',')\n",
    "\n",
    "print()  #newline"
   ]
  },
  {
   "cell_type": "code",
   "execution_count": null,
   "metadata": {},
   "outputs": [],
   "source": [
    "#prints the smallest positive integer that is divisible by 2, 3 and 4\n",
    "num = 1\n",
    "while True:\n",
    "    if (num % 2 == 0) and (num % 3 == 0) and (num % 4 == 0):\n",
    "        break\n",
    "    num = num + 1\n",
    "print(\"LCM of 2,3,4 is\", num)\n",
    "print()\n"
   ]
  },
  {
   "cell_type": "code",
   "execution_count": null,
   "metadata": {},
   "outputs": [],
   "source": [
    "#use of sep and end \n",
    "n = int(input(\"Integer in multiple of 3: \"))\n",
    "print('|', end = '')\n",
    "for i in range(1, n + 1, 3):\n",
    "    print(i, i + 1, i + 2, sep = ',', end = '|')"
   ]
  },
  {
   "cell_type": "code",
   "execution_count": null,
   "metadata": {},
   "outputs": [],
   "source": [
    "#how many times break gets executed\n",
    "for i in range(10):\n",
    "    for j in range(10):\n",
    "        print(f'j = {j}')\n",
    "        break\n",
    "    print(f'i = {i}')\n",
    "    break"
   ]
  },
  {
   "cell_type": "code",
   "execution_count": null,
   "metadata": {},
   "outputs": [],
   "source": [
    "name = input(\"What's your name? \")\n",
    "\n",
    "match name: \n",
    "    case \"Harry\" | \"Hermione\" | \"Ron\":\n",
    "        print(\"Gryffindor\")\n",
    "    case \"Draco\":\n",
    "        print(\"Slytherin\")\n",
    "    case _:                     # _ is used in other contexts also. Here, it acts as \"else\" \n",
    "        print(\"Who?\")"
   ]
  },
  {
   "cell_type": "markdown",
   "metadata": {},
   "source": [
    "# Applications"
   ]
  },
  {
   "cell_type": "code",
   "execution_count": null,
   "metadata": {},
   "outputs": [],
   "source": [
    "#train of square roots\n",
    "\n",
    "import math\n",
    "# sqrt(2 + sqrt(2 + sqrt(2 + ...) ))\n",
    "x = 0\n",
    "for n in range(1, 6):\n",
    "    x = math.sqrt(2 + x)\n",
    "    print(f'n = {n}, x_n = {x:.3f}')\n"
   ]
  },
  {
   "cell_type": "code",
   "execution_count": null,
   "metadata": {},
   "outputs": [],
   "source": [
    "\n",
    "x_prev, x_curr = 0, math.sqrt(2)\n",
    "tol, count = 0.00001, 0\n",
    "while abs(x_curr - x_prev) >= tol:\n",
    "    x_prev = x_curr\n",
    "    x_curr = math.sqrt(2 + x_prev)\n",
    "    count += 1\n",
    "print(f'Value of x at {tol} tolerance is {x_curr}')\n",
    "print(f'It took {count} iterations')\n"
   ]
  },
  {
   "cell_type": "code",
   "execution_count": null,
   "metadata": {},
   "outputs": [],
   "source": [
    "\n",
    "\n",
    "\n",
    "# {sqrt(2)-1}^n\n",
    "n = int(input(\"Enter number of iterations n: \"))                # sequence length\n",
    "CONST = math.pow(2, 0.5) - 1    # basic term in the sequence\n",
    "a_n = 1                         # zeroth term\n",
    "for i in range(n):\n",
    "    a_n = a_n * CONST           # computing the nth term\n"
   ]
  },
  {
   "cell_type": "code",
   "execution_count": null,
   "metadata": {},
   "outputs": [],
   "source": [
    "print(a_n)\n",
    "\n",
    "\n",
    "n = int(input(\"Find nth term for n: \"))    # sequence length\n",
    "x_n, y_n = -1, 1    # x_1 and y_1\n",
    "for i in range(n - 1):\n",
    "    x_n, y_n = 2 * y_n - x_n, x_n - y_n\n",
    "print(x_n, y_n)\n",
    "print(\"Value of root(2) is: \", -x_n/y_n)"
   ]
  }
 ],
 "metadata": {
  "kernelspec": {
   "display_name": "simulations_env",
   "language": "python",
   "name": "python3"
  },
  "language_info": {
   "codemirror_mode": {
    "name": "ipython",
    "version": 3
   },
   "file_extension": ".py",
   "mimetype": "text/x-python",
   "name": "python",
   "nbconvert_exporter": "python",
   "pygments_lexer": "ipython3",
   "version": "3.12.3"
  }
 },
 "nbformat": 4,
 "nbformat_minor": 2
}
