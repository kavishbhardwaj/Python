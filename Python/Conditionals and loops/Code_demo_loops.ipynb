{
 "cells": [
  {
   "cell_type": "markdown",
   "metadata": {},
   "source": [
    "# While loop"
   ]
  },
  {
   "cell_type": "code",
   "execution_count": null,
   "metadata": {},
   "outputs": [],
   "source": [
    "'''\n",
    "Keep accepting integers as input from the user until the user enters a negative number. \n",
    "Print the maximum among the positive numbers entered by the user. \n",
    "Print 0 if the user doesn't enter any positive integer\n",
    "'''\n",
    "\n",
    "# Initialize\n",
    "num = int(input())\n",
    "max_num = 0\n",
    "# Loop\n",
    "while num >= 0:\n",
    "    if num > max_num:\n",
    "        max_num = num\n",
    "    num = int(input())\n",
    "# Print output\n",
    "print(max_num)\n"
   ]
  },
  {
   "cell_type": "code",
   "execution_count": null,
   "metadata": {},
   "outputs": [],
   "source": [
    "#minimum positive integer x such that (x**2 + x + 41) is divisible by 41\n",
    "\n",
    "z = 40\n",
    "x = 1\n",
    "while z % 41 != 0:\n",
    "    z = x**2 + x + 41\n",
    "    x = x + 1\n",
    "print(x-1)"
   ]
  },
  {
   "cell_type": "markdown",
   "metadata": {},
   "source": [
    "# For loop"
   ]
  },
  {
   "cell_type": "code",
   "execution_count": null,
   "metadata": {},
   "outputs": [],
   "source": [
    "for i in range(5):\n",
    "    print(i)\n",
    "\n",
    "for i in range(10, 100):\n",
    "    print(i)\n",
    "\n",
    "for i in range(10, 100, 2):\n",
    "    print(i)\n",
    "\n",
    "for i in range(98, 9, -2):\n",
    "    print(i)\n",
    "\n",
    "#empty sequence\n",
    "for i in range(10, 5):\n",
    "    print(i)\n",
    "\n",
    "#for i in range(0.0, 10.0):\n",
    "# wrong code floats are not allowed  "
   ]
  },
  {
   "cell_type": "code",
   "execution_count": null,
   "metadata": {},
   "outputs": [],
   "source": [
    "total = 0\n",
    "for i in range(1, 5):    \n",
    "    print(f'i = {i}')\n",
    "    for j in range(i): \n",
    "        print(f'j = {j}')       \n",
    "        total = total + i\n",
    "        print(f'total = {total}')\n",
    "print(total)  "
   ]
  },
  {
   "cell_type": "code",
   "execution_count": 1,
   "metadata": {},
   "outputs": [
    {
     "name": "stdout",
     "output_type": "stream",
     "text": [
      "121\n",
      "12321\n",
      "1234321\n",
      "123454321\n"
     ]
    }
   ],
   "source": [
    "## Pyramid\n",
    "row = 4\n",
    "\n",
    "# Generating pattern\n",
    "for i in range(1,row+1):\n",
    "    \n",
    "    # for space\n",
    "    #for j in range(1, row+1-i):\n",
    "    #    print(' ', end='')\n",
    "    \n",
    "    # for increasing pattern\n",
    "    for j in range(1,i+2):\n",
    "        print(j, end='')\n",
    "    \n",
    "    # for decreasing pattern \n",
    "    for j in range(i,0,-1):\n",
    "        print(j, end='')\n",
    "    \n",
    "    # Moving to next line\n",
    "    print()"
   ]
  },
  {
   "cell_type": "code",
   "execution_count": null,
   "metadata": {},
   "outputs": [],
   "source": [
    "s = input()\n",
    "l = len(s)\n",
    "flag = True\n",
    "for i in range(0,l-1):\n",
    "    if s[i] != s[l-i-1]:\n",
    "        flag = False\n",
    "if flag:\n",
    "    print(\"PALINDROME\")\n",
    "else: \n",
    "    print(\"NOT PALINDROME\")   "
   ]
  },
  {
   "cell_type": "code",
   "execution_count": null,
   "metadata": {},
   "outputs": [],
   "source": [
    "#How to iterate over a string\n",
    "\n",
    "word = 'good'\n",
    "count = 1\n",
    "for char in word:\n",
    "    print(char, 'occurs at position', count, 'in the string', word)\n",
    "    count = count + 1\n",
    "\n",
    "\n",
    "\n",
    "word = 'good'\n",
    "count = 1\n",
    "for c in word:\n",
    "    print(c, 'occurs at position', count, 'in the string', word)\n",
    "    count = count + 1"
   ]
  },
  {
   "cell_type": "markdown",
   "metadata": {},
   "source": [
    "# Loop control"
   ]
  },
  {
   "cell_type": "code",
   "execution_count": null,
   "metadata": {},
   "outputs": [],
   "source": []
  },
  {
   "cell_type": "code",
   "execution_count": null,
   "metadata": {},
   "outputs": [],
   "source": [
    "# prints all positive integers less than or equal to 50 that are divisible by 3\n",
    "x = 0\n",
    "print(\"Multiples of three <= 50\", end = ': ')\n",
    "while x < 50:\n",
    "    x = x + 1\n",
    "    if x % 3 != 0:\n",
    "        continue\n",
    "    print(x, end = ',')\n",
    "\n",
    "print()  #newline"
   ]
  },
  {
   "cell_type": "code",
   "execution_count": null,
   "metadata": {},
   "outputs": [],
   "source": [
    "#prints the smallest positive integer that is divisible by 2, 3 and 4\n",
    "num = 1\n",
    "while True:\n",
    "    if (num % 2 == 0) and (num % 3 == 0) and (num % 4 == 0):\n",
    "        break\n",
    "    num = num + 1\n",
    "print(\"LCM of 2,3,4 is\", num)\n",
    "print()\n"
   ]
  },
  {
   "cell_type": "code",
   "execution_count": null,
   "metadata": {},
   "outputs": [],
   "source": [
    "#use of sep and end \n",
    "n = int(input(\"Integer in multiple of 3: \"))\n",
    "print('|', end = '')\n",
    "for i in range(1, n + 1, 3):\n",
    "    print(i, i + 1, i + 2, sep = ',', end = '|')"
   ]
  },
  {
   "cell_type": "code",
   "execution_count": null,
   "metadata": {},
   "outputs": [],
   "source": [
    "#how many times break gets executed\n",
    "for i in range(10):\n",
    "    for j in range(10):\n",
    "        print(f'j = {j}')\n",
    "        break\n",
    "    print(f'i = {i}')\n",
    "    break"
   ]
  },
  {
   "cell_type": "code",
   "execution_count": null,
   "metadata": {},
   "outputs": [],
   "source": [
    "name = input(\"What's your name? \")\n",
    "\n",
    "match name: \n",
    "    case \"Harry\" | \"Hermione\" | \"Ron\":\n",
    "        print(\"Gryffindor\")\n",
    "    case \"Draco\":\n",
    "        print(\"Slytherin\")\n",
    "    case _:                     # _ is used in other contexts also. Here, it acts as \"else\" \n",
    "        print(\"Who?\")"
   ]
  },
  {
   "cell_type": "markdown",
   "metadata": {},
   "source": [
    "# Applications"
   ]
  },
  {
   "cell_type": "code",
   "execution_count": null,
   "metadata": {},
   "outputs": [],
   "source": [
    "#train of square roots\n",
    "\n",
    "import math\n",
    "# sqrt(2 + sqrt(2 + sqrt(2 + ...) ))\n",
    "x = 0\n",
    "for n in range(1, 6):\n",
    "    x = math.sqrt(2 + x)\n",
    "    print(f'n = {n}, x_n = {x:.3f}')\n"
   ]
  },
  {
   "cell_type": "code",
   "execution_count": null,
   "metadata": {},
   "outputs": [],
   "source": [
    "\n",
    "x_prev, x_curr = 0, math.sqrt(2)\n",
    "tol, count = 0.00001, 0\n",
    "while abs(x_curr - x_prev) >= tol:\n",
    "    x_prev = x_curr\n",
    "    x_curr = math.sqrt(2 + x_prev)\n",
    "    count += 1\n",
    "print(f'Value of x at {tol} tolerance is {x_curr}')\n",
    "print(f'It took {count} iterations')\n"
   ]
  },
  {
   "cell_type": "code",
   "execution_count": null,
   "metadata": {},
   "outputs": [],
   "source": [
    "\n",
    "\n",
    "\n",
    "# {sqrt(2)-1}^n\n",
    "n = int(input(\"Enter number of iterations n: \"))                # sequence length\n",
    "CONST = math.pow(2, 0.5) - 1    # basic term in the sequence\n",
    "a_n = 1                         # zeroth term\n",
    "for i in range(n):\n",
    "    a_n = a_n * CONST           # computing the nth term\n"
   ]
  },
  {
   "cell_type": "code",
   "execution_count": null,
   "metadata": {},
   "outputs": [],
   "source": [
    "print(a_n)\n",
    "\n",
    "\n",
    "n = int(input(\"Find nth term for n: \"))    # sequence length\n",
    "x_n, y_n = -1, 1    # x_1 and y_1\n",
    "for i in range(n - 1):\n",
    "    x_n, y_n = 2 * y_n - x_n, x_n - y_n\n",
    "print(x_n, y_n)\n",
    "print(\"Value of root(2) is: \", -x_n/y_n)"
   ]
  }
 ],
 "metadata": {
  "kernelspec": {
   "display_name": "simulations_env",
   "language": "python",
   "name": "python3"
  },
  "language_info": {
   "codemirror_mode": {
    "name": "ipython",
    "version": 3
   },
   "file_extension": ".py",
   "mimetype": "text/x-python",
   "name": "python",
   "nbconvert_exporter": "python",
   "pygments_lexer": "ipython3",
   "version": "3.12.3"
  }
 },
 "nbformat": 4,
 "nbformat_minor": 2
}
