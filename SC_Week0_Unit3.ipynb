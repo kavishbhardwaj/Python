{
  "nbformat": 4,
  "nbformat_minor": 0,
  "metadata": {
    "colab": {
      "provenance": [],
      "include_colab_link": true
    },
    "kernelspec": {
      "name": "python3",
      "display_name": "Python 3"
    },
    "language_info": {
      "name": "python"
    }
  },
  "cells": [
    {
      "cell_type": "markdown",
      "metadata": {
        "id": "view-in-github",
        "colab_type": "text"
      },
      "source": [
        "<a href=\"https://colab.research.google.com/github/kavishbhardwaj/Rep1/blob/main/SC_Week0_Unit3.ipynb\" target=\"_parent\"><img src=\"https://colab.research.google.com/assets/colab-badge.svg\" alt=\"Open In Colab\"/></a>"
      ]
    },
    {
      "cell_type": "markdown",
      "source": [
        "# Week 0 - Unit 3: In-Depth `ls`, Hard and Soft Links, Inodes, and File System Size\n",
        "\n",
        "## Introduction\n",
        "\n",
        "In this unit, we will delve into the `ls` command, explore hard and soft links, understand inodes and their exploration, and check file system sizes."
      ],
      "metadata": {
        "id": "SSDt0Zyfd2VY"
      }
    },
    {
      "cell_type": "markdown",
      "source": [
        "## `ls` command\n",
        "\n",
        "The `ls` command lists directory contents. It has many options to customize the output.\n",
        "\n",
        "*   `-l`: Long format listing.\n",
        "*   `-a`: List all files, including hidden files (those starting with a dot .).\n",
        "*   `-h`: Human-readable file sizes (e.g., KB, MB).\n",
        "*   `-R`: Recursively list subdirectories.\n",
        "*   `-t`: Sort by modification time.\n"
      ],
      "metadata": {
        "id": "oDrG1kPUd-E1"
      }
    },
    {
      "cell_type": "code",
      "execution_count": null,
      "metadata": {
        "colab": {
          "base_uri": "https://localhost:8080/"
        },
        "id": "5Ti4KGBTdI9a",
        "outputId": "6b3f62e7-8803-476a-c387-a212d8d57ee5"
      },
      "outputs": [
        {
          "output_type": "stream",
          "name": "stdout",
          "text": [
            "total 4\n",
            "-rw-r--r-- 1 root root    0 Sep  5 04:44 file1.txt\n",
            "drwxr-xr-x 1 root root 4096 Sep  3 13:24 sample_data\n"
          ]
        }
      ],
      "source": [
        "# @title Example\n",
        "%%bash\n",
        "touch file1.txt\n",
        "ls -l"
      ]
    },
    {
      "cell_type": "markdown",
      "source": [
        "**Detailed Explanation of `ls -l`:**\n",
        "\n",
        "```\n",
        "-rw-r--r-- 1 root root    0 Sep  5 04:44 file1.txt\n",
        "```\n",
        "\n",
        "1. `-rw-r--r--`: File permissions.\n",
        "2. `1`: Number of links.\n",
        "3. `root`: File owner.\n",
        "4. `root`: File group.\n",
        "5. `0`: File size in bytes.\n",
        "6. `Sep 5 04:44`: Last modification date and time.\n",
        "7. `file1.txt`: File name.\n",
        "\n"
      ],
      "metadata": {
        "id": "Qzoy_cp5fyQ2"
      }
    },
    {
      "cell_type": "markdown",
      "source": [
        "### Use Cases\n",
        "\n",
        "1. Listing Files in Long Format: When you need detailed information about files (permissions, ownership, size, and modification date), use the `-l` option.\n",
        "\n",
        "```\n",
        "ls -l\n",
        "```\n",
        "\n",
        "This command provides a comprehensive view of the directory contents.\n",
        "\n",
        "2. Including Hidden Files: To see all files, including hidden files (those starting with a dot), use the `-a` option.\n",
        "\n",
        "```\n",
        "ls -a\n",
        "```\n",
        "\n",
        "This is useful for checking configuration files or directories that are usually hidden.\n",
        "\n",
        "3. Human-Readable File Sizes: When listing files, you may want to see sizes in a more understandable format. Combine `-l` with `-h` for human-readable sizes.\n",
        "\n",
        "```\n",
        "ls -lh\n",
        "```\n",
        "\n",
        "This command shows file sizes in KB, MB, etc., making it easier to assess storage usage.\n",
        "\n",
        "4. Recursively Listing Subdirectories: If you want to list all files in the current directory and its subdirectories, use the `-R` option.\n",
        "\n",
        "```\n",
        "ls -R\n",
        "```\n",
        "\n",
        "This is particularly useful for exploring the entire directory structure of a project.\n",
        "\n",
        "5. Sorting by Modification Time: To find out which files were recently modified, use the `-t` option.\n",
        "\n",
        "```\n",
        "ls -lt\n",
        "```\n",
        "\n",
        "This command sorts files by their modification time, displaying the most recently modified files at the top."
      ],
      "metadata": {
        "id": "ghlf7K_RipOT"
      }
    },
    {
      "cell_type": "markdown",
      "source": [
        "### Exercises\n",
        "\n",
        "By practicing these exercises, you'll become more proficient in using the `ls` command"
      ],
      "metadata": {
        "id": "ocn1GhhbjKhq"
      }
    },
    {
      "cell_type": "markdown",
      "source": [
        "1. Basic Directory Listing:\n",
        "\n",
        "* Open your terminal and run the command to list the files in your current directory.\n"
      ],
      "metadata": {
        "id": "cdAmwvzhjd2h"
      }
    },
    {
      "cell_type": "code",
      "source": [
        "# @title Practice here\n",
        "%%bash"
      ],
      "metadata": {
        "colab": {
          "base_uri": "https://localhost:8080/"
        },
        "collapsed": true,
        "cellView": "form",
        "id": "p1OarVs9jiJg",
        "outputId": "bebc0f8e-78f7-43b2-ea8f-295f6d026be7"
      },
      "execution_count": null,
      "outputs": [
        {
          "output_type": "stream",
          "name": "stderr",
          "text": [
            "UsageError: %%bash is a cell magic, but the cell body is empty.\n"
          ]
        }
      ]
    },
    {
      "cell_type": "markdown",
      "source": [
        "2. Detailed Listing:\n",
        "\n",
        "* List files in long format to see permissions and other details."
      ],
      "metadata": {
        "id": "ycnwqgljjtb2"
      }
    },
    {
      "cell_type": "code",
      "source": [
        "# @title Practice here\n",
        "%%bash"
      ],
      "metadata": {
        "cellView": "form",
        "id": "v08y_IN4jx0m"
      },
      "execution_count": null,
      "outputs": []
    },
    {
      "cell_type": "markdown",
      "source": [
        "3. Hidden Files:\n",
        "\n",
        "* Check for hidden files in your home directory. Note - You can directly use `~` to check your home directory."
      ],
      "metadata": {
        "id": "baaT7YIFj3lV"
      }
    },
    {
      "cell_type": "code",
      "source": [
        "# @title Practice here\n",
        "%%bash"
      ],
      "metadata": {
        "cellView": "form",
        "id": "lAFrTiD4j1Jb"
      },
      "execution_count": null,
      "outputs": []
    },
    {
      "cell_type": "markdown",
      "source": [
        "4. Human-Readable Sizes:\n",
        "\n",
        "* List files in your current directory with human-readable sizes."
      ],
      "metadata": {
        "id": "1Ji1x3NMkHDG"
      }
    },
    {
      "cell_type": "code",
      "source": [
        "# @title Practice here\n",
        "%%bash"
      ],
      "metadata": {
        "cellView": "form",
        "id": "k6kpaD7RkCMJ"
      },
      "execution_count": null,
      "outputs": []
    },
    {
      "cell_type": "markdown",
      "source": [
        "5. Recursive Listing:\n",
        "\n",
        "* Create a directory structure (e.g., `dir1/dir2/dir3`) and list all files recursively."
      ],
      "metadata": {
        "id": "dwOzA17wkNqT"
      }
    },
    {
      "cell_type": "code",
      "source": [
        "# @title Practice here\n",
        "%%bash"
      ],
      "metadata": {
        "cellView": "form",
        "id": "JXE54F4XkDsL"
      },
      "execution_count": null,
      "outputs": []
    },
    {
      "cell_type": "markdown",
      "source": [
        "6. Sorting by Modification Time:\n",
        "\n",
        "* Modify one of the files (e.g., `file1.txt`) and then run the command to sort files by modification time."
      ],
      "metadata": {
        "id": "fC1Nv-CakVdw"
      }
    },
    {
      "cell_type": "code",
      "source": [
        "# @title Practice here\n",
        "%%bash"
      ],
      "metadata": {
        "cellView": "form",
        "id": "MuVTv9WFkEmz"
      },
      "execution_count": null,
      "outputs": []
    },
    {
      "cell_type": "markdown",
      "source": [
        "7. Combining Options:\n",
        "\n",
        "* Use a combination of options to list all files, including hidden ones, in long format with human-readable sizes."
      ],
      "metadata": {
        "id": "tbvleGTuka4o"
      }
    },
    {
      "cell_type": "code",
      "source": [
        "# @title Practice here\n",
        "%%bash"
      ],
      "metadata": {
        "cellView": "form",
        "id": "qUufbsB9kFQf"
      },
      "execution_count": null,
      "outputs": []
    },
    {
      "cell_type": "markdown",
      "source": [
        "## Hard Links\n",
        "\n",
        "How computers save data into hard drive....what are blocks....how a file system ....how the concept of i nodes arise....file descriptors....what is a directoryy\n",
        "\n",
        "A hard link is an additional directory entry for an existing file. It points to the same inode as the original file, meaning both names reference the same data.\n",
        "\n"
      ],
      "metadata": {
        "id": "xbI3wEEMgu8w"
      }
    },
    {
      "cell_type": "code",
      "source": [
        "# @title Creating a Hard Link:\n",
        "%%bash\n",
        "touch file1.txt\n",
        "ln file1.txt file2.txt"
      ],
      "metadata": {
        "id": "Xc5EVYskkfTH"
      },
      "execution_count": null,
      "outputs": []
    },
    {
      "cell_type": "markdown",
      "source": [
        "`file1.txt` and `file2.txt` point to the same inode."
      ],
      "metadata": {
        "id": "mZRYCDS3kqOH"
      }
    },
    {
      "cell_type": "code",
      "source": [
        "# @title Checking Hard Links: Use `ls -li` to display inode numbers.\n",
        "%%bash\n",
        "ls -li"
      ],
      "metadata": {
        "colab": {
          "base_uri": "https://localhost:8080/"
        },
        "id": "vXO3ANlhk19q",
        "outputId": "25b9edd2-1300-48cf-bf9a-165b2bd79ff0"
      },
      "execution_count": null,
      "outputs": [
        {
          "output_type": "stream",
          "name": "stdout",
          "text": [
            "total 4\n",
            "6946831 -rw-r--r-- 2 root root    0 Sep  5 05:05 file1.txt\n",
            "6946831 -rw-r--r-- 2 root root    0 Sep  5 05:05 file2.txt\n",
            "1572887 drwxr-xr-x 1 root root 4096 Sep  3 13:24 sample_data\n"
          ]
        }
      ]
    },
    {
      "cell_type": "markdown",
      "source": [
        "You’ll see the same inode number (6946831) for both the original file and the hard link."
      ],
      "metadata": {
        "id": "vXZBmHR8k9Va"
      }
    },
    {
      "cell_type": "markdown",
      "source": [
        "## Soft Links (Symbolic Links)\n",
        "\n",
        "A soft link (or symbolic link) is a special type of file that refers to another file or directory by its path. explain more about paths....relative and absolute pathss...how to do it wrt ls and how same concepts can be used....snippet of such pathsss..\n",
        "\n",
        "**Syntax**\n",
        "\n",
        "```\n",
        "ln -s /path/to/original_file.txt soft_link.txt\n",
        "```\n",
        "\n",
        "*   `-s` specifies a symbolic link.\n",
        "*   `soft_link.txt` points to `/path/to/original_file.txt`.\n",
        "\n",
        "\n",
        "\n"
      ],
      "metadata": {
        "id": "-KpvPNRmlLbV"
      }
    },
    {
      "cell_type": "markdown",
      "source": [
        "## Understanding Inodes\n",
        "\n",
        "An inode is a data structure on a filesystem that stores information about a file or directory (except its name or data).\n",
        "\n",
        "permissions of hard links and soft linksss..can we modify the permissions of soft linkss\n",
        "\n",
        "Inode Information Includes:\n",
        "\n",
        "1. File Type\n",
        "2. Permissions\n",
        "3. Owner\n",
        "4. Group\n",
        "5. Size\n",
        "6. Timestamps\n",
        "7. Location of Data blocks\n",
        "\n"
      ],
      "metadata": {
        "id": "cJ77mk8Ql7fa"
      }
    },
    {
      "cell_type": "code",
      "source": [
        "# @title Viewing Inodes:\n",
        "%%bash\n",
        "ls -i"
      ],
      "metadata": {
        "colab": {
          "base_uri": "https://localhost:8080/"
        },
        "id": "jFCmwqbJmL0M",
        "outputId": "dbe41263-1b82-46de-b192-00de45394e91"
      },
      "execution_count": null,
      "outputs": [
        {
          "output_type": "stream",
          "name": "stdout",
          "text": [
            "6946831 file1.txt\n",
            "6946831 file2.txt\n",
            "1572887 sample_data\n"
          ]
        }
      ]
    },
    {
      "cell_type": "markdown",
      "source": [
        "This will display inode numbers alongside filenames."
      ],
      "metadata": {
        "id": "ejUAz8L0mUPq"
      }
    },
    {
      "cell_type": "markdown",
      "source": [
        "### Examples"
      ],
      "metadata": {
        "id": "W_PWbszPk-Rn"
      }
    },
    {
      "cell_type": "markdown",
      "source": [
        "1. Exploring Inodes\n",
        "\n",
        "* Create a new file and check its inode number."
      ],
      "metadata": {
        "id": "oNm6jrSPlC5w"
      }
    },
    {
      "cell_type": "code",
      "source": [
        "%%bash\n",
        "touch myfile.txt\n",
        "ls -i myfile.txt"
      ],
      "metadata": {
        "colab": {
          "base_uri": "https://localhost:8080/"
        },
        "id": "JOv3Rr8WlGz-",
        "outputId": "28c91bbb-bdac-493c-f59b-d0c868dc8057"
      },
      "execution_count": null,
      "outputs": [
        {
          "output_type": "stream",
          "name": "stdout",
          "text": [
            "5111817 myfile.txt\n"
          ]
        }
      ]
    },
    {
      "cell_type": "markdown",
      "source": [
        "* Note down the inode number. Then, delete the file and create it again. Check the inode number again to see if it changes."
      ],
      "metadata": {
        "id": "D2AT4BcWlKUf"
      }
    },
    {
      "cell_type": "code",
      "source": [
        "%%bash\n",
        "rm myfile.txt\n",
        "touch myfile.txt\n",
        "ls -i myfile.txt"
      ],
      "metadata": {
        "colab": {
          "base_uri": "https://localhost:8080/"
        },
        "id": "MPSrYg8NlOAi",
        "outputId": "18f830a8-f847-4107-a61e-0095661d601f"
      },
      "execution_count": null,
      "outputs": [
        {
          "output_type": "stream",
          "name": "stdout",
          "text": [
            "5111817 myfile.txt\n"
          ]
        }
      ]
    },
    {
      "cell_type": "markdown",
      "source": [
        "2. Creating Hard Links:\n",
        "\n",
        "* Create a file named `original.txt` and add some content to it."
      ],
      "metadata": {
        "id": "nYCedX9IlTLD"
      }
    },
    {
      "cell_type": "code",
      "source": [
        "%%bash\n",
        "echo \"This is the original file.\" > original.txt"
      ],
      "metadata": {
        "id": "_qNzXyoxlYHH"
      },
      "execution_count": null,
      "outputs": []
    },
    {
      "cell_type": "markdown",
      "source": [
        "* Create a hard link to this file named `hardlink.txt`."
      ],
      "metadata": {
        "id": "NG8K5fzylbRQ"
      }
    },
    {
      "cell_type": "code",
      "source": [
        "%%bash\n",
        "ln original.txt hardlink.txt"
      ],
      "metadata": {
        "id": "L4lP5UnWleZ1"
      },
      "execution_count": null,
      "outputs": []
    },
    {
      "cell_type": "markdown",
      "source": [
        "* Verify that both files point to the same inode."
      ],
      "metadata": {
        "id": "gX6xMWhlliQh"
      }
    },
    {
      "cell_type": "code",
      "source": [
        "%%bash\n",
        "ls -i original.txt hardlink.txt"
      ],
      "metadata": {
        "colab": {
          "base_uri": "https://localhost:8080/"
        },
        "id": "vHiAfHJ-lkwg",
        "outputId": "8b351ffa-e2e7-495b-ebfc-5e775c4c7659"
      },
      "execution_count": null,
      "outputs": [
        {
          "output_type": "stream",
          "name": "stdout",
          "text": [
            "5111824 hardlink.txt\n",
            "5111824 original.txt\n"
          ]
        }
      ]
    },
    {
      "cell_type": "markdown",
      "source": [
        "* Now, modify the content of `hardlink.txt` and check if the change reflects in `original.txt`."
      ],
      "metadata": {
        "id": "BL1GBA3HloXN"
      }
    },
    {
      "cell_type": "code",
      "source": [
        "%%bash\n",
        "echo \"Modified content.\" > hardlink.txt\n",
        "cat original.txt"
      ],
      "metadata": {
        "colab": {
          "base_uri": "https://localhost:8080/"
        },
        "id": "gbXymafllvNG",
        "outputId": "8674d7eb-cef1-4aed-a950-b2a78485e8f8"
      },
      "execution_count": null,
      "outputs": [
        {
          "output_type": "stream",
          "name": "stdout",
          "text": [
            "Modified content.\n"
          ]
        }
      ]
    },
    {
      "cell_type": "markdown",
      "source": [
        "3. Creating Soft Links:\n",
        "\n",
        "* Create a file named `source.txt` and write some text in it."
      ],
      "metadata": {
        "id": "iCBq0I7El9On"
      }
    },
    {
      "cell_type": "code",
      "source": [
        "%%bash\n",
        "echo \"This is the source file.\" > source.txt"
      ],
      "metadata": {
        "id": "GdpDMU_zmB8M"
      },
      "execution_count": null,
      "outputs": []
    },
    {
      "cell_type": "markdown",
      "source": [
        "* Create a symbolic link to this file named `symlink.txt`."
      ],
      "metadata": {
        "id": "Df0yjRUBmEcR"
      }
    },
    {
      "cell_type": "code",
      "source": [
        "%%bash\n",
        "ln -s source.txt symlink.txt"
      ],
      "metadata": {
        "id": "84rB6CRAmJI7"
      },
      "execution_count": null,
      "outputs": []
    },
    {
      "cell_type": "markdown",
      "source": [
        "* Check the details of the symbolic link using `ls -l`."
      ],
      "metadata": {
        "id": "5PnyE03vmL9w"
      }
    },
    {
      "cell_type": "code",
      "source": [
        "%%bash\n",
        "ls -l symlink.txt"
      ],
      "metadata": {
        "colab": {
          "base_uri": "https://localhost:8080/"
        },
        "id": "4DwhsDgMmP7k",
        "outputId": "48a2df4b-3a2a-4b98-e166-1ab745583d91"
      },
      "execution_count": null,
      "outputs": [
        {
          "output_type": "stream",
          "name": "stdout",
          "text": [
            "lrwxrwxrwx 1 root root 10 Sep 18 10:06 symlink.txt -> source.txt\n"
          ]
        }
      ]
    },
    {
      "cell_type": "markdown",
      "source": [
        "* Now, delete `source.txt` and check the content of `symlink.txt`."
      ],
      "metadata": {
        "id": "l_MqeYjMmTUe"
      }
    },
    {
      "cell_type": "code",
      "source": [
        "%%bash\n",
        "cat symlink.txt"
      ],
      "metadata": {
        "colab": {
          "base_uri": "https://localhost:8080/",
          "height": 339
        },
        "id": "BJ8THNcKmXlJ",
        "outputId": "02f15b28-f450-4c3a-9634-af6f8dc5dc4e"
      },
      "execution_count": null,
      "outputs": [
        {
          "output_type": "stream",
          "name": "stderr",
          "text": [
            "cat: symlink.txt: No such file or directory\n"
          ]
        },
        {
          "output_type": "error",
          "ename": "CalledProcessError",
          "evalue": "Command 'b'cat symlink.txt\\n'' returned non-zero exit status 1.",
          "traceback": [
            "\u001b[0;31m---------------------------------------------------------------------------\u001b[0m",
            "\u001b[0;31mCalledProcessError\u001b[0m                        Traceback (most recent call last)",
            "\u001b[0;32m<ipython-input-14-ad1598875cbd>\u001b[0m in \u001b[0;36m<cell line: 1>\u001b[0;34m()\u001b[0m\n\u001b[0;32m----> 1\u001b[0;31m \u001b[0mget_ipython\u001b[0m\u001b[0;34m(\u001b[0m\u001b[0;34m)\u001b[0m\u001b[0;34m.\u001b[0m\u001b[0mrun_cell_magic\u001b[0m\u001b[0;34m(\u001b[0m\u001b[0;34m'bash'\u001b[0m\u001b[0;34m,\u001b[0m \u001b[0;34m''\u001b[0m\u001b[0;34m,\u001b[0m \u001b[0;34m'cat symlink.txt\\n'\u001b[0m\u001b[0;34m)\u001b[0m\u001b[0;34m\u001b[0m\u001b[0;34m\u001b[0m\u001b[0m\n\u001b[0m",
            "\u001b[0;32m/usr/local/lib/python3.10/dist-packages/google/colab/_shell.py\u001b[0m in \u001b[0;36mrun_cell_magic\u001b[0;34m(self, magic_name, line, cell)\u001b[0m\n\u001b[1;32m    332\u001b[0m     \u001b[0;32mif\u001b[0m \u001b[0mline\u001b[0m \u001b[0;32mand\u001b[0m \u001b[0;32mnot\u001b[0m \u001b[0mcell\u001b[0m\u001b[0;34m:\u001b[0m\u001b[0;34m\u001b[0m\u001b[0;34m\u001b[0m\u001b[0m\n\u001b[1;32m    333\u001b[0m       \u001b[0mcell\u001b[0m \u001b[0;34m=\u001b[0m \u001b[0;34m' '\u001b[0m\u001b[0;34m\u001b[0m\u001b[0;34m\u001b[0m\u001b[0m\n\u001b[0;32m--> 334\u001b[0;31m     \u001b[0;32mreturn\u001b[0m \u001b[0msuper\u001b[0m\u001b[0;34m(\u001b[0m\u001b[0;34m)\u001b[0m\u001b[0;34m.\u001b[0m\u001b[0mrun_cell_magic\u001b[0m\u001b[0;34m(\u001b[0m\u001b[0mmagic_name\u001b[0m\u001b[0;34m,\u001b[0m \u001b[0mline\u001b[0m\u001b[0;34m,\u001b[0m \u001b[0mcell\u001b[0m\u001b[0;34m)\u001b[0m\u001b[0;34m\u001b[0m\u001b[0;34m\u001b[0m\u001b[0m\n\u001b[0m\u001b[1;32m    335\u001b[0m \u001b[0;34m\u001b[0m\u001b[0m\n\u001b[1;32m    336\u001b[0m \u001b[0;34m\u001b[0m\u001b[0m\n",
            "\u001b[0;32m/usr/local/lib/python3.10/dist-packages/IPython/core/interactiveshell.py\u001b[0m in \u001b[0;36mrun_cell_magic\u001b[0;34m(self, magic_name, line, cell)\u001b[0m\n\u001b[1;32m   2471\u001b[0m             \u001b[0;32mwith\u001b[0m \u001b[0mself\u001b[0m\u001b[0;34m.\u001b[0m\u001b[0mbuiltin_trap\u001b[0m\u001b[0;34m:\u001b[0m\u001b[0;34m\u001b[0m\u001b[0;34m\u001b[0m\u001b[0m\n\u001b[1;32m   2472\u001b[0m                 \u001b[0margs\u001b[0m \u001b[0;34m=\u001b[0m \u001b[0;34m(\u001b[0m\u001b[0mmagic_arg_s\u001b[0m\u001b[0;34m,\u001b[0m \u001b[0mcell\u001b[0m\u001b[0;34m)\u001b[0m\u001b[0;34m\u001b[0m\u001b[0;34m\u001b[0m\u001b[0m\n\u001b[0;32m-> 2473\u001b[0;31m                 \u001b[0mresult\u001b[0m \u001b[0;34m=\u001b[0m \u001b[0mfn\u001b[0m\u001b[0;34m(\u001b[0m\u001b[0;34m*\u001b[0m\u001b[0margs\u001b[0m\u001b[0;34m,\u001b[0m \u001b[0;34m**\u001b[0m\u001b[0mkwargs\u001b[0m\u001b[0;34m)\u001b[0m\u001b[0;34m\u001b[0m\u001b[0;34m\u001b[0m\u001b[0m\n\u001b[0m\u001b[1;32m   2474\u001b[0m             \u001b[0;32mreturn\u001b[0m \u001b[0mresult\u001b[0m\u001b[0;34m\u001b[0m\u001b[0;34m\u001b[0m\u001b[0m\n\u001b[1;32m   2475\u001b[0m \u001b[0;34m\u001b[0m\u001b[0m\n",
            "\u001b[0;32m/usr/local/lib/python3.10/dist-packages/IPython/core/magics/script.py\u001b[0m in \u001b[0;36mnamed_script_magic\u001b[0;34m(line, cell)\u001b[0m\n\u001b[1;32m    140\u001b[0m             \u001b[0;32melse\u001b[0m\u001b[0;34m:\u001b[0m\u001b[0;34m\u001b[0m\u001b[0;34m\u001b[0m\u001b[0m\n\u001b[1;32m    141\u001b[0m                 \u001b[0mline\u001b[0m \u001b[0;34m=\u001b[0m \u001b[0mscript\u001b[0m\u001b[0;34m\u001b[0m\u001b[0;34m\u001b[0m\u001b[0m\n\u001b[0;32m--> 142\u001b[0;31m             \u001b[0;32mreturn\u001b[0m \u001b[0mself\u001b[0m\u001b[0;34m.\u001b[0m\u001b[0mshebang\u001b[0m\u001b[0;34m(\u001b[0m\u001b[0mline\u001b[0m\u001b[0;34m,\u001b[0m \u001b[0mcell\u001b[0m\u001b[0;34m)\u001b[0m\u001b[0;34m\u001b[0m\u001b[0;34m\u001b[0m\u001b[0m\n\u001b[0m\u001b[1;32m    143\u001b[0m \u001b[0;34m\u001b[0m\u001b[0m\n\u001b[1;32m    144\u001b[0m         \u001b[0;31m# write a basic docstring:\u001b[0m\u001b[0;34m\u001b[0m\u001b[0;34m\u001b[0m\u001b[0m\n",
            "\u001b[0;32m<decorator-gen-103>\u001b[0m in \u001b[0;36mshebang\u001b[0;34m(self, line, cell)\u001b[0m\n",
            "\u001b[0;32m/usr/local/lib/python3.10/dist-packages/IPython/core/magic.py\u001b[0m in \u001b[0;36m<lambda>\u001b[0;34m(f, *a, **k)\u001b[0m\n\u001b[1;32m    185\u001b[0m     \u001b[0;31m# but it's overkill for just that one bit of state.\u001b[0m\u001b[0;34m\u001b[0m\u001b[0;34m\u001b[0m\u001b[0m\n\u001b[1;32m    186\u001b[0m     \u001b[0;32mdef\u001b[0m \u001b[0mmagic_deco\u001b[0m\u001b[0;34m(\u001b[0m\u001b[0marg\u001b[0m\u001b[0;34m)\u001b[0m\u001b[0;34m:\u001b[0m\u001b[0;34m\u001b[0m\u001b[0;34m\u001b[0m\u001b[0m\n\u001b[0;32m--> 187\u001b[0;31m         \u001b[0mcall\u001b[0m \u001b[0;34m=\u001b[0m \u001b[0;32mlambda\u001b[0m \u001b[0mf\u001b[0m\u001b[0;34m,\u001b[0m \u001b[0;34m*\u001b[0m\u001b[0ma\u001b[0m\u001b[0;34m,\u001b[0m \u001b[0;34m**\u001b[0m\u001b[0mk\u001b[0m\u001b[0;34m:\u001b[0m \u001b[0mf\u001b[0m\u001b[0;34m(\u001b[0m\u001b[0;34m*\u001b[0m\u001b[0ma\u001b[0m\u001b[0;34m,\u001b[0m \u001b[0;34m**\u001b[0m\u001b[0mk\u001b[0m\u001b[0;34m)\u001b[0m\u001b[0;34m\u001b[0m\u001b[0;34m\u001b[0m\u001b[0m\n\u001b[0m\u001b[1;32m    188\u001b[0m \u001b[0;34m\u001b[0m\u001b[0m\n\u001b[1;32m    189\u001b[0m         \u001b[0;32mif\u001b[0m \u001b[0mcallable\u001b[0m\u001b[0;34m(\u001b[0m\u001b[0marg\u001b[0m\u001b[0;34m)\u001b[0m\u001b[0;34m:\u001b[0m\u001b[0;34m\u001b[0m\u001b[0;34m\u001b[0m\u001b[0m\n",
            "\u001b[0;32m/usr/local/lib/python3.10/dist-packages/IPython/core/magics/script.py\u001b[0m in \u001b[0;36mshebang\u001b[0;34m(self, line, cell)\u001b[0m\n\u001b[1;32m    243\u001b[0m             \u001b[0msys\u001b[0m\u001b[0;34m.\u001b[0m\u001b[0mstderr\u001b[0m\u001b[0;34m.\u001b[0m\u001b[0mflush\u001b[0m\u001b[0;34m(\u001b[0m\u001b[0;34m)\u001b[0m\u001b[0;34m\u001b[0m\u001b[0;34m\u001b[0m\u001b[0m\n\u001b[1;32m    244\u001b[0m         \u001b[0;32mif\u001b[0m \u001b[0margs\u001b[0m\u001b[0;34m.\u001b[0m\u001b[0mraise_error\u001b[0m \u001b[0;32mand\u001b[0m \u001b[0mp\u001b[0m\u001b[0;34m.\u001b[0m\u001b[0mreturncode\u001b[0m\u001b[0;34m!=\u001b[0m\u001b[0;36m0\u001b[0m\u001b[0;34m:\u001b[0m\u001b[0;34m\u001b[0m\u001b[0;34m\u001b[0m\u001b[0m\n\u001b[0;32m--> 245\u001b[0;31m             \u001b[0;32mraise\u001b[0m \u001b[0mCalledProcessError\u001b[0m\u001b[0;34m(\u001b[0m\u001b[0mp\u001b[0m\u001b[0;34m.\u001b[0m\u001b[0mreturncode\u001b[0m\u001b[0;34m,\u001b[0m \u001b[0mcell\u001b[0m\u001b[0;34m,\u001b[0m \u001b[0moutput\u001b[0m\u001b[0;34m=\u001b[0m\u001b[0mout\u001b[0m\u001b[0;34m,\u001b[0m \u001b[0mstderr\u001b[0m\u001b[0;34m=\u001b[0m\u001b[0merr\u001b[0m\u001b[0;34m)\u001b[0m\u001b[0;34m\u001b[0m\u001b[0;34m\u001b[0m\u001b[0m\n\u001b[0m\u001b[1;32m    246\u001b[0m \u001b[0;34m\u001b[0m\u001b[0m\n\u001b[1;32m    247\u001b[0m     \u001b[0;32mdef\u001b[0m \u001b[0m_run_script\u001b[0m\u001b[0;34m(\u001b[0m\u001b[0mself\u001b[0m\u001b[0;34m,\u001b[0m \u001b[0mp\u001b[0m\u001b[0;34m,\u001b[0m \u001b[0mcell\u001b[0m\u001b[0;34m,\u001b[0m \u001b[0mto_close\u001b[0m\u001b[0;34m)\u001b[0m\u001b[0;34m:\u001b[0m\u001b[0;34m\u001b[0m\u001b[0;34m\u001b[0m\u001b[0m\n",
            "\u001b[0;31mCalledProcessError\u001b[0m: Command 'b'cat symlink.txt\\n'' returned non-zero exit status 1."
          ]
        }
      ]
    },
    {
      "cell_type": "code",
      "source": [
        "# @title Exploring Inodes: To view detailed inode information:\n",
        "%%bash\n",
        "stat file1.txt"
      ],
      "metadata": {
        "colab": {
          "base_uri": "https://localhost:8080/"
        },
        "id": "tKLwfiKCmWTo",
        "outputId": "ecaed45c-a2e5-46e9-f951-0e12492864ed"
      },
      "execution_count": null,
      "outputs": [
        {
          "output_type": "stream",
          "name": "stdout",
          "text": [
            "  File: file1.txt\n",
            "  Size: 0         \tBlocks: 0          IO Block: 4096   regular empty file\n",
            "Device: 3dh/61d\tInode: 6946831     Links: 2\n",
            "Access: (0644/-rw-r--r--)  Uid: (    0/    root)   Gid: (    0/    root)\n",
            "Access: 2024-09-05 05:05:19.890859001 +0000\n",
            "Modify: 2024-09-05 05:05:16.886596834 +0000\n",
            "Change: 2024-09-05 05:05:16.891597271 +0000\n",
            " Birth: 2024-09-05 04:44:47.668325506 +0000\n"
          ]
        }
      ]
    },
    {
      "cell_type": "markdown",
      "source": [
        "Displays inode number, file size, permissions, and much more."
      ],
      "metadata": {
        "id": "FvJk2pchmfWB"
      }
    },
    {
      "cell_type": "markdown",
      "source": [
        "## Inode Exploration\n",
        "\n",
        "Each file has a unique inode number. To explore files and their inodes:\n",
        "\n",
        "1. Create files and links.\n",
        "2. Check inodes of these files."
      ],
      "metadata": {
        "id": "YdGdjVNYmlpd"
      }
    },
    {
      "cell_type": "code",
      "source": [
        "# @title Example\n",
        "%%bash\n",
        "touch file1.txt\n",
        "ln file1.txt hardlink1.txt\n",
        "ln -s file1.txt symlink1.txt\n",
        "ls -li"
      ],
      "metadata": {
        "colab": {
          "base_uri": "https://localhost:8080/"
        },
        "id": "vwWurI1_mtgh",
        "outputId": "664d2b19-0ffa-493e-c4f2-ed5221355f7e"
      },
      "execution_count": null,
      "outputs": [
        {
          "output_type": "stream",
          "name": "stdout",
          "text": [
            "total 4\n",
            "6946831 -rw-r--r-- 3 root root    0 Sep  5 05:14 file1.txt\n",
            "6946831 -rw-r--r-- 3 root root    0 Sep  5 05:14 file2.txt\n",
            "6946831 -rw-r--r-- 3 root root    0 Sep  5 05:14 hardlink1.txt\n",
            "1572887 drwxr-xr-x 1 root root 4096 Sep  3 13:24 sample_data\n",
            "6946900 lrwxrwxrwx 1 root root    9 Sep  5 05:14 symlink1.txt -> file1.txt\n"
          ]
        }
      ]
    },
    {
      "cell_type": "markdown",
      "source": [
        "Please note:\n",
        "\n",
        "1. `file1.txt` and `hardlink1.txt` share the same inode number.\n",
        "2. `symlink1.txt` has a different inode number, pointing to `file1.txt`."
      ],
      "metadata": {
        "id": "3QWVo2kEm01-"
      }
    },
    {
      "cell_type": "markdown",
      "source": [
        "## File System Size\n",
        "\n",
        "File system size indicates the total space and usage on a filesystem. Use `df` and `du` commands for this purpose.\n",
        "\n",
        "lsusp, lshw, lsmod, lsusb - i will use it later"
      ],
      "metadata": {
        "id": "GEo01kcWm_PP"
      }
    },
    {
      "cell_type": "code",
      "source": [
        "# @title Check Disk Space Usage:\n",
        "%%bash\n",
        "df -h"
      ],
      "metadata": {
        "colab": {
          "base_uri": "https://localhost:8080/"
        },
        "id": "CSFQN7ZCm0G0",
        "outputId": "6ff7544a-2729-46b2-918f-9a5c9a6715e1"
      },
      "execution_count": null,
      "outputs": [
        {
          "output_type": "stream",
          "name": "stdout",
          "text": [
            "Filesystem      Size  Used Avail Use% Mounted on\n",
            "overlay         108G   33G   75G  31% /\n",
            "tmpfs            64M     0   64M   0% /dev\n",
            "shm             5.8G     0  5.8G   0% /dev/shm\n",
            "/dev/root       2.0G  1.2G  820M  59% /usr/sbin/docker-init\n",
            "tmpfs           6.4G  2.0M  6.4G   1% /var/colab\n",
            "/dev/sda1        70G   53G   18G  75% /etc/hosts\n",
            "tmpfs           6.4G     0  6.4G   0% /proc/acpi\n",
            "tmpfs           6.4G     0  6.4G   0% /proc/scsi\n",
            "tmpfs           6.4G     0  6.4G   0% /sys/firmware\n"
          ]
        }
      ]
    },
    {
      "cell_type": "markdown",
      "source": [
        "`-h` for human-readable format (e.g., GB, MB)."
      ],
      "metadata": {
        "id": "DAN-9-HinIX8"
      }
    },
    {
      "cell_type": "code",
      "source": [
        "# @title Check Directory Size:\n",
        "%%bash\n",
        "du -sh /home"
      ],
      "metadata": {
        "colab": {
          "base_uri": "https://localhost:8080/"
        },
        "id": "vj4sMpqBnMqo",
        "outputId": "134811b9-ee26-43dd-8de9-60578540a76e"
      },
      "execution_count": null,
      "outputs": [
        {
          "output_type": "stream",
          "name": "stdout",
          "text": [
            "4.0K\t/home\n"
          ]
        }
      ]
    },
    {
      "cell_type": "markdown",
      "source": [
        "\n",
        "*   `-s` for summary.\n",
        "*   `-h` for human-readable format.\n",
        "\n"
      ],
      "metadata": {
        "id": "z7JjsU7vnUuM"
      }
    },
    {
      "cell_type": "markdown",
      "source": [
        "## Summary\n",
        "\n",
        "In this unit, we explored the `ls` command in depth, learned about hard and soft links, understood inodes and how to explore them, and checked file system sizes. These concepts are fundamental for managing files and directories effectively in Linux."
      ],
      "metadata": {
        "id": "l0aStFfHndJT"
      }
    }
  ]
}