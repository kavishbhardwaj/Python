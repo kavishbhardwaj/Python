{
 "cells": [
  {
   "cell_type": "markdown",
   "metadata": {},
   "source": [
    "Ed:\n",
    "\n",
    "### What is `ed`?\n",
    "- **`ed` is a text editor** that operates entirely within the **terminal**. It's one of the oldest text editors designed for Unix systems and is very basic compared to modern editors.\n",
    "- Unlike modern editors like **Notepad** or **VS Code**, **`ed`** doesn’t show the content of the file as you type. Instead, it waits for specific commands to insert, edit, or view the text.\n",
    "  \n",
    "### How does `ed` differ from the terminal?\n",
    "- **The terminal** is the interface you’re working in—it's a command-line interface (CLI) where you type commands to interact with your system (such as running programs, editing files, etc.).\n",
    "  \n",
    "- **`ed` is a program** that runs *inside* the terminal. When you open `ed`, you’re still in the terminal, but now you’re running a program (just like opening a web browser or text editor on your computer).\n",
    "\n",
    "### Key differences:\n",
    "1. **Terminal**: This is the tool you’re using to interact with your system. You type commands like `ls` to list files, `cd` to change directories, etc.\n",
    "   \n",
    "2. **`ed`**: This is a program you can run *inside* the terminal to edit text files. It's like a super-basic version of Notepad but without the user-friendly interface.\n",
    "\n",
    "### Workflow in the terminal:\n",
    "1. You open the terminal and type commands to interact with the system.\n",
    "2. When you type `ed testfile.txt`, you’re telling the terminal to open the **`ed` text editor** with the file named `testfile.txt`.\n",
    "3. Once inside `ed`, you use special commands (like `a` to add text, `p` to print text, etc.) to interact with the file.\n",
    "\n",
    "### Example of how `ed` works in the terminal:\n",
    "\n",
    "1. **Open the terminal** and type:\n",
    "   ```bash\n",
    "   ed testfile.txt\n",
    "   ```\n",
    "   This opens the file `testfile.txt` in the `ed` editor (in the terminal window).\n",
    "\n",
    "2. **Type commands in `ed`** to modify the file:\n",
    "   - To add text: Type `a`, then type your lines, and end with a `.`.\n",
    "   - To print the content of the file: Type `,p`.\n",
    "   - To save the file: Type `w`.\n",
    "   - To quit `ed`: Type `q`.\n",
    "\n",
    "While you're **in `ed`**, you're still inside the terminal, but you're running the **`ed` text editor** to interact with a file.\n"
   ]
  },
  {
   "cell_type": "code",
   "execution_count": 2,
   "metadata": {},
   "outputs": [
    {
     "name": "stderr",
     "output_type": "stream",
     "text": [
      "testfile.txt: No such file or directory\n"
     ]
    },
    {
     "name": "stdout",
     "output_type": "stream",
     "text": [
      "22\n"
     ]
    }
   ],
   "source": [
    "%%bash\n",
    "ed testfile.txt\n",
    "a\n",
    "This is my first file\n",
    ".\n",
    "w\n",
    "q\n",
    "\n"
   ]
  },
  {
   "cell_type": "code",
   "execution_count": 6,
   "metadata": {},
   "outputs": [
    {
     "name": "stdout",
     "output_type": "stream",
     "text": [
      "22\n",
      "This is my first file\n"
     ]
    }
   ],
   "source": [
    "%%bash\n",
    "\n",
    "ed testfile.txt\n",
    "p"
   ]
  },
  {
   "cell_type": "code",
   "execution_count": 5,
   "metadata": {},
   "outputs": [
    {
     "name": "stderr",
     "output_type": "stream",
     "text": [
      "p: No such file or directory\n"
     ]
    }
   ],
   "source": [
    "%%bash\n",
    "\n"
   ]
  },
  {
   "cell_type": "markdown",
   "metadata": {},
   "source": [
    "# Mastering the `ed` Editor: An Extended Guide\n",
    "\n",
    "Welcome to this advanced guide on the **`ed` editor**. In this tutorial, you will not only learn the basics of `ed`, \n",
    "but also delve into more advanced concepts such as working with multiple files, managing the buffer, undo operations, \n",
    "and various practical examples to strengthen your skills.\n",
    "\n",
    "---\n",
    "\n",
    "## Contents\n",
    "1. Introduction to `ed`\n",
    "2. Getting Started with `ed`\n",
    "3. Navigating Files and Lines\n",
    "4. Editing Text in `ed`\n",
    "5. Searching, Substitution, and Regular Expressions\n",
    "6. Working with the Buffer\n",
    "7. Undoing Changes and Error Recovery\n",
    "8. Working with Multiple Files\n",
    "9. Executing Shell Commands within `ed`\n",
    "10. Advanced Examples and Workflow\n",
    "11. Helpful Bash Commands\n",
    "\n",
    "---\n"
   ]
  },
  {
   "cell_type": "markdown",
   "metadata": {},
   "source": [
    "\n",
    "## 1. Introduction to `ed`\n",
    "\n",
    "As we already know, `ed` is a **line-based text editor**. You won’t see the content of the file like in modern editors. \n",
    "Instead, you’ll provide commands, and `ed` will act on the file accordingly.\n",
    "\n",
    "---\n"
   ]
  },
  {
   "cell_type": "code",
   "execution_count": null,
   "metadata": {},
   "outputs": [],
   "source": [
    "\n",
    "## 2. Getting Started with `ed`\n",
    "\n",
    "### 2.1 Opening and Creating Files\n",
    "You can open an existing file or create a new one using `ed`. If the file exists, its contents will be loaded into the buffer; \n",
    "if not, `ed` will create a new file upon saving.\n"
   ]
  },
  {
   "cell_type": "code",
   "execution_count": 7,
   "metadata": {},
   "outputs": [
    {
     "name": "stderr",
     "output_type": "stream",
     "text": [
      "myfile.txt: No such file or directory\n"
     ]
    }
   ],
   "source": [
    "\n",
    "%%bash\n",
    "ed myfile.txt\n"
   ]
  },
  {
   "cell_type": "markdown",
   "metadata": {},
   "source": [
    "\n",
    "\n",
    "At this point, `ed` will wait for commands. You won’t see any output until you start interacting with the file.\n",
    "\n",
    "---\n"
   ]
  },
  {
   "cell_type": "code",
   "execution_count": 34,
   "metadata": {},
   "outputs": [
    {
     "name": "stdout",
     "output_type": "stream",
     "text": [
      "40\n",
      "219\n"
     ]
    }
   ],
   "source": [
    "%%bash\n",
    "ed myfile.txt <<EOF\n",
    "a\n",
    "This is the first line of the file.\n",
    "This is the second line with the word \"new\".\n",
    "This is the third line.\n",
    "This line has the number 123 in it.\n",
    "This line contains the word \"oldest\".\n",
    ".\n",
    "w\n",
    "q\n",
    "EOF\n",
    "\n",
    "#Now the file has content to work with, and you can move forward with editing"
   ]
  },
  {
   "cell_type": "code",
   "execution_count": null,
   "metadata": {},
   "outputs": [],
   "source": [
    "\n",
    "### 2.2 Enabling the Prompt (`P`)\n",
    "By default, `ed` doesn’t show a prompt, making it a bit tricky to track what’s happening. Let’s enable the prompt:\n"
   ]
  },
  {
   "cell_type": "code",
   "execution_count": 8,
   "metadata": {},
   "outputs": [
    {
     "name": "stderr",
     "output_type": "stream",
     "text": [
      "myfile.txt: No such file or directory\n"
     ]
    },
    {
     "name": "stdout",
     "output_type": "stream",
     "text": [
      "*"
     ]
    }
   ],
   "source": [
    "%%bash\n",
    "ed myfile.txt <<EOF\n",
    "P\n",
    "q\n",
    "EOF"
   ]
  },
  {
   "cell_type": "markdown",
   "metadata": {},
   "source": [
    "\n",
    "Now, every command you give will be followed by an asterisk `*` prompt, letting you know `ed` is ready for the next instruction.\n",
    "\n",
    "---\n"
   ]
  },
  {
   "cell_type": "markdown",
   "metadata": {},
   "source": [
    "\n",
    "### 2.3 Printing the Manual (`man ed`) and Info Page (`info ed`)\n",
    "As always, we can access the manual or info page to learn more about the editor’s usage.\n",
    "\n",
    "```bash\n",
    "man ed\n",
    "```\n",
    "\n",
    "```bash\n",
    "info ed\n",
    "```\n",
    "\n",
    "---\n"
   ]
  },
  {
   "cell_type": "markdown",
   "metadata": {},
   "source": [
    "\n",
    "## 3. Navigating Files and Lines\n",
    "\n",
    "You’ll often need to navigate the file to inspect specific lines, sections, or patterns. Let’s explore how to move around within the file.\n",
    "\n",
    "---\n",
    "\n",
    "### 3.1 Moving to Specific Lines and Ranges\n",
    "- `.`: Current line\n",
    "- `$`: Last line\n",
    "- `%`: All lines (`1,$`)\n",
    "- `+`: Next line\n",
    "- `-`: Previous line\n",
    "\n",
    "```bash\n",
    "ed myfile.txt <<EOF\n",
    "1p\n",
    "q\n",
    "EOF\n",
    "```\n",
    "\n",
    "```bash\n",
    "ed myfile.txt <<EOF\n",
    "$p\n",
    "q\n",
    "EOF\n",
    "```\n"
   ]
  },
  {
   "cell_type": "code",
   "execution_count": 15,
   "metadata": {},
   "outputs": [
    {
     "name": "stdout",
     "output_type": "stream",
     "text": [
      "179\n",
      "This is the first line of the file.\n"
     ]
    }
   ],
   "source": [
    "%%bash\n",
    "ed myfile.txt <<EOF\n",
    "1p\n",
    "q\n",
    "EOF\n"
   ]
  },
  {
   "cell_type": "code",
   "execution_count": 19,
   "metadata": {},
   "outputs": [
    {
     "name": "stdout",
     "output_type": "stream",
     "text": [
      "179\n",
      "This line contains the word \"oldest\".\n"
     ]
    }
   ],
   "source": [
    "%%bash\n",
    "ed myfile.txt <<EOF\n",
    "\\$p\n",
    "q\n",
    "EOF\n",
    "\n",
    "# The right command is $p to print last line but in in a Jupyter Notebook, it may handle the $ symbol as a special character. \n",
    "# You can try escaping the $ symbol by using \\$p"
   ]
  },
  {
   "cell_type": "markdown",
   "metadata": {},
   "source": [
    "\n",
    "### 3.2 Compound Line Navigation\n",
    "You can print a range of lines or navigate across them:\n"
   ]
  },
  {
   "cell_type": "code",
   "execution_count": 22,
   "metadata": {},
   "outputs": [
    {
     "name": "stdout",
     "output_type": "stream",
     "text": [
      "179\n",
      "This is the first line of the file.\n",
      "This is the second line with the word \"new\".\n",
      "This is the third line.\n",
      "This line has the number 123 in it.\n",
      "This line contains the word \"oldest\".\n"
     ]
    }
   ],
   "source": [
    "\n",
    "%%bash\n",
    "ed myfile.txt <<EOF\n",
    "1,5p\n",
    "q\n",
    "EOF\n"
   ]
  },
  {
   "cell_type": "markdown",
   "metadata": {},
   "source": [
    "\n",
    "---\n",
    "\n",
    "### 3.3 Searching for Patterns with `/pattern/`\n",
    "You can search for text patterns or specific words using regular expressions.\n"
   ]
  },
  {
   "cell_type": "code",
   "execution_count": 25,
   "metadata": {},
   "outputs": [
    {
     "name": "stdout",
     "output_type": "stream",
     "text": [
      "179\n",
      "This is the first line of the file.\n"
     ]
    }
   ],
   "source": [
    "%%bash\n",
    "ed myfile.txt <<EOF\n",
    "/line/\n",
    "q\n",
    "EOF\n"
   ]
  },
  {
   "cell_type": "markdown",
   "metadata": {},
   "source": [
    "```\n",
    "\n",
    "### 3.4 Advanced Search Patterns\n",
    "`ed` supports regular expressions, which allow for powerful text searches. For example, searching for lines that contain numbers can be done as follows:\n"
   ]
  },
  {
   "cell_type": "code",
   "execution_count": 26,
   "metadata": {},
   "outputs": [
    {
     "name": "stdout",
     "output_type": "stream",
     "text": [
      "179\n",
      "This line has the number 123 in it.\n"
     ]
    }
   ],
   "source": [
    "%%bash\n",
    "ed myfile.txt <<EOF\n",
    "/[0-9]/\n",
    "q\n",
    "EOF\n"
   ]
  },
  {
   "cell_type": "markdown",
   "metadata": {},
   "source": [
    "```\n",
    "\n",
    "---\n",
    "\n",
    "## 4. Editing Text in `ed`\n",
    "\n",
    "Editing text in `ed` is done using commands like `a` (append), `i` (insert), `d` (delete), and `c` (change). Let’s walk through each command.\n",
    "\n",
    "### 4.1 Appending Text After the Current Line (`a`)\n"
   ]
  },
  {
   "cell_type": "code",
   "execution_count": 27,
   "metadata": {},
   "outputs": [
    {
     "name": "stdout",
     "output_type": "stream",
     "text": [
      "179\n",
      "234\n"
     ]
    }
   ],
   "source": [
    "%%bash\n",
    "ed myfile.txt <<EOF\n",
    "a\n",
    "This is a new line appended.\n",
    "And here’s another one.\n",
    ".\n",
    "w\n",
    "q\n",
    "EOF\n"
   ]
  },
  {
   "cell_type": "markdown",
   "metadata": {},
   "source": [
    "```\n",
    "\n",
    "### 4.2 Inserting Text Before the Current Line (`i`)\n",
    "The `i` command allows you to insert text **before** the current line.\n"
   ]
  },
  {
   "cell_type": "code",
   "execution_count": 28,
   "metadata": {},
   "outputs": [
    {
     "name": "stdout",
     "output_type": "stream",
     "text": [
      "234\n",
      "274\n"
     ]
    }
   ],
   "source": [
    "%%bash\n",
    "ed myfile.txt <<EOF\n",
    "1i\n",
    "Inserting a line before the first line.\n",
    ".\n",
    "w\n",
    "q\n",
    "EOF\n"
   ]
  },
  {
   "cell_type": "markdown",
   "metadata": {},
   "source": [
    "```\n",
    "\n",
    "### 4.3 Changing a Line (`c`)\n",
    "The `c` command is used to replace the current line with new content.\n"
   ]
  },
  {
   "cell_type": "code",
   "execution_count": 29,
   "metadata": {},
   "outputs": [
    {
     "name": "stdout",
     "output_type": "stream",
     "text": [
      "274\n",
      "267\n"
     ]
    }
   ],
   "source": [
    "%%bash\n",
    "ed myfile.txt <<EOF\n",
    "2c\n",
    "This is the new second line.\n",
    ".\n",
    "w\n",
    "q\n",
    "EOF\n"
   ]
  },
  {
   "cell_type": "code",
   "execution_count": null,
   "metadata": {},
   "outputs": [],
   "source": [
    "```\n",
    "\n",
    "### 4.4 Deleting Lines (`d`)\n",
    "The `d` command **deletes** the current line or a range of lines.\n"
   ]
  },
  {
   "cell_type": "code",
   "execution_count": 30,
   "metadata": {},
   "outputs": [
    {
     "name": "stdout",
     "output_type": "stream",
     "text": [
      "267\n",
      "222\n"
     ]
    }
   ],
   "source": [
    "%%bash\n",
    "ed myfile.txt <<EOF\n",
    "3d\n",
    "w\n",
    "q\n",
    "EOF\n"
   ]
  },
  {
   "cell_type": "code",
   "execution_count": 32,
   "metadata": {},
   "outputs": [
    {
     "name": "stdout",
     "output_type": "stream",
     "text": [
      "133\n",
      "40\n"
     ]
    }
   ],
   "source": [
    "%%bash\n",
    "ed myfile.txt <<EOF\n",
    "2,4d\n",
    "w\n",
    "q\n",
    "EOF\n",
    "\n",
    "\n",
    "#You can also delete a range of lines:\n",
    "\n"
   ]
  },
  {
   "cell_type": "code",
   "execution_count": 35,
   "metadata": {},
   "outputs": [
    {
     "name": "stdout",
     "output_type": "stream",
     "text": [
      "219\n",
      "Inserting a line before the first line.\n",
      "This is the first line of the file.\n",
      "This is the second line with the word \"new\".\n",
      "This is the third line.\n",
      "This line has the number 123 in it.\n",
      "This line contains the word \"oldest\".\n"
     ]
    }
   ],
   "source": [
    "%%bash\n",
    "ed myfile.txt <<EOF\n",
    ",p\n",
    "q\n",
    "EOF\n"
   ]
  },
  {
   "cell_type": "markdown",
   "metadata": {},
   "source": [
    "\n",
    "\n",
    "```\n",
    "\n",
    "---\n",
    "\n",
    "### 4.5 Joining Lines (`j`)\n",
    "You can join multiple lines into a single line with the `j` command.\n"
   ]
  },
  {
   "cell_type": "code",
   "execution_count": 36,
   "metadata": {},
   "outputs": [
    {
     "name": "stdout",
     "output_type": "stream",
     "text": [
      "219\n",
      "218\n"
     ]
    }
   ],
   "source": [
    "%%bash\n",
    "ed myfile.txt <<EOF\n",
    "1,2j\n",
    "w\n",
    "q\n",
    "EOF\n"
   ]
  },
  {
   "cell_type": "code",
   "execution_count": 38,
   "metadata": {},
   "outputs": [
    {
     "name": "stdout",
     "output_type": "stream",
     "text": [
      "218\n",
      "Inserting a line before the first line.This is the first line of the file.\n",
      "This is the second line with the word \"new\".\n",
      "This is the third line.\n",
      "This line has the number 123 in it.\n",
      "This line contains the word \"oldest\".\n"
     ]
    }
   ],
   "source": [
    "%%bash\n",
    "ed myfile.txt <<EOF\n",
    ",p\n",
    "q\n",
    "EOF"
   ]
  },
  {
   "cell_type": "markdown",
   "metadata": {},
   "source": [
    "```\n",
    "\n",
    "### 4.6 Moving Lines (`m`)\n",
    "The `m` command moves lines to a different position. For example, moving line 3 after line 5:\n"
   ]
  },
  {
   "cell_type": "code",
   "execution_count": 49,
   "metadata": {},
   "outputs": [
    {
     "name": "stdout",
     "output_type": "stream",
     "text": [
      "218\n",
      "218\n",
      "This line has the number 123 in it.\n",
      "This is the second line with the word \"new\".\n",
      "Inserting a line before the first line.This is the first line of the file.\n",
      "This line has the number 123 in it.\n",
      "This line contains the word \"oldest\".\n",
      "This is the third line.\n",
      "?\n",
      "?\n",
      "Inserting a line before the first line.This is the first line of the file.\n",
      "This is the second line with the word \"new\".\n",
      "This line has the number 123 in it.\n",
      "This line contains the word \"oldest\".\n",
      "This is the third line.\n",
      "?\n"
     ]
    },
    {
     "ename": "CalledProcessError",
     "evalue": "Command 'b'ed myfile.txt <<EOF\\n1m2\\nw\\n\\n,p\\n\\nu\\n\\n,p\\n\\nEOF\\n'' returned non-zero exit status 1.",
     "output_type": "error",
     "traceback": [
      "\u001b[0;31m---------------------------------------------------------------------------\u001b[0m",
      "\u001b[0;31mCalledProcessError\u001b[0m                        Traceback (most recent call last)",
      "Cell \u001b[0;32mIn[49], line 1\u001b[0m\n\u001b[0;32m----> 1\u001b[0m \u001b[43mget_ipython\u001b[49m\u001b[43m(\u001b[49m\u001b[43m)\u001b[49m\u001b[38;5;241;43m.\u001b[39;49m\u001b[43mrun_cell_magic\u001b[49m\u001b[43m(\u001b[49m\u001b[38;5;124;43m'\u001b[39;49m\u001b[38;5;124;43mbash\u001b[39;49m\u001b[38;5;124;43m'\u001b[39;49m\u001b[43m,\u001b[49m\u001b[43m \u001b[49m\u001b[38;5;124;43m'\u001b[39;49m\u001b[38;5;124;43m'\u001b[39;49m\u001b[43m,\u001b[49m\u001b[43m \u001b[49m\u001b[38;5;124;43m'\u001b[39;49m\u001b[38;5;124;43med myfile.txt <<EOF\u001b[39;49m\u001b[38;5;130;43;01m\\n\u001b[39;49;00m\u001b[38;5;124;43m1m2\u001b[39;49m\u001b[38;5;130;43;01m\\n\u001b[39;49;00m\u001b[38;5;124;43mw\u001b[39;49m\u001b[38;5;130;43;01m\\n\u001b[39;49;00m\u001b[38;5;130;43;01m\\n\u001b[39;49;00m\u001b[38;5;124;43m,p\u001b[39;49m\u001b[38;5;130;43;01m\\n\u001b[39;49;00m\u001b[38;5;130;43;01m\\n\u001b[39;49;00m\u001b[38;5;124;43mu\u001b[39;49m\u001b[38;5;130;43;01m\\n\u001b[39;49;00m\u001b[38;5;130;43;01m\\n\u001b[39;49;00m\u001b[38;5;124;43m,p\u001b[39;49m\u001b[38;5;130;43;01m\\n\u001b[39;49;00m\u001b[38;5;130;43;01m\\n\u001b[39;49;00m\u001b[38;5;124;43mEOF\u001b[39;49m\u001b[38;5;130;43;01m\\n\u001b[39;49;00m\u001b[38;5;124;43m'\u001b[39;49m\u001b[43m)\u001b[49m\n",
      "File \u001b[0;32m/usr/lib/python3/dist-packages/IPython/core/interactiveshell.py:2517\u001b[0m, in \u001b[0;36mInteractiveShell.run_cell_magic\u001b[0;34m(self, magic_name, line, cell)\u001b[0m\n\u001b[1;32m   2515\u001b[0m \u001b[38;5;28;01mwith\u001b[39;00m \u001b[38;5;28mself\u001b[39m\u001b[38;5;241m.\u001b[39mbuiltin_trap:\n\u001b[1;32m   2516\u001b[0m     args \u001b[38;5;241m=\u001b[39m (magic_arg_s, cell)\n\u001b[0;32m-> 2517\u001b[0m     result \u001b[38;5;241m=\u001b[39m \u001b[43mfn\u001b[49m\u001b[43m(\u001b[49m\u001b[38;5;241;43m*\u001b[39;49m\u001b[43margs\u001b[49m\u001b[43m,\u001b[49m\u001b[43m \u001b[49m\u001b[38;5;241;43m*\u001b[39;49m\u001b[38;5;241;43m*\u001b[39;49m\u001b[43mkwargs\u001b[49m\u001b[43m)\u001b[49m\n\u001b[1;32m   2519\u001b[0m \u001b[38;5;66;03m# The code below prevents the output from being displayed\u001b[39;00m\n\u001b[1;32m   2520\u001b[0m \u001b[38;5;66;03m# when using magics with decorator @output_can_be_silenced\u001b[39;00m\n\u001b[1;32m   2521\u001b[0m \u001b[38;5;66;03m# when the last Python token in the expression is a ';'.\u001b[39;00m\n\u001b[1;32m   2522\u001b[0m \u001b[38;5;28;01mif\u001b[39;00m \u001b[38;5;28mgetattr\u001b[39m(fn, magic\u001b[38;5;241m.\u001b[39mMAGIC_OUTPUT_CAN_BE_SILENCED, \u001b[38;5;28;01mFalse\u001b[39;00m):\n",
      "File \u001b[0;32m/usr/lib/python3/dist-packages/IPython/core/magics/script.py:154\u001b[0m, in \u001b[0;36mScriptMagics._make_script_magic.<locals>.named_script_magic\u001b[0;34m(line, cell)\u001b[0m\n\u001b[1;32m    152\u001b[0m \u001b[38;5;28;01melse\u001b[39;00m:\n\u001b[1;32m    153\u001b[0m     line \u001b[38;5;241m=\u001b[39m script\n\u001b[0;32m--> 154\u001b[0m \u001b[38;5;28;01mreturn\u001b[39;00m \u001b[38;5;28;43mself\u001b[39;49m\u001b[38;5;241;43m.\u001b[39;49m\u001b[43mshebang\u001b[49m\u001b[43m(\u001b[49m\u001b[43mline\u001b[49m\u001b[43m,\u001b[49m\u001b[43m \u001b[49m\u001b[43mcell\u001b[49m\u001b[43m)\u001b[49m\n",
      "File \u001b[0;32m/usr/lib/python3/dist-packages/IPython/core/magics/script.py:314\u001b[0m, in \u001b[0;36mScriptMagics.shebang\u001b[0;34m(self, line, cell)\u001b[0m\n\u001b[1;32m    309\u001b[0m \u001b[38;5;28;01mif\u001b[39;00m args\u001b[38;5;241m.\u001b[39mraise_error \u001b[38;5;129;01mand\u001b[39;00m p\u001b[38;5;241m.\u001b[39mreturncode \u001b[38;5;241m!=\u001b[39m \u001b[38;5;241m0\u001b[39m:\n\u001b[1;32m    310\u001b[0m     \u001b[38;5;66;03m# If we get here and p.returncode is still None, we must have\u001b[39;00m\n\u001b[1;32m    311\u001b[0m     \u001b[38;5;66;03m# killed it but not yet seen its return code. We don't wait for it,\u001b[39;00m\n\u001b[1;32m    312\u001b[0m     \u001b[38;5;66;03m# in case it's stuck in uninterruptible sleep. -9 = SIGKILL\u001b[39;00m\n\u001b[1;32m    313\u001b[0m     rc \u001b[38;5;241m=\u001b[39m p\u001b[38;5;241m.\u001b[39mreturncode \u001b[38;5;129;01mor\u001b[39;00m \u001b[38;5;241m-\u001b[39m\u001b[38;5;241m9\u001b[39m\n\u001b[0;32m--> 314\u001b[0m     \u001b[38;5;28;01mraise\u001b[39;00m CalledProcessError(rc, cell)\n",
      "\u001b[0;31mCalledProcessError\u001b[0m: Command 'b'ed myfile.txt <<EOF\\n1m2\\nw\\n\\n,p\\n\\nu\\n\\n,p\\n\\nEOF\\n'' returned non-zero exit status 1."
     ]
    }
   ],
   "source": [
    "%%bash\n",
    "ed myfile.txt <<EOF\n",
    "1m2\n",
    "w\n",
    "\n",
    ",p\n",
    "\n",
    "u\n",
    "\n",
    ",p\n",
    "\n",
    "EOF\n"
   ]
  },
  {
   "cell_type": "markdown",
   "metadata": {},
   "source": [
    "```\n",
    "\n",
    "---\n",
    "\n",
    "### 4.7 Undoing Changes (`u`)\n",
    "The `u` command allows you to **undo the last command** issued in `ed`.\n"
   ]
  },
  {
   "cell_type": "markdown",
   "metadata": {},
   "source": [
    "```\n",
    "\n",
    "---\n",
    "\n",
    "## 5. Searching, Substitution, and Regular Expressions\n",
    "\n",
    "### 5.1 Searching for Patterns\n",
    "We can search for any word or regular expression in the file.\n"
   ]
  },
  {
   "cell_type": "code",
   "execution_count": 53,
   "metadata": {},
   "outputs": [
    {
     "name": "stdout",
     "output_type": "stream",
     "text": [
      "218\n",
      "This is the second line with the word \"new\".\n"
     ]
    }
   ],
   "source": [
    "\n",
    "%%bash\n",
    "ed myfile.txt <<EOF\n",
    "/new/\n",
    "q\n",
    "EOF\n"
   ]
  },
  {
   "cell_type": "markdown",
   "metadata": {},
   "source": [
    "```\n",
    "\n",
    "### 5.2 Substituting Text (`s/pattern/replacement/`)\n",
    "The `s` command allows you to substitute text in the current line. Let's replace \"appended\" with \"Appended\":\n"
   ]
  },
  {
   "cell_type": "code",
   "execution_count": null,
   "metadata": {},
   "outputs": [],
   "source": [
    "\n",
    "%%bash\n",
    "ed myfile.txt <<EOF\n",
    "s/appended/Appended/\n",
    "w\n",
    "q\n",
    "EOF\n"
   ]
  },
  {
   "cell_type": "code",
   "execution_count": 55,
   "metadata": {},
   "outputs": [
    {
     "name": "stdout",
     "output_type": "stream",
     "text": [
      "218\n",
      "?\n",
      "218\n"
     ]
    },
    {
     "ename": "CalledProcessError",
     "evalue": "Command 'b'ed myfile.txt <<EOF\\n%s/PREFIX/prefix/\\nw\\nq\\nEOF\\n#You can substitute text across multiple lines using the `%` symbol for the entire file:\\n'' returned non-zero exit status 1.",
     "output_type": "error",
     "traceback": [
      "\u001b[0;31m---------------------------------------------------------------------------\u001b[0m",
      "\u001b[0;31mCalledProcessError\u001b[0m                        Traceback (most recent call last)",
      "Cell \u001b[0;32mIn[55], line 1\u001b[0m\n\u001b[0;32m----> 1\u001b[0m \u001b[43mget_ipython\u001b[49m\u001b[43m(\u001b[49m\u001b[43m)\u001b[49m\u001b[38;5;241;43m.\u001b[39;49m\u001b[43mrun_cell_magic\u001b[49m\u001b[43m(\u001b[49m\u001b[38;5;124;43m'\u001b[39;49m\u001b[38;5;124;43mbash\u001b[39;49m\u001b[38;5;124;43m'\u001b[39;49m\u001b[43m,\u001b[49m\u001b[43m \u001b[49m\u001b[38;5;124;43m'\u001b[39;49m\u001b[38;5;124;43m'\u001b[39;49m\u001b[43m,\u001b[49m\u001b[43m \u001b[49m\u001b[38;5;124;43m'\u001b[39;49m\u001b[38;5;124;43med myfile.txt <<EOF\u001b[39;49m\u001b[38;5;130;43;01m\\n\u001b[39;49;00m\u001b[38;5;132;43;01m%s\u001b[39;49;00m\u001b[38;5;124;43m/PREFIX/prefix/\u001b[39;49m\u001b[38;5;130;43;01m\\n\u001b[39;49;00m\u001b[38;5;124;43mw\u001b[39;49m\u001b[38;5;130;43;01m\\n\u001b[39;49;00m\u001b[38;5;124;43mq\u001b[39;49m\u001b[38;5;130;43;01m\\n\u001b[39;49;00m\u001b[38;5;124;43mEOF\u001b[39;49m\u001b[38;5;130;43;01m\\n\u001b[39;49;00m\u001b[38;5;124;43m#You can substitute text across multiple lines using the `\u001b[39;49m\u001b[38;5;124;43m%\u001b[39;49m\u001b[38;5;124;43m` symbol for the entire file:\u001b[39;49m\u001b[38;5;130;43;01m\\n\u001b[39;49;00m\u001b[38;5;124;43m'\u001b[39;49m\u001b[43m)\u001b[49m\n",
      "File \u001b[0;32m/usr/lib/python3/dist-packages/IPython/core/interactiveshell.py:2517\u001b[0m, in \u001b[0;36mInteractiveShell.run_cell_magic\u001b[0;34m(self, magic_name, line, cell)\u001b[0m\n\u001b[1;32m   2515\u001b[0m \u001b[38;5;28;01mwith\u001b[39;00m \u001b[38;5;28mself\u001b[39m\u001b[38;5;241m.\u001b[39mbuiltin_trap:\n\u001b[1;32m   2516\u001b[0m     args \u001b[38;5;241m=\u001b[39m (magic_arg_s, cell)\n\u001b[0;32m-> 2517\u001b[0m     result \u001b[38;5;241m=\u001b[39m \u001b[43mfn\u001b[49m\u001b[43m(\u001b[49m\u001b[38;5;241;43m*\u001b[39;49m\u001b[43margs\u001b[49m\u001b[43m,\u001b[49m\u001b[43m \u001b[49m\u001b[38;5;241;43m*\u001b[39;49m\u001b[38;5;241;43m*\u001b[39;49m\u001b[43mkwargs\u001b[49m\u001b[43m)\u001b[49m\n\u001b[1;32m   2519\u001b[0m \u001b[38;5;66;03m# The code below prevents the output from being displayed\u001b[39;00m\n\u001b[1;32m   2520\u001b[0m \u001b[38;5;66;03m# when using magics with decorator @output_can_be_silenced\u001b[39;00m\n\u001b[1;32m   2521\u001b[0m \u001b[38;5;66;03m# when the last Python token in the expression is a ';'.\u001b[39;00m\n\u001b[1;32m   2522\u001b[0m \u001b[38;5;28;01mif\u001b[39;00m \u001b[38;5;28mgetattr\u001b[39m(fn, magic\u001b[38;5;241m.\u001b[39mMAGIC_OUTPUT_CAN_BE_SILENCED, \u001b[38;5;28;01mFalse\u001b[39;00m):\n",
      "File \u001b[0;32m/usr/lib/python3/dist-packages/IPython/core/magics/script.py:154\u001b[0m, in \u001b[0;36mScriptMagics._make_script_magic.<locals>.named_script_magic\u001b[0;34m(line, cell)\u001b[0m\n\u001b[1;32m    152\u001b[0m \u001b[38;5;28;01melse\u001b[39;00m:\n\u001b[1;32m    153\u001b[0m     line \u001b[38;5;241m=\u001b[39m script\n\u001b[0;32m--> 154\u001b[0m \u001b[38;5;28;01mreturn\u001b[39;00m \u001b[38;5;28;43mself\u001b[39;49m\u001b[38;5;241;43m.\u001b[39;49m\u001b[43mshebang\u001b[49m\u001b[43m(\u001b[49m\u001b[43mline\u001b[49m\u001b[43m,\u001b[49m\u001b[43m \u001b[49m\u001b[43mcell\u001b[49m\u001b[43m)\u001b[49m\n",
      "File \u001b[0;32m/usr/lib/python3/dist-packages/IPython/core/magics/script.py:314\u001b[0m, in \u001b[0;36mScriptMagics.shebang\u001b[0;34m(self, line, cell)\u001b[0m\n\u001b[1;32m    309\u001b[0m \u001b[38;5;28;01mif\u001b[39;00m args\u001b[38;5;241m.\u001b[39mraise_error \u001b[38;5;129;01mand\u001b[39;00m p\u001b[38;5;241m.\u001b[39mreturncode \u001b[38;5;241m!=\u001b[39m \u001b[38;5;241m0\u001b[39m:\n\u001b[1;32m    310\u001b[0m     \u001b[38;5;66;03m# If we get here and p.returncode is still None, we must have\u001b[39;00m\n\u001b[1;32m    311\u001b[0m     \u001b[38;5;66;03m# killed it but not yet seen its return code. We don't wait for it,\u001b[39;00m\n\u001b[1;32m    312\u001b[0m     \u001b[38;5;66;03m# in case it's stuck in uninterruptible sleep. -9 = SIGKILL\u001b[39;00m\n\u001b[1;32m    313\u001b[0m     rc \u001b[38;5;241m=\u001b[39m p\u001b[38;5;241m.\u001b[39mreturncode \u001b[38;5;129;01mor\u001b[39;00m \u001b[38;5;241m-\u001b[39m\u001b[38;5;241m9\u001b[39m\n\u001b[0;32m--> 314\u001b[0m     \u001b[38;5;28;01mraise\u001b[39;00m CalledProcessError(rc, cell)\n",
      "\u001b[0;31mCalledProcessError\u001b[0m: Command 'b'ed myfile.txt <<EOF\\n%s/PREFIX/prefix/\\nw\\nq\\nEOF\\n#You can substitute text across multiple lines using the `%` symbol for the entire file:\\n'' returned non-zero exit status 1."
     ]
    }
   ],
   "source": [
    "\n",
    "%%bash\n",
    "ed myfile.txt <<EOF\n",
    "%s/PREFIX/prefix/\n",
    "w\n",
    "q\n",
    "EOF\n",
    "#You can substitute text across multiple lines using the `%` symbol for the entire file:"
   ]
  },
  {
   "cell_type": "code",
   "execution_count": null,
   "metadata": {},
   "outputs": [],
   "source": [
    "\n",
    "## 6. Working with the Buffer\n",
    "\n",
    "### 6.1 Saving Changes to the File (`w`)\n",
    "The `w` command writes the current buffer (file content) to the disk. This is how you save your work.\n"
   ]
  },
  {
   "cell_type": "code",
   "execution_count": null,
   "metadata": {},
   "outputs": [],
   "source": [
    "\n",
    "%%bash\n",
    "ed myfile.txt <<EOF\n",
    "w\n",
    "q\n",
    "EOF\n"
   ]
  },
  {
   "cell_type": "markdown",
   "metadata": {},
   "source": [
    "```\n",
    "\n",
    "### 6.2 Reading Another File into the Buffer (`r`)\n",
    "You can read the content of another file into the current buffer.\n"
   ]
  },
  {
   "cell_type": "code",
   "execution_count": null,
   "metadata": {},
   "outputs": [],
   "source": [
    "\n",
    "%%bash\n",
    "ed myfile.txt <<EOF\n",
    "r anotherfile.txt\n",
    "w\n",
    "q\n",
    "EOF\n"
   ]
  },
  {
   "cell_type": "markdown",
   "metadata": {},
   "source": [
    "```\n",
    "\n",
    "---\n",
    "\n",
    "## 7. Undoing Changes and Error Recovery\n",
    "\n",
    "### 7.1 Undoing the Last Change (`u`)\n",
    "If you accidentally delete or change a line, you can undo the most recent change.\n"
   ]
  },
  {
   "cell_type": "code",
   "execution_count": null,
   "metadata": {},
   "outputs": [],
   "source": [
    "%%bash\n",
    "ed myfile.txt <<EOF\n",
    "u\n",
    "w\n",
    "q\n",
    "EOF\n"
   ]
  },
  {
   "cell_type": "markdown",
   "metadata": {},
   "source": [
    "```\n",
    "\n",
    "---\n",
    "\n",
    "## 8. Working with Multiple Files\n",
    "\n",
    "### 8.1 Editing a Different File (`e filename`)\n",
    "You can switch between different files in the same `ed` session by using the `e` command.\n"
   ]
  },
  {
   "cell_type": "code",
   "execution_count": 56,
   "metadata": {},
   "outputs": [
    {
     "name": "stdout",
     "output_type": "stream",
     "text": [
      "218\n"
     ]
    },
    {
     "name": "stderr",
     "output_type": "stream",
     "text": [
      "anotherfile.txt: No such file or directory\n"
     ]
    },
    {
     "name": "stdout",
     "output_type": "stream",
     "text": [
      "?\n",
      "0\n"
     ]
    },
    {
     "ename": "CalledProcessError",
     "evalue": "Command 'b'ed myfile.txt <<EOF\\ne anotherfile.txt\\nw\\nq\\nEOF\\n'' returned non-zero exit status 1.",
     "output_type": "error",
     "traceback": [
      "\u001b[0;31m---------------------------------------------------------------------------\u001b[0m",
      "\u001b[0;31mCalledProcessError\u001b[0m                        Traceback (most recent call last)",
      "Cell \u001b[0;32mIn[56], line 1\u001b[0m\n\u001b[0;32m----> 1\u001b[0m \u001b[43mget_ipython\u001b[49m\u001b[43m(\u001b[49m\u001b[43m)\u001b[49m\u001b[38;5;241;43m.\u001b[39;49m\u001b[43mrun_cell_magic\u001b[49m\u001b[43m(\u001b[49m\u001b[38;5;124;43m'\u001b[39;49m\u001b[38;5;124;43mbash\u001b[39;49m\u001b[38;5;124;43m'\u001b[39;49m\u001b[43m,\u001b[49m\u001b[43m \u001b[49m\u001b[38;5;124;43m'\u001b[39;49m\u001b[38;5;124;43m'\u001b[39;49m\u001b[43m,\u001b[49m\u001b[43m \u001b[49m\u001b[38;5;124;43m'\u001b[39;49m\u001b[38;5;124;43med myfile.txt <<EOF\u001b[39;49m\u001b[38;5;130;43;01m\\n\u001b[39;49;00m\u001b[38;5;124;43me anotherfile.txt\u001b[39;49m\u001b[38;5;130;43;01m\\n\u001b[39;49;00m\u001b[38;5;124;43mw\u001b[39;49m\u001b[38;5;130;43;01m\\n\u001b[39;49;00m\u001b[38;5;124;43mq\u001b[39;49m\u001b[38;5;130;43;01m\\n\u001b[39;49;00m\u001b[38;5;124;43mEOF\u001b[39;49m\u001b[38;5;130;43;01m\\n\u001b[39;49;00m\u001b[38;5;124;43m'\u001b[39;49m\u001b[43m)\u001b[49m\n",
      "File \u001b[0;32m/usr/lib/python3/dist-packages/IPython/core/interactiveshell.py:2517\u001b[0m, in \u001b[0;36mInteractiveShell.run_cell_magic\u001b[0;34m(self, magic_name, line, cell)\u001b[0m\n\u001b[1;32m   2515\u001b[0m \u001b[38;5;28;01mwith\u001b[39;00m \u001b[38;5;28mself\u001b[39m\u001b[38;5;241m.\u001b[39mbuiltin_trap:\n\u001b[1;32m   2516\u001b[0m     args \u001b[38;5;241m=\u001b[39m (magic_arg_s, cell)\n\u001b[0;32m-> 2517\u001b[0m     result \u001b[38;5;241m=\u001b[39m \u001b[43mfn\u001b[49m\u001b[43m(\u001b[49m\u001b[38;5;241;43m*\u001b[39;49m\u001b[43margs\u001b[49m\u001b[43m,\u001b[49m\u001b[43m \u001b[49m\u001b[38;5;241;43m*\u001b[39;49m\u001b[38;5;241;43m*\u001b[39;49m\u001b[43mkwargs\u001b[49m\u001b[43m)\u001b[49m\n\u001b[1;32m   2519\u001b[0m \u001b[38;5;66;03m# The code below prevents the output from being displayed\u001b[39;00m\n\u001b[1;32m   2520\u001b[0m \u001b[38;5;66;03m# when using magics with decorator @output_can_be_silenced\u001b[39;00m\n\u001b[1;32m   2521\u001b[0m \u001b[38;5;66;03m# when the last Python token in the expression is a ';'.\u001b[39;00m\n\u001b[1;32m   2522\u001b[0m \u001b[38;5;28;01mif\u001b[39;00m \u001b[38;5;28mgetattr\u001b[39m(fn, magic\u001b[38;5;241m.\u001b[39mMAGIC_OUTPUT_CAN_BE_SILENCED, \u001b[38;5;28;01mFalse\u001b[39;00m):\n",
      "File \u001b[0;32m/usr/lib/python3/dist-packages/IPython/core/magics/script.py:154\u001b[0m, in \u001b[0;36mScriptMagics._make_script_magic.<locals>.named_script_magic\u001b[0;34m(line, cell)\u001b[0m\n\u001b[1;32m    152\u001b[0m \u001b[38;5;28;01melse\u001b[39;00m:\n\u001b[1;32m    153\u001b[0m     line \u001b[38;5;241m=\u001b[39m script\n\u001b[0;32m--> 154\u001b[0m \u001b[38;5;28;01mreturn\u001b[39;00m \u001b[38;5;28;43mself\u001b[39;49m\u001b[38;5;241;43m.\u001b[39;49m\u001b[43mshebang\u001b[49m\u001b[43m(\u001b[49m\u001b[43mline\u001b[49m\u001b[43m,\u001b[49m\u001b[43m \u001b[49m\u001b[43mcell\u001b[49m\u001b[43m)\u001b[49m\n",
      "File \u001b[0;32m/usr/lib/python3/dist-packages/IPython/core/magics/script.py:314\u001b[0m, in \u001b[0;36mScriptMagics.shebang\u001b[0;34m(self, line, cell)\u001b[0m\n\u001b[1;32m    309\u001b[0m \u001b[38;5;28;01mif\u001b[39;00m args\u001b[38;5;241m.\u001b[39mraise_error \u001b[38;5;129;01mand\u001b[39;00m p\u001b[38;5;241m.\u001b[39mreturncode \u001b[38;5;241m!=\u001b[39m \u001b[38;5;241m0\u001b[39m:\n\u001b[1;32m    310\u001b[0m     \u001b[38;5;66;03m# If we get here and p.returncode is still None, we must have\u001b[39;00m\n\u001b[1;32m    311\u001b[0m     \u001b[38;5;66;03m# killed it but not yet seen its return code. We don't wait for it,\u001b[39;00m\n\u001b[1;32m    312\u001b[0m     \u001b[38;5;66;03m# in case it's stuck in uninterruptible sleep. -9 = SIGKILL\u001b[39;00m\n\u001b[1;32m    313\u001b[0m     rc \u001b[38;5;241m=\u001b[39m p\u001b[38;5;241m.\u001b[39mreturncode \u001b[38;5;129;01mor\u001b[39;00m \u001b[38;5;241m-\u001b[39m\u001b[38;5;241m9\u001b[39m\n\u001b[0;32m--> 314\u001b[0m     \u001b[38;5;28;01mraise\u001b[39;00m CalledProcessError(rc, cell)\n",
      "\u001b[0;31mCalledProcessError\u001b[0m: Command 'b'ed myfile.txt <<EOF\\ne anotherfile.txt\\nw\\nq\\nEOF\\n'' returned non-zero exit status 1."
     ]
    }
   ],
   "source": [
    "%%bash\n",
    "ed myfile.txt <<EOF\n",
    "e anotherfile.txt\n",
    "w\n",
    "q\n",
    "EOF\n"
   ]
  },
  {
   "cell_type": "markdown",
   "metadata": {},
   "source": [
    "```\n",
    "\n",
    "---\n",
    "\n",
    "## 9. Executing Shell Commands within `ed`\n",
    "\n",
    "### 9.1 Running Shell Commands (`!`)\n",
    "You can execute shell commands directly from `ed`. Let’s run the `date` command to see the current time.\n"
   ]
  },
  {
   "cell_type": "code",
   "execution_count": 57,
   "metadata": {},
   "outputs": [
    {
     "name": "stdout",
     "output_type": "stream",
     "text": [
      "218\n",
      "Sat Oct 19 17:16:50 UTC 2024\n",
      "!\n"
     ]
    }
   ],
   "source": [
    "%%bash\n",
    "ed myfile.txt <<EOF\n",
    "!date\n",
    "q\n",
    "EOF\n"
   ]
  },
  {
   "cell_type": "markdown",
   "metadata": {},
   "source": [
    "```\n",
    "\n",
    "### 9.2 Reading Shell Command Output into the Buffer (`r !command`)\n",
    "You can insert the output of a shell command into the file using the `r !command` syntax. Here, we will insert the current date and time into our file:\n",
    "\n"
   ]
  },
  {
   "cell_type": "code",
   "execution_count": 58,
   "metadata": {},
   "outputs": [
    {
     "name": "stdout",
     "output_type": "stream",
     "text": [
      "218\n",
      "29\n",
      "247\n"
     ]
    }
   ],
   "source": [
    "%%bash\n",
    "ed myfile.txt <<EOF\n",
    "r !date\n",
    "w\n",
    "q\n",
    "EOF\n"
   ]
  },
  {
   "cell_type": "markdown",
   "metadata": {},
   "source": [
    "```\n",
    "\n",
    "---\n",
    "\n",
    "## 10. Advanced Examples and Workflow\n",
    "\n",
    "### 10.1 Example: Editing and Searching Workflow\n",
    "Here’s an example where we open a file, search for a specific pattern, change it, and save the file.\n"
   ]
  },
  {
   "cell_type": "code",
   "execution_count": null,
   "metadata": {},
   "outputs": [],
   "source": [
    "%%bash\n",
    "ed myfile.txt <<EOF\n",
    "/new/\n",
    "s/new/NEW/\n",
    "w\n",
    "q\n",
    "EOF\n"
   ]
  },
  {
   "cell_type": "markdown",
   "metadata": {},
   "source": [
    "```\n",
    "\n",
    "### 10.2 Example: Combining Multiple Commands\n",
    "In this example, we will append text, delete a line, substitute a word, and save everything:\n"
   ]
  },
  {
   "cell_type": "code",
   "execution_count": 59,
   "metadata": {},
   "outputs": [
    {
     "name": "stdout",
     "output_type": "stream",
     "text": [
      "247\n",
      "247\n"
     ]
    }
   ],
   "source": [
    "%%bash\n",
    "ed myfile.txt <<EOF\n",
    "a\n",
    "This line will be added to the end.\n",
    ".\n",
    "3d\n",
    "s/line/LINE/\n",
    "w\n",
    "q\n",
    "EOF\n"
   ]
  },
  {
   "cell_type": "markdown",
   "metadata": {},
   "source": [
    "```\n",
    "\n",
    "---\n",
    "\n",
    "## 11. Helpful Bash Commands\n"
   ]
  },
  {
   "cell_type": "code",
   "execution_count": null,
   "metadata": {},
   "outputs": [],
   "source": [
    "%%bash\n",
    "echo \"This file was created using echo command.\" > anotherfile.txt\n",
    "\n",
    "man ed\n",
    "\n",
    "#The `man` command is essential for viewing the manual pages of Unix commands. Here’s how to use it for `ed`."
   ]
  }
 ],
 "metadata": {
  "kernelspec": {
   "display_name": "Python 3",
   "language": "python",
   "name": "python3"
  },
  "language_info": {
   "codemirror_mode": {
    "name": "ipython",
    "version": 3
   },
   "file_extension": ".py",
   "mimetype": "text/x-python",
   "name": "python",
   "nbconvert_exporter": "python",
   "pygments_lexer": "ipython3",
   "version": "3.12.3"
  }
 },
 "nbformat": 4,
 "nbformat_minor": 2
}
