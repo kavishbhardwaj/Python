{
 "cells": [
  {
   "cell_type": "markdown",
   "metadata": {},
   "source": [
    "Ed:\n",
    "\n",
    "### What is `ed`?\n",
    "- **`ed` is a text editor** that operates entirely within the **terminal**. It's one of the oldest text editors designed for Unix systems and is very basic compared to modern editors.\n",
    "- Unlike modern editors like **Notepad** or **VS Code**, **`ed`** doesn’t show the content of the file as you type. Instead, it waits for specific commands to insert, edit, or view the text.\n",
    "  \n",
    "### How does `ed` differ from the terminal?\n",
    "- **The terminal** is the interface you’re working in—it's a command-line interface (CLI) where you type commands to interact with your system (such as running programs, editing files, etc.).\n",
    "  \n",
    "- **`ed` is a program** that runs *inside* the terminal. When you open `ed`, you’re still in the terminal, but now you’re running a program (just like opening a web browser or text editor on your computer).\n",
    "\n",
    "### Key differences:\n",
    "1. **Terminal**: This is the tool you’re using to interact with your system. You type commands like `ls` to list files, `cd` to change directories, etc.\n",
    "   \n",
    "2. **`ed`**: This is a program you can run *inside* the terminal to edit text files. It's like a super-basic version of Notepad but without the user-friendly interface.\n",
    "\n",
    "### Workflow in the terminal:\n",
    "1. You open the terminal and type commands to interact with the system.\n",
    "2. When you type `ed testfile.txt`, you’re telling the terminal to open the **`ed` text editor** with the file named `testfile.txt`.\n",
    "3. Once inside `ed`, you use special commands (like `a` to add text, `p` to print text, etc.) to interact with the file.\n",
    "\n",
    "### Example of how `ed` works in the terminal:\n",
    "\n",
    "1. **Open the terminal** and type:\n",
    "   ```bash\n",
    "   ed testfile.txt\n",
    "   ```\n",
    "   This opens the file `testfile.txt` in the `ed` editor (in the terminal window).\n",
    "\n",
    "2. **Type commands in `ed`** to modify the file:\n",
    "   - To add text: Type `a`, then type your lines, and end with a `.`.\n",
    "   - To print the content of the file: Type `,p`.\n",
    "   - To save the file: Type `w`.\n",
    "   - To quit `ed`: Type `q`.\n",
    "\n",
    "While you're **in `ed`**, you're still inside the terminal, but you're running the **`ed` text editor** to interact with a file.\n"
   ]
  },
  {
   "cell_type": "code",
   "execution_count": 7,
   "metadata": {},
   "outputs": [
    {
     "name": "stdout",
     "output_type": "stream",
     "text": [
      "22\n",
      "44\n"
     ]
    }
   ],
   "source": [
    "%%bash\n",
    "ed testfile.txt\n",
    "a\n",
    "This is my first file\n",
    ".\n",
    "w\n",
    "q\n",
    "\n"
   ]
  },
  {
   "cell_type": "code",
   "execution_count": 8,
   "metadata": {},
   "outputs": [
    {
     "name": "stdout",
     "output_type": "stream",
     "text": [
      "44\n",
      "This is my first file\n"
     ]
    }
   ],
   "source": [
    "%%bash\n",
    "\n",
    "ed testfile.txt\n",
    "p"
   ]
  },
  {
   "cell_type": "markdown",
   "metadata": {},
   "source": [
    "# Mastering the `ed` Editor: An Extended Guide\n",
    "\n",
    "Welcome to this advanced guide on the **`ed` editor**. In this tutorial, you will not only learn the basics of `ed`, \n",
    "but also delve into more advanced concepts such as working with multiple files, managing the buffer, undo operations, \n",
    "and various practical examples to strengthen your skills.\n",
    "\n",
    "---\n",
    "\n",
    "## Contents\n",
    "1. Introduction to `ed`\n",
    "2. Getting Started with `ed`\n",
    "3. Navigating Files and Lines\n",
    "4. Editing Text in `ed`\n",
    "5. Searching, Substitution, and Regular Expressions\n",
    "6. Working with the Buffer\n",
    "7. Undoing Changes and Error Recovery\n",
    "8. Working with Multiple Files\n",
    "9. Executing Shell Commands within `ed`\n",
    "10. Advanced Examples and Workflow\n",
    "11. Helpful Bash Commands\n",
    "\n",
    "---\n"
   ]
  },
  {
   "cell_type": "markdown",
   "metadata": {},
   "source": [
    "\n",
    "## 1. Introduction to `ed`\n",
    "\n",
    "As we already know, `ed` is a **line-based text editor**. You won’t see the content of the file like in modern editors. \n",
    "Instead, you’ll provide commands, and `ed` will act on the file accordingly.\n",
    "\n",
    "---\n"
   ]
  },
  {
   "cell_type": "markdown",
   "metadata": {},
   "source": [
    "\n",
    "## 2. Getting Started with `ed`\n",
    "\n",
    "### 2.1 Opening and Creating Files\n",
    "You can open an existing file or create a new one using `ed`. If the file exists, its contents will be loaded into the buffer; \n",
    "if not, `ed` will create a new file upon saving.\n"
   ]
  },
  {
   "cell_type": "code",
   "execution_count": 13,
   "metadata": {},
   "outputs": [
    {
     "name": "stdout",
     "output_type": "stream",
     "text": [
      "358\n"
     ]
    }
   ],
   "source": [
    "\n",
    "%%bash\n",
    "ed myfile.txt\n"
   ]
  },
  {
   "cell_type": "markdown",
   "metadata": {},
   "source": [
    "\n",
    "\n",
    "At this point, `ed` will wait for commands. You won’t see any output until you start interacting with the file.\n",
    "\n",
    "---\n"
   ]
  },
  {
   "cell_type": "code",
   "execution_count": 14,
   "metadata": {},
   "outputs": [
    {
     "name": "stdout",
     "output_type": "stream",
     "text": [
      "358\n",
      "537\n"
     ]
    }
   ],
   "source": [
    "%%bash\n",
    "ed myfile.txt <<EOF\n",
    "a\n",
    "This is the first line of the file.\n",
    "This is the second line with the word \"new\".\n",
    "This is the third line.\n",
    "This line has the number 123 in it.\n",
    "This line contains the word \"oldest\".\n",
    ".\n",
    "w\n",
    "q\n",
    "EOF\n",
    "\n",
    "#Now the file has content to work with, and you can move forward with editing"
   ]
  },
  {
   "cell_type": "code",
   "execution_count": 15,
   "metadata": {},
   "outputs": [],
   "source": [
    "%%bash\n",
    "## You can use the echo command to append text to a file without using the ed text editor.\n",
    "# Use echo to append text line by line to the file\n",
    "echo \"This is the first line of the file.\" >> myfile.txt\n",
    "echo \"This is the second line with the word \\\"new\\\".\" >> myfile.txt\n",
    "echo \"This is the third line.\" >> myfile.txt\n",
    "echo \"This line has the number 123 in it.\" >> myfile.txt\n",
    "echo \"This line contains the word \\\"oldest\\\".\" >> myfile.txt\n"
   ]
  },
  {
   "cell_type": "markdown",
   "metadata": {},
   "source": [
    "\n",
    "### 2.2 Enabling the Prompt (`P`)\n",
    "By default, `ed` doesn’t show a prompt, making it a bit tricky to track what’s happening. Let’s enable the prompt:\n"
   ]
  },
  {
   "cell_type": "code",
   "execution_count": 17,
   "metadata": {},
   "outputs": [
    {
     "name": "stdout",
     "output_type": "stream",
     "text": [
      "716\n",
      "*"
     ]
    }
   ],
   "source": [
    "%%bash\n",
    "ed myfile.txt <<EOF\n",
    "P\n",
    "q\n",
    "EOF"
   ]
  },
  {
   "cell_type": "markdown",
   "metadata": {},
   "source": [
    "\n",
    "Now, every command you give will be followed by an asterisk `*` prompt, letting you know `ed` is ready for the next instruction.\n",
    "\n",
    "---\n"
   ]
  },
  {
   "cell_type": "markdown",
   "metadata": {},
   "source": [
    "\n",
    "### 2.3 Printing the Manual (`man ed`) and Info Page (`info ed`)\n",
    "As always, we can access the manual or info page to learn more about the editor’s usage.\n",
    "\n",
    "```bash\n",
    "man ed\n",
    "```\n",
    "\n",
    "```bash\n",
    "info ed\n",
    "```\n",
    "\n",
    "---\n"
   ]
  },
  {
   "cell_type": "markdown",
   "metadata": {},
   "source": [
    "\n",
    "## 3. Navigating Files and Lines\n",
    "\n",
    "You’ll often need to navigate the file to inspect specific lines, sections, or patterns. Let’s explore how to move around within the file.\n",
    "\n",
    "---\n",
    "\n",
    "### 3.1 Moving to Specific Lines and Ranges\n",
    "- `.`: Current line\n",
    "- `$`: Last line\n",
    "- `%`: All lines (`1,$`)\n",
    "- `+`: Next line\n",
    "- `-`: Previous line\n",
    "\n",
    "```bash\n",
    "ed myfile.txt <<EOF\n",
    "1p\n",
    "q\n",
    "EOF\n",
    "```\n",
    "\n",
    "```bash\n",
    "ed myfile.txt <<EOF\n",
    "$p\n",
    "q\n",
    "EOF\n",
    "```\n"
   ]
  },
  {
   "cell_type": "code",
   "execution_count": 18,
   "metadata": {},
   "outputs": [
    {
     "name": "stdout",
     "output_type": "stream",
     "text": [
      "716\n",
      "This is the first line of the file.\n"
     ]
    }
   ],
   "source": [
    "%%bash\n",
    "ed myfile.txt <<EOF\n",
    "1p\n",
    "q\n",
    "EOF\n"
   ]
  },
  {
   "cell_type": "markdown",
   "metadata": {},
   "source": [
    "<<EOF:\n",
    "a mechanism in shell scripting used to pass multiple lines of input to a command. Everything between <<EOF and EOF is treated as input and fed to ed.\n",
    "EOF is just a delimiter. It could be any word, but EOF (End of File) is commonly used for clarity."
   ]
  },
  {
   "cell_type": "code",
   "execution_count": 19,
   "metadata": {},
   "outputs": [
    {
     "name": "stdout",
     "output_type": "stream",
     "text": [
      "716\n",
      "This line contains the word \"oldest\".\n"
     ]
    }
   ],
   "source": [
    "%%bash\n",
    "ed myfile.txt <<EOF\n",
    "\\$p\n",
    "q\n",
    "EOF\n",
    "\n",
    "# The right command is $p to print last line but in in a Jupyter Notebook, it may handle the $ symbol as a special character. \n",
    "# You can try escaping the $ symbol by using \\$p"
   ]
  },
  {
   "cell_type": "markdown",
   "metadata": {},
   "source": [
    "\n",
    "### 3.2 Compound Line Navigation\n",
    "You can print a range of lines or navigate across them:\n"
   ]
  },
  {
   "cell_type": "code",
   "execution_count": 20,
   "metadata": {},
   "outputs": [
    {
     "name": "stdout",
     "output_type": "stream",
     "text": [
      "716\n",
      "This is the first line of the file.\n",
      "This is the second line with the word \"new\".\n",
      "This is the third line.\n",
      "This line has the number 123 in it.\n",
      "This line contains the word \"oldest\".\n"
     ]
    }
   ],
   "source": [
    "\n",
    "%%bash\n",
    "ed myfile.txt <<EOF\n",
    "1,5p\n",
    "q\n",
    "EOF\n"
   ]
  },
  {
   "cell_type": "markdown",
   "metadata": {},
   "source": [
    "\n",
    "---\n",
    "\n",
    "### 3.3 Searching for Patterns with `/pattern/`\n",
    "You can search for text patterns or specific words using regular expressions.\n"
   ]
  },
  {
   "cell_type": "code",
   "execution_count": 21,
   "metadata": {},
   "outputs": [
    {
     "name": "stdout",
     "output_type": "stream",
     "text": [
      "716\n",
      "This is the first line of the file.\n"
     ]
    }
   ],
   "source": [
    "%%bash\n",
    "ed myfile.txt <<EOF\n",
    "/line/\n",
    "q\n",
    "EOF\n"
   ]
  },
  {
   "cell_type": "markdown",
   "metadata": {},
   "source": [
    "```\n",
    "\n",
    "### 3.4 Advanced Search Patterns\n",
    "`ed` supports regular expressions, which allow for powerful text searches. For example, searching for lines that contain numbers can be done as follows:\n"
   ]
  },
  {
   "cell_type": "code",
   "execution_count": 22,
   "metadata": {},
   "outputs": [
    {
     "name": "stdout",
     "output_type": "stream",
     "text": [
      "716\n",
      "This line has the number 123 in it.\n"
     ]
    }
   ],
   "source": [
    "%%bash\n",
    "ed myfile.txt <<EOF\n",
    "/[0-9]/\n",
    "q\n",
    "EOF\n"
   ]
  },
  {
   "cell_type": "markdown",
   "metadata": {},
   "source": [
    "In `ed` (a line editor for Unix), there’s a difference between using `/line/` and `/line` for searching:\n",
    "\n",
    "- **`/line/`**:\n",
    "  - This format searches for the pattern `line` and restricts it to only match complete words or lines that start and end with this pattern.\n",
    "  - The search will only match instances where \"line\" appears exactly as specified, with boundaries around it.\n",
    "\n",
    "- **`/line`**:\n",
    "  - This format searches for the pattern `line` anywhere in a line, meaning it can match even if \"line\" is part of a longer word or appears in the middle of text.\n",
    "  - It’s less restrictive than `/line/` and will match any occurrence of \"line\" within the line.\n",
    "\n",
    "In general, the extra slashes are often used to delimit the pattern in `ed` and many other text editors, but they can change how exact the match is, especially for specifying boundaries or completeness of the pattern match."
   ]
  },
  {
   "cell_type": "markdown",
   "metadata": {},
   "source": [
    "```\n",
    "\n",
    "---\n",
    "\n",
    "## 4. Editing Text in `ed`\n",
    "\n",
    "Editing text in `ed` is done using commands like `a` (append), `i` (insert), `d` (delete), and `c` (change). Let’s walk through each command.\n",
    "\n",
    "### 4.1 Appending Text After the Current Line (`a`)\n"
   ]
  },
  {
   "cell_type": "code",
   "execution_count": 23,
   "metadata": {},
   "outputs": [
    {
     "name": "stdout",
     "output_type": "stream",
     "text": [
      "716\n",
      "771\n"
     ]
    }
   ],
   "source": [
    "%%bash\n",
    "ed myfile.txt <<EOF\n",
    "a\n",
    "This is a new line appended.\n",
    "And here’s another one.\n",
    ".\n",
    "w\n",
    "q\n",
    "EOF\n"
   ]
  },
  {
   "cell_type": "markdown",
   "metadata": {},
   "source": [
    "```\n",
    "\n",
    "### 4.2 Inserting Text Before the Current Line (`i`)\n",
    "The `i` command allows you to insert text **before** the current line.\n"
   ]
  },
  {
   "cell_type": "code",
   "execution_count": 24,
   "metadata": {},
   "outputs": [
    {
     "name": "stdout",
     "output_type": "stream",
     "text": [
      "771\n",
      "811\n"
     ]
    }
   ],
   "source": [
    "%%bash\n",
    "ed myfile.txt <<EOF\n",
    "1i\n",
    "Inserting a line before the first line.\n",
    ".\n",
    "w\n",
    "q\n",
    "EOF\n"
   ]
  },
  {
   "cell_type": "markdown",
   "metadata": {},
   "source": [
    "```\n",
    "\n",
    "### 4.3 Changing a Line (`c`)\n",
    "The `c` command is used to replace the current line with new content.\n"
   ]
  },
  {
   "cell_type": "code",
   "execution_count": 25,
   "metadata": {},
   "outputs": [
    {
     "name": "stdout",
     "output_type": "stream",
     "text": [
      "811\n",
      "804\n"
     ]
    }
   ],
   "source": [
    "%%bash\n",
    "ed myfile.txt <<EOF\n",
    "2c\n",
    "This is the new second line.\n",
    ".\n",
    "w\n",
    "q\n",
    "EOF\n"
   ]
  },
  {
   "cell_type": "markdown",
   "metadata": {},
   "source": [
    "```\n",
    "\n",
    "### 4.4 Deleting Lines (`d`)\n",
    "The `d` command **deletes** the current line or a range of lines.\n"
   ]
  },
  {
   "cell_type": "code",
   "execution_count": 26,
   "metadata": {},
   "outputs": [
    {
     "name": "stdout",
     "output_type": "stream",
     "text": [
      "804\n",
      "759\n"
     ]
    }
   ],
   "source": [
    "%%bash\n",
    "ed myfile.txt <<EOF\n",
    "3d\n",
    "w\n",
    "q\n",
    "EOF\n"
   ]
  },
  {
   "cell_type": "code",
   "execution_count": 27,
   "metadata": {},
   "outputs": [
    {
     "name": "stdout",
     "output_type": "stream",
     "text": [
      "759\n",
      "670\n"
     ]
    }
   ],
   "source": [
    "%%bash\n",
    "ed myfile.txt <<EOF\n",
    "2,4d\n",
    "w\n",
    "q\n",
    "EOF\n",
    "\n",
    "\n",
    "#You can also delete a range of lines:\n",
    "\n"
   ]
  },
  {
   "cell_type": "code",
   "execution_count": 28,
   "metadata": {},
   "outputs": [
    {
     "name": "stdout",
     "output_type": "stream",
     "text": [
      "670\n",
      "Inserting a line before the first line.\n",
      "This line contains the word \"oldest\".\n",
      "This is the first line of the file.\n",
      "This is the second line with the word \"new\".\n",
      "This is the third line.\n",
      "This line has the number 123 in it.\n",
      "This line contains the word \"oldest\".\n",
      "This is the first line of the file.\n",
      "This is the second line with the word \"new\".\n",
      "This is the third line.\n",
      "This line has the number 123 in it.\n",
      "This line contains the word \"oldest\".\n",
      "This is the first line of the file.\n",
      "This is the second line with the word \"new\".\n",
      "This is the third line.\n",
      "This line has the number 123 in it.\n",
      "This line contains the word \"oldest\".\n",
      "This is a new line appended.\n",
      "And here’s another one.\n"
     ]
    }
   ],
   "source": [
    "%%bash\n",
    "ed myfile.txt <<EOF\n",
    ",p\n",
    "q\n",
    "EOF\n"
   ]
  },
  {
   "cell_type": "markdown",
   "metadata": {},
   "source": [
    "\n",
    "\n",
    "```\n",
    "\n",
    "---\n",
    "\n",
    "### 4.5 Joining Lines (`j`)\n",
    "You can join multiple lines into a single line with the `j` command.\n"
   ]
  },
  {
   "cell_type": "code",
   "execution_count": 31,
   "metadata": {},
   "outputs": [
    {
     "name": "stdout",
     "output_type": "stream",
     "text": [
      "669\n",
      "668\n"
     ]
    }
   ],
   "source": [
    "%%bash\n",
    "ed myfile.txt <<EOF\n",
    "1,2j\n",
    "w\n",
    "q\n",
    "EOF\n"
   ]
  },
  {
   "cell_type": "code",
   "execution_count": 32,
   "metadata": {},
   "outputs": [
    {
     "name": "stdout",
     "output_type": "stream",
     "text": [
      "668\n",
      "Inserting a line before the first line.This line contains the word \"oldest\".This is the first line of the file.\n",
      "This is the second line with the word \"new\".\n",
      "This is the third line.\n",
      "This line has the number 123 in it.\n",
      "This line contains the word \"oldest\".\n",
      "This is the first line of the file.\n",
      "This is the second line with the word \"new\".\n",
      "This is the third line.\n",
      "This line has the number 123 in it.\n",
      "This line contains the word \"oldest\".\n",
      "This is the first line of the file.\n",
      "This is the second line with the word \"new\".\n",
      "This is the third line.\n",
      "This line has the number 123 in it.\n",
      "This line contains the word \"oldest\".\n",
      "This is a new line appended.\n",
      "And here’s another one.\n"
     ]
    }
   ],
   "source": [
    "%%bash\n",
    "ed myfile.txt <<EOF\n",
    ",p\n",
    "q\n",
    "EOF"
   ]
  },
  {
   "cell_type": "markdown",
   "metadata": {},
   "source": [
    "```\n",
    "\n",
    "### 4.6 Moving Lines (`m`)\n",
    "The `m` command moves lines to a different position. For example, moving line 3 after line 5:\n"
   ]
  },
  {
   "cell_type": "code",
   "execution_count": 54,
   "metadata": {},
   "outputs": [
    {
     "name": "stdout",
     "output_type": "stream",
     "text": [
      "668\n",
      "668\n",
      "This is the second line with the word \"new\".\n",
      "Inserting a line before the first line.This line contains the word \"oldest\".This is the first line of the file.\n",
      "This is the third line.\n",
      "This line has the number 123 in it.\n",
      "This line contains the word \"oldest\".\n",
      "This is the first line of the file.\n",
      "This is the second line with the word \"new\".\n",
      "This is the third line.\n",
      "This line has the number 123 in it.\n",
      "This line contains the word \"oldest\".\n",
      "This is the first line of the file.\n",
      "This is the second line with the word \"new\".\n",
      "This is the third line.\n",
      "This line has the number 123 in it.\n",
      "This line contains the word \"oldest\".\n",
      "This is a new line appended.\n",
      "And here’s another one.\n",
      "Inserting a line before the first line.This line contains the word \"oldest\".This is the first line of the file.\n",
      "This is the second line with the word \"new\".\n",
      "This is the third line.\n",
      "This line has the number 123 in it.\n",
      "This line contains the word \"oldest\".\n",
      "This is the first line of the file.\n",
      "This is the second line with the word \"new\".\n",
      "This is the third line.\n",
      "This line has the number 123 in it.\n",
      "This line contains the word \"oldest\".\n",
      "This is the first line of the file.\n",
      "This is the second line with the word \"new\".\n",
      "This is the third line.\n",
      "This line has the number 123 in it.\n",
      "This line contains the word \"oldest\".\n",
      "This is a new line appended.\n",
      "And here’s another one.\n"
     ]
    }
   ],
   "source": [
    "%%bash\n",
    "ed myfile.txt <<EOF\n",
    "1m2\n",
    "w\n",
    ",p\n",
    "u\n",
    ",p\n",
    "EOF\n"
   ]
  },
  {
   "cell_type": "markdown",
   "metadata": {},
   "source": [
    "```\n",
    "\n",
    "---\n",
    "\n",
    "### 4.7 Undoing Changes (`u`)\n",
    "The `u` command allows you to **undo the last command** issued in `ed`.\n"
   ]
  },
  {
   "cell_type": "markdown",
   "metadata": {},
   "source": [
    "```\n",
    "\n",
    "---\n",
    "\n",
    "## 5. Searching, Substitution, and Regular Expressions\n",
    "\n",
    "### 5.1 Searching for Patterns\n",
    "We can search for any word or regular expression in the file.\n"
   ]
  },
  {
   "cell_type": "code",
   "execution_count": 70,
   "metadata": {},
   "outputs": [
    {
     "name": "stdout",
     "output_type": "stream",
     "text": [
      "668\n",
      "This is the second line with the word \"new\".\n"
     ]
    }
   ],
   "source": [
    "%%bash\n",
    "# Open the file with ed, search for the first occurrence of the word \"new\", then quit.\n",
    "ed myfile.txt <<EOF\n",
    "/new/\n",
    "q\n",
    "EOF"
   ]
  },
  {
   "cell_type": "markdown",
   "metadata": {},
   "source": [
    "```\n",
    "\n",
    "### 5.2 Substituting Text (`s/pattern/replacement/`)\n",
    "The `s` command allows you to substitute text in the current line. Let's replace \"appended\" with \"Appended\":\n"
   ]
  },
  {
   "cell_type": "code",
   "execution_count": 72,
   "metadata": {},
   "outputs": [
    {
     "name": "stdout",
     "output_type": "stream",
     "text": [
      "This is a new line appended.\n"
     ]
    }
   ],
   "source": [
    "%%bash\n",
    "grep \"appended\" myfile.txt\n",
    "\n",
    "# to find if word- 'apended' is present in file"
   ]
  },
  {
   "cell_type": "code",
   "execution_count": null,
   "metadata": {},
   "outputs": [],
   "source": [
    "%%bash\n",
    "# Use ed to substitute the word \"appended\" with \"Appended\"\n",
    "ed myfile.txt <<EOF\n",
    "s/appended/Appended/\n",
    "w\n",
    "q\n",
    "EOF\n",
    "# Display the content of the file to verify the change\n",
    "cat myfile.txt\n"
   ]
  },
  {
   "cell_type": "code",
   "execution_count": null,
   "metadata": {},
   "outputs": [],
   "source": [
    "%%bash\n",
    "ed myfile.txt <<EOF\n",
    "s/PREFIX/prefix/\n",
    "w\n",
    "q\n",
    "EOF\n",
    "#You can substitute text across multiple lines using the `%` symbol for the entire file:"
   ]
  },
  {
   "cell_type": "markdown",
   "metadata": {},
   "source": [
    "\n",
    "## 6. Working with the Buffer\n",
    "\n",
    "### 6.1 Saving Changes to the File (`w`)\n",
    "The `w` command writes the current buffer (file content) to the disk. This is how you save your work.\n"
   ]
  },
  {
   "cell_type": "code",
   "execution_count": 90,
   "metadata": {},
   "outputs": [
    {
     "name": "stdout",
     "output_type": "stream",
     "text": [
      "668\n",
      "668\n"
     ]
    }
   ],
   "source": [
    "%%bash\n",
    "ed myfile.txt <<EOF\n",
    "w\n",
    "q\n",
    "EOF\n"
   ]
  },
  {
   "cell_type": "markdown",
   "metadata": {},
   "source": [
    "```\n",
    "\n",
    "### 6.2 Reading Another File into the Buffer (`r`)\n",
    "You can read the content of another file into the current buffer.\n"
   ]
  },
  {
   "cell_type": "code",
   "execution_count": 92,
   "metadata": {},
   "outputs": [
    {
     "name": "stdout",
     "output_type": "stream",
     "text": [
      "668\n",
      "0\n",
      "668\n"
     ]
    }
   ],
   "source": [
    "%%bash\n",
    "touch anotherfile.txt\n",
    "ed myfile.txt <<EOF\n",
    "r anotherfile.txt\n",
    "w\n",
    "q\n",
    "EOF\n"
   ]
  },
  {
   "cell_type": "markdown",
   "metadata": {},
   "source": [
    "```\n",
    "\n",
    "---\n",
    "\n",
    "## 7. Undoing Changes and Error Recovery\n",
    "\n",
    "### 7.1 Undoing the Last Change (`u`)\n",
    "If you accidentally delete or change a line, you can undo the most recent change.\n"
   ]
  },
  {
   "cell_type": "code",
   "execution_count": null,
   "metadata": {},
   "outputs": [],
   "source": [
    "%%bash\n",
    "ed myfile.txt <<EOF\n",
    "u\n",
    "w\n",
    "q\n",
    "EOF\n"
   ]
  },
  {
   "cell_type": "markdown",
   "metadata": {},
   "source": [
    "```\n",
    "\n",
    "---\n",
    "\n",
    "## 8. Working with Multiple Files\n",
    "\n",
    "### 8.1 Editing a Different File (`e filename`)\n",
    "You can switch between different files in the same `ed` session by using the `e` command.\n"
   ]
  },
  {
   "cell_type": "code",
   "execution_count": 93,
   "metadata": {},
   "outputs": [
    {
     "name": "stdout",
     "output_type": "stream",
     "text": [
      "668\n",
      "0\n",
      "0\n"
     ]
    }
   ],
   "source": [
    "%%bash\n",
    "ed myfile.txt <<EOF\n",
    "e anotherfile.txt\n",
    "w\n",
    "q\n",
    "EOF\n"
   ]
  },
  {
   "cell_type": "markdown",
   "metadata": {},
   "source": [
    "```\n",
    "\n",
    "---\n",
    "\n",
    "## 9. Executing Shell Commands within `ed`\n",
    "\n",
    "### 9.1 Running Shell Commands (`!`)\n",
    "You can execute shell commands directly from `ed`. Let’s run the `date` command to see the current time.\n"
   ]
  },
  {
   "cell_type": "code",
   "execution_count": 3,
   "metadata": {},
   "outputs": [
    {
     "name": "stdout",
     "output_type": "stream",
     "text": [
      "709\n",
      "Sat Oct 26 20:02:32 IST 2024\n",
      "!\n"
     ]
    }
   ],
   "source": [
    "%%bash\n",
    "ed myfile.txt <<EOF\n",
    "!date\n",
    "q\n",
    "EOF\n"
   ]
  },
  {
   "cell_type": "markdown",
   "metadata": {},
   "source": [
    "```\n",
    "\n",
    "### 9.2 Reading Shell Command Output into the Buffer (`r !command`)\n",
    "You can insert the output of a shell command into the file using the `r !command` syntax. Here, we will insert the current date and time into our file:\n",
    "\n"
   ]
  },
  {
   "cell_type": "code",
   "execution_count": 97,
   "metadata": {},
   "outputs": [
    {
     "name": "stdout",
     "output_type": "stream",
     "text": [
      "668\n",
      "29\n",
      "697\n"
     ]
    }
   ],
   "source": [
    "%%bash\n",
    "ed myfile.txt <<EOF\n",
    "r !date\n",
    "w\n",
    "q\n",
    "EOF\n"
   ]
  },
  {
   "cell_type": "markdown",
   "metadata": {},
   "source": [
    "```\n",
    "\n",
    "---\n",
    "\n",
    "## 10. Advanced Examples and Workflow\n",
    "\n",
    "### 10.1 Example: Editing and Searching Workflow\n",
    "Here’s an example where we open a file, search for a specific pattern, change it, and save the file.\n"
   ]
  },
  {
   "cell_type": "code",
   "execution_count": 98,
   "metadata": {},
   "outputs": [
    {
     "name": "stdout",
     "output_type": "stream",
     "text": [
      "697\n",
      "This is the second line with the word \"new\".\n",
      "697\n"
     ]
    }
   ],
   "source": [
    "%%bash\n",
    "ed myfile.txt <<EOF\n",
    "/new/\n",
    "s/new/NEW/\n",
    "w\n",
    "q\n",
    "EOF\n"
   ]
  },
  {
   "cell_type": "markdown",
   "metadata": {},
   "source": [
    "```\n",
    "\n",
    "### 10.2 Example: Combining Multiple Commands\n",
    "In this example, we will append text, delete a line, substitute a word, and save everything:\n"
   ]
  },
  {
   "cell_type": "code",
   "execution_count": 99,
   "metadata": {},
   "outputs": [
    {
     "name": "stdout",
     "output_type": "stream",
     "text": [
      "697\n",
      "709\n"
     ]
    }
   ],
   "source": [
    "%%bash\n",
    "ed myfile.txt <<EOF\n",
    "a\n",
    "This line will be added to the end.\n",
    ".\n",
    "3d\n",
    "s/line/LINE/\n",
    "w\n",
    "q\n",
    "EOF\n"
   ]
  },
  {
   "cell_type": "markdown",
   "metadata": {},
   "source": [
    "```\n",
    "\n",
    "---\n",
    "\n",
    "## 11. Helpful Bash Commands\n"
   ]
  },
  {
   "cell_type": "code",
   "execution_count": null,
   "metadata": {},
   "outputs": [],
   "source": [
    "%%bash\n",
    "echo \"This file was created using echo command.\" > anotherfile.txt\n",
    "\n",
    "man ed\n",
    "\n",
    "#The `man` command is essential for viewing the manual pages of Unix commands. Here’s how to use it for `ed`."
   ]
  }
 ],
 "metadata": {
  "kernelspec": {
   "display_name": "Python 3",
   "language": "python",
   "name": "python3"
  },
  "language_info": {
   "codemirror_mode": {
    "name": "ipython",
    "version": 3
   },
   "file_extension": ".py",
   "mimetype": "text/x-python",
   "name": "python",
   "nbconvert_exporter": "python",
   "pygments_lexer": "ipython3",
   "version": "3.12.3"
  }
 },
 "nbformat": 4,
 "nbformat_minor": 2
}
