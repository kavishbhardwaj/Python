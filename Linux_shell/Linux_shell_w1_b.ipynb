{
 "cells": [
  {
   "cell_type": "markdown",
   "metadata": {},
   "source": [
    "# ls command\n"
   ]
  },
  {
   "cell_type": "code",
   "execution_count": 8,
   "metadata": {},
   "outputs": [
    {
     "name": "stderr",
     "output_type": "stream",
     "text": [
      "mkdir: cannot create directory ‘subdir1’: File exists\n",
      "mkdir: cannot create directory ‘subdir2’: File exists\n"
     ]
    },
    {
     "name": "stdout",
     "output_type": "stream",
     "text": [
      "\u001b[34;42mtest_dir\u001b[0m\n",
      "├── \u001b[01;32mfile1\u001b[0m\n",
      "├── \u001b[01;32mfile2\u001b[0m\n",
      "├── \u001b[01;32mfile3\u001b[0m\n",
      "├── \u001b[34;42mlevel1\u001b[0m\n",
      "├── \u001b[34;42msubdir1\u001b[0m\n",
      "└── \u001b[34;42msubdir2\u001b[0m\n",
      "\n",
      "4 directories, 3 files\n"
     ]
    }
   ],
   "source": [
    "%%bash\n",
    "\n",
    "# Create a test directory and navigate into it\n",
    "mkdir -p test_dir/level1\n",
    "cd test_dir\n",
    "\n",
    "# Create some files and subdirectories\n",
    "touch file1 file2 file3\n",
    "mkdir subdir1 subdir2\n",
    "cd ..\n",
    "tree test_dir\n"
   ]
  },
  {
   "cell_type": "code",
   "execution_count": 21,
   "metadata": {},
   "outputs": [
    {
     "name": "stdout",
     "output_type": "stream",
     "text": [
      "# Default listing of files and directories in the current directory\n",
      "rep1\n",
      "test_dir\n",
      "text_demo\n",
      "\n",
      "# List in long format (-l) showing permissions, owner, group, size, and timestamp\n",
      "total 8\n",
      "lrwxrwxrwx 1 kavis kavis   52 Oct  6 18:08 rep1 -> /mnt/c/Users/kavis/Upskilling/Github repository/Rep1\n",
      "drwxr-xr-x 5 kavis kavis 4096 Oct  9 02:44 test_dir\n",
      "drwxr-xr-x 2 kavis kavis 4096 Oct  8 10:28 text_demo\n",
      "\n",
      "# List with human-readable file sizes (-lh) to display sizes in KB, MB, etc.\n",
      "total 8.0K\n",
      "lrwxrwxrwx 1 kavis kavis   52 Oct  6 18:08 rep1 -> /mnt/c/Users/kavis/Upskilling/Github repository/Rep1\n",
      "drwxr-xr-x 5 kavis kavis 4.0K Oct  9 02:44 test_dir\n",
      "drwxr-xr-x 2 kavis kavis 4.0K Oct  8 10:28 text_demo\n"
     ]
    }
   ],
   "source": [
    "%%bash\n",
    "cd \n",
    "echo \"# Default listing of files and directories in the current directory\"\n",
    "ls \n",
    "echo \"\"\n",
    "echo \"# List in long format (-l) showing permissions, owner, group, size, and timestamp\"\n",
    "ls -l\n",
    "echo \"\"\n",
    "echo \"# List with human-readable file sizes (-lh) to display sizes in KB, MB, etc.\"\n",
    "ls -lh\n"
   ]
  },
  {
   "cell_type": "code",
   "execution_count": 22,
   "metadata": {},
   "outputs": [
    {
     "name": "stdout",
     "output_type": "stream",
     "text": [
      "Show hidden files as well (-a), includes files starting with '.'\n",
      ".\n",
      "..\n",
      ".hidden_directory\n",
      ".hidden_file.txt\n",
      "1500x500.jpeg\n",
      "Linux_shell_setup_windows.ipynb\n",
      "Linux_shell_w1_a.ipynb\n",
      "Linux_shell_w1_b.ipynb\n",
      "Linux_shell_w1_c.ipynb\n",
      "SC_Week0_Unit0.ipynb\n",
      "SC_Week0_Unit1.ipynb\n",
      "SC_Week0_Unit2.ipynb\n",
      "SC_Week0_Unit4.ipynb\n",
      "SC_Week0_Unit5.ipynb\n",
      "demo\n",
      "random_toss.py\n",
      "test_dir\n",
      " \n",
      "Long format with hidden files (-la), useful to see permissions of hidden files\n",
      "total 620\n",
      "drwxrwxrwx 1 kavis kavis   4096 Oct  9 02:59 .\n",
      "drwxrwxrwx 1 kavis kavis   4096 Oct  6 11:50 ..\n",
      "drwxrwxrwx 1 kavis kavis   4096 Oct  8 08:38 .hidden_directory\n",
      "-rwxrwxrwx 1 kavis kavis      0 Oct  8 08:38 .hidden_file.txt\n",
      "-rwxrwxrwx 1 kavis kavis 166075 Oct  6 15:30 1500x500.jpeg\n",
      "-rwxrwxrwx 1 kavis kavis  23480 Oct  6 14:32 Linux_shell_setup_windows.ipynb\n",
      "-rwxrwxrwx 1 kavis kavis 126332 Oct  8 19:22 Linux_shell_w1_a.ipynb\n",
      "-rwxrwxrwx 1 kavis kavis  44199 Oct  9 02:55 Linux_shell_w1_b.ipynb\n",
      "-rwxrwxrwx 1 kavis kavis    234 Oct  8 18:55 Linux_shell_w1_c.ipynb\n",
      "-rwxrwxrwx 1 kavis kavis   8173 Oct  6 19:54 SC_Week0_Unit0.ipynb\n",
      "-rwxrwxrwx 1 kavis kavis 230730 Oct  5 14:21 SC_Week0_Unit1.ipynb\n",
      "-rwxrwxrwx 1 kavis kavis  16186 Oct  5 14:58 SC_Week0_Unit2.ipynb\n",
      "-rwxrwxrwx 1 kavis kavis   3531 Oct  5 14:22 SC_Week0_Unit4.ipynb\n",
      "-rwxrwxrwx 1 kavis kavis   4159 Oct  5 14:21 SC_Week0_Unit5.ipynb\n",
      "drwxrwxrwx 1 kavis kavis   4096 Oct  8 19:06 demo\n",
      "-rwxrwxrwx 1 kavis kavis    199 Oct  6 19:47 random_toss.py\n",
      "drwxrwxrwx 1 kavis kavis   4096 Oct  9 02:59 test_dir\n"
     ]
    }
   ],
   "source": [
    "%%bash\n",
    "echo \"Show hidden files as well (-a), includes files starting with '.'\"\n",
    "ls -a\n",
    "echo \" \"\n",
    "\n",
    "echo \"Long format with hidden files (-la), useful to see permissions of hidden files\"\n",
    "ls -la\n"
   ]
  },
  {
   "cell_type": "code",
   "execution_count": 11,
   "metadata": {},
   "outputs": [
    {
     "name": "stdout",
     "output_type": "stream",
     "text": [
      "List in long format with hidden files and include inode number (-lia)\n",
      "total 620\n",
      " 1970324837338733 drwxrwxrwx 1 kavis kavis   4096 Oct  9 02:59 .\n",
      " 1688849860627019 drwxrwxrwx 1 kavis kavis   4096 Oct  6 11:50 ..\n",
      "18014398509607323 drwxrwxrwx 1 kavis kavis   4096 Oct  8 08:38 .hidden_directory\n",
      "23643898043815456 -rwxrwxrwx 1 kavis kavis      0 Oct  8 08:38 .hidden_file.txt\n",
      "22236523160207455 -rwxrwxrwx 1 kavis kavis 166075 Oct  6 15:30 1500x500.jpeg\n",
      " 1688849860628098 -rwxrwxrwx 1 kavis kavis  23480 Oct  6 14:32 Linux_shell_setup_windows.ipynb\n",
      "38562071809434349 -rwxrwxrwx 1 kavis kavis 126332 Oct  8 19:22 Linux_shell_w1_a.ipynb\n",
      " 5910974511104067 -rwxrwxrwx 1 kavis kavis  44199 Oct  9 02:55 Linux_shell_w1_b.ipynb\n",
      " 9007199254921272 -rwxrwxrwx 1 kavis kavis    234 Oct  8 18:55 Linux_shell_w1_c.ipynb\n",
      " 1970324837338746 -rwxrwxrwx 1 kavis kavis   8173 Oct  6 19:54 SC_Week0_Unit0.ipynb\n",
      " 1688849860628082 -rwxrwxrwx 1 kavis kavis 230730 Oct  5 14:21 SC_Week0_Unit1.ipynb\n",
      " 1688849860628085 -rwxrwxrwx 1 kavis kavis  16186 Oct  5 14:58 SC_Week0_Unit2.ipynb\n",
      " 1688849860628079 -rwxrwxrwx 1 kavis kavis   3531 Oct  5 14:22 SC_Week0_Unit4.ipynb\n",
      " 1688849860628086 -rwxrwxrwx 1 kavis kavis   4159 Oct  5 14:21 SC_Week0_Unit5.ipynb\n",
      "23925373020449842 drwxrwxrwx 1 kavis kavis   4096 Oct  8 19:06 demo\n",
      "21673573206783692 -rwxrwxrwx 1 kavis kavis    199 Oct  6 19:47 random_toss.py\n",
      "10696049115641040 drwxrwxrwx 1 kavis kavis   4096 Oct  9 02:59 test_dir\n",
      " \n",
      "Show the inode numbers (-i) of files and directories in the current directory\n",
      "22236523160207455 1500x500.jpeg\n",
      " 1688849860628098 Linux_shell_setup_windows.ipynb\n",
      "38562071809434349 Linux_shell_w1_a.ipynb\n",
      " 5910974511104067 Linux_shell_w1_b.ipynb\n",
      " 9007199254921272 Linux_shell_w1_c.ipynb\n",
      " 1970324837338746 SC_Week0_Unit0.ipynb\n",
      " 1688849860628082 SC_Week0_Unit1.ipynb\n",
      " 1688849860628085 SC_Week0_Unit2.ipynb\n",
      " 1688849860628079 SC_Week0_Unit4.ipynb\n",
      " 1688849860628086 SC_Week0_Unit5.ipynb\n",
      "23925373020449842 demo\n",
      "21673573206783692 random_toss.py\n",
      "10696049115641040 test_dir\n"
     ]
    }
   ],
   "source": [
    "\n",
    "%%bash\n",
    "echo \"List in long format with hidden files and include inode number (-lia)\"\n",
    "ls -lia\n"
   ]
  },
  {
   "cell_type": "code",
   "execution_count": 23,
   "metadata": {},
   "outputs": [
    {
     "name": "stdout",
     "output_type": "stream",
     "text": [
      " \n",
      "Show the inode numbers (-i) of files and directories in the current directory\n",
      "22236523160207455 1500x500.jpeg\n",
      " 1688849860628098 Linux_shell_setup_windows.ipynb\n",
      "38562071809434349 Linux_shell_w1_a.ipynb\n",
      " 5910974511104067 Linux_shell_w1_b.ipynb\n",
      " 9007199254921272 Linux_shell_w1_c.ipynb\n",
      " 1970324837338746 SC_Week0_Unit0.ipynb\n",
      " 1688849860628082 SC_Week0_Unit1.ipynb\n",
      " 1688849860628085 SC_Week0_Unit2.ipynb\n",
      " 1688849860628079 SC_Week0_Unit4.ipynb\n",
      " 1688849860628086 SC_Week0_Unit5.ipynb\n",
      "23925373020449842 demo\n",
      "21673573206783692 random_toss.py\n",
      "10696049115641040 test_dir\n"
     ]
    }
   ],
   "source": [
    "%%bash\n",
    "echo \" \"\n",
    "echo \"Show the inode numbers (-i) of files and directories in the current directory\"\n",
    "ls -i\n"
   ]
  },
  {
   "cell_type": "code",
   "execution_count": 12,
   "metadata": {},
   "outputs": [
    {
     "name": "stdout",
     "output_type": "stream",
     "text": [
      "List in long format of only directories, showing details of directories themselves (-ld)\n",
      "drwxrwxrwx 1 kavis kavis 4096 Oct  8 19:06 demo/\n",
      "drwxrwxrwx 1 kavis kavis 4096 Oct  9 02:59 test_dir/\n",
      " \n",
      "Show inode numbers along with hidden files in a directory listing (-ia)\n",
      " 1970324837338733 .\n",
      " 1688849860627019 ..\n",
      "18014398509607323 .hidden_directory\n",
      "23643898043815456 .hidden_file.txt\n",
      "22236523160207455 1500x500.jpeg\n",
      " 1688849860628098 Linux_shell_setup_windows.ipynb\n",
      "38562071809434349 Linux_shell_w1_a.ipynb\n",
      " 5910974511104067 Linux_shell_w1_b.ipynb\n",
      " 9007199254921272 Linux_shell_w1_c.ipynb\n",
      " 1970324837338746 SC_Week0_Unit0.ipynb\n",
      " 1688849860628082 SC_Week0_Unit1.ipynb\n",
      " 1688849860628085 SC_Week0_Unit2.ipynb\n",
      " 1688849860628079 SC_Week0_Unit4.ipynb\n",
      " 1688849860628086 SC_Week0_Unit5.ipynb\n",
      "23925373020449842 demo\n",
      "21673573206783692 random_toss.py\n",
      "10696049115641040 test_dir\n"
     ]
    }
   ],
   "source": [
    "%%bash\n",
    "echo \"List in long format of only directories, showing details of directories themselves (-ld)\"\n",
    "ls -ld */\n",
    "echo \" \"\n",
    "\n",
    "echo \"Show inode numbers along with hidden files in a directory listing (-ia)\"\n",
    "ls -ia"
   ]
  },
  {
   "cell_type": "code",
   "execution_count": 13,
   "metadata": {},
   "outputs": [
    {
     "name": "stdout",
     "output_type": "stream",
     "text": [
      "Show file sizes in blocks (-s)\n",
      "total 620\n",
      "164 1500x500.jpeg\n",
      " 24 Linux_shell_setup_windows.ipynb\n",
      "124 Linux_shell_w1_a.ipynb\n",
      " 44 Linux_shell_w1_b.ipynb\n",
      "  0 Linux_shell_w1_c.ipynb\n",
      "  8 SC_Week0_Unit0.ipynb\n",
      "228 SC_Week0_Unit1.ipynb\n",
      " 16 SC_Week0_Unit2.ipynb\n",
      "  4 SC_Week0_Unit4.ipynb\n",
      "  8 SC_Week0_Unit5.ipynb\n",
      "  0 demo\n",
      "  0 random_toss.py\n",
      "  0 test_dir\n",
      " \n"
     ]
    }
   ],
   "source": [
    "%%bash\n",
    "echo \"Show file sizes in blocks (-s)\"\n",
    "ls -s\n",
    "echo \" \"\n"
   ]
  },
  {
   "cell_type": "code",
   "execution_count": 14,
   "metadata": {},
   "outputs": [
    {
     "name": "stdout",
     "output_type": "stream",
     "text": [
      "Recursive listing, show contents of all directories and subdirectories (-R)\n",
      ".:\n",
      "1500x500.jpeg\n",
      "Linux_shell_setup_windows.ipynb\n",
      "Linux_shell_w1_a.ipynb\n",
      "Linux_shell_w1_b.ipynb\n",
      "Linux_shell_w1_c.ipynb\n",
      "SC_Week0_Unit0.ipynb\n",
      "SC_Week0_Unit1.ipynb\n",
      "SC_Week0_Unit2.ipynb\n",
      "SC_Week0_Unit4.ipynb\n",
      "SC_Week0_Unit5.ipynb\n",
      "demo\n",
      "random_toss.py\n",
      "test_dir\n",
      "\n",
      "./demo:\n",
      "leve1\n",
      "\n",
      "./demo/leve1:\n",
      "level2\n",
      "\n",
      "./demo/leve1/level2:\n",
      "\n",
      "./test_dir:\n",
      "file1\n",
      "file2\n",
      "file3\n",
      "level1\n",
      "subdir1\n",
      "subdir2\n",
      "\n",
      "./test_dir/level1:\n",
      "\n",
      "./test_dir/subdir1:\n",
      "\n",
      "./test_dir/subdir2:\n"
     ]
    }
   ],
   "source": [
    "%%bash\n",
    "echo \"Recursive listing, show contents of all directories and subdirectories (-R)\"\n",
    "ls -R\n"
   ]
  },
  {
   "cell_type": "code",
   "execution_count": 15,
   "metadata": {},
   "outputs": [
    {
     "name": "stdout",
     "output_type": "stream",
     "text": [
      "Recursive listing in long format (-lR)\n",
      ".:\n",
      "total 620\n",
      "-rwxrwxrwx 1 kavis kavis 166075 Oct  6 15:30 1500x500.jpeg\n",
      "-rwxrwxrwx 1 kavis kavis  23480 Oct  6 14:32 Linux_shell_setup_windows.ipynb\n",
      "-rwxrwxrwx 1 kavis kavis 126332 Oct  8 19:22 Linux_shell_w1_a.ipynb\n",
      "-rwxrwxrwx 1 kavis kavis  44199 Oct  9 02:55 Linux_shell_w1_b.ipynb\n",
      "-rwxrwxrwx 1 kavis kavis    234 Oct  8 18:55 Linux_shell_w1_c.ipynb\n",
      "-rwxrwxrwx 1 kavis kavis   8173 Oct  6 19:54 SC_Week0_Unit0.ipynb\n",
      "-rwxrwxrwx 1 kavis kavis 230730 Oct  5 14:21 SC_Week0_Unit1.ipynb\n",
      "-rwxrwxrwx 1 kavis kavis  16186 Oct  5 14:58 SC_Week0_Unit2.ipynb\n",
      "-rwxrwxrwx 1 kavis kavis   3531 Oct  5 14:22 SC_Week0_Unit4.ipynb\n",
      "-rwxrwxrwx 1 kavis kavis   4159 Oct  5 14:21 SC_Week0_Unit5.ipynb\n",
      "drwxrwxrwx 1 kavis kavis   4096 Oct  8 19:06 demo\n",
      "-rwxrwxrwx 1 kavis kavis    199 Oct  6 19:47 random_toss.py\n",
      "drwxrwxrwx 1 kavis kavis   4096 Oct  9 02:59 test_dir\n",
      "\n",
      "./demo:\n",
      "total 0\n",
      "drwxrwxrwx 1 kavis kavis 4096 Oct  8 19:06 leve1\n",
      "\n",
      "./demo/leve1:\n",
      "total 0\n",
      "drwxrwxrwx 1 kavis kavis 4096 Oct  8 19:06 level2\n",
      "\n",
      "./demo/leve1/level2:\n",
      "total 0\n",
      "\n",
      "./test_dir:\n",
      "total 0\n",
      "-rwxrwxrwx 1 kavis kavis    0 Oct  9 02:59 file1\n",
      "-rwxrwxrwx 1 kavis kavis    0 Oct  9 02:59 file2\n",
      "-rwxrwxrwx 1 kavis kavis    0 Oct  9 02:59 file3\n",
      "drwxrwxrwx 1 kavis kavis 4096 Oct  9 02:59 level1\n",
      "drwxrwxrwx 1 kavis kavis 4096 Oct  9 02:59 subdir1\n",
      "drwxrwxrwx 1 kavis kavis 4096 Oct  9 02:59 subdir2\n",
      "\n",
      "./test_dir/level1:\n",
      "total 0\n",
      "\n",
      "./test_dir/subdir1:\n",
      "total 0\n",
      "\n",
      "./test_dir/subdir2:\n",
      "total 0\n"
     ]
    }
   ],
   "source": [
    "\n",
    "%%bash\n",
    "echo \"Recursive listing in long format (-lR)\"\n",
    "ls -lR\n"
   ]
  },
  {
   "cell_type": "code",
   "execution_count": 16,
   "metadata": {},
   "outputs": [
    {
     "name": "stdout",
     "output_type": "stream",
     "text": [
      "total 620\n",
      "-rwxrwxrwx 1 kavis kavis 230730 Oct  5 14:21 SC_Week0_Unit1.ipynb\n",
      "-rwxrwxrwx 1 kavis kavis 166075 Oct  6 15:30 1500x500.jpeg\n",
      "-rwxrwxrwx 1 kavis kavis 126332 Oct  8 19:22 Linux_shell_w1_a.ipynb\n",
      "-rwxrwxrwx 1 kavis kavis  44199 Oct  9 02:55 Linux_shell_w1_b.ipynb\n",
      "-rwxrwxrwx 1 kavis kavis  23480 Oct  6 14:32 Linux_shell_setup_windows.ipynb\n",
      "-rwxrwxrwx 1 kavis kavis  16186 Oct  5 14:58 SC_Week0_Unit2.ipynb\n",
      "-rwxrwxrwx 1 kavis kavis   8173 Oct  6 19:54 SC_Week0_Unit0.ipynb\n",
      "-rwxrwxrwx 1 kavis kavis   4159 Oct  5 14:21 SC_Week0_Unit5.ipynb\n",
      "drwxrwxrwx 1 kavis kavis   4096 Oct  8 19:06 demo\n",
      "drwxrwxrwx 1 kavis kavis   4096 Oct  9 02:59 test_dir\n",
      "-rwxrwxrwx 1 kavis kavis   3531 Oct  5 14:22 SC_Week0_Unit4.ipynb\n",
      "-rwxrwxrwx 1 kavis kavis    234 Oct  8 18:55 Linux_shell_w1_c.ipynb\n",
      "-rwxrwxrwx 1 kavis kavis    199 Oct  6 19:47 random_toss.py\n",
      "total 620\n",
      "drwxrwxrwx 1 kavis kavis   4096 Oct  9 02:59 test_dir\n",
      "-rwxrwxrwx 1 kavis kavis  44199 Oct  9 02:55 Linux_shell_w1_b.ipynb\n",
      "-rwxrwxrwx 1 kavis kavis 126332 Oct  8 19:22 Linux_shell_w1_a.ipynb\n",
      "drwxrwxrwx 1 kavis kavis   4096 Oct  8 19:06 demo\n",
      "-rwxrwxrwx 1 kavis kavis    234 Oct  8 18:55 Linux_shell_w1_c.ipynb\n",
      "-rwxrwxrwx 1 kavis kavis   8173 Oct  6 19:54 SC_Week0_Unit0.ipynb\n",
      "-rwxrwxrwx 1 kavis kavis    199 Oct  6 19:47 random_toss.py\n",
      "-rwxrwxrwx 1 kavis kavis 166075 Oct  6 15:30 1500x500.jpeg\n",
      "-rwxrwxrwx 1 kavis kavis  23480 Oct  6 14:32 Linux_shell_setup_windows.ipynb\n",
      "-rwxrwxrwx 1 kavis kavis  16186 Oct  5 14:58 SC_Week0_Unit2.ipynb\n",
      "-rwxrwxrwx 1 kavis kavis   3531 Oct  5 14:22 SC_Week0_Unit4.ipynb\n",
      "-rwxrwxrwx 1 kavis kavis   4159 Oct  5 14:21 SC_Week0_Unit5.ipynb\n",
      "-rwxrwxrwx 1 kavis kavis 230730 Oct  5 14:21 SC_Week0_Unit1.ipynb\n",
      "total 620\n",
      "-rwxrwxrwx 1 kavis kavis 230730 Oct  5 14:21 SC_Week0_Unit1.ipynb\n",
      "-rwxrwxrwx 1 kavis kavis   4159 Oct  5 14:21 SC_Week0_Unit5.ipynb\n",
      "-rwxrwxrwx 1 kavis kavis   3531 Oct  5 14:22 SC_Week0_Unit4.ipynb\n",
      "-rwxrwxrwx 1 kavis kavis  16186 Oct  5 14:58 SC_Week0_Unit2.ipynb\n",
      "-rwxrwxrwx 1 kavis kavis  23480 Oct  6 14:32 Linux_shell_setup_windows.ipynb\n",
      "-rwxrwxrwx 1 kavis kavis 166075 Oct  6 15:30 1500x500.jpeg\n",
      "-rwxrwxrwx 1 kavis kavis    199 Oct  6 19:47 random_toss.py\n",
      "-rwxrwxrwx 1 kavis kavis   8173 Oct  6 19:54 SC_Week0_Unit0.ipynb\n",
      "-rwxrwxrwx 1 kavis kavis    234 Oct  8 18:55 Linux_shell_w1_c.ipynb\n",
      "drwxrwxrwx 1 kavis kavis   4096 Oct  8 19:06 demo\n",
      "-rwxrwxrwx 1 kavis kavis 126332 Oct  8 19:22 Linux_shell_w1_a.ipynb\n",
      "-rwxrwxrwx 1 kavis kavis  44199 Oct  9 02:55 Linux_shell_w1_b.ipynb\n",
      "drwxrwxrwx 1 kavis kavis   4096 Oct  9 02:59 test_dir\n"
     ]
    }
   ],
   "source": [
    "%%bash\n",
    "# Show files sorted by size (-lS) to get largest files first\n",
    "ls -lS\n",
    "\n",
    "# List files sorted by modification time, newest first (-lt)\n",
    "ls -lt\n",
    "\n",
    "# List files in reverse order by modification time (-ltr)\n",
    "ls -ltr\n"
   ]
  },
  {
   "cell_type": "code",
   "execution_count": 17,
   "metadata": {},
   "outputs": [
    {
     "name": "stdout",
     "output_type": "stream",
     "text": [
      "total 620\n",
      "22236523160207455 -rwxrwxrwx 1 kavis kavis 166075 Oct  6 15:30 1500x500.jpeg\n",
      " 1688849860628098 -rwxrwxrwx 1 kavis kavis  23480 Oct  6 14:32 Linux_shell_setup_windows.ipynb\n",
      "38562071809434349 -rwxrwxrwx 1 kavis kavis 126332 Oct  8 19:22 Linux_shell_w1_a.ipynb\n",
      " 5910974511104067 -rwxrwxrwx 1 kavis kavis  44199 Oct  9 02:55 Linux_shell_w1_b.ipynb\n",
      " 9007199254921272 -rwxrwxrwx 1 kavis kavis    234 Oct  8 18:55 Linux_shell_w1_c.ipynb\n",
      " 1970324837338746 -rwxrwxrwx 1 kavis kavis   8173 Oct  6 19:54 SC_Week0_Unit0.ipynb\n",
      " 1688849860628082 -rwxrwxrwx 1 kavis kavis 230730 Oct  5 14:21 SC_Week0_Unit1.ipynb\n",
      " 1688849860628085 -rwxrwxrwx 1 kavis kavis  16186 Oct  5 14:58 SC_Week0_Unit2.ipynb\n",
      " 1688849860628079 -rwxrwxrwx 1 kavis kavis   3531 Oct  5 14:22 SC_Week0_Unit4.ipynb\n",
      " 1688849860628086 -rwxrwxrwx 1 kavis kavis   4159 Oct  5 14:21 SC_Week0_Unit5.ipynb\n",
      "23925373020449842 drwxrwxrwx 1 kavis kavis   4096 Oct  8 19:06 demo\n",
      "21673573206783692 -rwxrwxrwx 1 kavis kavis    199 Oct  6 19:47 random_toss.py\n",
      "10696049115641040 drwxrwxrwx 1 kavis kavis   4096 Oct  9 02:59 test_dir\n",
      "total 620\n",
      " 1970324837338733 drwxrwxrwx 1 kavis kavis   4096 Oct  9 02:59 .\n",
      " 1688849860627019 drwxrwxrwx 1 kavis kavis   4096 Oct  6 11:50 ..\n",
      "18014398509607323 drwxrwxrwx 1 kavis kavis   4096 Oct  8 08:38 .hidden_directory\n",
      "23643898043815456 -rwxrwxrwx 1 kavis kavis      0 Oct  8 08:38 .hidden_file.txt\n",
      "22236523160207455 -rwxrwxrwx 1 kavis kavis 166075 Oct  6 15:30 1500x500.jpeg\n",
      " 1688849860628098 -rwxrwxrwx 1 kavis kavis  23480 Oct  6 14:32 Linux_shell_setup_windows.ipynb\n",
      "38562071809434349 -rwxrwxrwx 1 kavis kavis 126332 Oct  8 19:22 Linux_shell_w1_a.ipynb\n",
      " 5910974511104067 -rwxrwxrwx 1 kavis kavis  44199 Oct  9 02:55 Linux_shell_w1_b.ipynb\n",
      " 9007199254921272 -rwxrwxrwx 1 kavis kavis    234 Oct  8 18:55 Linux_shell_w1_c.ipynb\n",
      " 1970324837338746 -rwxrwxrwx 1 kavis kavis   8173 Oct  6 19:54 SC_Week0_Unit0.ipynb\n",
      " 1688849860628082 -rwxrwxrwx 1 kavis kavis 230730 Oct  5 14:21 SC_Week0_Unit1.ipynb\n",
      " 1688849860628085 -rwxrwxrwx 1 kavis kavis  16186 Oct  5 14:58 SC_Week0_Unit2.ipynb\n",
      " 1688849860628079 -rwxrwxrwx 1 kavis kavis   3531 Oct  5 14:22 SC_Week0_Unit4.ipynb\n",
      " 1688849860628086 -rwxrwxrwx 1 kavis kavis   4159 Oct  5 14:21 SC_Week0_Unit5.ipynb\n",
      "23925373020449842 drwxrwxrwx 1 kavis kavis   4096 Oct  8 19:06 demo\n",
      "21673573206783692 -rwxrwxrwx 1 kavis kavis    199 Oct  6 19:47 random_toss.py\n",
      "10696049115641040 drwxrwxrwx 1 kavis kavis   4096 Oct  9 02:59 test_dir\n"
     ]
    }
   ],
   "source": [
    "%%bash\n",
    "# Combine -i and -l to show inode numbers along with detailed view (-il)\n",
    "ls -il\n",
    "\n",
    "# Combine -i, -a, and -l to show inode numbers, hidden files, and detailed view (-ial)\n",
    "ls -ial\n"
   ]
  },
  {
   "cell_type": "code",
   "execution_count": 18,
   "metadata": {},
   "outputs": [],
   "source": [
    "%%bash\n",
    "# Using a directory as an argument, list contents of \"level1\" directory\n",
    "cd test_dir/level1\n"
   ]
  },
  {
   "cell_type": "code",
   "execution_count": 25,
   "metadata": {},
   "outputs": [
    {
     "name": "stdout",
     "output_type": "stream",
     "text": [
      "/mnt/c/Users/kavis/Upskilling/Github repository/Rep1/Linux_shell/test_dir/level1\n"
     ]
    },
    {
     "name": "stdout",
     "output_type": "stream",
     "text": [
      "total 0\n"
     ]
    }
   ],
   "source": [
    "%%bash\n",
    "\n",
    "# Navigate into the \"level1\" directory and list contents\n",
    "cd test_dir/level1\n",
    "pwd\n",
    "ls -l"
   ]
  },
  {
   "cell_type": "code",
   "execution_count": 27,
   "metadata": {},
   "outputs": [
    {
     "name": "stdout",
     "output_type": "stream",
     "text": [
      ".:\n",
      "total 620\n",
      "-rwxrwxrwx 1 kavis kavis 166075 Oct  6 15:30 1500x500.jpeg\n",
      "-rwxrwxrwx 1 kavis kavis  23480 Oct  6 14:32 Linux_shell_setup_windows.ipynb\n",
      "-rwxrwxrwx 1 kavis kavis 126332 Oct  8 19:22 Linux_shell_w1_a.ipynb\n",
      "-rwxrwxrwx 1 kavis kavis  44199 Oct  9 02:55 Linux_shell_w1_b.ipynb\n",
      "-rwxrwxrwx 1 kavis kavis    234 Oct  8 18:55 Linux_shell_w1_c.ipynb\n",
      "-rwxrwxrwx 1 kavis kavis   8173 Oct  6 19:54 SC_Week0_Unit0.ipynb\n",
      "-rwxrwxrwx 1 kavis kavis 230730 Oct  5 14:21 SC_Week0_Unit1.ipynb\n",
      "-rwxrwxrwx 1 kavis kavis  16186 Oct  5 14:58 SC_Week0_Unit2.ipynb\n",
      "-rwxrwxrwx 1 kavis kavis   3531 Oct  5 14:22 SC_Week0_Unit4.ipynb\n",
      "-rwxrwxrwx 1 kavis kavis   4159 Oct  5 14:21 SC_Week0_Unit5.ipynb\n",
      "drwxrwxrwx 1 kavis kavis   4096 Oct  8 19:06 demo\n",
      "-rwxrwxrwx 1 kavis kavis    199 Oct  6 19:47 random_toss.py\n",
      "drwxrwxrwx 1 kavis kavis   4096 Oct  9 02:59 test_dir\n",
      "\n",
      "./demo:\n",
      "total 0\n",
      "drwxrwxrwx 1 kavis kavis 4096 Oct  8 19:06 leve1\n",
      "\n",
      "./demo/leve1:\n",
      "total 0\n",
      "drwxrwxrwx 1 kavis kavis 4096 Oct  8 19:06 level2\n",
      "\n",
      "./demo/leve1/level2:\n",
      "total 0\n",
      "\n",
      "./test_dir:\n",
      "total 0\n",
      "-rwxrwxrwx 1 kavis kavis    0 Oct  9 02:59 file1\n",
      "-rwxrwxrwx 1 kavis kavis    0 Oct  9 02:59 file2\n",
      "-rwxrwxrwx 1 kavis kavis    0 Oct  9 02:59 file3\n",
      "drwxrwxrwx 1 kavis kavis 4096 Oct  9 02:59 level1\n",
      "drwxrwxrwx 1 kavis kavis 4096 Oct  9 02:59 subdir1\n",
      "drwxrwxrwx 1 kavis kavis 4096 Oct  9 02:59 subdir2\n",
      "\n",
      "./test_dir/level1:\n",
      "total 0\n",
      "\n",
      "./test_dir/subdir1:\n",
      "total 0\n",
      "\n",
      "./test_dir/subdir2:\n",
      "total 0\n"
     ]
    }
   ],
   "source": [
    "%%bash\n",
    "# Go back to parent directory and list contents recursively with details (-lR)\n",
    "ls -lR\n"
   ]
  },
  {
   "cell_type": "code",
   "execution_count": 28,
   "metadata": {},
   "outputs": [
    {
     "name": "stdout",
     "output_type": "stream",
     "text": [
      "drwxrwxrwx 1 kavis kavis 4096 Oct  9 02:59 test_dir/\n",
      "22236523160207455 1500x500.jpeg\n",
      " 1688849860628098 Linux_shell_setup_windows.ipynb\n",
      "38562071809434349 Linux_shell_w1_a.ipynb\n",
      " 5910974511104067 Linux_shell_w1_b.ipynb\n",
      " 9007199254921272 Linux_shell_w1_c.ipynb\n",
      " 1970324837338746 SC_Week0_Unit0.ipynb\n",
      " 1688849860628082 SC_Week0_Unit1.ipynb\n",
      " 1688849860628085 SC_Week0_Unit2.ipynb\n",
      " 1688849860628079 SC_Week0_Unit4.ipynb\n",
      " 1688849860628086 SC_Week0_Unit5.ipynb\n",
      "23925373020449842 demo\n",
      "21673573206783692 random_toss.py\n",
      "10696049115641040 test_dir\n",
      "total 620K\n",
      "-rwxrwxrwx 1 kavis kavis 226K Oct  5 14:21 SC_Week0_Unit1.ipynb\n",
      "-rwxrwxrwx 1 kavis kavis 163K Oct  6 15:30 1500x500.jpeg\n",
      "-rwxrwxrwx 1 kavis kavis 124K Oct  8 19:22 Linux_shell_w1_a.ipynb\n",
      "-rwxrwxrwx 1 kavis kavis  44K Oct  9 02:55 Linux_shell_w1_b.ipynb\n",
      "-rwxrwxrwx 1 kavis kavis  23K Oct  6 14:32 Linux_shell_setup_windows.ipynb\n",
      "-rwxrwxrwx 1 kavis kavis  16K Oct  5 14:58 SC_Week0_Unit2.ipynb\n",
      "-rwxrwxrwx 1 kavis kavis 8.0K Oct  6 19:54 SC_Week0_Unit0.ipynb\n",
      "-rwxrwxrwx 1 kavis kavis 4.1K Oct  5 14:21 SC_Week0_Unit5.ipynb\n",
      "drwxrwxrwx 1 kavis kavis 4.0K Oct  8 19:06 demo\n",
      "drwxrwxrwx 1 kavis kavis 4.0K Oct  9 02:59 test_dir\n",
      "-rwxrwxrwx 1 kavis kavis 3.5K Oct  5 14:22 SC_Week0_Unit4.ipynb\n",
      "-rwxrwxrwx 1 kavis kavis  234 Oct  8 18:55 Linux_shell_w1_c.ipynb\n",
      "-rwxrwxrwx 1 kavis kavis  199 Oct  6 19:47 random_toss.py\n"
     ]
    }
   ],
   "source": [
    "%%bash\n",
    "# Use -d to show information only about the directory itself, not its contents\n",
    "ls -ld test_dir/\n"
   ]
  },
  {
   "cell_type": "code",
   "execution_count": 30,
   "metadata": {},
   "outputs": [
    {
     "name": "stdout",
     "output_type": "stream",
     "text": [
      "22236523160207455 1500x500.jpeg\n",
      " 1688849860628098 Linux_shell_setup_windows.ipynb\n",
      "38562071809434349 Linux_shell_w1_a.ipynb\n",
      " 5910974511104067 Linux_shell_w1_b.ipynb\n",
      " 9007199254921272 Linux_shell_w1_c.ipynb\n",
      " 1970324837338746 SC_Week0_Unit0.ipynb\n",
      " 1688849860628082 SC_Week0_Unit1.ipynb\n",
      " 1688849860628085 SC_Week0_Unit2.ipynb\n",
      " 1688849860628079 SC_Week0_Unit4.ipynb\n",
      " 1688849860628086 SC_Week0_Unit5.ipynb\n"
     ]
    },
    {
     "name": "stdout",
     "output_type": "stream",
     "text": [
      "23925373020449842 demo\n",
      "21673573206783692 random_toss.py\n",
      "10696049115641040 test_dir\n",
      " \n",
      "total 620K\n",
      "-rwxrwxrwx 1 kavis kavis 226K Oct  5 14:21 SC_Week0_Unit1.ipynb\n",
      "-rwxrwxrwx 1 kavis kavis 163K Oct  6 15:30 1500x500.jpeg\n",
      "-rwxrwxrwx 1 kavis kavis 124K Oct  8 19:22 Linux_shell_w1_a.ipynb\n",
      "-rwxrwxrwx 1 kavis kavis  44K Oct  9 02:55 Linux_shell_w1_b.ipynb\n",
      "-rwxrwxrwx 1 kavis kavis  23K Oct  6 14:32 Linux_shell_setup_windows.ipynb\n",
      "-rwxrwxrwx 1 kavis kavis  16K Oct  5 14:58 SC_Week0_Unit2.ipynb\n",
      "-rwxrwxrwx 1 kavis kavis 8.0K Oct  6 19:54 SC_Week0_Unit0.ipynb\n",
      "-rwxrwxrwx 1 kavis kavis 4.1K Oct  5 14:21 SC_Week0_Unit5.ipynb\n",
      "drwxrwxrwx 1 kavis kavis 4.0K Oct  8 19:06 demo\n",
      "drwxrwxrwx 1 kavis kavis 4.0K Oct  9 02:59 test_dir\n",
      "-rwxrwxrwx 1 kavis kavis 3.5K Oct  5 14:22 SC_Week0_Unit4.ipynb\n",
      "-rwxrwxrwx 1 kavis kavis  234 Oct  8 18:55 Linux_shell_w1_c.ipynb\n",
      "-rwxrwxrwx 1 kavis kavis  199 Oct  6 19:47 random_toss.py\n"
     ]
    }
   ],
   "source": [
    "%%bash\n",
    "# List all files including hidden ones and inodes, but just at the top-level directory (-iAd)\n",
    "ls -iAd *\n",
    "\n",
    "echo \" \"\n",
    "# List files with detailed view and human-readable sizes, sort by size (-lhS)\n",
    "ls -lhS\n"
   ]
  },
  {
   "cell_type": "code",
   "execution_count": 32,
   "metadata": {},
   "outputs": [
    {
     "name": "stdout",
     "output_type": "stream",
     "text": [
      "23925373020449842 drwxrwxrwx 1 kavis kavis 4096 Oct  8 19:06 demo/\n",
      "10696049115641040 drwxrwxrwx 1 kavis kavis 4096 Oct  9 02:59 test_dir/\n"
     ]
    }
   ],
   "source": [
    "%%bash\n",
    "# List directories themselves in detailed view with inode numbers (-ild)\n",
    "ls -ild */\n"
   ]
  },
  {
   "cell_type": "code",
   "execution_count": 34,
   "metadata": {},
   "outputs": [
    {
     "name": "stdout",
     "output_type": "stream",
     "text": [
      "\u001b[34;42mLinux_shell\u001b[0m\n",
      "├── \u001b[01;32m1500x500.jpeg\u001b[0m\n",
      "├── \u001b[01;32mLinux_shell_setup_windows.ipynb\u001b[0m\n",
      "├── \u001b[01;32mLinux_shell_w1_a.ipynb\u001b[0m\n",
      "├── \u001b[01;32mLinux_shell_w1_b.ipynb\u001b[0m\n",
      "├── \u001b[01;32mLinux_shell_w1_c.ipynb\u001b[0m\n",
      "├── \u001b[01;32mSC_Week0_Unit0.ipynb\u001b[0m\n",
      "├── \u001b[01;32mSC_Week0_Unit1.ipynb\u001b[0m\n",
      "├── \u001b[01;32mSC_Week0_Unit2.ipynb\u001b[0m\n",
      "├── \u001b[01;32mSC_Week0_Unit4.ipynb\u001b[0m\n",
      "├── \u001b[01;32mSC_Week0_Unit5.ipynb\u001b[0m\n",
      "├── \u001b[34;42mdemo\u001b[0m\n",
      "│   └── \u001b[34;42mleve1\u001b[0m\n",
      "│       └── \u001b[34;42mlevel2\u001b[0m\n",
      "├── \u001b[01;32mfile1\u001b[0m\n",
      "├── \u001b[01;32mfile2\u001b[0m\n",
      "├── \u001b[34;42mlevel1\u001b[0m\n",
      "│   ├── \u001b[01;32mfile3\u001b[0m\n",
      "│   └── \u001b[34;42mlevel2\u001b[0m\n",
      "│       └── \u001b[01;32mfile4\u001b[0m\n",
      "├── \u001b[01;32mrandom_toss.py\u001b[0m\n",
      "├── \u001b[34;42msubdir1\u001b[0m\n",
      "└── \u001b[34;42msubdir2\u001b[0m\n",
      "\n",
      "8 directories, 15 files\n"
     ]
    }
   ],
   "source": [
    "%%bash\n",
    "# Create a test directory structure with nested subdirectories and files\n",
    "mkdir -p level1/level2\n",
    "touch file1 file2 level1/file3 level1/level2/file4\n",
    "mkdir subdir1 subdir2\n",
    "cd ..\n",
    "tree Linux_shell\n"
   ]
  },
  {
   "cell_type": "code",
   "execution_count": 36,
   "metadata": {},
   "outputs": [
    {
     "name": "stdout",
     "output_type": "stream",
     "text": [
      "file3\n",
      "level2\n"
     ]
    }
   ],
   "source": [
    "%%bash\n",
    "# List contents of a specific directory using it as an argument\n",
    "ls level1\n"
   ]
  },
  {
   "cell_type": "code",
   "execution_count": null,
   "metadata": {},
   "outputs": [],
   "source": [
    "%%bash\n",
    "# List contents of multiple directories (subdir1, level1) using directory names as arguments\n",
    "ls subdir1 level1\n",
    "\n",
    "# List contents of multiple directories in long format (-l)\n",
    "ls -l subdir1 level1\n"
   ]
  },
  {
   "cell_type": "code",
   "execution_count": null,
   "metadata": {},
   "outputs": [],
   "source": [
    "%%bash\n",
    "# List the contents of level1 recursively (-R), showing all files in subdirectories\n",
    "ls -R level1\n",
    "\n",
    "# List detailed view of the level1 directory itself without showing its contents (-ld)\n",
    "ls -ld level1\n"
   ]
  },
  {
   "cell_type": "code",
   "execution_count": null,
   "metadata": {},
   "outputs": [],
   "source": [
    "%%bash\n",
    "# Using -ld to show information about the directory \"level1/level2\" without listing its contents\n",
    "ls -ld level1/level2\n"
   ]
  },
  {
   "cell_type": "code",
   "execution_count": null,
   "metadata": {},
   "outputs": [],
   "source": [
    "%%bash\n",
    "# List with detailed view and human-readable sizes (-lh) for multiple directories\n",
    "ls -lh level1 subdir1\n"
   ]
  },
  {
   "cell_type": "code",
   "execution_count": null,
   "metadata": {},
   "outputs": [],
   "source": [
    "\n",
    "# Recursive listing for multiple directories (-lR)\n",
    "ls -lR level1 subdir2\n",
    "\n"
   ]
  },
  {
   "cell_type": "code",
   "execution_count": null,
   "metadata": {},
   "outputs": [],
   "source": [
    "%%bash\n",
    "# Combine options to show all directories and subdirectories recursively with human-readable sizes (-alhR)\n",
    "ls -alhR level1 subdir1 subdir2\n"
   ]
  },
  {
   "cell_type": "code",
   "execution_count": null,
   "metadata": {},
   "outputs": [],
   "source": [
    "\n",
    "%%bash\n",
    "# Use a combination of -i (inode numbers) and directory arguments\n",
    "ls -i level1 level1/level2\n",
    "\n"
   ]
  },
  {
   "cell_type": "code",
   "execution_count": null,
   "metadata": {},
   "outputs": [],
   "source": [
    "%%bash\n",
    "# List inode numbers and long format with human-readable sizes for multiple directories (-ilh)\n",
    "ls -ilh level1 subdir1 subdir2\n"
   ]
  },
  {
   "cell_type": "code",
   "execution_count": null,
   "metadata": {},
   "outputs": [],
   "source": [
    "\n",
    "# Clean up: remove the created test directory\n",
    "rm -r test_dir\n"
   ]
  },
  {
   "cell_type": "code",
   "execution_count": null,
   "metadata": {},
   "outputs": [],
   "source": [
    "'''\n",
    "%%bash\n",
    "\n",
    "cd\n",
    "pwd\n",
    "\n",
    "# Create a sample directory structure\n",
    "mkdir -p sample_dir/subdir\n",
    "cd sample_dir\n",
    "touch file1 file2 .hidden_file subdir/file3\n",
    "\n",
    "# Short form of options:\n",
    "ls -a          # Show all files, including hidden files\n",
    "ls -l          # Show long format listing\n",
    "ls -la         # Combine -l and -a to show hidden files in long format\n",
    "ls -lh         # Long format with human-readable file sizes\n",
    "ls -R          # Recursively list all directories and their contents\n",
    "ls -d */       # Show directory names only\n",
    "ls -i          # Show inode numbers\n",
    "ls -r          # Reverse the order of the listing\n",
    "ls -S          # Sort by file size\n",
    "ls -t          # Sort by modification time\n",
    "\n",
    "# Long form of options:\n",
    "ls --all           # Equivalent to -a, show all files including hidden ones\n",
    "ls --long          # Equivalent to -l, show long format listing\n",
    "ls --all --long    # Equivalent to -la, show hidden files in long format\n",
    "ls --human-readable --long  # Long format with human-readable sizes\n",
    "ls --recursive     # Equivalent to -R, show directories and their contents recursively\n",
    "ls --directory */  # Equivalent to -d, show directory names only\n",
    "ls --inode         # Equivalent to -i, show inode numbers\n",
    "ls --reverse       # Equivalent to -r, show files in reverse order\n",
    "ls --sort=size     # Equivalent to -S, sort by file size\n",
    "ls --time          # Equivalent to -t, sort by modification time\n",
    "\n",
    "# Clean up: remove the created test directory\n",
    "cd ..\n",
    "rm -r sample_dir\n",
    "'''\n"
   ]
  },
  {
   "cell_type": "markdown",
   "metadata": {},
   "source": [
    "Key Points to Remember:\n",
    "Short Form: Typically a single character preceded by a hyphen (-), e.g., -l, -a, -R.\n",
    "\n",
    "Long Form: A descriptive word preceded by two hyphens (--), e.g., --all, --recursive, --long.\n",
    "\n",
    "Short and long forms can be used interchangeably. For example, -l is equivalent to --long.\n",
    "\n",
    "Multiple short options can be combined (e.g., ls -laR), but long options must be written separately (e.g., ls --long --all --recursive).\n",
    "\n",
    "Use man ls or ls --help to see all available short and long forms for ls."
   ]
  },
  {
   "cell_type": "markdown",
   "metadata": {},
   "source": [
    "Short Form vs. Long Form of ls Options\n",
    "\n",
    "Short Form\tLong Form\tDescription\n",
    "-a\t          --all\t    Show all files, including hidden files (those starting with .).\n",
    "\n",
    "-A\t       --almost-all\tShow all files except . (current directory) and .. (parent).\n",
    "\n",
    "-d\t     --directory\tList directory names only, not their contents.\n",
    "\n",
    "-h\t--human-readable\tShow sizes in human-readable format (KB, MB, etc.).\n",
    "\n",
    "-l\t          --long\tUse a long listing format to show detailed information.\n",
    "-R\t     --recursive\tList subdirectories recursively.\n",
    "\n",
    "-S\t     --sort=size\tSort files by size (largest first).\n",
    "\n",
    "-t\t          --time\tSort by modification time (newest first).\n",
    "\n",
    "-r\t--reverse\tReverse the order of sorting.\n",
    "\n",
    "-i\t--inode\tShow inode numbers.\n",
    "\n",
    "-s\t--size\tDisplay file sizes in blocks.\n",
    "\n",
    "-u\t--access-time\tSort by last access time instead of modification time.\n",
    "\n",
    "-c\t--time=ctime\tSort by change time (status change time).\n",
    "\n",
    "-G\t--no-group\tDo not show group information in the long format.\n",
    "\n",
    "-X\t--sort=extension\tSort alphabetically by file extension.\n",
    "\n",
    "-1\t--format=single-column\tList one file per line."
   ]
  },
  {
   "cell_type": "markdown",
   "metadata": {},
   "source": [
    "This sequence includes a broad range of options for ls:\n",
    "\n",
    "-l: Long format.\n",
    "-h: Human-readable sizes.\n",
    "-a: Include hidden files.\n",
    "-i: Show inode numbers.\n",
    "-d: Show directory information only.\n",
    "-R: Recursive listing.\n",
    "-S: Sort by size.\n",
    "-t: Sort by modification time.\n",
    "-r: Reverse the order.\n",
    "-ia: Include inode numbers and hidden files."
   ]
  },
  {
   "cell_type": "markdown",
   "metadata": {},
   "source": [
    "Explanation of ls with Directories as Arguments:\n",
    "\n",
    "\n",
    "ls <directory_name>: Lists the contents of the specified directory, not the current working directory.\n",
    "Example: ls level1 lists files inside level1 directory.\n",
    "\n",
    "\n",
    "ls <dir1> <dir2>: Lists contents of multiple directories.\n",
    "Example: ls level1 subdir1 lists files in both level1 and subdir1.\n",
    "\n",
    "\n",
    "ls -ld <directory>: Lists information about the directory itself, not its contents.\n",
    "Example: ls -ld level1 shows details (like permissions, owner, etc.) of the directory level1 itself.\n",
    "\n",
    "\n",
    "Recursive Listing (ls -R <directory>): Displays all files and subdirectories within the specified directory recursively.\n",
    "Example: ls -R level1 shows all files in level1 and its subdirectories.\n",
    "\n",
    "\n",
    "Combine Options with Directory Arguments:\n",
    "ls -alhR level1 subdir1: Shows all hidden files in a long format, human-readable sizes, and recursively lists contents of level1 and subdir1."
   ]
  },
  {
   "cell_type": "code",
   "execution_count": 38,
   "metadata": {},
   "outputs": [
    {
     "name": "stdout",
     "output_type": "stream",
     "text": [
      "/mnt/c/Users/kavis/Upskilling/Github repository/Rep1/Linux_shell\n"
     ]
    },
    {
     "name": "stderr",
     "output_type": "stream",
     "text": [
      "ls: DumpStack.log: Permission denied\n",
      "ls: cannot access 'DumpStack.log.tmp': Permission denied\n",
      "ls: cannot access 'hiberfil.sys': Permission denied\n",
      "ls: cannot access 'pagefile.sys': Permission denied\n",
      "ls: PerfLogs: Permission denied\n",
      "ls: Recovery: Permission denied\n",
      "ls: cannot access 'swapfile.sys': Permission denied\n",
      "ls: 'System Volume Information': Permission denied\n"
     ]
    },
    {
     "name": "stdout",
     "output_type": "stream",
     "text": [
      "total 16\n",
      "drwxrwxrwx 1 kavis kavis  4096 Oct 20  2022 $Recycle.Bin\n",
      "-r-xr-xr-x 1 kavis kavis    40 Oct 20  2022 2CA0AE717CAA\n",
      "lrwxrwxrwx 1 kavis kavis    12 Oct 10  2022 Documents and Settings -> /mnt/c/Users\n",
      "drwxrwxrwx 1 kavis kavis  4096 Jul 30  2022 Drivers\n",
      "---------- 1 kavis kavis 12288 Jul 12 03:44 DumpStack.log\n",
      "-????????? ? ?     ?         ?            ? DumpStack.log.tmp\n",
      "drwxrwxrwx 1 kavis kavis  4096 May  4 08:13 OneDriveTemp\n",
      "d--x--x--x 1 kavis kavis  4096 May  7  2022 PerfLogs\n",
      "dr-xr-xr-x 1 kavis kavis  4096 Oct  6 03:43 Program Files\n",
      "dr-xr-xr-x 1 kavis kavis  4096 Jun 11 03:17 Program Files (x86)\n",
      "drwxrwxrwx 1 kavis kavis  4096 Sep 19 16:32 ProgramData\n",
      "d--x--x--x 1 kavis kavis  4096 Aug 10  2023 Recovery\n",
      "-r-xr-xr-x 1 kavis kavis  1505 Dec 19  2023 Setup.log\n",
      "d--x--x--x 1 kavis kavis  4096 Oct  7 17:23 System Volume Information\n",
      "drwxrwxrwx 1 kavis kavis  4096 Dec  3  2023 Tenorshare\n",
      "dr-xr-xr-x 1 kavis kavis  4096 Jul 10 09:50 Users\n",
      "dr-xr-xr-x 1 kavis kavis  4096 Oct  5 11:03 Windows\n",
      "drwxrwxrwx 1 kavis kavis  4096 Sep 13  2023 XboxGames\n",
      "-????????? ? ?     ?         ?            ? hiberfil.sys\n",
      "drwxrwxrwx 1 kavis kavis  4096 May 25 11:18 one plus\n",
      "-????????? ? ?     ?         ?            ? pagefile.sys\n",
      "-????????? ? ?     ?         ?            ? swapfile.sys\n",
      "drwxrwxrwx 1 kavis kavis  4096 Oct  5 02:50 tools\n",
      "\u001b[H\u001b[2J"
     ]
    }
   ],
   "source": [
    "%%bash\n",
    "pwd\n",
    "cd /mnt/c\n",
    "ls -l\n",
    "clear"
   ]
  },
  {
   "cell_type": "markdown",
   "metadata": {},
   "source": [
    "\n",
    "#### Structure of Each Line given by ls -l:\n",
    "Structure will change slightly depending on VS code is run in wsl or not\n",
    "\n",
    "1. **Permissions**: (`drwxr-xr-x`)\n",
    "   - This shows the file permissions for the owner, group, and others.\n",
    "   - first letter -  `d` indicates a **directory** (if it were a file, it would be `-`).\n",
    "                     'l' indicates symbolic link (shortcut)\n",
    "                     '-' indicates file \n",
    "                     'c' character device (terminal)\n",
    "                     'b' block devices (hard discs)\n",
    "   - next three for owner - `rwx` means **read, write, and execute** permissions for the owner.\n",
    "   - next three for group - `r-x` means **read and execute** permissions for the group.\n",
    "   - next three for others- `r-x` means **read and execute** permissions for others.\n",
    "\n",
    "   rwx (7)\n",
    "   rw- (6)\n",
    "   r-x (5)\n",
    "   r-- (4)\n",
    "   --x (1)\n",
    "\n",
    "2. **Links**: (`1`)\n",
    "   - The number of links or directories inside this directory. For a directory, this number (1) represents how many subdirectories, parent directories, or other references link to it. A hard link is like an alias or shortcut that points to the same file or directory in the filesystem. \n",
    "\n",
    "3. **Owner**: (`kavis`)\n",
    "   - The username of the owner of the file or directory.\n",
    "\n",
    "4. **Group**: (`197609`)\n",
    "   - The group ID associated with the file.\n",
    "\n",
    "5. **Size**: (`0`, `40`, `12288`, etc.)\n",
    "   - The size of the file in bytes. For directories, it’s usually `0` since it doesn’t directly reflect the size of contents.\n",
    "\n",
    "6. **Timestamp**: (`Oct 6 14:21`)\n",
    "   - The date and time when the file or directory was last modified.\n",
    "\n",
    "7. **File/Directory Name**: (`$Recycle.Bin`, `Documents and Settings`, etc.)\n",
    "   - The name of the file or directory.\n",
    "\n",
    "#### Listing Explanation:\n",
    "\n",
    "**`Documents and Settings -> /c/Users`**:\n",
    "   - This is a **symbolic link** (shortcut) that points to `/c/Users`. It means that trying to access `Documents and Settings` will actually redirect you to the `/c/Users` directory.\n",
    "\n",
    "**`Drivers`**:\n",
    "   - Likely a folder containing drivers for the system. Drivers are software that help the operating system communicate with hardware devices.\n",
    "\n",
    "**`Program Files`** and **`Program Files (x86)`**:\n",
    "   - Standard directories in Windows for installing 64-bit and 32-bit applications, respectively.\n",
    "\n",
    "**`ProgramData`**:\n",
    "   - A directory used to store application data that is not specific to a user. It’s shared among all users of the system.\n",
    "\n",
    "**`Users`**:\n",
    "    - This is where user profiles are stored on Windows, such as `Desktop`, `Documents`, `Downloads`, and so on for each user.\n",
    "\n",
    "**`Windows`**:\n",
    "    - The main directory containing the Windows operating system files.\n",
    "\n",
    "**`hiberfil.sys`**:\n",
    "    - A **system file** used by Windows to store the system state when it goes into **hibernation**. This file is often large and contains everything stored in memory (RAM)."
   ]
  },
  {
   "cell_type": "code",
   "execution_count": null,
   "metadata": {},
   "outputs": [
    {
     "name": "stdout",
     "output_type": "stream",
     "text": [
      "/mnt/c/Users/kavis/Upskilling/Github repository/Rep1/Linux_shell\n",
      "12 bin, 8193 bin.usr-is-merged, 8194 boot, 1 dev, 16386 etc, 24577 home, 5 init,\n",
      "1395 lib, 24578 lib.usr-is-merged, 1396 lib64, 11 lost+found, 32769 media,\n",
      "32770 mnt, 40961 opt, 1 proc, 49153 root, 1 run, 1424 sbin,\n",
      "57345 sbin.usr-is-merged, 57346 snap, 65537 srv, 1 sys, 73729 tmp, 73730 usr,\n",
      "33554433 var\n",
      "total 2284\n",
      "lrwxrwxrwx   1 root root       7 Apr 22 13:08 bin -> usr/bin\n",
      "drwxr-xr-x   2 root root    4096 Feb 26  2024 bin.usr-is-merged\n",
      "drwxr-xr-x   2 root root    4096 Apr 22 13:08 boot\n",
      "drwxr-xr-x  16 root root    3560 Oct  8 08:09 dev\n",
      "drwxr-xr-x  92 root root    4096 Oct  8 08:09 etc\n",
      "drwxr-xr-x   3 root root    4096 Oct  5 12:54 home\n",
      "-rwxrwxrwx   1 root root 2260248 Sep 27 00:55 init\n",
      "lrwxrwxrwx   1 root root       7 Apr 22 13:08 lib -> usr/lib\n",
      "drwxr-xr-x   2 root root    4096 Apr  8  2024 lib.usr-is-merged\n",
      "lrwxrwxrwx   1 root root       9 Apr 22 13:08 lib64 -> usr/lib64\n",
      "drwx------   2 root root   16384 Oct  5 12:49 lost+found\n",
      "drwxr-xr-x   2 root root    4096 Sep 27 20:13 media\n",
      "drwxr-xr-x   5 root root    4096 Oct  5 12:49 mnt\n",
      "drwxr-xr-x   2 root root    4096 Sep 27 20:13 opt\n",
      "dr-xr-xr-x 310 root root       0 Oct  8 08:09 proc\n",
      "drwx------   4 root root    4096 Oct  5 12:49 root\n",
      "drwxr-xr-x  19 root root     580 Oct  8 08:30 run\n",
      "lrwxrwxrwx   1 root root       8 Apr 22 13:08 sbin -> usr/sbin\n",
      "drwxr-xr-x   2 root root    4096 Mar 31  2024 sbin.usr-is-merged\n",
      "drwxr-xr-x   2 root root    4096 Oct  5 12:49 snap\n",
      "drwxr-xr-x   2 root root    4096 Sep 27 20:13 srv\n",
      "dr-xr-xr-x  11 root root       0 Oct  8 09:43 sys\n",
      "drwxrwxrwt  15 root root    4096 Oct  8 09:35 tmp\n",
      "drwxr-xr-x  12 root root    4096 Sep 27 20:13 usr\n",
      "drwxr-xr-x  13 root root    4096 Oct  5 12:49 var\n"
     ]
    }
   ],
   "source": [
    "%%bash\n",
    "pwd\n",
    "cd /\n",
    "ls -im  #ls -i shows the inode number associated with each file or directory, which helps identify them uniquely\n",
    "ls -l"
   ]
  },
  {
   "cell_type": "markdown",
   "metadata": {},
   "source": [
    "/bin -       essential command binaries - files in machine language for processor\n",
    "\n",
    "/usr/bin -   User commands\n",
    "\n",
    "/usr/lib -   Libraries"
   ]
  }
 ],
 "metadata": {
  "kernelspec": {
   "display_name": "Python 3",
   "language": "python",
   "name": "python3"
  },
  "language_info": {
   "codemirror_mode": {
    "name": "ipython",
    "version": 3
   },
   "file_extension": ".py",
   "mimetype": "text/x-python",
   "name": "python",
   "nbconvert_exporter": "python",
   "pygments_lexer": "ipython3",
   "version": "3.12.3"
  }
 },
 "nbformat": 4,
 "nbformat_minor": 2
}
