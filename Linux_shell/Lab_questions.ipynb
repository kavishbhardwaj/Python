{
 "cells": [
  {
   "cell_type": "code",
   "execution_count": 1,
   "metadata": {},
   "outputs": [
    {
     "name": "stdout",
     "output_type": "stream",
     "text": [
      "\u001b[34;42mproject\u001b[0m\n",
      "├── \u001b[34;42mdirectory1\u001b[0m\n",
      "│   ├── \u001b[01;32mfile1.txt\u001b[0m\n",
      "│   └── \u001b[01;32mfile2.txt\u001b[0m\n",
      "├── \u001b[34;42mdirectory2\u001b[0m\n",
      "│   ├── \u001b[01;32mfile3.txt\u001b[0m\n",
      "│   └── \u001b[01;32mfile4.txt\u001b[0m\n",
      "├── \u001b[01;32mhardlink_to_file1.txt\u001b[0m\n",
      "├── \u001b[01;32moriginal_file.txt\u001b[0m\n",
      "└── \u001b[40;31;01msoftlink_to_file2.txt\u001b[0m -> \u001b[00mproject/directory1/file2.txt\u001b[0m\n",
      "\n",
      "3 directories, 7 files\n"
     ]
    }
   ],
   "source": [
    "%%bash\n",
    "# Create directory structure manually\n",
    "mkdir -p project/directory1 project/directory2\n",
    "touch project/directory1/file1.txt project/directory1/file2.txt\n",
    "touch project/directory2/file3.txt project/directory2/file4.txt\n",
    "touch project/original_file.txt\n",
    "ln project/directory1/file1.txt project/hardlink_to_file1.txt\n",
    "ln -s project/directory1/file2.txt project/softlink_to_file2.txt\n",
    "\n",
    "# Display the directory structure\n",
    "tree project\n"
   ]
  },
  {
   "cell_type": "code",
   "execution_count": 2,
   "metadata": {},
   "outputs": [
    {
     "name": "stderr",
     "output_type": "stream",
     "text": [
      "ln: failed to create hard link 'project/hardlink_to_file1.txt': File exists\n",
      "ln: failed to create symbolic link 'project/softlink_to_file2.txt': File exists\n"
     ]
    },
    {
     "name": "stdout",
     "output_type": "stream",
     "text": [
      "\u001b[34;42mproject\u001b[0m\n",
      "├── \u001b[34;42mdirectory1\u001b[0m\n",
      "│   ├── \u001b[01;32mfile1.txt\u001b[0m\n",
      "│   └── \u001b[01;32mfile2.txt\u001b[0m\n",
      "├── \u001b[34;42mdirectory2\u001b[0m\n",
      "│   ├── \u001b[01;32mfile3.txt\u001b[0m\n",
      "│   └── \u001b[01;32mfile4.txt\u001b[0m\n",
      "├── \u001b[01;32mhardlink_to_file1.txt\u001b[0m\n",
      "├── \u001b[01;32moriginal_file.txt\u001b[0m\n",
      "└── \u001b[40;31;01msoftlink_to_file2.txt\u001b[0m -> \u001b[00mproject/directory1/file2.txt\u001b[0m\n",
      "\n",
      "3 directories, 7 files\n"
     ]
    }
   ],
   "source": [
    "%%bash\n",
    "# Create a script to build the directory structure\n",
    "cat << 'EOF' > script.sh\n",
    "mkdir -p project/directory1 project/directory2\n",
    "touch project/directory1/file1.txt project/directory1/file2.txt\n",
    "touch project/directory2/file3.txt project/directory2/file4.txt\n",
    "touch project/original_file.txt\n",
    "ln project/directory1/file1.txt project/hardlink_to_file1.txt\n",
    "ln -s project/directory1/file2.txt project/softlink_to_file2.txt\n",
    "EOF\n",
    "\n",
    "# Make the script executable\n",
    "chmod +x script.sh\n",
    "\n",
    "# Run the script\n",
    "./script.sh\n",
    "\n",
    "# Display the directory structure\n",
    "tree project\n"
   ]
  },
  {
   "cell_type": "code",
   "execution_count": 3,
   "metadata": {},
   "outputs": [
    {
     "name": "stdout",
     "output_type": "stream",
     "text": [
      "2024-10-20\n",
      "2024-10-20 11:54:41\n",
      "2024-10-20 06:24:41 UTC\n",
      "2024-10-20 11:54:41\n",
      "Epoch time is 1729405481 seconds.\n"
     ]
    }
   ],
   "source": [
    "%%bash\n",
    "# Display current date in YYYY-MM-DD format\n",
    "date +\"%Y-%m-%d\"\n",
    "\n",
    "# Display current date and time in YYYY-MM-DD HH:MM:SS format\n",
    "date +\"%Y-%m-%d %H:%M:%S\"\n",
    "\n",
    "# Display UTC time\n",
    "date -u +\"%Y-%m-%d %H:%M:%S %Z\"\n",
    "\n",
    "# Display time in Asia/Kolkata timezone\n",
    "TZ='Asia/Kolkata' date +\"%Y-%m-%d %H:%M:%S\"\n",
    "\n",
    "# Display the current epoch time in seconds\n",
    "echo \"Epoch time is $(date +%s) seconds.\"\n"
   ]
  }
 ],
 "metadata": {
  "kernelspec": {
   "display_name": "Python 3",
   "language": "python",
   "name": "python3"
  },
  "language_info": {
   "codemirror_mode": {
    "name": "ipython",
    "version": 3
   },
   "file_extension": ".py",
   "mimetype": "text/x-python",
   "name": "python",
   "nbconvert_exporter": "python",
   "pygments_lexer": "ipython3",
   "version": "3.12.3"
  }
 },
 "nbformat": 4,
 "nbformat_minor": 2
}
