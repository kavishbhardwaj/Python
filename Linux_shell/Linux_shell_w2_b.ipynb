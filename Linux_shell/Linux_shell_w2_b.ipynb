{
 "cells": [
  {
   "cell_type": "markdown",
   "metadata": {},
   "source": [
    "# Text Editors: Command Line, GUI, and IDEs\n",
    "\n",
    "## 1. Command Line Editors (Terminal-Based)\n",
    "These editors run directly in the terminal and are often used by developers and system administrators. They are fast but require learning some keyboard shortcuts and commands.\n",
    "\n",
    "- **ed**: \n",
    "  - One of the oldest text editors. It doesn't have a visual interface, meaning you don’t see the text on the screen as you type.\n",
    "  - It’s rarely used nowadays except in scripts or very minimal environments, but it’s still part of UNIX systems.\n",
    "\n",
    "- **vi** (or vim): \n",
    "  - A very powerful editor used mostly by experienced users. It works in two modes: one for typing and one for commands (like copying or saving).\n",
    "  - It’s available on almost every Linux or Unix system, making it a popular choice.\n",
    "  \n",
    "- **nano**: \n",
    "  - Much simpler than `vi`. It shows helpful commands at the bottom of the screen (like how to save or exit).\n",
    "  - Great for beginners or quick edits.\n",
    "\n",
    "- **pico**: \n",
    "  - Similar to `nano` but older and less common now. Easy to use for simple tasks.\n",
    "\n",
    "- **emacs**: \n",
    "  - More than just a text editor—it’s almost like a mini operating system! You can use it for coding, writing, even reading email.\n",
    "  - It has a learning curve because of all its features, but many programmers love it for its flexibility.\n",
    "\n",
    "## 2. GUI Text Editors (Graphical)\n",
    "These editors have a graphical interface with menus and buttons, making them easier for most people to use. You can click around instead of just using the keyboard.\n",
    "\n",
    "- **gedit** (for Gnome desktops):\n",
    "  - A simple text editor that looks like Notepad on Windows. Easy to use for writing text or small coding projects.\n",
    "  \n",
    "- **kate** (for KDE desktops):\n",
    "  - A bit more advanced than `gedit` with extra features like highlighting code. Still user-friendly with menus and buttons.\n",
    "\n",
    "- **sublime text**: \n",
    "  - A popular editor for coding with lots of useful features, but still simple enough for anyone to pick up.\n",
    "  - It’s fast, and you can add extra tools (plugins) if you need more features.\n",
    "\n",
    "- **atom**: \n",
    "  - Made by GitHub, it’s great for coding and working with Git (version control). It’s easy to customize, so you can add or change features as you like.\n",
    "\n",
    "- **brackets**: \n",
    "  - Designed mostly for web developers, this editor makes it easy to edit web code (HTML, CSS, JavaScript) and see the changes live in a web browser.\n",
    "\n",
    "## 3. IDEs (Integrated Development Environments)\n",
    "IDEs are more than just text editors—they come with tools to help you write, test, and debug code. They’re usually used for big projects and programming languages like Java, C++, etc.\n",
    "\n",
    "- **eclipse**: \n",
    "  - One of the most popular IDEs for Java developers. It has built-in tools for writing code, finding errors, and managing large projects.\n",
    "\n",
    "- **NetBeans**: \n",
    "  - Another IDE that’s good for Java and other programming languages. It includes helpful features for building and testing programs.\n",
    "\n",
    "- **Bluefish**: \n",
    "  - A lightweight tool mainly for web development. It supports lots of programming languages and has tools for editing websites and writing code.\n",
    "\n",
    "---\n",
    "\n",
    "**In summary:**  \n",
    "- **Command line editors** are fast and great for experienced users, with options like `vi`, `nano`, and `emacs`.\n",
    "- **GUI editors** are easier to use and more beginner-friendly, with buttons and menus.\n",
    "- **IDEs** are full-featured tools that help you manage big projects with lots of code.\n"
   ]
  },
  {
   "cell_type": "code",
   "execution_count": 2,
   "metadata": {},
   "outputs": [
    {
     "name": "stdout",
     "output_type": "stream",
     "text": [
      "/bin/ed\n",
      "/bin/pico\n",
      "/bin/nano\n"
     ]
    }
   ],
   "source": [
    "%%bash\n",
    "\n",
    "which ed\n",
    "which pico\n",
    "which nano"
   ]
  },
  {
   "cell_type": "code",
   "execution_count": 5,
   "metadata": {},
   "outputs": [
    {
     "name": "stdout",
     "output_type": "stream",
     "text": [
      "lrwxrwxrwx 1 root root 22 Apr  8  2024 /bin/pico -> /etc/alternatives/pico\n",
      "lrwxrwxrwx 1 root root 9 Apr  8  2024 /etc/alternatives/pico -> /bin/nano\n",
      "-rwxr-xr-x 1 root root 279040 Oct 10 21:44 /bin/nano\n",
      "/usr/bin/nano\n"
     ]
    }
   ],
   "source": [
    "%%bash\n",
    "\n",
    "ls -l /bin/pico\n",
    "ls -l /etc/alternatives/pico\n",
    "ls -l /bin/nano\n",
    "\n",
    "# pico editor is pointing to nano editor\n",
    "\n",
    "readlink -f /bin/pico\n",
    "#This command follows all the symbolic links and returns the actual file path\n"
   ]
  },
  {
   "cell_type": "markdown",
   "metadata": {},
   "source": [
    "/bin/nano or /usr/bin/nano, are functionally the same in modern systems due to the symlink between /bin and /usr/bin.\n",
    "\n",
    "On modern Linux systems, /bin and /usr/bin often point to the same location because of a process called \"bin unification\". \n",
    "In this case, /bin is often just a symlink to /usr/bin, meaning that both paths lead to the same actual file."
   ]
  }
 ],
 "metadata": {
  "kernelspec": {
   "display_name": "Python 3",
   "language": "python",
   "name": "python3"
  },
  "language_info": {
   "codemirror_mode": {
    "name": "ipython",
    "version": 3
   },
   "file_extension": ".py",
   "mimetype": "text/x-python",
   "name": "python",
   "nbconvert_exporter": "python",
   "pygments_lexer": "ipython3",
   "version": "3.12.3"
  }
 },
 "nbformat": 4,
 "nbformat_minor": 2
}
