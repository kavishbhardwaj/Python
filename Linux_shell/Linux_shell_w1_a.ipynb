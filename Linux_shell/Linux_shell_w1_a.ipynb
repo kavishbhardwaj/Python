{
 "cells": [
  {
   "cell_type": "markdown",
   "metadata": {},
   "source": [
    "# Exploring directories using shell\n",
    "\n",
    "Multiple uses of / is as good as one\n",
    "\n",
    "The root folder / is its own parent \n",
    "\n",
    "clear  used to clear the screen or use ctrl+L\n",
    "\n",
    "exit or ctrl+D to come out of shell\n",
    "\n",
    "*****************************************************\n",
    "HELP\n",
    "\n",
    "ls --help\n",
    "summary of how to use the command\n",
    "\n",
    "man ls\n",
    "manual page for the command, which provides detailed documentation.\n",
    "\n",
    "**************************************************\n",
    "\n",
    "\n",
    "*****************************************************************\n",
    "Filesystem Hierarchy Standard followed by all linux systems\n",
    "FHS 3.0 released on June 03, 2015\n",
    "Available at\n",
    "https://refspecs.linuxfoundation.org/fhs.shtml\n",
    "\n",
    "*****************************************************************"
   ]
  },
  {
   "cell_type": "code",
   "execution_count": 3,
   "metadata": {
    "vscode": {
     "languageId": "shellscript"
    }
   },
   "outputs": [
    {
     "name": "stdout",
     "output_type": "stream",
     "text": [
      "/mnt/c/Users/kavis/Upskilling/Github repository/Rep1/Linux_shell\n"
     ]
    }
   ],
   "source": [
    "%%bash\n",
    "pwd\n",
    "# Present working directory\n",
    "# /mnt/c/ indicates that the path is being accessed through WSL (Windows Subsystem for Linux).\n",
    "# In WSL, Windows drives (e.g., C:, D:) are mounted under the /mnt directory. Here, /mnt/c/ corresponds to the C: drive in Windows."
   ]
  },
  {
   "cell_type": "code",
   "execution_count": 4,
   "metadata": {
    "vscode": {
     "languageId": "shellscript"
    }
   },
   "outputs": [
    {
     "name": "stdout",
     "output_type": "stream",
     "text": [
      "1500x500.jpeg\n",
      "Linux_shell_setup_windows.ipynb\n",
      "Linux_shell_w1.ipynb\n",
      "SC_Week0_Unit0.ipynb\n",
      "SC_Week0_Unit1.ipynb\n",
      "SC_Week0_Unit2.ipynb\n",
      "SC_Week0_Unit4.ipynb\n",
      "SC_Week0_Unit5.ipynb\n",
      "level1\n",
      "random_toss.py\n"
     ]
    }
   ],
   "source": [
    "%%bash\n",
    "ls\n",
    "#List files in current folder"
   ]
  },
  {
   "cell_type": "code",
   "execution_count": 5,
   "metadata": {
    "vscode": {
     "languageId": "shellscript"
    }
   },
   "outputs": [
    {
     "name": "stdout",
     "output_type": "stream",
     "text": [
      "1500x500.jpeg, Linux_shell_setup_windows.ipynb, Linux_shell_w1.ipynb,\n",
      "SC_Week0_Unit0.ipynb, SC_Week0_Unit1.ipynb, SC_Week0_Unit2.ipynb,\n",
      "SC_Week0_Unit4.ipynb, SC_Week0_Unit5.ipynb, level1, random_toss.py\n"
     ]
    }
   ],
   "source": [
    "%%bash\n",
    "ls -m\n",
    "#This command lists the files in a horizontal format, with each filename separated by a comma and space."
   ]
  },
  {
   "cell_type": "code",
   "execution_count": 15,
   "metadata": {
    "vscode": {
     "languageId": "shellscript"
    }
   },
   "outputs": [
    {
     "name": "stdout",
     "output_type": "stream",
     "text": [
      "1500x500.jpeg Linux_shell_setup_windows.ipynb Linux_shell_w1.ipynb SC_Week0_Unit0.ipynb SC_Week0_Unit1.ipynb SC_Week0_Unit2.ipynb SC_Week0_Unit4.ipynb SC_Week0_Unit5.ipynb level1 random_toss.py \u001b[H\u001b[2J"
     ]
    }
   ],
   "source": [
    "%%bash\n",
    "ls | tr '\\n' ' '\n",
    "#tr '\\n' ' ': Translates newlines (\\n) to spaces (' '), effectively putting all filenames in one line."
   ]
  },
  {
   "cell_type": "code",
   "execution_count": 21,
   "metadata": {},
   "outputs": [
    {
     "name": "stdout",
     "output_type": "stream",
     "text": [
      "., .., .hidden_directory, .hidden_file.txt, 1500x500.jpeg,\n",
      "Linux_shell_setup_windows.ipynb, Linux_shell_w1.ipynb, SC_Week0_Unit0.ipynb,\n",
      "SC_Week0_Unit1.ipynb, SC_Week0_Unit2.ipynb, SC_Week0_Unit4.ipynb,\n",
      "SC_Week0_Unit5.ipynb, level1, random_toss.py\n"
     ]
    }
   ],
   "source": [
    "%%bash\n",
    "ls -am\n",
    "# -a option gives hidden files/directories also"
   ]
  },
  {
   "cell_type": "code",
   "execution_count": 25,
   "metadata": {},
   "outputs": [
    {
     "name": "stdout",
     "output_type": "stream",
     "text": [
      "total 584\n",
      "-rwxrwxrwx 1 kavis kavis 166075 Oct  6 15:30 1500x500.jpeg\n",
      "-rwxrwxrwx 1 kavis kavis  23480 Oct  6 14:32 Linux_shell_setup_windows.ipynb\n",
      "-rwxrwxrwx 1 kavis kavis 132170 Oct  8 02:55 Linux_shell_w1.ipynb\n",
      "-rwxrwxrwx 1 kavis kavis   8173 Oct  6 19:54 SC_Week0_Unit0.ipynb\n",
      "-rwxrwxrwx 1 kavis kavis 230730 Oct  5 14:21 SC_Week0_Unit1.ipynb\n",
      "-rwxrwxrwx 1 kavis kavis  16186 Oct  5 14:58 SC_Week0_Unit2.ipynb\n",
      "-rwxrwxrwx 1 kavis kavis   3531 Oct  5 14:22 SC_Week0_Unit4.ipynb\n",
      "-rwxrwxrwx 1 kavis kavis   4159 Oct  5 14:21 SC_Week0_Unit5.ipynb\n",
      "drwxrwxrwx 1 kavis kavis   4096 Oct  6 18:19 level1\n",
      "-rwxrwxrwx 1 kavis kavis    199 Oct  6 19:47 random_toss.py\n"
     ]
    }
   ],
   "source": [
    "%%bash\n",
    "ls -l\n",
    "# -l option gives long format"
   ]
  },
  {
   "cell_type": "code",
   "execution_count": 87,
   "metadata": {},
   "outputs": [
    {
     "name": "stdout",
     "output_type": "stream",
     "text": [
      "/\n",
      "., .., bin, bin.usr-is-merged, boot, dev, etc, home, init, lib,\n",
      "lib.usr-is-merged, lib64, lost+found, media, mnt, opt, proc, root, run, sbin,\n",
      "sbin.usr-is-merged, snap, srv, sys, tmp, usr, var\n"
     ]
    }
   ],
   "source": [
    "%%bash\n",
    "cd /    #root directory  (/) is the highest level in the filesystem hierarchy \n",
    "pwd\n",
    "ls -am\n",
    "\n",
    "#When you list all items in a directory using ls -a, you will see . and .. and hidden ones also starting with .\n",
    "#   . represents the current directory.\n",
    "#  .. always represents the parent directory, even if it’s a reference to the same directory (as is the case in the root directory)."
   ]
  },
  {
   "cell_type": "code",
   "execution_count": 7,
   "metadata": {},
   "outputs": [
    {
     "name": "stdout",
     "output_type": "stream",
     "text": [
      "/mnt/c/Users/kavis/Upskilling/Github repository/Rep1/Linux_shell\n",
      "/mnt/c/Users/kavis/Upskilling/Github repository/Rep1/Linux_shell\n",
      "\u001b[34;42mdemo\u001b[0m\n",
      "└── \u001b[34;42mlevel1\u001b[0m\n",
      "    └── \u001b[34;42mlevel2\u001b[0m\n",
      "\n",
      "3 directories, 0 files\n",
      "/mnt/c/Users/kavis/Upskilling/Github repository/Rep1/Linux_shell/demo/level1/level2\n",
      "/mnt/c/Users/kavis/Upskilling/Github repository/Rep1/Linux_shell/demo/level1\n",
      "/mnt/c/Users/kavis/Upskilling/Github repository/Rep1/Linux_shell/demo\n",
      "/mnt/c/Users/kavis/Upskilling/Github repository/Rep1/Linux_shell\n"
     ]
    }
   ],
   "source": [
    "%%bash\n",
    "\n",
    "# Print the current directory using `pwd`\n",
    "pwd\n",
    "\n",
    "# `cd .` changes to the current directory (no effect).\n",
    "cd .\n",
    "pwd\n",
    "\n",
    "# `cd ..` moves up one directory level (Parent directory)\n",
    "# Create a sample directory structure first for demonstration.\n",
    "mkdir -p demo/level1/level2\n",
    "tree demo\n",
    "cd demo/level1/level2\n",
    "pwd               # Print current directory path\n",
    "\n",
    "cd ..\n",
    "pwd                # Move up to the parent directory (from level2 to level1)\n",
    "\n",
    "cd ..\n",
    "pwd                # Move up again to the parent directory (from level1 to demo)\n",
    "\n",
    "cd ..              # come back to original directory and delete the demo directory\n",
    "pwd\n",
    "rm -r demo\n"
   ]
  },
  {
   "cell_type": "code",
   "execution_count": 74,
   "metadata": {},
   "outputs": [
    {
     "name": "stdout",
     "output_type": "stream",
     "text": [
      "/home/kavis\n",
      "/home/kavis\n",
      "/home/kavis\n",
      "/\n",
      "/home/kavis/demo\n"
     ]
    }
   ],
   "source": [
    "%%bash\n",
    "# Home directory \n",
    "\n",
    "# `cd` or `cd ~` moves to the home directory. `cd $HOME` also navigates to the home directory.\n",
    "cd\n",
    "pwd                # Should print the home directory path\n",
    "\n",
    "cd ~\n",
    "pwd                # Again, should print the home directory path\n",
    "\n",
    "cd $HOME\n",
    "pwd                # Should print the home directory path again\n"
   ]
  },
  {
   "cell_type": "code",
   "execution_count": 8,
   "metadata": {},
   "outputs": [
    {
     "name": "stdout",
     "output_type": "stream",
     "text": [
      "/\n",
      "/home/kavis/demo\n"
     ]
    }
   ],
   "source": [
    "%%bash\n",
    "\n",
    "# **Absolute Path**: Change directory using the absolute path (full path from the root directory).\n",
    "# Absolute paths start with `/`. Example: /home/username/demo\n",
    "cd /            # Change to the root directory using absolute path \n",
    "pwd\n",
    "\n",
    "mkdir -p $HOME/demo/level1/level2\n",
    "# Go to the previous demo directory using an absolute path\n",
    "cd $HOME/demo\n",
    "pwd                # Should print /home/<username>/demo (full path)\n",
    "rm -r $HOME/demo\n"
   ]
  },
  {
   "cell_type": "code",
   "execution_count": 14,
   "metadata": {},
   "outputs": [
    {
     "name": "stdout",
     "output_type": "stream",
     "text": [
      "/mnt/c/Users/kavis/Upskilling/Github repository/Rep1/Linux_shell\n",
      "\u001b[01;34mdirA\u001b[0m\n",
      "└── \u001b[01;34mdirB\u001b[0m\n",
      "    └── \u001b[01;34mdirC\u001b[0m\n",
      "\n",
      "3 directories, 0 files\n",
      "/tmp/explore\n",
      "/tmp/explore/dirA\n",
      "/tmp/explore/dirA/dirB\n",
      "/tmp/explore/dirA\n",
      "/home/kavis\n",
      "/tmp/explore/dirA\n",
      "/tmp/explore/dirA\n",
      "/\n"
     ]
    }
   ],
   "source": [
    "%%bash\n",
    "# **Create and Navigate Between Directories**:\n",
    "# Create a new directory structure in root directory for further exploration\n",
    "pwd\n",
    "mkdir -p /tmp/explore/dirA/dirB/dirC\n",
    "cd /tmp/explore\n",
    "tree dirA\n",
    "pwd                # Current path is /tmp/explore\n",
    "\n",
    "# Go into dirA using a relative path\n",
    "cd dirA\n",
    "pwd                # Current path is /tmp/explore/dirA\n",
    "\n",
    "# Go into dirB using a relative path\n",
    "cd dirB\n",
    "pwd                # Current path is /tmp/explore/dirA/dirB\n",
    "\n",
    "# Use `cd ..` to go up one level\n",
    "cd ..\n",
    "pwd                # Current path is /tmp/explore/dirA\n",
    "\n",
    "# Go to the home directory using `cd ~`\n",
    "cd ~\n",
    "pwd                # Should print the home directory path again\n",
    "\n",
    "#  **Return to the Previous Directory (`cd -`)**: `cd -` returns to the previous directory.\n",
    "cd -\n",
    "pwd                # Should return you back to /tmp/explore/dirA\n",
    "\n",
    "cd ../../..\n",
    "pwd                # Should return you back to root directory\n",
    "\n",
    "# Clean up: Remove the created directories for demonstration\n",
    "rm -r /tmp/explore\n",
    "\n"
   ]
  },
  {
   "cell_type": "code",
   "execution_count": 3,
   "metadata": {},
   "outputs": [
    {
     "name": "stdout",
     "output_type": "stream",
     "text": [
      "/home/kavis\n",
      "/home\n",
      "/\n",
      "/\n",
      "//home/kavis\n"
     ]
    }
   ],
   "source": [
    "\n",
    "%%bash \n",
    "\n",
    "cd \n",
    "pwd\n",
    "\n",
    "cd ..\n",
    "pwd\n",
    "\n",
    "cd ..\n",
    "pwd\n",
    "\n",
    "cd ..\n",
    "pwd\n",
    "\n",
    "cd //home///kavis\n",
    "pwd\n"
   ]
  }
 ],
 "metadata": {
  "kernelspec": {
   "display_name": "Python 3",
   "language": "python",
   "name": "python3"
  },
  "language_info": {
   "codemirror_mode": {
    "name": "ipython",
    "version": 3
   },
   "file_extension": ".py",
   "mimetype": "text/x-python",
   "name": "python",
   "nbconvert_exporter": "python",
   "pygments_lexer": "ipython3",
   "version": "3.12.3"
  }
 },
 "nbformat": 4,
 "nbformat_minor": 2
}
