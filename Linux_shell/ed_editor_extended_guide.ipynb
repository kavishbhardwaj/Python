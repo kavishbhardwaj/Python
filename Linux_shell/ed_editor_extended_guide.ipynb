{
 "cells": [
  {
   "cell_type": "markdown",
   "id": "620d109e",
   "metadata": {},
   "source": [
    "\n",
    "# Mastering the `ed` Editor: An Extended Guide\n",
    "\n",
    "Welcome to this advanced guide on the **`ed` editor**. In this tutorial, you will not only learn the basics of `ed`, but also delve into more advanced concepts such as working with multiple files, managing the buffer, undo operations, and various practical examples to strengthen your skills.\n",
    "---\n",
    "\n",
    "## Contents\n",
    "1. Introduction to `ed`\n",
    "2. Getting Started with `ed`\n",
    "3. Navigating Files and Lines\n",
    "4. Editing Text in `ed`\n",
    "5. Searching, Substitution, and Regular Expressions\n",
    "6. Working with the Buffer\n",
    "7. Undoing Changes and Error Recovery\n",
    "8. Working with Multiple Files\n",
    "9. Executing Shell Commands within `ed`\n",
    "10. Advanced Examples and Workflow\n",
    "11. Helpful Bash Commands\n",
    "---\n",
    "    "
   ]
  },
  {
   "cell_type": "markdown",
   "id": "bd7a5872",
   "metadata": {},
   "source": [
    "\n",
    "## 1. Introduction to `ed`\n",
    "As we already know, `ed` is a **line-based text editor**. You won’t see the content of the file like in modern editors. Instead, you’ll provide commands, and `ed` will act on the file accordingly.\n",
    "---\n",
    "## 2. Getting Started with `ed`\n",
    "### 2.1 Opening and Creating Files\n",
    "You can open an existing file or create a new one using `ed`. If the file exists, its contents will be loaded into the buffer; if not, `ed` will create a new file upon saving.\n",
    "    "
   ]
  },
  {
   "cell_type": "code",
   "execution_count": null,
   "id": "4756205a",
   "metadata": {},
   "outputs": [],
   "source": [
    "\n",
    "%%bash\n",
    "# Open an existing file or create a new one\n",
    "ed myfile.txt\n",
    "    "
   ]
  },
  {
   "cell_type": "markdown",
   "id": "31c9f6ec",
   "metadata": {},
   "source": [
    "\n",
    "### 2.2 Enabling the Prompt (`P`)\n",
    "By default, `ed` doesn’t show a prompt, making it a bit tricky to track what’s happening. Let’s enable the prompt:\n",
    "    "
   ]
  },
  {
   "cell_type": "code",
   "execution_count": null,
   "id": "f9c637d3",
   "metadata": {},
   "outputs": [],
   "source": [
    "\n",
    "%%bash\n",
    "# Enable prompt in ed\n",
    "ed myfile.txt <<EOF\n",
    "P\n",
    "q\n",
    "EOF\n",
    "    "
   ]
  },
  {
   "cell_type": "markdown",
   "id": "a94a2596",
   "metadata": {},
   "source": [
    "\n",
    "### 2.3 Printing the Manual (`man ed`) and Info Page (`info ed`)\n",
    "As always, we can access the manual or info page to learn more about the editor’s usage.\n",
    "    "
   ]
  },
  {
   "cell_type": "code",
   "execution_count": null,
   "id": "51d2fcab",
   "metadata": {},
   "outputs": [],
   "source": [
    "\n",
    "%%bash\n",
    "# Show the manual page for ed\n",
    "man ed\n",
    "    "
   ]
  },
  {
   "cell_type": "code",
   "execution_count": null,
   "id": "712dc572",
   "metadata": {},
   "outputs": [],
   "source": [
    "\n",
    "%%bash\n",
    "# Show the info page for ed\n",
    "info ed\n",
    "    "
   ]
  },
  {
   "cell_type": "markdown",
   "id": "4a6f87ce",
   "metadata": {},
   "source": [
    "\n",
    "## 3. Navigating Files and Lines\n",
    "You’ll often need to navigate the file to inspect specific lines, sections, or patterns. Let’s explore how to move around within the file.\n",
    "---\n",
    "### 3.1 Moving to Specific Lines and Ranges\n",
    "    "
   ]
  },
  {
   "cell_type": "code",
   "execution_count": null,
   "id": "6c0e1100",
   "metadata": {},
   "outputs": [],
   "source": [
    "\n",
    "%%bash\n",
    "# Move to the first line and print it\n",
    "ed myfile.txt <<EOF\n",
    "1p\n",
    "q\n",
    "EOF\n",
    "    "
   ]
  },
  {
   "cell_type": "code",
   "execution_count": null,
   "id": "2e59c273",
   "metadata": {},
   "outputs": [],
   "source": [
    "\n",
    "%%bash\n",
    "# Print the last line\n",
    "ed myfile.txt <<EOF\n",
    "$p\n",
    "q\n",
    "EOF\n",
    "    "
   ]
  },
  {
   "cell_type": "code",
   "execution_count": null,
   "id": "d4adba47",
   "metadata": {},
   "outputs": [],
   "source": [
    "\n",
    "%%bash\n",
    "# Print lines 1 to 5\n",
    "ed myfile.txt <<EOF\n",
    "1,5p\n",
    "q\n",
    "EOF\n",
    "    "
   ]
  },
  {
   "cell_type": "markdown",
   "id": "c1bb71d4",
   "metadata": {},
   "source": [
    "\n",
    "### 3.3 Searching for Patterns with `/pattern/`\n",
    "You can search for text patterns or specific words using regular expressions.\n",
    "    "
   ]
  },
  {
   "cell_type": "code",
   "execution_count": null,
   "id": "ea2f19e1",
   "metadata": {},
   "outputs": [],
   "source": [
    "\n",
    "%%bash\n",
    "# Search for the word \"hello\" in the file\n",
    "ed myfile.txt <<EOF\n",
    "/hello/\n",
    "q\n",
    "EOF\n",
    "    "
   ]
  },
  {
   "cell_type": "markdown",
   "id": "9e521a5b",
   "metadata": {},
   "source": [
    "\n",
    "### 3.4 Advanced Search Patterns\n",
    "`ed` supports regular expressions, which allow for powerful text searches. For example, searching for lines that contain numbers can be done as follows:\n",
    "    "
   ]
  },
  {
   "cell_type": "code",
   "execution_count": null,
   "id": "6bf53bec",
   "metadata": {},
   "outputs": [],
   "source": [
    "\n",
    "%%bash\n",
    "# Search for lines containing numbers\n",
    "ed myfile.txt <<EOF\n",
    "/[0-9]/\n",
    "q\n",
    "EOF\n",
    "    "
   ]
  },
  {
   "cell_type": "markdown",
   "id": "4848e000",
   "metadata": {},
   "source": [
    "\n",
    "## 4. Editing Text in `ed`\n",
    "Editing text in `ed` is done using commands like `a` (append), `i` (insert), `d` (delete), and `c` (change). Let’s walk through each command.\n",
    "### 4.1 Appending Text After the Current Line (`a`)\n",
    "    "
   ]
  },
  {
   "cell_type": "code",
   "execution_count": null,
   "id": "b4256ff3",
   "metadata": {},
   "outputs": [],
   "source": [
    "\n",
    "%%bash\n",
    "# Append text after the current line\n",
    "ed myfile.txt <<EOF\n",
    "a\n",
    "This is a new line appended.\n",
    ".\n",
    "w\n",
    "q\n",
    "EOF\n",
    "    "
   ]
  },
  {
   "cell_type": "markdown",
   "id": "801b31a4",
   "metadata": {},
   "source": [
    "\n",
    "### 4.2 Inserting Text Before the Current Line (`i`)\n",
    "The `i` command allows you to insert text **before** the current line.\n",
    "    "
   ]
  },
  {
   "cell_type": "code",
   "execution_count": null,
   "id": "03fbdc2d",
   "metadata": {},
   "outputs": [],
   "source": [
    "\n",
    "%%bash\n",
    "# Insert a line before the current line\n",
    "ed myfile.txt <<EOF\n",
    "1i\n",
    "Inserting a line before the first line.\n",
    ".\n",
    "w\n",
    "q\n",
    "EOF\n",
    "    "
   ]
  },
  {
   "cell_type": "markdown",
   "id": "3498062b",
   "metadata": {},
   "source": [
    "\n",
    "## 5. Searching, Substitution, and Regular Expressions\n",
    "### 5.1 Searching for Patterns\n",
    "As before, you can search for specific patterns using regular expressions.\n",
    "    "
   ]
  },
  {
   "cell_type": "code",
   "execution_count": null,
   "id": "0a161d86",
   "metadata": {},
   "outputs": [],
   "source": [
    "\n",
    "%%bash\n",
    "# Search for 'new'\n",
    "ed myfile.txt <<EOF\n",
    "/new/\n",
    "q\n",
    "EOF\n",
    "    "
   ]
  },
  {
   "cell_type": "markdown",
   "id": "d66b4df6",
   "metadata": {},
   "source": [
    "\n",
    "## 6. Working with the Buffer\n",
    "### 6.1 Saving Changes to the File (`w`)\n",
    "The `w` command writes the current buffer (file content) to the disk. This is how you save your work.\n",
    "    "
   ]
  },
  {
   "cell_type": "code",
   "execution_count": null,
   "id": "eab65c8a",
   "metadata": {},
   "outputs": [],
   "source": [
    "\n",
    "%%bash\n",
    "# Save the file\n",
    "ed myfile.txt <<EOF\n",
    "w\n",
    "q\n",
    "EOF\n",
    "    "
   ]
  },
  {
   "cell_type": "markdown",
   "id": "44b0a62c",
   "metadata": {},
   "source": [
    "\n",
    "## 9. Executing Shell Commands within `ed`\n",
    "You can execute shell commands directly from `ed` using the `!` command. For example, let’s run the `date` command to see the current time.\n",
    "    "
   ]
  },
  {
   "cell_type": "code",
   "execution_count": null,
   "id": "e1541ed4",
   "metadata": {},
   "outputs": [],
   "source": [
    "\n",
    "%%bash\n",
    "# Run the date command\n",
    "ed myfile.txt <<EOF\n",
    "!date\n",
    "q\n",
    "EOF\n",
    "    "
   ]
  }
 ],
 "metadata": {},
 "nbformat": 4,
 "nbformat_minor": 5
}
