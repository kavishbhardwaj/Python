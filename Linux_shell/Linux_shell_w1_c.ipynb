{
 "cells": [
  {
   "cell_type": "markdown",
   "metadata": {},
   "source": [
    "# Other commands"
   ]
  },
  {
   "cell_type": "code",
   "execution_count": 1,
   "metadata": {},
   "outputs": [
    {
     "name": "stdout",
     "output_type": "stream",
     "text": [
      "Sat Oct 26 15:44:53 IST 2024\n",
      "Sat, 26 Oct 2024 15:44:53 +0530\n"
     ]
    }
   ],
   "source": [
    "%%bash\n",
    "# date , cal\n",
    "date\n",
    "\n",
    "date -R\n",
    "\n",
    "# date: Displays the date and time in a localized format, which can vary depending on your system settings.\n",
    "\n",
    "# date -R: Displays the date and time in a standardized format (RFC 5322) that is the same across systems, \n",
    "# Time zone: IST/UTC/etc. Time zone offset: (offset from UTC, ahead of UTC)\n",
    "\n",
    "# sudo dpkg-reconfigure tzdata - used to change the time zone by reconfiguring the system \n",
    "\n"
   ]
  },
  {
   "cell_type": "code",
   "execution_count": 8,
   "metadata": {},
   "outputs": [
    {
     "name": "stdout",
     "output_type": "stream",
     "text": [
      "    October 2024      \n",
      "Su Mo Tu We Th Fr Sa  \n",
      "       1  2  3  4  5  \n",
      " 6  7  8  9 10 11 12  \n",
      "13 14 15 16 17 18 19  \n",
      "20 21 22 23 24 25 26  \n",
      "27 28 29 30 31        \n",
      "                      \n"
     ]
    }
   ],
   "source": [
    "%%bash\n",
    "cal"
   ]
  },
  {
   "cell_type": "code",
   "execution_count": 10,
   "metadata": {},
   "outputs": [
    {
     "name": "stdout",
     "output_type": "stream",
     "text": [
      "   September 1991     \n",
      "Su Mo Tu We Th Fr Sa  \n",
      " 1  2  3  4  5  6  7  \n",
      " 8  9 10 11 12 13 14  \n",
      "15 16 17 18 19 20 21  \n",
      "22 23 24 25 26 27 28  \n",
      "29 30                 \n",
      "                      \n",
      "    September 2024    \n",
      "Su  1  8 15 22 29   \n",
      "Mo  2  9 16 23 30   \n",
      "Tu  3 10 17 24      \n",
      "We  4 11 18 25      \n",
      "Th  5 12 19 26      \n",
      "Fr  6 13 20 27      \n",
      "Sa  7 14 21 28      \n"
     ]
    }
   ],
   "source": [
    "%%bash\n",
    "#cal, ncal\n",
    "cal sep 1991\n",
    "\n",
    "ncal sept 2024"
   ]
  },
  {
   "cell_type": "code",
   "execution_count": 11,
   "metadata": {},
   "outputs": [
    {
     "name": "stdout",
     "output_type": "stream",
     "text": [
      "               total        used        free      shared  buff/cache   available\n",
      "Mem:         7993724     1865036     6139656        3288      243584     6128688\n",
      "Swap:        2097152           0     2097152\n",
      "               total        used        free      shared  buff/cache   available\n",
      "Mem:           7.6Gi       1.8Gi       5.9Gi       3.2Mi       237Mi       5.8Gi\n",
      "Swap:          2.0Gi          0B       2.0Gi\n"
     ]
    }
   ],
   "source": [
    "%%bash\n",
    "# system's memory usage\n",
    "free\n",
    "free -h\n"
   ]
  },
  {
   "cell_type": "code",
   "execution_count": 12,
   "metadata": {},
   "outputs": [
    {
     "name": "stdout",
     "output_type": "stream",
     "text": [
      "kavis adm dialout cdrom floppy sudo audio dip video plugdev users netdev\n"
     ]
    }
   ],
   "source": [
    "%%bash\n",
    "groups\n",
    "# If no username is provided, it will show the groups for the current user.\n",
    "# If you specify a username, it will display the groups associated with that user."
   ]
  },
  {
   "cell_type": "code",
   "execution_count": 2,
   "metadata": {},
   "outputs": [
    {
     "name": "stdout",
     "output_type": "stream",
     "text": [
      "total 1476\n",
      "-rwxrwxrwx 1 kavis kavis 166075 Oct  6 21:00 1500x500.jpeg\n",
      "-rwxrwxrwx 1 kavis kavis   4622 Oct 20 11:56 Lab_questions.ipynb\n",
      "-rwxrwxrwx 1 kavis kavis  23480 Oct  6 20:02 Linux_shell_setup_windows.ipynb\n",
      "-rwxrwxrwx 1 kavis kavis  16733 Oct 26 14:38 Linux_shell_w1_a.ipynb\n",
      "-rwxrwxrwx 1 kavis kavis  73877 Oct 26 15:43 Linux_shell_w1_b.ipynb\n",
      "-rwxrwxrwx 1 kavis kavis  52076 Oct 26 15:44 Linux_shell_w1_c.ipynb\n",
      "-rwxrwxrwx 1 kavis kavis 112827 Oct 20 11:12 Linux_shell_w1_d.ipynb\n",
      "-rwxrwxrwx 1 kavis kavis  28780 Oct 20 12:56 Linux_shell_w2_a.ipynb\n",
      "-rwxrwxrwx 1 kavis kavis  33192 Oct 23 09:38 Linux_shell_w2_b.ipynb\n",
      "-rwxrwxrwx 1 kavis kavis 345643 Oct 23 09:40 Linux_shell_w2_c.ipynb\n",
      "-rwxrwxrwx 1 kavis kavis  84362 Oct 23 14:37 Linux_shell_w2_d.ipynb\n",
      "-rwxrwxrwx 1 kavis kavis  25450 Oct 23 16:27 Linux_shell_w3_a.ipynb\n",
      "-rwxrwxrwx 1 kavis kavis  37083 Oct 23 16:43 Linux_shell_w3_b.ipynb\n",
      "-rwxrwxrwx 1 kavis kavis  39684 Oct 23 17:35 Linux_shell_w3_c.ipynb\n",
      "-rwxrwxrwx 1 kavis kavis  40034 Oct 23 17:32 Linux_shell_w3_d.ipynb\n",
      "-rwxrwxrwx 1 kavis kavis  43854 Oct 23 17:45 Linux_shell_w3_e.ipynb\n",
      "-rwxrwxrwx 1 kavis kavis  20663 Oct 23 18:08 Linux_shell_w4a.ipynb\n",
      "-rwxrwxrwx 1 kavis kavis  34663 Oct 23 18:08 Linux_shell_w4b.ipynb\n",
      "-rwxrwxrwx 1 kavis kavis   8173 Oct 20 09:35 SC_Week0_Unit0.ipynb\n",
      "-rwxrwxrwx 1 kavis kavis 230730 Oct  5 19:51 SC_Week0_Unit1.ipynb\n",
      "-rwxrwxrwx 1 kavis kavis  16186 Oct  5 20:28 SC_Week0_Unit2.ipynb\n",
      "-rwxrwxrwx 1 kavis kavis   3531 Oct  5 19:52 SC_Week0_Unit4.ipynb\n",
      "-rwxrwxrwx 1 kavis kavis   4159 Oct  5 19:51 SC_Week0_Unit5.ipynb\n",
      "-rwxrwxrwx 1 kavis kavis      0 Oct 20 12:55 anotherfile.txt\n",
      "-rwxrwxrwx 1 kavis kavis   4096 Oct 20 10:28 block_size_file.txt\n",
      "drwxrwxrwx 1 kavis kavis   4096 Oct 26 14:30 empty_directory\n",
      "-rwxrwxrwx 1 kavis kavis      0 Oct 26 15:36 file1\n",
      "-rwxrwxrwx 1 kavis kavis      0 Oct 26 15:36 file2\n",
      "drwxrwxrwx 1 kavis kavis   4096 Oct 26 15:46 level1\n",
      "-rwxrwxrwx 1 kavis kavis    709 Oct 20 12:56 myfile.txt\n",
      "-rwxrwxrwx 1 kavis kavis    199 Oct  7 01:17 random_toss.py\n",
      "-rwxrwxrwx 1 kavis kavis      0 Oct 20 09:36 random_toss.py.ipynb\n",
      "-rwxrwxrwx 1 kavis kavis   3771 Oct 22 07:01 test.bashrc\n",
      "-rwxrwxrwx 1 kavis kavis     44 Oct 20 12:26 testfile.txt\n",
      "total 1476\n",
      "-rwxrwxrwx 1 kavis kavis 166075 Oct  6 21:00 1500x500.jpeg\n",
      "-rwxrwxrwx 1 kavis kavis   4622 Oct 20 11:56 Lab_questions.ipynb\n",
      "-rwxrwxrwx 1 kavis kavis  23480 Oct  6 20:02 Linux_shell_setup_windows.ipynb\n",
      "-rwxrwxrwx 1 kavis kavis  16733 Oct 26 14:38 Linux_shell_w1_a.ipynb\n",
      "-rwxrwxrwx 1 kavis kavis  73877 Oct 26 15:43 Linux_shell_w1_b.ipynb\n",
      "-rwxrwxrwx 1 kavis kavis  52076 Oct 26 15:44 Linux_shell_w1_c.ipynb\n",
      "-rwxrwxrwx 1 kavis kavis 112827 Oct 20 11:12 Linux_shell_w1_d.ipynb\n",
      "-rwxrwxrwx 1 kavis kavis  28780 Oct 20 12:56 Linux_shell_w2_a.ipynb\n",
      "-rwxrwxrwx 1 kavis kavis  33192 Oct 23 09:38 Linux_shell_w2_b.ipynb\n",
      "-rwxrwxrwx 1 kavis kavis 345643 Oct 23 09:40 Linux_shell_w2_c.ipynb\n",
      "-rwxrwxrwx 1 kavis kavis  84362 Oct 23 14:37 Linux_shell_w2_d.ipynb\n",
      "-rwxrwxrwx 1 kavis kavis  25450 Oct 23 16:27 Linux_shell_w3_a.ipynb\n",
      "-rwxrwxrwx 1 kavis kavis  37083 Oct 23 16:43 Linux_shell_w3_b.ipynb\n",
      "-rwxrwxrwx 1 kavis kavis  39684 Oct 23 17:35 Linux_shell_w3_c.ipynb\n",
      "-rwxrwxrwx 1 kavis kavis  40034 Oct 23 17:32 Linux_shell_w3_d.ipynb\n",
      "-rwxrwxrwx 1 kavis kavis  43854 Oct 23 17:45 Linux_shell_w3_e.ipynb\n",
      "-rwxrwxrwx 1 kavis kavis  20663 Oct 23 18:08 Linux_shell_w4a.ipynb\n",
      "-rwxrwxrwx 1 kavis kavis  34663 Oct 23 18:08 Linux_shell_w4b.ipynb\n",
      "-rwxrwxrwx 1 kavis kavis   8173 Oct 20 09:35 SC_Week0_Unit0.ipynb\n",
      "-rwxrwxrwx 1 kavis kavis 230730 Oct  5 19:51 SC_Week0_Unit1.ipynb\n",
      "-rwxrwxrwx 1 kavis kavis  16186 Oct  5 20:28 SC_Week0_Unit2.ipynb\n",
      "-rwxrwxrwx 1 kavis kavis   3531 Oct  5 19:52 SC_Week0_Unit4.ipynb\n",
      "-rwxrwxrwx 1 kavis kavis   4159 Oct  5 19:51 SC_Week0_Unit5.ipynb\n",
      "-rwxrwxrwx 1 kavis kavis      0 Oct 20 12:55 anotherfile.txt\n",
      "-rwxrwxrwx 1 kavis kavis   4096 Oct 20 10:28 block_size_file.txt\n",
      "drwxrwxrwx 1 kavis kavis   4096 Oct 26 14:30 empty_directory\n",
      "-rwxrwxrwx 1 kavis kavis      0 Oct 26 15:36 file1\n",
      "-rwxrwxrwx 1 kavis kavis      0 Oct 26 15:36 file2\n",
      "drwxrwxrwx 1 kavis kavis   4096 Oct 26 15:46 level1\n",
      "-rwxrwxrwx 1 kavis kavis    709 Oct 20 12:56 myfile.txt\n",
      "-rwxrwxrwx 1 kavis kavis    199 Oct  7 01:17 random_toss.py\n",
      "-rwxrwxrwx 1 kavis kavis      0 Oct 20 09:36 random_toss.py.ipynb\n",
      "-rwxrwxrwx 1 kavis kavis   3771 Oct 22 07:01 test.bashrc\n",
      "-rwxrwxrwx 1 kavis kavis     44 Oct 20 12:26 testfile.txt\n"
     ]
    }
   ],
   "source": [
    "%%bash\n",
    "#chmod\n",
    "mkdir level1\n",
    "ls -l\n",
    "# permission string reflects permissions to users which can be changed my chmod command\n",
    "chmod g-w level1\n",
    "ls -l\n",
    "rmdir level1\n"
   ]
  },
  {
   "cell_type": "markdown",
   "metadata": {},
   "source": [
    "### Difference Between Linux and Windows File Systems\n",
    "\n",
    "### File System Types:\n",
    "\n",
    "Linux: Uses file systems like ext4, ext3, xfs, and btrfs.\n",
    "Windows: Uses NTFS (New Technology File System) and FAT32.\n",
    "\n",
    "\n",
    "### Permissions\n",
    "Linux: Has a detailed permission model with read, write, and execute permissions for the user, group, and others. It supports commands like chmod and chown to control access.\n",
    "Windows: Uses Access Control Lists (ACLs) to set permissions. ACLs allow for more granular control but are not compatible with the Unix permission model. This is why changing permissions with chmod on a Windows file system has no effect.\n",
    "\n",
    "\n",
    "### Case Sensitivity:\n",
    "\n",
    "Linux: Case-sensitive. file.txt and File.txt are treated as separate files.\n",
    "Windows: Generally case-insensitive. file.txt and File.txt are considered the same file.\n",
    "\n",
    "### File Path Differences:\n",
    "\n",
    "Linux: Paths use forward slashes (/), e.g., /home/kavis.\n",
    "Windows: Paths use backslashes (\\), e.g., C:\\Users\\kavis.\n",
    "\n",
    "When you work in directories like /mnt/c/, /mnt/d/, etc., you’re actually interacting with the Windows file system through WSL, which has limitations when it comes to Unix-style operations.\n",
    "By working in Linux directories like /home/kavis, you can use native Linux commands and features (like chmod) without restrictions.\n",
    "In Summary: Move to directories like /home/kavis to use Linux file system features effectively and see your chmod changes reflect properly!\n",
    "\n",
    "### Move to linux file system\n",
    "To move to the Linux file system in WSL, you can navigate to the home directory or any other directory that resides within the Linux environment. Here's how you can do it:\n",
    "\n",
    "Go to Your Linux Home Directory: cd~\n",
    "Create a New Directory: Once you're in your Linux home directory, create a new directory for testing:\n"
   ]
  },
  {
   "cell_type": "code",
   "execution_count": 18,
   "metadata": {},
   "outputs": [
    {
     "name": "stdout",
     "output_type": "stream",
     "text": [
      "/home/kavis\n",
      "/mnt/c/Users/kavis/Upskilling/Github repository/Rep1/Linux_shell\n",
      "/mnt/c/Users/kavis/Upskilling/Github repository/Rep1/Linux_shell\n",
      "/home/kavis\n",
      "total 12\n",
      "drwxr-xr-x 2 kavis kavis 4096 Oct 20 09:31 level1\n",
      "lrwxrwxrwx 1 kavis kavis   52 Oct  6 23:38 rep1 -> /mnt/c/Users/kavis/Upskilling/Github repository/Rep1\n",
      "-rw-r--r-- 1 kavis kavis   22 Oct 19 16:04 testfile.txt\n",
      "drwxr-xr-x 2 kavis kavis 4096 Oct  8 15:58 text_demo\n",
      "total 12\n",
      "drwxr--r-x 2 kavis kavis 4096 Oct 20 09:31 level1\n",
      "lrwxrwxrwx 1 kavis kavis   52 Oct  6 23:38 rep1 -> /mnt/c/Users/kavis/Upskilling/Github repository/Rep1\n",
      "-rw-r--r-- 1 kavis kavis   22 Oct 19 16:04 testfile.txt\n",
      "drwxr-xr-x 2 kavis kavis 4096 Oct  8 15:58 text_demo\n",
      "total 12\n",
      "drwx---r-x 2 kavis kavis 4096 Oct 20 09:31 level1\n",
      "lrwxrwxrwx 1 kavis kavis   52 Oct  6 23:38 rep1 -> /mnt/c/Users/kavis/Upskilling/Github repository/Rep1\n",
      "-rw-r--r-- 1 kavis kavis   22 Oct 19 16:04 testfile.txt\n",
      "drwxr-xr-x 2 kavis kavis 4096 Oct  8 15:58 text_demo\n",
      "total 12\n",
      "drwx---rwx 2 kavis kavis 4096 Oct 20 09:31 level1\n",
      "lrwxrwxrwx 1 kavis kavis   52 Oct  6 23:38 rep1 -> /mnt/c/Users/kavis/Upskilling/Github repository/Rep1\n",
      "-rw-r--r-- 1 kavis kavis   22 Oct 19 16:04 testfile.txt\n",
      "drwxr-xr-x 2 kavis kavis 4096 Oct  8 15:58 text_demo\n",
      "total 12\n",
      "drwx------ 2 kavis kavis 4096 Oct 20 09:31 level1\n",
      "lrwxrwxrwx 1 kavis kavis   52 Oct  6 23:38 rep1 -> /mnt/c/Users/kavis/Upskilling/Github repository/Rep1\n",
      "-rw-r--r-- 1 kavis kavis   22 Oct 19 16:04 testfile.txt\n",
      "drwxr-xr-x 2 kavis kavis 4096 Oct  8 15:58 text_demo\n",
      "total 12\n",
      "drwx---rwx 2 kavis kavis 4096 Oct 20 09:31 level1\n",
      "lrwxrwxrwx 1 kavis kavis   52 Oct  6 23:38 rep1 -> /mnt/c/Users/kavis/Upskilling/Github repository/Rep1\n",
      "-rw-r--r-- 1 kavis kavis   22 Oct 19 16:04 testfile.txt\n",
      "drwxr-xr-x 2 kavis kavis 4096 Oct  8 15:58 text_demo\n"
     ]
    }
   ],
   "source": [
    "%%bash\n",
    "\n",
    "cd ~\n",
    "pwd\n",
    "\n",
    "cd -    # change to previous directory\n",
    "pwd\n",
    "\n",
    "cd \n",
    "pwd\n",
    "\n",
    "mkdir level1\n",
    "ls -l\n",
    "\n",
    "chmod g-x level1\n",
    "ls -l\n",
    "\n",
    "chmod g-r level1\n",
    "ls -l\n",
    "\n",
    "chmod o+w level1\n",
    "ls -l\n",
    "\n",
    "chmod 700 level1\n",
    "ls -l\n",
    "\n",
    "chmod 707 level1\n",
    "ls -l\n",
    "\n",
    "rm -r level1\n"
   ]
  },
  {
   "cell_type": "code",
   "execution_count": 5,
   "metadata": {},
   "outputs": [
    {
     "name": "stdout",
     "output_type": "stream",
     "text": [
      "/home/kavis\n",
      "/home/kavis/level1\n",
      "total 0\n",
      "/home/kavis/level1\n",
      "total 0\n",
      "-rwx---rwx 1 kavis kavis 0 Oct 26 15:50 file1\n",
      "/home/kavis/level1\n",
      "total 0\n",
      "-rwx---rwx 1 kavis kavis 0 Oct 26 15:50 file1\n",
      "-rwx---r-x 1 kavis kavis 0 Oct 26 15:50 file2\n",
      "/home/kavis/level1\n",
      "total 0\n",
      "-rwx---rwx 1 kavis kavis 0 Oct 26 15:50 file1\n",
      "/home/kavis\n",
      "total 12\n",
      "-rw-r--r-- 1 kavis kavis    0 Oct 23 18:55 at\n",
      "-rwx---r-x 1 kavis kavis    0 Oct 26 15:50 file2\n",
      "drwxr-xr-x 2 kavis kavis 4096 Oct 26 15:50 level1\n",
      "lrwxrwxrwx 1 kavis kavis   52 Oct  6 23:38 rep1 -> /mnt/c/Users/kavis/Upskilling/Github repository/Rep1\n",
      "-rw-r--r-- 1 kavis kavis   22 Oct 19 16:04 testfile.txt\n",
      "drwxr-xr-x 2 kavis kavis 4096 Oct  8 15:58 text_demo\n",
      "total 12\n",
      "-rw-r--r-- 1 kavis kavis    0 Oct 23 18:55 at\n",
      "-rwx---r-x 1 kavis kavis    0 Oct 26 15:50 file2a\n",
      "drwxr-xr-x 2 kavis kavis 4096 Oct 26 15:50 level1\n",
      "lrwxrwxrwx 1 kavis kavis   52 Oct  6 23:38 rep1 -> /mnt/c/Users/kavis/Upskilling/Github repository/Rep1\n",
      "-rw-r--r-- 1 kavis kavis   22 Oct 19 16:04 testfile.txt\n",
      "drwxr-xr-x 2 kavis kavis 4096 Oct  8 15:58 text_demo\n"
     ]
    }
   ],
   "source": [
    "%%bash\n",
    "cd \n",
    "pwd\n",
    "\n",
    "mkdir level1\n",
    "cd level1 \n",
    "pwd\n",
    "ls -l\n",
    "\n",
    "touch file1 #make empty file - touch is actually used to chage timestamp\n",
    "chmod 707 file1\n",
    "pwd\n",
    "ls -l\n",
    "\n",
    "cp file1 file2\n",
    "pwd\n",
    "ls -l\n",
    "\n",
    "mv file2 ..\n",
    "pwd\n",
    "ls -l\n",
    "\n",
    "cd ..\n",
    "pwd\n",
    "ls -l\n",
    "\n",
    "mv file2 file2a\n",
    "ls -l\n",
    "\n",
    "cd level1 \n",
    "rm file1\n",
    "cd ..\n",
    "rm file2a\n",
    "rm -r level1"
   ]
  },
  {
   "cell_type": "markdown",
   "metadata": {},
   "source": [
    "The `cp` and `mv` commands in Linux are used to copy and move files or directories, respectively. Here’s a quick overview of each command:\n",
    "\n",
    "---\n",
    "\n",
    "### `cp` (Copy)\n",
    "\n",
    "The `cp` command copies files or directories from one location to another. By default, `cp` does not delete the original file or directory; it simply creates a duplicate.\n",
    "\n",
    "#### Basic Syntax\n",
    "```bash\n",
    "cp [options] source destination\n",
    "```\n",
    "\n",
    "#### Common Usage Examples\n",
    "1. **Copy a file**:\n",
    "   ```bash\n",
    "   cp file1.txt file2.txt\n",
    "   # Copies file1.txt to file2.txt in the same directory\n",
    "   ```\n",
    "\n",
    "2. **Copy a file to a different directory**:\n",
    "   ```bash\n",
    "   cp file1.txt /path/to/directory/\n",
    "   # Copies file1.txt into the specified directory\n",
    "   ```\n",
    "\n",
    "3. **Copy a directory**:\n",
    "   ```bash\n",
    "   cp -r dir1 dir2\n",
    "   # Copies the entire directory dir1 to dir2. Use -r (recursive) to copy directories.\n",
    "   ```\n",
    "\n",
    "#### Common Options\n",
    "- **`-r`**: Recursive; needed for copying directories.\n",
    "- **`-i`**: Interactive; prompts before overwriting existing files.\n",
    "- **`-u`**: Only copies if the source file is newer or the destination file is missing.\n",
    "- **`-v`**: Verbose; shows what is being copied.\n",
    "\n",
    "---\n",
    "\n",
    "### `mv` (Move)\n",
    "\n",
    "The `mv` command moves files or directories from one location to another. Unlike `cp`, it removes the original file or directory after moving it, effectively renaming it or changing its location.\n",
    "\n",
    "#### Basic Syntax\n",
    "```bash\n",
    "mv [options] source destination\n",
    "```\n",
    "\n",
    "#### Common Usage Examples\n",
    "1. **Move a file**:\n",
    "   ```bash\n",
    "   mv file1.txt file2.txt\n",
    "   # Renames file1.txt to file2.txt\n",
    "   ```\n",
    "\n",
    "2. **Move a file to a different directory**:\n",
    "   ```bash\n",
    "   mv file1.txt /path/to/directory/\n",
    "   # Moves file1.txt to the specified directory\n",
    "   ```\n",
    "\n",
    "3. **Move a directory**:\n",
    "   ```bash\n",
    "   mv dir1 /path/to/directory/\n",
    "   # Moves the entire directory dir1 to the specified location\n",
    "   ```\n",
    "\n",
    "#### Common Options\n",
    "- **`-i`**: Interactive; prompts before overwriting existing files.\n",
    "- **`-u`**: Only moves if the source file is newer or the destination file is missing.\n",
    "- **`-v`**: Verbose; shows what is being moved.\n",
    "\n",
    "---\n",
    "\n",
    "### Key Differences\n",
    "\n",
    "- **`cp`** duplicates files or directories, leaving the originals intact.\n",
    "- **`mv`** moves or renames files or directories, removing them from the original location.\n",
    "\n",
    "Let me know if you'd like examples of specific scenarios!"
   ]
  },
  {
   "cell_type": "code",
   "execution_count": 8,
   "metadata": {},
   "outputs": [
    {
     "name": "stdout",
     "output_type": "stream",
     "text": [
      "/home/kavis\n",
      "ls -li\n",
      "total 8\n",
      "93601 -rw-r--r-- 1 kavis kavis    0 Oct 23 18:55 at\n",
      "43681 -rw-r--r-- 1 kavis kavis    0 Oct 26 15:56 file 2\n",
      "43664 lrwxrwxrwx 1 kavis kavis   52 Oct  6 23:38 rep1 -> /mnt/c/Users/kavis/Upskilling/Github repository/Rep1\n",
      "82546 -rw-r--r-- 1 kavis kavis   22 Oct 19 16:04 testfile.txt\n",
      "83910 drwxr-xr-x 2 kavis kavis 4096 Oct  8 15:58 text_demo\n",
      "alias rm='rm -i'\n",
      "/home/kavis\n",
      "ls -li\n",
      "total 8\n",
      "93601 -rw-r--r-- 1 kavis kavis    0 Oct 23 18:55 at\n",
      "43664 lrwxrwxrwx 1 kavis kavis   52 Oct  6 23:38 rep1 -> /mnt/c/Users/kavis/Upskilling/Github repository/Rep1\n",
      "82546 -rw-r--r-- 1 kavis kavis   22 Oct 19 16:04 testfile.txt\n",
      "83910 drwxr-xr-x 2 kavis kavis 4096 Oct  8 15:58 text_demo\n",
      "ls -li\n",
      "total 12\n",
      "93601 -rw-r--r-- 1 kavis kavis    0 Oct 23 18:55 at\n",
      "43681 drwxr-xr-x 2 kavis kavis 4096 Oct 26 15:56 level1a\n",
      "43664 lrwxrwxrwx 1 kavis kavis   52 Oct  6 23:38 rep1 -> /mnt/c/Users/kavis/Upskilling/Github repository/Rep1\n",
      "82546 -rw-r--r-- 1 kavis kavis   22 Oct 19 16:04 testfile.txt\n",
      "83910 drwxr-xr-x 2 kavis kavis 4096 Oct  8 15:58 text_demo\n"
     ]
    }
   ],
   "source": [
    "%%bash\n",
    "cd \n",
    "pwd\n",
    "touch \"file 2\"  #space in filename\n",
    "echo \"ls -li\"\n",
    "ls -li\n",
    "\n",
    "alias rm=\"rm -i\"\n",
    "rm \"file 2\"\n",
    "alias\n",
    "pwd\n",
    "echo \"ls -li\"\n",
    "ls -li\n",
    "\n",
    "mkdir level1a\n",
    "echo \"ls -li\"\n",
    "ls -li\n",
    "# as new directory is added, hard links for present directory. increased by one\n",
    "\n",
    "rm -r level1a"
   ]
  },
  {
   "cell_type": "code",
   "execution_count": 21,
   "metadata": {},
   "outputs": [
    {
     "name": "stdout",
     "output_type": "stream",
     "text": [
      "kavis\n",
      "/\n",
      "., .., bin, bin.usr-is-merged, boot, dev, etc, home, init, lib,\n",
      "lib.usr-is-merged, lib64, lost+found, media, mnt, opt, proc, root, run, sbin,\n",
      "sbin.usr-is-merged, snap, srv, sys, tmp, usr, var\n"
     ]
    },
    {
     "name": "stderr",
     "output_type": "stream",
     "text": [
      "touch: cannot touch 'file1': Permission denied\n"
     ]
    },
    {
     "name": "stdout",
     "output_type": "stream",
     "text": [
      "\u001b[H\u001b[2J"
     ]
    }
   ],
   "source": [
    "%%bash\n",
    "whoami\n",
    "cd /   # move to root directory\n",
    "pwd\n",
    "ls -ma\n",
    "# root folder doesnt have rwx permissions for kavis- it has permission only for root directory . \n",
    "touch file1\n",
    "# write w not allowed in root directory. by other users \n",
    "clear"
   ]
  },
  {
   "cell_type": "code",
   "execution_count": 22,
   "metadata": {},
   "outputs": [
    {
     "name": "stdout",
     "output_type": "stream",
     "text": [
      "/var/log\n",
      "update-alternatives 2024-09-27 20:13:01: run with --install /usr/bin/awk awk /usr/bin/mawk 5 --slave /usr/share/man/man1/awk.1.gz awk.1.gz /usr/share/man/man1/mawk.1.gz --slave /usr/bin/nawk nawk /usr/bin/mawk --slave /usr/share/man/man1/nawk.1.gz nawk.1.gz /usr/share/man/man1/mawk.1.gz\n",
      "update-alternatives 2024-09-27 20:13:01: link group awk updated to point to /usr/bin/mawk\n"
     ]
    }
   ],
   "source": [
    "%%bash\n",
    "cd /\n",
    "cd var/log\n",
    "pwd\n",
    "head -n 2 alternatives.log  # Display the first 2 lines of the file"
   ]
  },
  {
   "cell_type": "markdown",
   "metadata": {},
   "source": [
    "less alternatives.log      \n",
    "\n",
    "\n",
    "How to read a full file ?"
   ]
  },
  {
   "cell_type": "code",
   "execution_count": 23,
   "metadata": {},
   "outputs": [
    {
     "name": "stdout",
     "output_type": "stream",
     "text": [
      "/var/log\n"
     ]
    },
    {
     "name": "stderr",
     "output_type": "stream",
     "text": [
      "chmod: changing permissions of 'alternatives.log': Operation not permitted\n",
      "mkdir: cannot create directory ‘level1’: Permission denied\n",
      "touch: cannot touch 'file1': Permission denied\n"
     ]
    },
    {
     "name": "stdout",
     "output_type": "stream",
     "text": [
      "\u001b[H\u001b[2J"
     ]
    }
   ],
   "source": [
    "%%bash\n",
    "cd /\n",
    "cd var/log\n",
    "pwd \n",
    "chmod o+w alternatives.log  # permissions change not allowed by users other than root directory \n",
    "mkdir level1                # write not allowed by users other than root directory \n",
    "touch file1\n",
    "clear"
   ]
  },
  {
   "cell_type": "code",
   "execution_count": 9,
   "metadata": {},
   "outputs": [
    {
     "name": "stdout",
     "output_type": "stream",
     "text": [
      "/mnt/c/Users/kavis/Upskilling/Github repository/Rep1/Linux_shell\n",
      "/home/kavis\n",
      "Linux_shell_w1_a.ipynb: JSON text data\n",
      "1500x500.jpeg: JPEG image data, JFIF standard 1.01, aspect ratio, density 1x1, segment length 16, progressive, precision 8, 1500x500, components 3\n",
      "random_toss.py: ASCII text, with CRLF line terminators\n",
      ".hidden_directory: directory\n"
     ]
    }
   ],
   "source": [
    "%%bash\n",
    "pwd\n",
    "cd \n",
    "pwd\n",
    "cd rep1/Linux_shell\n",
    "file Linux_shell_w1_a.ipynb   #what kind of file is it\n",
    "file 1500x500.jpeg          #its a binary file, not a text file\n",
    "file random_toss.py\n",
    "file .hidden_directory"
   ]
  },
  {
   "cell_type": "markdown",
   "metadata": {},
   "source": [
    "CRLF Line Terminators: CRLF stands for Carriage Return (CR) and Line Feed (LF), represented as \\r\\n in programming.\n",
    "\n",
    "CR (\\r) moves the cursor to the beginning of the line (Carriage Return).\n",
    " \n",
    "LF (\\n) moves the cursor to the next line (Line Feed).\n",
    "\n",
    "Together, CRLF is used to mark the end of a line in text files on Windows systems. In contrast, Unix/Linux systems typically use just LF (\\n)."
   ]
  },
  {
   "cell_type": "code",
   "execution_count": 30,
   "metadata": {},
   "outputs": [
    {
     "name": "stdout",
     "output_type": "stream",
     "text": [
      "Sun Oct 20 09:36:10 IST 2024\n",
      "total 720\n",
      "-rwxrwxrwx 1 kavis kavis 166075 Oct  6 21:00 1500x500.jpeg\n",
      "-rwxrwxrwx 1 kavis kavis  23480 Oct  6 20:02 Linux_shell_setup_windows.ipynb\n",
      "-rwxrwxrwx 1 kavis kavis  15824 Oct 20 06:58 Linux_shell_w1_a.ipynb\n",
      "-rwxrwxrwx 1 kavis kavis  67233 Oct 20 07:38 Linux_shell_w1_b.ipynb\n",
      "-rwxrwxrwx 1 kavis kavis  41261 Oct 20 07:55 Linux_shell_w1_c.ipynb\n",
      "-rwxrwxrwx 1 kavis kavis 101837 Oct  9 09:22 Linux_shell_w1_d.ipynb\n",
      "-rwxrwxrwx 1 kavis kavis  40244 Oct 19 22:51 Linux_shell_w2_a.ipynb\n",
      "-rwxrwxrwx 1 kavis kavis   8173 Oct 20 09:35 SC_Week0_Unit0.ipynb\n",
      "-rwxrwxrwx 1 kavis kavis 230730 Oct  5 19:51 SC_Week0_Unit1.ipynb\n",
      "-rwxrwxrwx 1 kavis kavis  16186 Oct  5 20:28 SC_Week0_Unit2.ipynb\n",
      "-rwxrwxrwx 1 kavis kavis   3531 Oct  5 19:52 SC_Week0_Unit4.ipynb\n",
      "-rwxrwxrwx 1 kavis kavis   4159 Oct  5 19:51 SC_Week0_Unit5.ipynb\n",
      "-rwxrwxrwx 1 kavis kavis    199 Oct  7 01:17 random_toss.py\n",
      "-rwxrwxrwx 1 kavis kavis      0 Oct 20 09:36 random_toss.py.ipynb\n"
     ]
    }
   ],
   "source": [
    "%%bash\n",
    "date\n",
    "\n",
    "touch random_toss.py.ipynb   #changes the timestamp to latest time\n",
    "ls -l\n"
   ]
  },
  {
   "cell_type": "markdown",
   "metadata": {},
   "source": [
    "The -e option with the echo command in Linux enables interpretation of backslash-escaped characters. Without -e, echo treats backslashes literally, but with -e, it recognizes special characters like \\n (newline), \\t (tab), and others. This option is useful for adding formatting to your output.\n",
    "\n",
    "\n",
    "Common Escape Sequences Used with echo -e\n",
    "\n",
    "\\n: Newline\n",
    "\n",
    "\\t: Horizontal tab\n",
    "\n",
    "\\r: Carriage return\n",
    "\n",
    "\\b: Backspace\n",
    "\n",
    "\\a: Alert (bell)\n",
    "\n",
    "\\\\: Literal backslash"
   ]
  },
  {
   "cell_type": "markdown",
   "metadata": {},
   "source": [
    "Here's a comparison of the `cat`, `more`, `less`, and `head` commands, covering their functions, navigation, use cases, and how they’re best suited for different scenarios:\n",
    "\n",
    "---\n",
    "\n",
    "### 1. `cat` (Concatenate and Display)\n",
    "- **Purpose**: Concatenates and displays the entire content of one or more files.\n",
    "- **Functionality**: Outputs the entire content of a file at once without any pagination or scrolling.\n",
    "- **Navigation**: None; it displays all content at once.\n",
    "- **Advantages**:\n",
    "  - Simple, fast, and ideal for viewing small files.\n",
    "  - Can concatenate (combine) multiple files and display or redirect output.\n",
    "- **Limitations**:\n",
    "  - Not suitable for large files as it dumps everything at once, causing terminal overflow.\n",
    "  - No scrolling or search capabilities.\n",
    "- **Common Use Cases**:\n",
    "  - Quick viewing of short files.\n",
    "  - Merging multiple files by redirecting output.\n",
    "  \n",
    "- **Example**:\n",
    "  ```bash\n",
    "  cat file.txt\n",
    "  # Displays all contents of file.txt\n",
    "  ```\n",
    "\n",
    "---\n",
    "\n",
    "### 2. `more` (Paginated Viewing)\n",
    "- **Purpose**: Displays file content one page (screenful) at a time, enabling simple pagination.\n",
    "- **Functionality**: Supports forward-only scrolling (cannot scroll back on most systems).\n",
    "- **Navigation**:\n",
    "  - **Space**: Scrolls down by one page.\n",
    "  - **Enter**: Scrolls down by one line.\n",
    "  - **q**: Quits `more`.\n",
    "- **Advantages**:\n",
    "  - Lightweight and useful for moderately large files.\n",
    "  - Allows viewing content one page at a time, avoiding terminal overflow.\n",
    "- **Limitations**:\n",
    "  - Limited navigation with no backward scrolling.\n",
    "  - Minimal interactivity; lacks search or advanced navigation features.\n",
    "- **Common Use Cases**:\n",
    "  - Viewing moderately sized files where simple forward-only scrolling suffices.\n",
    "  \n",
    "- **Example**:\n",
    "  ```bash\n",
    "  more file.txt\n",
    "  # Opens file.txt in a paginated view\n",
    "  ```\n",
    "\n",
    "---\n",
    "\n",
    "### 3. `less` (Advanced Pager)\n",
    "- **Purpose**: Provides advanced, flexible viewing of file content with full navigation and search capabilities.\n",
    "- **Functionality**: Allows both forward and backward scrolling, searching within the file, and jumping to specific lines.\n",
    "- **Navigation**:\n",
    "  - **Arrow keys**: Scroll line-by-line (up and down).\n",
    "  - **Space**: Scrolls down by one page.\n",
    "  - **b**: Scrolls up by one page.\n",
    "  - **/pattern**: Searches forward for a pattern.\n",
    "  - **?pattern**: Searches backward for a pattern.\n",
    "  - **n**: Moves to the next search match.\n",
    "  - **g**: Goes to the beginning of the file.\n",
    "  - **G**: Goes to the end of the file.\n",
    "  - **q**: Quits `less`.\n",
    "- **Advantages**:\n",
    "  - Highly flexible and efficient for large files.\n",
    "  - Loads content as needed, making it memory-efficient.\n",
    "  - Full navigation, including backward scrolling, searching, and line-jumping.\n",
    "- **Limitations**:\n",
    "  - Slightly more complex than `cat` and `more`, but very lightweight and efficient.\n",
    "- **Common Use Cases**:\n",
    "  - Examining large log files or configuration files with complex navigation requirements.\n",
    "  \n",
    "- **Example**:\n",
    "  ```bash\n",
    "  less file.txt\n",
    "  # Opens file.txt in a scrollable and searchable view\n",
    "  ```\n",
    "\n",
    "---\n",
    "\n",
    "### 4. `head` (Display First Few Lines)\n",
    "- **Purpose**: Displays the first few lines of a file (default is 10 lines).\n",
    "- **Functionality**: Outputs a specified number of lines from the beginning of a file.\n",
    "- **Navigation**: None; displays only the specified number of lines and then exits.\n",
    "- **Advantages**:\n",
    "  - Simple and useful for getting a quick preview of a file.\n",
    "  - Highly efficient as it only reads the first lines, making it faster for large files.\n",
    "- **Limitations**:\n",
    "  - No pagination or scrolling; limited to the start of the file only.\n",
    "- **Common Use Cases**:\n",
    "  - Quickly checking the start of a file (e.g., headers of data files, log files).\n",
    "  - Ideal for previewing files without loading everything.\n",
    "  \n",
    "- **Example**:\n",
    "  ```bash\n",
    "  head -n 5 file.txt\n",
    "  # Displays the first 5 lines of file.txt\n",
    "  ```\n",
    "\n",
    "---\n",
    "\n",
    "### Summary Comparison Table\n",
    "\n",
    "| Command | Purpose                   | Navigation                  | Key Features                             | Best For                                    |\n",
    "|---------|---------------------------|-----------------------------|------------------------------------------|---------------------------------------------|\n",
    "| **`cat`**  | Concatenation and full display | None                        | Simple and fast, combines files          | Small files or merging files                |\n",
    "| **`more`** | Basic paginated viewing        | Forward-only                | Lightweight, basic pagination            | Moderately large files                      |\n",
    "| **`less`** | Advanced paginated viewing     | Full navigation, search     | Scrollable, searchable, memory-efficient | Large files needing in-depth navigation     |\n",
    "| **`head`** | Display first few lines        | None                        | Fast preview of file start               | Quick look at the beginning of a large file |\n",
    "\n",
    "---\n",
    "\n",
    "### Key Points\n",
    "- **`cat`**: Use for quick, single-shot viewing or merging small files.\n",
    "- **`more`**: Use for paginated, forward-only reading of moderate files.\n",
    "- **`less`**: Use for advanced exploration of large files with full navigation and search.\n",
    "- **`head`**: Use to preview the beginning of a file or examine initial lines.\n",
    "\n",
    "\n",
    "### `cat`\n",
    "\n",
    "- `cat file1.txt`: Displays the contents of `file1.txt`.\n",
    "- `cat file2.txt file3.txt`: Concatenates and displays the contents of `file2.txt` and `file3.txt`.\n",
    "\n",
    "### `head`\n",
    "\n",
    "- `head file1.txt`: Shows the first 10 lines of `file1.txt` (default behavior).\n",
    "- `head -n 2 file2.txt`: Shows the first 2 lines of `file2.txt`.\n",
    "- `head -n 5 file3.txt`: Shows the first 5 lines of `file3.txt`.\n",
    "\n",
    "### `tail`\n",
    "\n",
    "- `tail file1.txt`: Shows the last 10 lines of `file1.txt` (default behavior).\n",
    "- `tail -n 2 file2.txt`: Shows the last 2 lines of `file2.txt`.\n",
    "- `tail -n 5 file3.txt`: Shows the last 5 lines of `file3.txt`.\n",
    "\n",
    "### Combining `head` and `tail`\n",
    "\n",
    "- `head -n 4 file2.txt | tail -n 2`: Extracts and shows lines 3 and 4 of `file2.txt` by first selecting the first 4 lines with `head` and then selecting the last 2 of those with `tail`.\n"
   ]
  },
  {
   "cell_type": "code",
   "execution_count": 10,
   "metadata": {},
   "outputs": [
    {
     "name": "stdout",
     "output_type": "stream",
     "text": [
      "Creating a directory structure 'text_demo' for demonstration...\n",
      "Creating 'file1.txt'in 'text_demo' directory with sample content.\n",
      "Displaying contents of 'file1.txt' using 'cat':\n",
      "Hello World\n",
      "This is a sample text file.\n",
      "This is a demo for file operations.\n",
      "Hello again!\n",
      "Appending a new line 'This is an appended line.' to 'file1.txt'...\n",
      "Displaying modified 'file1.txt' with the appended line:\n",
      "Hello World\n",
      "This is a sample text file.\n",
      "This is a demo for file operations.\n",
      "Hello again!\n",
      "This is an appended line.\n",
      "Adding a line at the top and removing the second line from 'file1.txt'...\n",
      "Displaying modified 'file1.txt' after adding/removing lines:\n",
      "This is a new line added at the top.\n",
      "This is a sample text file.\n",
      "This is a demo for file operations.\n",
      "Hello again!\n",
      "This is an appended line.\n",
      "Adding a new line after the 2nd line in 'file1.txt'...\n",
      "Displaying modified 'file1.txt' after adding a line at a specific location:\n",
      "This is a new line added at the top.\n",
      "This is a sample text file.\n",
      "This line was added after the second line.\n",
      "This is a demo for file operations.\n",
      "Hello again!\n",
      "This is an appended line.\n",
      "The word 'Hello' occurs 1 times in 'file1.txt'.\n",
      "Displaying lines containing the word 'Hello'...\n",
      "5:Hello again!\n",
      "Cleaning up by removing the directory 'text_demo'...\n",
      "Directory 'text_demo' removed successfully.\n"
     ]
    }
   ],
   "source": [
    "%%bash\n",
    "\n",
    "# Create a directory structure for testing text file operations\n",
    "echo \"Creating a directory structure 'text_demo' for demonstration...\"\n",
    "mkdir -p text_demo\n",
    "cd text_demo\n",
    "\n",
    "# Create sample text files with different contents\n",
    "echo \"Creating 'file1.txt'in 'text_demo' directory with sample content.\"\n",
    "echo -e \"Hello World\\nThis is a sample text file.\\nThis is a demo for file operations.\\nHello again!\" > file1.txt\n",
    "\n",
    "# WRITE - SINGLE ARROW\n",
    "\n",
    "# 1. Display contents of the file using `cat`\n",
    "echo \"Displaying contents of 'file1.txt' using 'cat':\"\n",
    "cat file1.txt\n",
    "\n",
    "# 2. Append another line either above or below\n",
    "echo \"Appending a new line 'This is an appended line.' to 'file1.txt'...\"\n",
    "echo \"This is an appended line.\" >> file1.txt   # Append at the bottom\n",
    "\n",
    "## APPEND - DOUBLE ARROW \n",
    "\n",
    "# Display the modified file\n",
    "echo \"Displaying modified 'file1.txt' with the appended line:\"\n",
    "cat file1.txt\n",
    "\n",
    "# 3. Add or remove lines somewhere in the file\n",
    "echo \"Adding a line at the top and removing the second line from 'file1.txt'...\"\n",
    "sed -i '1iThis is a new line added at the top.' file1.txt  # Insert at the top\n",
    "sed -i '2d' file1.txt                                      # Delete the second line\n",
    "\n",
    "# Display the modified file\n",
    "echo \"Displaying modified 'file1.txt' after adding/removing lines:\"\n",
    "cat file1.txt\n",
    "\n",
    "# 4. Add a line at a specific location (e.g., after the 2nd line)\n",
    "echo \"Adding a new line after the 2nd line in 'file1.txt'...\"\n",
    "sed -i '2aThis line was added after the second line.' file1.txt\n",
    "\n",
    "# **`1i`**: Inserts text before line 1.\n",
    "# **`2d`**: Deletes line 2.\n",
    "# **`2a`**: Appends text after line 2.\n",
    "\n",
    "# Display the modified file\n",
    "echo \"Displaying modified 'file1.txt' after adding a line at a specific location:\"\n",
    "cat file1.txt\n",
    "\n",
    "# 5. Find occurrences of a word (e.g., 'Hello') and count them\n",
    "word_to_find=\"Hello\"\n",
    "occurrences=$(grep -o -i \"$word_to_find\" file1.txt | wc -l)\n",
    "echo \"The word '$word_to_find' occurs $occurrences times in 'file1.txt'.\"\n",
    "\n",
    "# 6. Find and display lines containing a specific word (e.g., 'Hello')\n",
    "echo \"Displaying lines containing the word '$word_to_find'...\"\n",
    "grep -n \"$word_to_find\" file1.txt\n",
    "\n",
    "#-o: Output each match on a new line, making it easy to count occurrences.\n",
    "#-i: Perform a case-insensitive search.\n",
    "#-n: Show line numbers in the output.\n",
    "# | wc -l: Pipes the output of grep to wc -l, which counts the number of lines, giving the total occurrences.\n",
    "\n",
    "# Clean up: Remove the created directory structure\n",
    "echo \"Cleaning up by removing the directory 'text_demo'...\"\n",
    "cd ..\n",
    "rm -r text_demo\n",
    "echo \"Directory 'text_demo' removed successfully.\"\n"
   ]
  },
  {
   "cell_type": "markdown",
   "metadata": {},
   "source": [
    "The `$` symbol in Linux (and other Unix-based systems) has several uses, especially in shell scripting and command-line contexts. Here’s an overview of where the `$` symbol is commonly used:\n",
    "\n",
    "### 1. **Variable Access**\n",
    "   - **Purpose**: Accesses the value stored in a variable.\n",
    "   - **Usage**: `$variable_name`\n",
    "   - **Example**:\n",
    "     ```bash\n",
    "     name=\"Kavish\"\n",
    "     echo \"Hello, $name!\"\n",
    "     # Output: Hello, Kavish!\n",
    "     ```\n",
    "\n",
    "### 2. **Command Substitution**\n",
    "   - **Purpose**: Captures the output of a command and stores it in a variable or uses it within another command.\n",
    "   - **Usage**: `$(command)`\n",
    "   - **Example**:\n",
    "     ```bash\n",
    "     current_date=$(date)\n",
    "     echo \"Today is $current_date\"\n",
    "     # Output: Today is <current date and time>\n",
    "     ```\n",
    "\n",
    "### 3. **Special Parameters in Shell Scripts**\n",
    "   - **Purpose**: Accesses special built-in shell variables.\n",
    "   - **Common Variables**:\n",
    "     - **`$0`**: The name of the script.\n",
    "\n",
    "   - **Example**:\n",
    "     ```bash\n",
    "     echo \"Script name: $0\"\n",
    "     ```\n",
    "\n",
    "### 4. **Parameter Expansion in Shell Scripting**\n",
    "   - **Purpose**: Manipulates variables with certain conditions or default values.\n",
    "   - **Usage Examples**:\n",
    "     - **`${variable:-default}`**: Uses `default` if `variable` is unset or null.\n",
    "   \n",
    "   - **Example**:\n",
    "     ```bash\n",
    "     name=${user_name:-\"Guest\"}\n",
    "     echo \"Hello, $name!\"\n",
    "     # Output: Hello, Guest! (if user_name is not set)\n",
    "     ```\n",
    "\n",
    "### 5. **Regex and Pattern Matching**\n",
    "   - **Purpose**: `$` indicates the **end of a line** in regular expressions.\n",
    "   - **Usage**: Often used with `grep`, `sed`, `awk`, or within `[[ ]]` in shell scripts.\n",
    "   - **Example**:\n",
    "     ```bash\n",
    "     grep \"text$\" file.txt\n",
    "     # Matches lines ending with 'text'\n",
    "     ```\n",
    "\n",
    "### Summary Table\n",
    "\n",
    "| Context                         | Example                    | Explanation                                         |\n",
    "|---------------------------------|----------------------------|-----------------------------------------------------|\n",
    "| Variable Access                 | `echo $name`              | Accesses the value of `name`                        |\n",
    "| Command Substitution            | `$(date)`                 | Captures output of `date` command                   |\n",
    "| Special Parameters in Scripts   | `$1`, `$#`, `$?`          | Accesses script arguments and status info           |\n",
    "| Parameter Expansion             | `${var:-default}`         | Sets default if variable is unset                   |\n",
    "| Regex End of Line               | `grep \"text$\"`            | Matches lines ending with \"text\"                    |\n",
    "\n",
    "The `$` symbol is essential in shell scripting and command-line operations for managing variables, capturing command output, working with positional parameters, and performing pattern matching."
   ]
  },
  {
   "cell_type": "code",
   "execution_count": 34,
   "metadata": {},
   "outputs": [
    {
     "name": "stdout",
     "output_type": "stream",
     "text": [
      "Navigating to the home directory and showing the current directory:\n",
      "/home/kavis\n",
      "Creating a directory structure 'text_demo' for demonstration...\n",
      "/home/kavis/text_demo\n",
      "Creating 'file1.txt' with sample content.\n",
      "Creating 'file2.txt' with multiple lines of text.\n",
      "Creating 'file3.txt' with a few lines of text.\n",
      "Creating 'file4.txt' with alphabetic lines.\n",
      "Listing the created files with details using 'ls -l':\n",
      "total 16\n",
      "-rw-r--r-- 1 kavis kavis 40 Oct 26 17:04 file1.txt\n",
      "-rw-r--r-- 1 kavis kavis 35 Oct 26 17:04 file2.txt\n",
      "-rw-r--r-- 1 kavis kavis 34 Oct 26 17:04 file3.txt\n",
      "-rw-r--r-- 1 kavis kavis 28 Oct 26 17:04 file4.txt\n",
      "Displaying contents of 'file1.txt' using 'cat':\n",
      "Hello World\n",
      "This is a sample text file.\n",
      "Displaying contents of 'file2.txt' and 'file3.txt' together using 'cat':\n",
      "Line 1\n",
      "Line 2\n",
      "Line 3\n",
      "Line 4\n",
      "Line 5\n",
      "First Line\n",
      "Second Line\n",
      "Third Line\n",
      "Displaying contents of 'file2.txt' page by page using 'more':\n",
      "\n",
      "# 3. Display contents of a file using `less` (allows scrolling)\n",
      "echo \"Displaying contents of 'file3.txt' using 'less' (q to quit):\"\n",
      "less file3.txt | head -n 10  # Truncate output for demonstration\n",
      "::::::::::::::\n",
      "file2.txt\n",
      "::::::::::::::\n",
      "Line 1\n",
      "Line 2\n",
      "Line 3\n"
     ]
    }
   ],
   "source": [
    "%%bash\n",
    "\n",
    "\n",
    "# Step-by-Step Demonstration of Text File Operations\n",
    "# Navigate to the home directory and show the current directory\n",
    "echo \"Navigating to the home directory and showing the current directory:\"\n",
    "cd\n",
    "pwd\n",
    "\n",
    "# Create a directory structure for testing text file operations\n",
    "echo \"Creating a directory structure 'text_demo' for demonstration...\"\n",
    "mkdir -p text_demo\n",
    "cd text_demo\n",
    "pwd\n",
    "\n",
    "# Create sample text files with different contents\n",
    "echo \"Creating 'file1.txt' with sample content.\"\n",
    "echo -e \"Hello World\\nThis is a sample text file.\" > file1.txt\n",
    "\n",
    "echo \"Creating 'file2.txt' with multiple lines of text.\"\n",
    "echo -e \"Line 1\\nLine 2\\nLine 3\\nLine 4\\nLine 5\" > file2.txt\n",
    "\n",
    "echo \"Creating 'file3.txt' with a few lines of text.\"\n",
    "echo -e \"First Line\\nSecond Line\\nThird Line\" > file3.txt\n",
    "\n",
    "echo \"Creating 'file4.txt' with alphabetic lines.\"\n",
    "echo -e \"Line A\\nLine B\\nLine C\\nLine D\" > file4.txt\n",
    "\n",
    "# List the created files with details\n",
    "echo \"Listing the created files with details using 'ls -l':\"\n",
    "ls -l\n",
    "\n",
    "# 1. Display contents of the files using `cat`\n",
    "echo \"Displaying contents of 'file1.txt' using 'cat':\"\n",
    "cat file1.txt\n",
    "\n",
    "echo \"Displaying contents of 'file2.txt' and 'file3.txt' together using 'cat':\"\n",
    "cat file2.txt file3.txt\n",
    "\n",
    "# 2. Display contents of a file page by page using `more`\n",
    "echo \"Displaying contents of 'file2.txt' page by page using 'more':\"\n",
    "more file2.txt | head -n 10  # Truncate output to 10 lines for brevity\n",
    "\n",
    "# 3. Display contents of a file using `less` (allows scrolling)\n",
    "echo \"Displaying contents of 'file3.txt' using 'less' (q to quit):\"\n",
    "less file3.txt | head -n 10  # Truncate output for demonstration\n"
   ]
  },
  {
   "cell_type": "code",
   "execution_count": 36,
   "metadata": {},
   "outputs": [
    {
     "name": "stdout",
     "output_type": "stream",
     "text": [
      "/home/kavis/text_demo\n",
      "Counting lines, words, and characters in 'file1.txt' using 'wc':\n",
      " 2  8 40 file1.txt\n",
      "Counting only the number of lines in 'file2.txt' using 'wc -l':\n",
      "5 file2.txt\n",
      "Counting only the number of words in 'file3.txt' using 'wc -w':\n",
      "6 file3.txt\n",
      "Counting only the number of characters in 'file4.txt' using 'wc -c':\n",
      "28 file4.txt\n",
      "Counting characters including multi-byte characters in 'file1.txt' using 'wc -m':\n",
      "40 file1.txt\n",
      "Displaying the first 10 lines of 'file1.txt' using 'head':\n",
      "Hello World\n",
      "This is a sample text file.\n",
      "Displaying the first 2 lines of 'file2.txt' using 'head -n 2':\n",
      "Line 1\n",
      "Line 2\n",
      "Displaying the first 5 lines of 'file3.txt' using 'head -n 5':\n",
      "First Line\n",
      "Second Line\n",
      "Third Line\n",
      "Displaying the last 10 lines of 'file1.txt' using 'tail':\n",
      "Hello World\n",
      "This is a sample text file.\n",
      "Displaying the last 2 lines of 'file2.txt' using 'tail -n 2':\n",
      "Line 4\n",
      "Line 5\n",
      "Displaying the last 5 lines of 'file3.txt' using 'tail -n 5':\n",
      "First Line\n",
      "Second Line\n",
      "Third Line\n",
      "Extracting lines 3 and 4 of 'file2.txt' using 'head' and 'tail':\n",
      "Line 3\n",
      "Line 4\n",
      "Cleaning up by removing the directory 'text_demo'...\n",
      "Directory 'text_demo' removed successfully.\n"
     ]
    }
   ],
   "source": [
    "%%bash\n",
    "\n",
    "cd /home/kavis/text_demo\n",
    "\n",
    "pwd\n",
    "\n",
    "# 4. Count the number of lines, words, and characters using `wc`\n",
    "echo \"Counting lines, words, and characters in 'file1.txt' using 'wc':\"\n",
    "wc file1.txt\n",
    "\n",
    "echo \"Counting only the number of lines in 'file2.txt' using 'wc -l':\"\n",
    "wc -l file2.txt\n",
    "\n",
    "echo \"Counting only the number of words in 'file3.txt' using 'wc -w':\"\n",
    "wc -w file3.txt\n",
    "\n",
    "echo \"Counting only the number of characters in 'file4.txt' using 'wc -c':\"\n",
    "wc -c file4.txt\n",
    "\n",
    "echo \"Counting characters including multi-byte characters in 'file1.txt' using 'wc -m':\"\n",
    "wc -m file1.txt\n",
    "\n",
    "# 5. Display the first few lines of a file using `head`\n",
    "echo \"Displaying the first 10 lines of 'file1.txt' using 'head':\"\n",
    "head file1.txt\n",
    "\n",
    "echo \"Displaying the first 2 lines of 'file2.txt' using 'head -n 2':\"\n",
    "head -n 2 file2.txt\n",
    "\n",
    "echo \"Displaying the first 5 lines of 'file3.txt' using 'head -n 5':\"\n",
    "head -n 5 file3.txt\n",
    "\n",
    "# 6. Display the last few lines of a file using `tail`\n",
    "echo \"Displaying the last 10 lines of 'file1.txt' using 'tail':\"\n",
    "tail file1.txt\n",
    "\n",
    "echo \"Displaying the last 2 lines of 'file2.txt' using 'tail -n 2':\"\n",
    "tail -n 2 file2.txt\n",
    "\n",
    "echo \"Displaying the last 5 lines of 'file3.txt' using 'tail -n 5':\"\n",
    "tail -n 5 file3.txt\n",
    "\n",
    "# 7. Combine `head` and `tail` to extract specific lines\n",
    "echo \"Extracting lines 3 and 4 of 'file2.txt' using 'head' and 'tail':\"\n",
    "head -n 4 file2.txt | tail -n 2\n",
    "\n",
    "# Clean up: Remove the created directory structure\n",
    "echo \"Cleaning up by removing the directory 'text_demo'...\"\n",
    "cd ..\n",
    "rm -r text_demo\n",
    "echo \"Directory 'text_demo' removed successfully.\"\n"
   ]
  },
  {
   "cell_type": "markdown",
   "metadata": {},
   "source": [
    "### Step-by-Step Demonstration of File Sizes and Disk Usage"
   ]
  },
  {
   "cell_type": "code",
   "execution_count": 42,
   "metadata": {},
   "outputs": [
    {
     "name": "stdout",
     "output_type": "stream",
     "text": [
      "Showing the current directory:\n",
      "/mnt/c/Users/kavis/Upskilling/Github repository/Rep1/Linux_shell\n",
      "Creating a small file 'small_file.txt' with sample content.\n",
      "Creating a medium-sized file 'medium_file.txt' (50 KB) using dd.\n"
     ]
    },
    {
     "name": "stderr",
     "output_type": "stream",
     "text": [
      "100+0 records in\n",
      "100+0 records out\n",
      "51200 bytes (51 kB, 50 KiB) copied, 0.0250627 s, 2.0 MB/s\n"
     ]
    },
    {
     "name": "stdout",
     "output_type": "stream",
     "text": [
      "Creating a large file 'large_file.txt' (200 KB) using dd.\n"
     ]
    },
    {
     "name": "stderr",
     "output_type": "stream",
     "text": [
      "200+0 records in\n",
      "200+0 records out\n",
      "204800 bytes (205 kB, 200 KiB) copied, 0.0627354 s, 3.3 MB/s\n"
     ]
    },
    {
     "name": "stdout",
     "output_type": "stream",
     "text": [
      "Listing the created files with human-readable sizes using 'ls -lh':\n",
      "total 1.7M\n",
      "-rwxrwxrwx 1 kavis kavis 163K Oct  6 21:00 1500x500.jpeg\n",
      "-rwxrwxrwx 1 kavis kavis 4.6K Oct 20 11:56 Lab_questions.ipynb\n",
      "-rwxrwxrwx 1 kavis kavis  23K Oct  6 20:02 Linux_shell_setup_windows.ipynb\n",
      "-rwxrwxrwx 1 kavis kavis  17K Oct 26 14:38 Linux_shell_w1_a.ipynb\n",
      "-rwxrwxrwx 1 kavis kavis  73K Oct 26 15:43 Linux_shell_w1_b.ipynb\n",
      "-rwxrwxrwx 1 kavis kavis  51K Oct 26 15:44 Linux_shell_w1_c.ipynb\n",
      "-rwxrwxrwx 1 kavis kavis 111K Oct 20 11:12 Linux_shell_w1_d.ipynb\n",
      "-rwxrwxrwx 1 kavis kavis  29K Oct 20 12:56 Linux_shell_w2_a.ipynb\n",
      "-rwxrwxrwx 1 kavis kavis  33K Oct 23 09:38 Linux_shell_w2_b.ipynb\n"
     ]
    }
   ],
   "source": [
    "%%bash\n",
    "\n",
    "# Show the current directory\n",
    "echo \"Showing the current directory:\"\n",
    "pwd\n",
    "\n",
    "# Create sample files of varying sizes\n",
    "echo \"Creating a small file 'small_file.txt' with sample content.\"\n",
    "echo \"This is a small file.\" > small_file.txt\n",
    "\n",
    "echo \"Creating a medium-sized file 'medium_file.txt' (50 KB) using dd.\"\n",
    "dd if=/dev/zero of=medium_file.txt bs=512 count=100  # Creates a 50 KB file\n",
    "\n",
    "#The command will create a file called medium_file.txt that contains 100 blocks of data.\n",
    "# Each block here is 512 bytes, so the total size of the file will be:\n",
    "# 512 bytes × 100 = 51200 bytes = 50KibiByte or 51.2 kiloByte \n",
    "# if stands for \"input file.\" /dev/zero is a special file in Unix-like systems that generates a stream of null bytes (zeros). \n",
    "# It’s often used when you want to fill a file with zeros.\n",
    "\n",
    "echo \"Creating a large file 'large_file.txt' (200 KB) using dd.\"\n",
    "dd if=/dev/zero of=large_file.txt bs=1024 count=200  # Creates a 200 KibiByte file\n",
    "\n",
    "# List the created files with human-readable sizes\n",
    "echo \"Listing the created files with human-readable sizes using 'ls -lh':\"\n",
    "ls -lh | head -n 10  # Limit output to first 10 lines\n",
    "\n"
   ]
  },
  {
   "cell_type": "code",
   "execution_count": 45,
   "metadata": {},
   "outputs": [
    {
     "name": "stdout",
     "output_type": "stream",
     "text": [
      "Using 'ls -lsh' to combine long format, block size, and human-readable sizes:\n",
      "total 980K\n",
      "164K -rwxrwxrwx 1 kavis kavis 163K Oct  6 21:00 1500x500.jpeg\n",
      " 24K -rwxrwxrwx 1 kavis kavis  23K Oct  6 20:02 Linux_shell_setup_windows.ipynb\n",
      " 16K -rwxrwxrwx 1 kavis kavis  16K Oct 20 06:58 Linux_shell_w1_a.ipynb\n",
      " 68K -rwxrwxrwx 1 kavis kavis  66K Oct 20 07:38 Linux_shell_w1_b.ipynb\n",
      " 48K -rwxrwxrwx 1 kavis kavis  48K Oct 20 10:04 Linux_shell_w1_c.ipynb\n",
      "100K -rwxrwxrwx 1 kavis kavis 100K Oct  9 09:22 Linux_shell_w1_d.ipynb\n",
      " 40K -rwxrwxrwx 1 kavis kavis  40K Oct 19 22:51 Linux_shell_w2_a.ipynb\n",
      "8.0K -rwxrwxrwx 1 kavis kavis 8.0K Oct 20 09:35 SC_Week0_Unit0.ipynb\n",
      "228K -rwxrwxrwx 1 kavis kavis 226K Oct  5 19:51 SC_Week0_Unit1.ipynb\n"
     ]
    }
   ],
   "source": [
    "%%bash\n",
    "echo \"Using 'ls -lsh' to combine long format, block size, and human-readable sizes:\"\n",
    "ls -lsh | head -n 10  # Limit output to first 10 lines\n"
   ]
  },
  {
   "cell_type": "code",
   "execution_count": 45,
   "metadata": {},
   "outputs": [
    {
     "name": "stdout",
     "output_type": "stream",
     "text": [
      "200K -rwxrwxrwx 1 kavis kavis 200K Oct 26 17:49 large_file.txt\n",
      " 52K -rwxrwxrwx 1 kavis kavis  50K Oct 26 17:49 medium_file.txt\n",
      "   0 -rwxrwxrwx 1 kavis kavis   22 Oct 26 17:49 small_file.txt\n"
     ]
    }
   ],
   "source": [
    "%%bash\n",
    "\n",
    "ls -lsSh small_file.txt medium_file.txt large_file.txt"
   ]
  },
  {
   "cell_type": "markdown",
   "metadata": {},
   "source": [
    "The file size is exactly 50 KibiBytes (51,200 bytes) because you specified that with the dd command (bs=512 and count=100).\n",
    "\n",
    "Disk Block Allocation (52K): When you run the ls -lh command, the system shows the allocated disk space, not the exact byte size of the file.\n",
    "Files are stored on disk in blocks. The size of these blocks is determined by the file system (typically 4 KB for most modern file systems, but this can vary). The file system allocates space in full blocks, so even if your file doesn’t use the entire block, it still consumes the full block size on disk.\n",
    "\n",
    "if you have a file with 50 KibiByte (KB) date stored in blocks of 4 KB- To store 50 KB of data, the file system needs to allocate 13 full blocks of 4 KB:\n",
    "13 blocks × 4 KB/block = 52 KB"
   ]
  },
  {
   "cell_type": "code",
   "execution_count": 46,
   "metadata": {},
   "outputs": [
    {
     "name": "stdout",
     "output_type": "stream",
     "text": [
      "Displaying file size information for 'medium_file.txt' using 'stat':\n",
      "  File: medium_file.txt\n",
      "  Size: 51200     \tBlocks: 104        IO Block: 4096   regular file\n",
      "Device: 0,82\tInode: 10133099161844683  Links: 1\n",
      "Access: (0777/-rwxrwxrwx)  Uid: ( 1000/   kavis)   Gid: ( 1000/   kavis)\n",
      "Access: 2024-10-20 10:15:10.112340100 +0530\n",
      "Modify: 2024-10-20 10:15:10.112340100 +0530\n",
      "Change: 2024-10-20 10:15:10.112340100 +0530\n",
      " Birth: -\n"
     ]
    }
   ],
   "source": [
    "%%bash\n",
    "# 2. **File Size Using `stat`**: Display detailed information including file size and block size\n",
    "\n",
    "echo \"Displaying file size information for 'medium_file.txt' using 'stat':\"\n",
    "stat medium_file.txt | head -n 10\n",
    "\n"
   ]
  },
  {
   "cell_type": "code",
   "execution_count": 39,
   "metadata": {},
   "outputs": [
    {
     "name": "stdout",
     "output_type": "stream",
     "text": [
      "Showing disk usage of 'small_file.txt' using 'du':\n",
      "0\tsmall_file.txt\n",
      "Showing disk usage of 'medium_file.txt' using 'du':\n",
      "52\tmedium_file.txt\n",
      "Showing disk usage of 'large_file.txt' using 'du':\n",
      "200\tlarge_file.txt\n"
     ]
    }
   ],
   "source": [
    "\n",
    "%%bash\n",
    "# 3. **File Size Using `du` (Disk Usage)**: Display disk usage of each file in blocks\n",
    "echo \"Showing disk usage of 'small_file.txt' using 'du':\"\n",
    "du small_file.txt\n",
    "\n",
    "echo \"Showing disk usage of 'medium_file.txt' using 'du':\"\n",
    "du medium_file.txt\n",
    "\n",
    "echo \"Showing disk usage of 'large_file.txt' using 'du':\"\n",
    "du large_file.txt\n"
   ]
  },
  {
   "cell_type": "code",
   "execution_count": 41,
   "metadata": {},
   "outputs": [
    {
     "name": "stdout",
     "output_type": "stream",
     "text": [
      "Displaying disk usage of 'small_file.txt' in human-readable format using 'du -h':\n",
      "0\tsmall_file.txt\n",
      "Displaying disk usage of 'medium_file.txt' in human-readable format:\n",
      "52K\tmedium_file.txt\n",
      "Displaying disk usage of 'large_file.txt' in human-readable format:\n",
      "200K\tlarge_file.txt\n",
      "Displaying total disk usage of the current directory using 'du -sh .':\n",
      "980K\t.\n"
     ]
    }
   ],
   "source": [
    "%%bash\n",
    "# Show disk usage in human-readable format\n",
    "echo \"Displaying disk usage of 'small_file.txt' in human-readable format using 'du -h':\"\n",
    "du -h small_file.txt\n",
    "\n",
    "echo \"Displaying disk usage of 'medium_file.txt' in human-readable format:\"\n",
    "du -h medium_file.txt\n",
    "\n",
    "echo \"Displaying disk usage of 'large_file.txt' in human-readable format:\"\n",
    "du -h large_file.txt\n",
    "\n",
    "# Show total size of the current directory and its contents\n",
    "echo \"Displaying total disk usage of the current directory using 'du -sh .':\"\n",
    "du -sh .  # Total disk usage of the current directory\n"
   ]
  },
  {
   "cell_type": "code",
   "execution_count": 54,
   "metadata": {},
   "outputs": [
    {
     "name": "stdout",
     "output_type": "stream",
     "text": [
      "Creating a new file 'block_size_file.txt' with a specific block size (1 block of 4 KB).\n"
     ]
    },
    {
     "name": "stderr",
     "output_type": "stream",
     "text": [
      "1+0 records in\n",
      "1+0 records out\n",
      "4096 bytes (4.1 kB, 4.0 KiB) copied, 0.000974178 s, 4.2 MB/s\n"
     ]
    },
    {
     "name": "stdout",
     "output_type": "stream",
     "text": [
      "Displaying file size and block size of 'block_size_file.txt' using 'stat':\n",
      "  File: block_size_file.txt\n",
      "  Size: 4096      \tBlocks: 8          IO Block: 4096   regular file\n",
      "Device: 0,82\tInode: 56294995342191540  Links: 1\n",
      "Access: (0777/-rwxrwxrwx)  Uid: ( 1000/   kavis)   Gid: ( 1000/   kavis)\n",
      "Access: 2024-10-20 10:28:12.879519600 +0530\n",
      "Modify: 2024-10-20 10:28:12.879519600 +0530\n",
      "Change: 2024-10-20 10:28:12.879519600 +0530\n",
      " Birth: -\n",
      "Displaying disk usage of 'block_size_file.txt' using 'du':\n",
      "4\tblock_size_file.txt\n",
      "Using 'ls -s' to show file size in blocks for 'block_size_file.txt':\n",
      "4 block_size_file.txt\n"
     ]
    }
   ],
   "source": [
    "%%bash\n",
    "# 4. **Role of Block Size**: Create a new file with a specific block size using `dd`\n",
    "echo \"Creating a new file 'block_size_file.txt' with a specific block size (1 block of 4 KB).\"\n",
    "dd if=/dev/zero of=block_size_file.txt bs=4096 count=1  # Creates a file with 1 block of 4KB\n",
    "\n",
    "# Display block size using `stat` to see allocation\n",
    "echo \"Displaying file size and block size of 'block_size_file.txt' using 'stat':\"\n",
    "stat block_size_file.txt | head -n 10  # Show the first 10 lines of output\n",
    "\n",
    "# Compare `stat` and `du` output for the file with a single block\n",
    "echo \"Displaying disk usage of 'block_size_file.txt' using 'du':\"\n",
    "du block_size_file.txt\n",
    "\n",
    "# Check file size in blocks using `ls -s`\n",
    "echo \"Using 'ls -s' to show file size in blocks for 'block_size_file.txt':\"\n",
    "ls -s block_size_file.txt\n"
   ]
  },
  {
   "cell_type": "code",
   "execution_count": 55,
   "metadata": {},
   "outputs": [
    {
     "name": "stdout",
     "output_type": "stream",
     "text": [
      "Cleaning up\n",
      "Files removed successfully.\n"
     ]
    }
   ],
   "source": [
    "%%bash\n",
    "# Clean up: Remove the created directory structure\n",
    "echo \"Cleaning up\"\n",
    "rm small_file.txt medium_file.txt large_file.txt\n",
    "echo \"Files removed successfully.\"\n"
   ]
  },
  {
   "cell_type": "markdown",
   "metadata": {},
   "source": [
    "Explanation of Each Command:\n",
    "File Size Using ls -s:\n",
    "\n",
    "ls -s shows the size of each file in blocks. By default, each block is 1KB on most systems.\n",
    "ls -sh displays file sizes in human-readable format (KB, MB, GB).\n",
    "ls -lsh combines -l, -s, and -h to show detailed information along with file sizes in blocks and human-readable format.\n",
    "\n",
    "\n",
    "File Size Using stat:\n",
    "stat provides detailed information about a file, including:\n",
    "File size: Actual file size in bytes.\n",
    "Blocks allocated: Number of blocks allocated to store the file on disk.\n",
    "IO Block size: The block size used for file system I/O operations.\n",
    "This command helps you understand the difference between the file size and the space occupied due to block allocation.\n",
    "\n",
    "\n",
    "File Size Using du (Disk Usage):\n",
    "du shows the actual disk usage of a file, which may be larger than the file's size due to the file system's block size.\n",
    "du -h <filename> displays the disk usage in a human-readable format.\n",
    "du -sh . shows the total disk usage of the current directory and its contents.\n",
    "\n",
    "\n",
    "Role of Block Size:\n",
    "Creating a file with a specific block size using dd helps illustrate how block size affects disk usage.\n",
    "stat displays the block size used for I/O operations and the number of blocks allocated.\n",
    "du shows the actual disk usage, which will reflect the allocated blocks.\n",
    "\n",
    "\n",
    "Key Concepts:\n",
    "File Size vs. Disk Usage:\n",
    "The actual file size is the number of bytes in the file.\n",
    "Disk usage is the amount of disk space the file occupies, which depends on the file system's block size.\n",
    "\n",
    "\n",
    "Block Size:\n",
    "Files are stored in blocks on disk. If a file is smaller than the block size, it still occupies one full block.\n",
    "For example, a 1-byte file on a system with a 4KB block size will occupy 4KB of disk space.\n",
    "\n",
    "\n",
    "Understanding Block Size with stat and du:\n",
    "stat shows file size, blocks allocated, and I/O block size.\n",
    "du shows the actual disk usage in terms of blocks allocated."
   ]
  }
 ],
 "metadata": {
  "kernelspec": {
   "display_name": "Python 3",
   "language": "python",
   "name": "python3"
  },
  "language_info": {
   "codemirror_mode": {
    "name": "ipython",
    "version": 3
   },
   "file_extension": ".py",
   "mimetype": "text/x-python",
   "name": "python",
   "nbconvert_exporter": "python",
   "pygments_lexer": "ipython3",
   "version": "3.12.3"
  }
 },
 "nbformat": 4,
 "nbformat_minor": 2
}
