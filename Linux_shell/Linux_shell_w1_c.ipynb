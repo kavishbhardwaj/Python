{
 "cells": [
  {
   "cell_type": "markdown",
   "metadata": {},
   "source": [
    "# Other commands"
   ]
  },
  {
   "cell_type": "code",
   "execution_count": 2,
   "metadata": {},
   "outputs": [
    {
     "name": "stdout",
     "output_type": "stream",
     "text": [
      "Wed Oct  9 03:19:13 UTC 2024\n",
      "Wed, 09 Oct 2024 03:19:13 +0000\n",
      "    October 2024      \n",
      "Su Mo Tu We Th Fr Sa  \n",
      "       1  2  3  4  5  \n",
      " 6  7  8  9 10 11 12  \n",
      "13 14 15 16 17 18 19  \n",
      "20 21 22 23 24 25 26  \n",
      "27 28 29 30 31        \n",
      "                      \n"
     ]
    }
   ],
   "source": [
    "%%bash\n",
    "# date , cal\n",
    "date\n",
    "date -R\n",
    "\n",
    "cal\n"
   ]
  },
  {
   "cell_type": "code",
   "execution_count": 9,
   "metadata": {},
   "outputs": [
    {
     "name": "stdout",
     "output_type": "stream",
     "text": [
      "   September 1991     \n",
      "Su Mo Tu We Th Fr Sa  \n",
      " 1  2  3  4  5  6  7  \n",
      " 8  9 10 11 12 13 14  \n",
      "15 16 17 18 19 20 21  \n",
      "22 23 24 25 26 27 28  \n",
      "29 30                 \n",
      "                      \n",
      "    September 2024    \n",
      "Su  1  8 15 22 29   \n",
      "Mo  2  9 16 23 30   \n",
      "Tu  3 10 17 24      \n",
      "We  4 11 18 25      \n",
      "Th  5 12 19 26      \n",
      "Fr  6 13 20 27      \n",
      "Sa  7 14 21 28      \n"
     ]
    }
   ],
   "source": [
    "%%bash\n",
    "#cal, ncal\n",
    "cal sep 1991\n",
    "\n",
    "ncal sept 2024"
   ]
  },
  {
   "cell_type": "code",
   "execution_count": 10,
   "metadata": {},
   "outputs": [
    {
     "name": "stdout",
     "output_type": "stream",
     "text": [
      "               total        used        free      shared  buff/cache   available\n",
      "Mem:         7993720     1710008     6283828        3092      259064     6283712\n",
      "Swap:        2097152           0     2097152\n",
      "               total        used        free      shared  buff/cache   available\n",
      "Mem:           7.6Gi       1.6Gi       6.0Gi       3.0Mi       252Mi       6.0Gi\n",
      "Swap:          2.0Gi          0B       2.0Gi\n"
     ]
    }
   ],
   "source": [
    "%%bash\n",
    "# free\n",
    "free\n",
    "free -h\n"
   ]
  },
  {
   "cell_type": "code",
   "execution_count": 4,
   "metadata": {},
   "outputs": [
    {
     "name": "stdout",
     "output_type": "stream",
     "text": [
      "kavis adm dialout cdrom floppy sudo audio dip video plugdev users netdev\n"
     ]
    }
   ],
   "source": [
    "%%bash\n",
    "groups"
   ]
  },
  {
   "cell_type": "code",
   "execution_count": 12,
   "metadata": {},
   "outputs": [
    {
     "name": "stdout",
     "output_type": "stream",
     "text": [
      "total 0\n",
      "drwxrwxrwx 1 kavis kavis 4096 Oct  6 11:50 C\n",
      "drwxrwxrwx 1 kavis kavis 4096 Oct  6 11:50 Documents\n",
      "drwxrwxrwx 1 kavis kavis 4096 Oct  9 03:07 Linux_shell\n",
      "drwxrwxrwx 1 kavis kavis 4096 Oct  6 11:50 Python\n",
      "drwxrwxrwx 1 kavis kavis 4096 Oct  9 03:21 level1\n",
      "total 0\n",
      "drwxrwxrwx 1 kavis kavis 4096 Oct  6 11:50 C\n",
      "drwxrwxrwx 1 kavis kavis 4096 Oct  6 11:50 Documents\n",
      "drwxrwxrwx 1 kavis kavis 4096 Oct  9 03:07 Linux_shell\n",
      "drwxrwxrwx 1 kavis kavis 4096 Oct  6 11:50 Python\n",
      "drwxrwxrwx 1 kavis kavis 4096 Oct  9 03:21 level1\n"
     ]
    }
   ],
   "source": [
    "%%bash\n",
    "#chmod\n",
    "mkdir level1\n",
    "ls -l\n",
    "# permission string reflects permissions to users which can be changed my chmod command\n",
    "chmod g-w level1\n",
    "ls -l\n",
    "rmdir level1\n"
   ]
  },
  {
   "cell_type": "markdown",
   "metadata": {},
   "source": [
    "### Difference Between Linux and Windows File Systems\n",
    "\n",
    "### File System Types:\n",
    "\n",
    "Linux: Uses file systems like ext4, ext3, xfs, and btrfs.\n",
    "Windows: Uses NTFS (New Technology File System) and FAT32.\n",
    "\n",
    "\n",
    "### Permissions\n",
    "Linux: Has a detailed permission model with read, write, and execute permissions for the user, group, and others. It supports commands like chmod and chown to control access.\n",
    "Windows: Uses Access Control Lists (ACLs) to set permissions. ACLs allow for more granular control but are not compatible with the Unix permission model. This is why changing permissions with chmod on a Windows file system has no effect.\n",
    "\n",
    "\n",
    "### Case Sensitivity:\n",
    "\n",
    "Linux: Case-sensitive. file.txt and File.txt are treated as separate files.\n",
    "Windows: Generally case-insensitive. file.txt and File.txt are considered the same file.\n",
    "\n",
    "### File Path Differences:\n",
    "\n",
    "Linux: Paths use forward slashes (/), e.g., /home/kavis.\n",
    "Windows: Paths use backslashes (\\), e.g., C:\\Users\\kavis.\n",
    "\n",
    "When you work in directories like /mnt/c/, /mnt/d/, etc., you’re actually interacting with the Windows file system through WSL, which has limitations when it comes to Unix-style operations.\n",
    "By working in Linux directories like /home/kavis, you can use native Linux commands and features (like chmod) without restrictions.\n",
    "In Summary: Move to directories like /home/kavis to use Linux file system features effectively and see your chmod changes reflect properly!\n",
    "\n",
    "### Move to linux file system\n",
    "To move to the Linux file system in WSL, you can navigate to the home directory or any other directory that resides within the Linux environment. Here's how you can do it:\n",
    "\n",
    "Go to Your Linux Home Directory: cd~\n",
    "Create a New Directory: Once you're in your Linux home directory, create a new directory for testing:\n"
   ]
  },
  {
   "cell_type": "code",
   "execution_count": null,
   "metadata": {},
   "outputs": [
    {
     "name": "stdout",
     "output_type": "stream",
     "text": [
      "/home/kavis\n",
      "/mnt/c/Users/kavis/Upskilling/Github repository/Rep1/Linux_shell\n",
      "/mnt/c/Users/kavis/Upskilling/Github repository/Rep1/Linux_shell\n",
      "/home/kavis\n",
      "total 4\n",
      "drwxr-xr-x 2 kavis kavis 4096 Oct  8 09:52 level1\n",
      "lrwxrwxrwx 1 kavis kavis   52 Oct  6 18:08 rep1 -> /mnt/c/Users/kavis/Upskilling/Github repository/Rep1\n",
      "total 4\n",
      "drwxr--r-x 2 kavis kavis 4096 Oct  8 09:52 level1\n",
      "lrwxrwxrwx 1 kavis kavis   52 Oct  6 18:08 rep1 -> /mnt/c/Users/kavis/Upskilling/Github repository/Rep1\n",
      "total 4\n",
      "drwx---r-x 2 kavis kavis 4096 Oct  8 09:52 level1\n",
      "lrwxrwxrwx 1 kavis kavis   52 Oct  6 18:08 rep1 -> /mnt/c/Users/kavis/Upskilling/Github repository/Rep1\n",
      "total 4\n",
      "drwx---rwx 2 kavis kavis 4096 Oct  8 09:52 level1\n",
      "lrwxrwxrwx 1 kavis kavis   52 Oct  6 18:08 rep1 -> /mnt/c/Users/kavis/Upskilling/Github repository/Rep1\n",
      "total 4\n",
      "drwx------ 2 kavis kavis 4096 Oct  8 09:52 level1\n",
      "lrwxrwxrwx 1 kavis kavis   52 Oct  6 18:08 rep1 -> /mnt/c/Users/kavis/Upskilling/Github repository/Rep1\n",
      "total 4\n",
      "drwx---rwx 2 kavis kavis 4096 Oct  8 09:52 level1\n",
      "lrwxrwxrwx 1 kavis kavis   52 Oct  6 18:08 rep1 -> /mnt/c/Users/kavis/Upskilling/Github repository/Rep1\n"
     ]
    }
   ],
   "source": [
    "%%bash\n",
    "\n",
    "cd ~\n",
    "pwd\n",
    "\n",
    "cd -    # change to previous directory\n",
    "pwd\n",
    "\n",
    "cd \n",
    "pwd\n",
    "\n",
    "mkdir level1\n",
    "ls -l\n",
    "\n",
    "chmod g-x level1\n",
    "ls -l\n",
    "\n",
    "chmod g-r level1\n",
    "ls -l\n",
    "\n",
    "chmod o+w level1\n",
    "ls -l\n",
    "\n",
    "chmod 700 level1\n",
    "ls -l\n",
    "\n",
    "chmod 707 level1\n",
    "ls -l\n",
    "\n",
    "rm -r level1\n"
   ]
  },
  {
   "cell_type": "code",
   "execution_count": 13,
   "metadata": {},
   "outputs": [
    {
     "name": "stdout",
     "output_type": "stream",
     "text": [
      "/home/kavis\n",
      "/home/kavis/level1\n",
      "total 0\n",
      "/home/kavis/level1\n",
      "total 0\n",
      "-rwx---rwx 1 kavis kavis 0 Oct  9 03:21 file1\n",
      "/home/kavis/level1\n",
      "total 0\n",
      "-rwx---rwx 1 kavis kavis 0 Oct  9 03:21 file1\n",
      "-rwx---r-x 1 kavis kavis 0 Oct  9 03:21 file2\n",
      "/home/kavis/level1\n",
      "total 0\n",
      "-rwx---rwx 1 kavis kavis 0 Oct  9 03:21 file1\n",
      "/home/kavis\n",
      "total 12\n",
      "-rwx---r-x 1 kavis kavis    0 Oct  9 03:21 file2\n",
      "drwxr-xr-x 2 kavis kavis 4096 Oct  9 03:21 level1\n",
      "lrwxrwxrwx 1 kavis kavis   52 Oct  6 18:08 rep1 -> /mnt/c/Users/kavis/Upskilling/Github repository/Rep1\n",
      "drwxr-xr-x 5 kavis kavis 4096 Oct  9 02:44 test_dir\n",
      "drwxr-xr-x 2 kavis kavis 4096 Oct  8 10:28 text_demo\n",
      "total 12\n",
      "-rwx---r-x 1 kavis kavis    0 Oct  9 03:21 file2a\n",
      "drwxr-xr-x 2 kavis kavis 4096 Oct  9 03:21 level1\n",
      "lrwxrwxrwx 1 kavis kavis   52 Oct  6 18:08 rep1 -> /mnt/c/Users/kavis/Upskilling/Github repository/Rep1\n",
      "drwxr-xr-x 5 kavis kavis 4096 Oct  9 02:44 test_dir\n",
      "drwxr-xr-x 2 kavis kavis 4096 Oct  8 10:28 text_demo\n"
     ]
    }
   ],
   "source": [
    "%%bash\n",
    "cd \n",
    "pwd\n",
    "\n",
    "mkdir level1\n",
    "cd level1 \n",
    "pwd\n",
    "ls -l\n",
    "\n",
    "touch file1 #make empty file - touch is actually used to chage timestamp\n",
    "chmod 707 file1\n",
    "pwd\n",
    "ls -l\n",
    "\n",
    "cp file1 file2\n",
    "pwd\n",
    "ls -l\n",
    "\n",
    "mv file2 ..\n",
    "pwd\n",
    "ls -l\n",
    "\n",
    "cd ..\n",
    "pwd\n",
    "ls -l\n",
    "\n",
    "mv file2 file2a\n",
    "ls -l\n",
    "\n",
    "cd level1 \n",
    "rm file1\n",
    "cd ..\n",
    "rm file2a\n",
    "rm -r level1"
   ]
  },
  {
   "cell_type": "code",
   "execution_count": 14,
   "metadata": {},
   "outputs": [
    {
     "name": "stdout",
     "output_type": "stream",
     "text": [
      "/home/kavis\n",
      "total 8\n",
      "83968 -rw-r--r-- 1 kavis kavis    0 Oct  9 03:21 file 2\n",
      "43664 lrwxrwxrwx 1 kavis kavis   52 Oct  6 18:08 rep1 -> /mnt/c/Users/kavis/Upskilling/Github repository/Rep1\n",
      "83938 drwxr-xr-x 5 kavis kavis 4096 Oct  9 02:44 test_dir\n",
      "83910 drwxr-xr-x 2 kavis kavis 4096 Oct  8 10:28 text_demo\n",
      "alias rm='rm -i'\n",
      "/home/kavis\n",
      "total 64\n",
      "  686 drwxr-x--- 12 kavis kavis 4096 Oct  9 03:21 .\n",
      "24577 drwxr-xr-x  3 root  root  4096 Oct  5 12:54 ..\n",
      "46407 -rw-------  1 kavis kavis 2056 Oct  8 19:22 .bash_history\n",
      "46419 -rw-r--r--  1 kavis kavis  220 Oct  5 12:54 .bash_logout\n",
      " 1227 -rw-r--r--  1 kavis kavis 3771 Oct  5 12:54 .bashrc\n",
      "46417 drwx------  3 kavis kavis 4096 Oct  5 13:50 .cache\n",
      "82512 drwxr-xr-x  3 kavis kavis 4096 Oct  6 12:03 .dotnet\n",
      "82473 drwxr-xr-x  3 kavis kavis 4096 Oct  6 12:06 .ipython\n",
      "46428 drwxr-xr-x  2 kavis kavis 4096 Oct  6 10:49 .landscape\n",
      "31011 drwxr-xr-x  3 kavis kavis 4096 Oct  6 11:12 .local\n",
      "46423 -rw-r--r--  1 kavis kavis    0 Oct  9 02:22 .motd_shown\n",
      "46422 -rw-r--r--  1 kavis kavis  807 Oct  5 12:54 .profile\n",
      "83916 drwx------  2 kavis kavis 4096 Oct  8 18:10 .ssh\n",
      "46410 -rw-r--r--  1 kavis kavis    0 Oct  6 10:52 .sudo_as_admin_successful\n",
      "48219 drwxr-xr-x  3 kavis kavis 4096 Oct  5 13:50 .vscode-remote-containers\n",
      "46432 drwxr-xr-x  5 kavis kavis 4096 Oct  5 13:50 .vscode-server\n",
      "43664 lrwxrwxrwx  1 kavis kavis   52 Oct  6 18:08 rep1 -> /mnt/c/Users/kavis/Upskilling/Github repository/Rep1\n",
      "83938 drwxr-xr-x  5 kavis kavis 4096 Oct  9 02:44 test_dir\n",
      "83910 drwxr-xr-x  2 kavis kavis 4096 Oct  8 10:28 text_demo\n",
      "total 68\n",
      "  686 drwxr-x--- 13 kavis kavis 4096 Oct  9 03:21 .\n",
      "24577 drwxr-xr-x  3 root  root  4096 Oct  5 12:54 ..\n",
      "46407 -rw-------  1 kavis kavis 2056 Oct  8 19:22 .bash_history\n",
      "46419 -rw-r--r--  1 kavis kavis  220 Oct  5 12:54 .bash_logout\n",
      " 1227 -rw-r--r--  1 kavis kavis 3771 Oct  5 12:54 .bashrc\n",
      "46417 drwx------  3 kavis kavis 4096 Oct  5 13:50 .cache\n",
      "82512 drwxr-xr-x  3 kavis kavis 4096 Oct  6 12:03 .dotnet\n",
      "82473 drwxr-xr-x  3 kavis kavis 4096 Oct  6 12:06 .ipython\n",
      "46428 drwxr-xr-x  2 kavis kavis 4096 Oct  6 10:49 .landscape\n",
      "31011 drwxr-xr-x  3 kavis kavis 4096 Oct  6 11:12 .local\n",
      "46423 -rw-r--r--  1 kavis kavis    0 Oct  9 02:22 .motd_shown\n",
      "46422 -rw-r--r--  1 kavis kavis  807 Oct  5 12:54 .profile\n",
      "83916 drwx------  2 kavis kavis 4096 Oct  8 18:10 .ssh\n",
      "46410 -rw-r--r--  1 kavis kavis    0 Oct  6 10:52 .sudo_as_admin_successful\n",
      "48219 drwxr-xr-x  3 kavis kavis 4096 Oct  5 13:50 .vscode-remote-containers\n",
      "46432 drwxr-xr-x  5 kavis kavis 4096 Oct  5 13:50 .vscode-server\n",
      "83968 drwxr-xr-x  2 kavis kavis 4096 Oct  9 03:21 level1a\n",
      "43664 lrwxrwxrwx  1 kavis kavis   52 Oct  6 18:08 rep1 -> /mnt/c/Users/kavis/Upskilling/Github repository/Rep1\n",
      "83938 drwxr-xr-x  5 kavis kavis 4096 Oct  9 02:44 test_dir\n",
      "83910 drwxr-xr-x  2 kavis kavis 4096 Oct  8 10:28 text_demo\n"
     ]
    }
   ],
   "source": [
    "%%bash\n",
    "cd \n",
    "pwd\n",
    "touch \"file 2\"  #space in filename\n",
    "ls -li\n",
    "\n",
    "alias rm=\"rm -i\"\n",
    "rm \"file 2\"\n",
    "alias\n",
    "pwd\n",
    "ls -lia\n",
    "\n",
    "mkdir level1a\n",
    "ls -lia\n",
    "# as new directory is added, hard links for present directory . increased by one\n",
    "\n",
    "rm -r level1a"
   ]
  },
  {
   "cell_type": "code",
   "execution_count": null,
   "metadata": {},
   "outputs": [
    {
     "name": "stdout",
     "output_type": "stream",
     "text": [
      "kavis\n",
      "/\n",
      "., .., bin, bin.usr-is-merged, boot, dev, etc, home, init, lib,\n",
      "lib.usr-is-merged, lib64, lost+found, media, mnt, opt, proc, root, run, sbin,\n",
      "sbin.usr-is-merged, snap, srv, sys, tmp, usr, var\n"
     ]
    },
    {
     "name": "stderr",
     "output_type": "stream",
     "text": [
      "touch: cannot touch 'file1': Permission denied\n"
     ]
    },
    {
     "name": "stdout",
     "output_type": "stream",
     "text": [
      "\u001b[H\u001b[2J"
     ]
    }
   ],
   "source": [
    "%%bash\n",
    "whoami\n",
    "cd /   # move to root directory\n",
    "pwd\n",
    "ls -ma\n",
    "# root folder doesnt have rwx permissions for kavis- it has permission only for root directory . \n",
    "touch file1\n",
    "# write w not allowed in root directory . by other users \n",
    "clear"
   ]
  },
  {
   "cell_type": "code",
   "execution_count": null,
   "metadata": {},
   "outputs": [
    {
     "name": "stdout",
     "output_type": "stream",
     "text": [
      "/var/log\n",
      "update-alternatives 2024-09-27 20:13:01: run with --install /usr/bin/awk awk /usr/bin/mawk 5 --slave /usr/share/man/man1/awk.1.gz awk.1.gz /usr/share/man/man1/mawk.1.gz --slave /usr/bin/nawk nawk /usr/bin/mawk --slave /usr/share/man/man1/nawk.1.gz nawk.1.gz /usr/share/man/man1/mawk.1.gz\n",
      "update-alternatives 2024-09-27 20:13:01: link group awk updated to point to /usr/bin/mawk\n"
     ]
    }
   ],
   "source": [
    "%%bash\n",
    "cd /\n",
    "cd var/log\n",
    "pwd\n",
    "head -n 2 alternatives.log  # Display the first 2 lines of the file"
   ]
  },
  {
   "cell_type": "markdown",
   "metadata": {},
   "source": [
    "less alternatives.log      \n",
    "\n",
    "\n",
    "How to read a full file ?"
   ]
  },
  {
   "cell_type": "code",
   "execution_count": null,
   "metadata": {},
   "outputs": [
    {
     "name": "stdout",
     "output_type": "stream",
     "text": [
      "/var/log\n"
     ]
    },
    {
     "name": "stderr",
     "output_type": "stream",
     "text": [
      "chmod: changing permissions of 'alternatives.log': Operation not permitted\n",
      "mkdir: cannot create directory ‘level1’: Permission denied\n",
      "touch: cannot touch 'file1': Permission denied\n"
     ]
    },
    {
     "name": "stdout",
     "output_type": "stream",
     "text": [
      "\u001b[H\u001b[2J"
     ]
    }
   ],
   "source": [
    "%%bash\n",
    "cd /\n",
    "cd var/log\n",
    "pwd \n",
    "chmod o+w alternatives.log  # permissions change not allowed by users other than root directory \n",
    "mkdir level1                # write not allowed by users other than root directory \n",
    "touch file1\n",
    "clear"
   ]
  },
  {
   "cell_type": "code",
   "execution_count": null,
   "metadata": {},
   "outputs": [
    {
     "name": "stdout",
     "output_type": "stream",
     "text": [
      "/mnt/c/Users/kavis/Upskilling/Github repository/Rep1/Linux_shell\n",
      "/home/kavis\n",
      "Linux_shell_w1.ipynb: Unicode text, UTF-8 text, with very long lines (1311)\n",
      "1500x500.jpeg: JPEG image data, JFIF standard 1.01, aspect ratio, density 1x1, segment length 16, progressive, precision 8, 1500x500, components 3\n",
      "random_toss.py: ASCII text, with CRLF line terminators\n",
      "level1: directory\n"
     ]
    }
   ],
   "source": [
    "%%bash\n",
    "pwd\n",
    "cd \n",
    "pwd\n",
    "cd rep1/Linux_shell\n",
    "file Linux_shell_w1.ipynb   #what kind of file is it\n",
    "file 1500x500.jpeg          #its a binary file, not a text file\n",
    "file random_toss.py\n",
    "file level1"
   ]
  },
  {
   "cell_type": "code",
   "execution_count": null,
   "metadata": {},
   "outputs": [
    {
     "name": "stdout",
     "output_type": "stream",
     "text": [
      "Sun Oct  6 19:54:49 UTC 2024\n"
     ]
    },
    {
     "name": "stderr",
     "output_type": "stream",
     "text": [
      "bash: line 3: cd: /rep1/Linux_shell: No such file or directory\n"
     ]
    },
    {
     "name": "stdout",
     "output_type": "stream",
     "text": [
      "total 544\n",
      "-rwxrwxrwx 1 kavis kavis 166075 Oct  6 15:30 1500x500.jpeg\n",
      "-rwxrwxrwx 1 kavis kavis  23480 Oct  6 14:32 Linux_shell_setup_windows.ipynb\n",
      "-rwxrwxrwx 1 kavis kavis  90847 Oct  6 19:32 Linux_shell_w1.ipynb\n",
      "-rwxrwxrwx 1 kavis kavis   8173 Oct  6 19:54 SC_Week0_Unit0.ipynb\n",
      "-rwxrwxrwx 1 kavis kavis 230730 Oct  5 14:21 SC_Week0_Unit1.ipynb\n",
      "-rwxrwxrwx 1 kavis kavis  16186 Oct  5 14:58 SC_Week0_Unit2.ipynb\n",
      "-rwxrwxrwx 1 kavis kavis   3531 Oct  5 14:22 SC_Week0_Unit4.ipynb\n",
      "-rwxrwxrwx 1 kavis kavis   4159 Oct  5 14:21 SC_Week0_Unit5.ipynb\n",
      "drwxrwxrwx 1 kavis kavis   4096 Oct  6 18:19 level1\n",
      "-rwxrwxrwx 1 kavis kavis    199 Oct  6 19:47 random_toss.py\n",
      "total 544\n",
      "-rwxrwxrwx 1 kavis kavis 166075 Oct  6 15:30 1500x500.jpeg\n",
      "-rwxrwxrwx 1 kavis kavis  23480 Oct  6 14:32 Linux_shell_setup_windows.ipynb\n",
      "-rwxrwxrwx 1 kavis kavis  90847 Oct  6 19:32 Linux_shell_w1.ipynb\n",
      "-rwxrwxrwx 1 kavis kavis   8173 Oct  6 19:54 SC_Week0_Unit0.ipynb\n",
      "-rwxrwxrwx 1 kavis kavis 230730 Oct  5 14:21 SC_Week0_Unit1.ipynb\n",
      "-rwxrwxrwx 1 kavis kavis  16186 Oct  5 14:58 SC_Week0_Unit2.ipynb\n",
      "-rwxrwxrwx 1 kavis kavis   3531 Oct  5 14:22 SC_Week0_Unit4.ipynb\n",
      "-rwxrwxrwx 1 kavis kavis   4159 Oct  5 14:21 SC_Week0_Unit5.ipynb\n",
      "drwxrwxrwx 1 kavis kavis   4096 Oct  6 18:19 level1\n",
      "-rwxrwxrwx 1 kavis kavis    199 Oct  6 19:47 random_toss.py\n"
     ]
    }
   ],
   "source": [
    "%%bash\n",
    "date\n",
    "\n",
    "cd /rep1/Linux_shell\n",
    "ls -l\n",
    "\n",
    "touch SC_Week0_Unit0.ipynb   #changes the timestamp to latest time\n",
    "ls -l\n"
   ]
  },
  {
   "cell_type": "code",
   "execution_count": 20,
   "metadata": {},
   "outputs": [
    {
     "name": "stdout",
     "output_type": "stream",
     "text": [
      "Navigating to the home directory and showing the current directory:\n",
      "/home/kavis\n",
      "Creating a directory structure 'text_demo' for demonstration...\n",
      "Creating 'file1.txt' with sample content.\n",
      "Creating 'file2.txt' with multiple lines of text.\n",
      "Creating 'file3.txt' with a few lines of text.\n",
      "Creating 'file4.txt' with alphabetic lines.\n",
      "Listing the created files with details using 'ls -l':\n",
      "total 16\n",
      "-rw-r--r-- 1 kavis kavis 40 Oct  9 03:55 file1.txt\n",
      "-rw-r--r-- 1 kavis kavis 35 Oct  9 03:55 file2.txt\n",
      "-rw-r--r-- 1 kavis kavis 34 Oct  9 03:55 file3.txt\n",
      "-rw-r--r-- 1 kavis kavis 28 Oct  9 03:55 file4.txt\n",
      "Displaying contents of 'file1.txt' using 'cat':\n",
      "Hello World\n",
      "This is a sample text file.\n",
      "Displaying contents of 'file2.txt' and 'file3.txt' together using 'cat':\n",
      "Line 1\n",
      "Line 2\n",
      "Line 3\n",
      "Line 4\n",
      "Line 5\n",
      "First Line\n",
      "Second Line\n",
      "Third Line\n",
      "Displaying contents of 'file2.txt' page by page using 'more':\n",
      "\n",
      "# 3. Display contents of a file using `less` (allows scrolling)\n",
      "echo \"Displaying contents of 'file3.txt' using 'less' (q to quit):\"\n",
      "less file3.txt | head -n 10  # Truncate output for demonstration\n",
      "\n",
      "# 4. Count the number of lines, words, and characters using `wc`\n",
      "echo \"Counting lines, words, and characters in 'file1.txt' using 'wc':\"\n",
      "wc file1.txt\n",
      "\n",
      "echo \"Counting only the number of lines in 'file2.txt' using 'wc -l':\"\n"
     ]
    }
   ],
   "source": [
    "%%bash\n",
    "\n",
    "\n",
    "# Step-by-Step Demonstration of Text File Operations\n",
    "# Navigate to the home directory and show the current directory\n",
    "echo \"Navigating to the home directory and showing the current directory:\"\n",
    "cd\n",
    "pwd\n",
    "\n",
    "# Create a directory structure for testing text file operations\n",
    "echo \"Creating a directory structure 'text_demo' for demonstration...\"\n",
    "mkdir -p text_demo\n",
    "cd text_demo\n",
    "\n",
    "# Create sample text files with different contents\n",
    "echo \"Creating 'file1.txt' with sample content.\"\n",
    "echo -e \"Hello World\\nThis is a sample text file.\" > file1.txt\n",
    "\n",
    "echo \"Creating 'file2.txt' with multiple lines of text.\"\n",
    "echo -e \"Line 1\\nLine 2\\nLine 3\\nLine 4\\nLine 5\" > file2.txt\n",
    "\n",
    "echo \"Creating 'file3.txt' with a few lines of text.\"\n",
    "echo -e \"First Line\\nSecond Line\\nThird Line\" > file3.txt\n",
    "\n",
    "echo \"Creating 'file4.txt' with alphabetic lines.\"\n",
    "echo -e \"Line A\\nLine B\\nLine C\\nLine D\" > file4.txt\n",
    "\n",
    "# List the created files with details\n",
    "echo \"Listing the created files with details using 'ls -l':\"\n",
    "ls -l\n",
    "\n",
    "# 1. Display contents of the files using `cat`\n",
    "echo \"Displaying contents of 'file1.txt' using 'cat':\"\n",
    "cat file1.txt\n",
    "\n",
    "echo \"Displaying contents of 'file2.txt' and 'file3.txt' together using 'cat':\"\n",
    "cat file2.txt file3.txt\n",
    "\n",
    "# 2. Display contents of a file page by page using `more`\n",
    "echo \"Displaying contents of 'file2.txt' page by page using 'more':\"\n",
    "more file2.txt | head -n 10  # Truncate output to 10 lines for brevity\n",
    "\n",
    "# 3. Display contents of a file using `less` (allows scrolling)\n",
    "echo \"Displaying contents of 'file3.txt' using 'less' (q to quit):\"\n",
    "less file3.txt | head -n 10  # Truncate output for demonstration\n",
    "\n",
    "# 4. Count the number of lines, words, and characters using `wc`\n",
    "echo \"Counting lines, words, and characters in 'file1.txt' using 'wc':\"\n",
    "wc file1.txt\n",
    "\n",
    "echo \"Counting only the number of lines in 'file2.txt' using 'wc -l':\"\n",
    "wc -l file2.txt\n",
    "\n",
    "echo \"Counting only the number of words in 'file3.txt' using 'wc -w':\"\n",
    "wc -w file3.txt\n",
    "\n",
    "echo \"Counting only the number of characters in 'file4.txt' using 'wc -c':\"\n",
    "wc -c file4.txt\n",
    "\n",
    "echo \"Counting characters including multi-byte characters in 'file1.txt' using 'wc -m':\"\n",
    "wc -m file1.txt\n",
    "\n",
    "# 5. Display the first few lines of a file using `head`\n",
    "echo \"Displaying the first 10 lines of 'file1.txt' using 'head':\"\n",
    "head file1.txt\n",
    "\n",
    "echo \"Displaying the first 2 lines of 'file2.txt' using 'head -n 2':\"\n",
    "head -n 2 file2.txt\n",
    "\n",
    "echo \"Displaying the first 5 lines of 'file3.txt' using 'head -n 5':\"\n",
    "head -n 5 file3.txt\n",
    "\n",
    "# 6. Display the last few lines of a file using `tail`\n",
    "echo \"Displaying the last 10 lines of 'file1.txt' using 'tail':\"\n",
    "tail file1.txt\n",
    "\n",
    "echo \"Displaying the last 2 lines of 'file2.txt' using 'tail -n 2':\"\n",
    "tail -n 2 file2.txt\n",
    "\n",
    "echo \"Displaying the last 5 lines of 'file3.txt' using 'tail -n 5':\"\n",
    "tail -n 5 file3.txt\n",
    "\n",
    "# 7. Combine `head` and `tail` to extract specific lines\n",
    "echo \"Extracting lines 3 and 4 of 'file2.txt' using 'head' and 'tail':\"\n",
    "head -n 4 file2.txt | tail -n 2\n",
    "\n",
    "# Clean up: Remove the created directory structure\n",
    "echo \"Cleaning up by removing the directory 'text_demo'...\"\n",
    "cd ..\n",
    "rm -r text_demo\n",
    "echo \"Directory 'text_demo' removed successfully.\"\n"
   ]
  },
  {
   "cell_type": "markdown",
   "metadata": {},
   "source": [
    "Explanation of Each Command\n",
    "cat:\n",
    "\n",
    "cat file1.txt: Displays the contents of file1.txt.\n",
    "cat file2.txt file3.txt: Concatenates and displays the contents of file2.txt and file3.txt.\n",
    "more:\n",
    "\n",
    "more file2.txt: Displays file2.txt one page at a time. You can scroll down by pressing Enter or Space.\n",
    "less:\n",
    "\n",
    "less file3.txt: Displays file3.txt in a scrollable view. You can scroll up and down using arrow keys, and quit by pressing q.\n",
    "wc:\n",
    "\n",
    "wc file1.txt: Shows the number of lines, words, and characters in file1.txt.\n",
    "wc -l file2.txt: Shows only the number of lines in file2.txt.\n",
    "wc -w file3.txt: Shows only the number of words in file3.txt.\n",
    "wc -c file4.txt: Shows only the number of characters in file4.txt.\n",
    "wc -m file1.txt: Shows the number of characters, including multi-byte characters (like UTF-8).\n",
    "head:\n",
    "\n",
    "head file1.txt: Shows the first 10 lines of file1.txt (default behavior).\n",
    "head -n 2 file2.txt: Shows the first 2 lines of file2.txt.\n",
    "head -n 5 file3.txt: Shows the first 5 lines of file3.txt.\n",
    "tail:\n",
    "\n",
    "tail file1.txt: Shows the last 10 lines of file1.txt (default behavior).\n",
    "tail -n 2 file2.txt: Shows the last 2 lines of file2.txt.\n",
    "tail -n 5 file3.txt: Shows the last 5 lines of file3.txt.\n",
    "Combining head and tail:\n",
    "\n",
    "head -n 4 file2.txt | tail -n 2: Extracts and shows lines 3 and 4 of file2.txt by first selecting the first 4 lines with head and then selecting the last 2 of those with tail."
   ]
  },
  {
   "cell_type": "code",
   "execution_count": 15,
   "metadata": {},
   "outputs": [
    {
     "name": "stdout",
     "output_type": "stream",
     "text": [
      "Navigating to the home directory and showing the current directory:\n",
      "/home/kavis\n",
      "Creating a directory structure 'size_demo' for demonstration...\n"
     ]
    },
    {
     "name": "stdout",
     "output_type": "stream",
     "text": [
      "Creating a small file 'small_file.txt' with sample content.\n",
      "Creating a medium-sized file 'medium_file.txt' (50 KB) using dd.\n",
      "Creating a large file 'large_file.txt' (200 KB) using dd.\n"
     ]
    },
    {
     "name": "stderr",
     "output_type": "stream",
     "text": [
      "100+0 records in\n",
      "100+0 records out\n",
      "51200 bytes (51 kB, 50 KiB) copied, 0.000146113 s, 350 MB/s\n",
      "200+0 records in\n",
      "200+0 records out\n",
      "204800 bytes (205 kB, 200 KiB) copied, 0.000670849 s, 305 MB/s\n"
     ]
    },
    {
     "name": "stdout",
     "output_type": "stream",
     "text": [
      "Listing the created files with human-readable sizes using 'ls -lh':\n",
      "total 256K\n",
      "-rw-r--r-- 1 kavis kavis 200K Oct  9 03:54 large_file.txt\n",
      "-rw-r--r-- 1 kavis kavis  50K Oct  9 03:54 medium_file.txt\n",
      "-rw-r--r-- 1 kavis kavis   22 Oct  9 03:54 small_file.txt\n",
      "Using 'ls -s' to show file sizes in 1KB blocks:\n",
      "total 256\n",
      "200 large_file.txt\n",
      " 52 medium_file.txt\n",
      "  4 small_file.txt\n",
      "Using 'ls -sh' to show file sizes in human-readable format:\n",
      "total 256K\n",
      "200K large_file.txt\n",
      " 52K medium_file.txt\n",
      "4.0K small_file.txt\n",
      "Using 'ls -lsh' to combine long format, block size, and human-readable sizes:\n",
      "total 256K\n",
      "200K -rw-r--r-- 1 kavis kavis 200K Oct  9 03:54 large_file.txt\n",
      " 52K -rw-r--r-- 1 kavis kavis  50K Oct  9 03:54 medium_file.txt\n",
      "4.0K -rw-r--r-- 1 kavis kavis   22 Oct  9 03:54 small_file.txt\n",
      "Displaying file size information for 'small_file.txt' using 'stat':\n",
      "  File: small_file.txt\n",
      "  Size: 22        \tBlocks: 8          IO Block: 4096   regular file\n",
      "Device: 8,32\tInode: 83970       Links: 1\n",
      "Access: (0644/-rw-r--r--)  Uid: ( 1000/   kavis)   Gid: ( 1000/   kavis)\n",
      "Access: 2024-10-09 03:54:14.674858603 +0000\n",
      "Modify: 2024-10-09 03:54:14.674858603 +0000\n",
      "Change: 2024-10-09 03:54:14.674858603 +0000\n",
      " Birth: 2024-10-09 03:54:14.674858603 +0000\n",
      "Displaying file size information for 'medium_file.txt' using 'stat':\n",
      "  File: medium_file.txt\n",
      "  Size: 51200     \tBlocks: 104        IO Block: 4096   regular file\n",
      "Device: 8,32\tInode: 83971       Links: 1\n",
      "Access: (0644/-rw-r--r--)  Uid: ( 1000/   kavis)   Gid: ( 1000/   kavis)\n",
      "Access: 2024-10-09 03:54:14.674858603 +0000\n",
      "Modify: 2024-10-09 03:54:14.674858603 +0000\n",
      "Change: 2024-10-09 03:54:14.674858603 +0000\n",
      " Birth: 2024-10-09 03:54:14.674858603 +0000\n",
      "Displaying file size information for 'large_file.txt' using 'stat':\n",
      "  File: large_file.txt\n",
      "  Size: 204800    \tBlocks: 400        IO Block: 4096   regular file\n",
      "Device: 8,32\tInode: 83972       Links: 1\n",
      "Access: (0644/-rw-r--r--)  Uid: ( 1000/   kavis)   Gid: ( 1000/   kavis)\n",
      "Access: 2024-10-09 03:54:14.674858603 +0000\n",
      "Modify: 2024-10-09 03:54:14.674858603 +0000\n",
      "Change: 2024-10-09 03:54:14.674858603 +0000\n",
      " Birth: 2024-10-09 03:54:14.674858603 +0000\n",
      "Showing disk usage of 'small_file.txt' using 'du':\n",
      "4\tsmall_file.txt\n",
      "Showing disk usage of 'medium_file.txt' using 'du':\n",
      "52\tmedium_file.txt\n",
      "Showing disk usage of 'large_file.txt' using 'du':\n",
      "200\tlarge_file.txt\n",
      "Displaying disk usage of 'small_file.txt' in human-readable format using 'du -h':\n",
      "4.0K\tsmall_file.txt\n",
      "Displaying disk usage of 'medium_file.txt' in human-readable format:\n",
      "52K\tmedium_file.txt\n",
      "Displaying disk usage of 'large_file.txt' in human-readable format:\n",
      "200K\tlarge_file.txt\n",
      "Displaying total disk usage of the current directory using 'du -sh .':\n",
      "260K\t.\n",
      "Creating a new file 'block_size_file.txt' with a specific block size (1 block of 4 KB).\n",
      "Displaying file size and block size of 'block_size_file.txt' using 'stat':\n",
      "  File: block_size_file.txt\n",
      "  Size: 4096      \tBlocks: 8          IO Block: 4096   regular file\n",
      "Device: 8,32\tInode: 83959       Links: 1\n",
      "Access: (0644/-rw-r--r--)  Uid: ( 1000/   kavis)   Gid: ( 1000/   kavis)\n",
      "Access: 2024-10-09 03:54:14.704928192 +0000\n",
      "Modify: 2024-10-09 03:54:14.704928192 +0000\n",
      "Change: 2024-10-09 03:54:14.704928192 +0000\n",
      " Birth: 2024-10-09 03:54:14.704928192 +0000\n",
      "Displaying disk usage of 'block_size_file.txt' using 'du':\n",
      "4\tblock_size_file.txt\n",
      "Using 'ls -s' to show file size in blocks for 'block_size_file.txt':\n",
      "4 block_size_file.txt\n",
      "Cleaning up by removing the directory 'size_demo'...\n",
      "Directory 'size_demo' removed successfully.\n"
     ]
    },
    {
     "name": "stderr",
     "output_type": "stream",
     "text": [
      "1+0 records in\n",
      "1+0 records out\n",
      "4096 bytes (4.1 kB, 4.0 KiB) copied, 4.3207e-05 s, 94.8 MB/s\n"
     ]
    }
   ],
   "source": [
    "%%bash\n",
    "\n",
    "# Step-by-Step Demonstration of File Sizes and Disk Usage\n",
    "\n",
    "# Navigate to the home directory and show the current directory\n",
    "echo \"Navigating to the home directory and showing the current directory:\"\n",
    "cd\n",
    "pwd\n",
    "\n",
    "# Create a directory structure for testing file sizes and disk usage\n",
    "echo \"Creating a directory structure 'size_demo' for demonstration...\"\n",
    "mkdir -p size_demo\n",
    "cd size_demo\n",
    "\n",
    "# Create sample files of varying sizes\n",
    "echo \"Creating a small file 'small_file.txt' with sample content.\"\n",
    "echo \"This is a small file.\" > small_file.txt\n",
    "\n",
    "echo \"Creating a medium-sized file 'medium_file.txt' (50 KB) using dd.\"\n",
    "dd if=/dev/zero of=medium_file.txt bs=512 count=100  # Creates a 50 KB file\n",
    "\n",
    "echo \"Creating a large file 'large_file.txt' (200 KB) using dd.\"\n",
    "dd if=/dev/zero of=large_file.txt bs=1024 count=200  # Creates a 200 KB file\n",
    "\n",
    "# List the created files with human-readable sizes\n",
    "echo \"Listing the created files with human-readable sizes using 'ls -lh':\"\n",
    "ls -lh | head -n 10  # Limit output to first 10 lines\n",
    "\n",
    "# 1. **File Size Using `ls -s`**: Display file sizes in blocks with `ls -s`\n",
    "echo \"Using 'ls -s' to show file sizes in 1KB blocks:\"\n",
    "ls -s\n",
    "\n",
    "echo \"Using 'ls -sh' to show file sizes in human-readable format:\"\n",
    "ls -sh\n",
    "\n",
    "echo \"Using 'ls -lsh' to combine long format, block size, and human-readable sizes:\"\n",
    "ls -lsh | head -n 10  # Limit output to first 10 lines\n",
    "\n",
    "# 2. **File Size Using `stat`**: Display detailed information including file size and block size\n",
    "echo \"Displaying file size information for 'small_file.txt' using 'stat':\"\n",
    "stat small_file.txt | head -n 10  # Show the first 10 lines of output\n",
    "\n",
    "echo \"Displaying file size information for 'medium_file.txt' using 'stat':\"\n",
    "stat medium_file.txt | head -n 10\n",
    "\n",
    "echo \"Displaying file size information for 'large_file.txt' using 'stat':\"\n",
    "stat large_file.txt | head -n 10\n",
    "\n",
    "# 3. **File Size Using `du` (Disk Usage)**: Display disk usage of each file in blocks\n",
    "echo \"Showing disk usage of 'small_file.txt' using 'du':\"\n",
    "du small_file.txt\n",
    "\n",
    "echo \"Showing disk usage of 'medium_file.txt' using 'du':\"\n",
    "du medium_file.txt\n",
    "\n",
    "echo \"Showing disk usage of 'large_file.txt' using 'du':\"\n",
    "du large_file.txt\n",
    "\n",
    "# Show disk usage in human-readable format\n",
    "echo \"Displaying disk usage of 'small_file.txt' in human-readable format using 'du -h':\"\n",
    "du -h small_file.txt\n",
    "\n",
    "echo \"Displaying disk usage of 'medium_file.txt' in human-readable format:\"\n",
    "du -h medium_file.txt\n",
    "\n",
    "echo \"Displaying disk usage of 'large_file.txt' in human-readable format:\"\n",
    "du -h large_file.txt\n",
    "\n",
    "# Show total size of the current directory and its contents\n",
    "echo \"Displaying total disk usage of the current directory using 'du -sh .':\"\n",
    "du -sh .  # Total disk usage of the current directory\n",
    "\n",
    "# 4. **Role of Block Size**: Create a new file with a specific block size using `dd`\n",
    "echo \"Creating a new file 'block_size_file.txt' with a specific block size (1 block of 4 KB).\"\n",
    "dd if=/dev/zero of=block_size_file.txt bs=4096 count=1  # Creates a file with 1 block of 4KB\n",
    "\n",
    "# Display block size using `stat` to see allocation\n",
    "echo \"Displaying file size and block size of 'block_size_file.txt' using 'stat':\"\n",
    "stat block_size_file.txt | head -n 10  # Show the first 10 lines of output\n",
    "\n",
    "# Compare `stat` and `du` output for the file with a single block\n",
    "echo \"Displaying disk usage of 'block_size_file.txt' using 'du':\"\n",
    "du block_size_file.txt\n",
    "\n",
    "# Check file size in blocks using `ls -s`\n",
    "echo \"Using 'ls -s' to show file size in blocks for 'block_size_file.txt':\"\n",
    "ls -s block_size_file.txt\n",
    "\n",
    "# Clean up: Remove the created directory structure\n",
    "echo \"Cleaning up by removing the directory 'size_demo'...\"\n",
    "cd ..\n",
    "rm -r size_demo\n",
    "echo \"Directory 'size_demo' removed successfully.\"\n"
   ]
  },
  {
   "cell_type": "markdown",
   "metadata": {},
   "source": [
    "Explanation of Each Command:\n",
    "File Size Using ls -s:\n",
    "\n",
    "ls -s shows the size of each file in blocks. By default, each block is 1KB on most systems.\n",
    "ls -sh displays file sizes in human-readable format (KB, MB, GB).\n",
    "ls -lsh combines -l, -s, and -h to show detailed information along with file sizes in blocks and human-readable format.\n",
    "\n",
    "\n",
    "File Size Using stat:\n",
    "stat provides detailed information about a file, including:\n",
    "File size: Actual file size in bytes.\n",
    "Blocks allocated: Number of blocks allocated to store the file on disk.\n",
    "IO Block size: The block size used for file system I/O operations.\n",
    "This command helps you understand the difference between the file size and the space occupied due to block allocation.\n",
    "\n",
    "\n",
    "File Size Using du (Disk Usage):\n",
    "du shows the actual disk usage of a file, which may be larger than the file's size due to the file system's block size.\n",
    "du -h <filename> displays the disk usage in a human-readable format.\n",
    "du -sh . shows the total disk usage of the current directory and its contents.\n",
    "\n",
    "\n",
    "Role of Block Size:\n",
    "Creating a file with a specific block size using dd helps illustrate how block size affects disk usage.\n",
    "stat displays the block size used for I/O operations and the number of blocks allocated.\n",
    "du shows the actual disk usage, which will reflect the allocated blocks.\n",
    "\n",
    "\n",
    "Key Concepts:\n",
    "File Size vs. Disk Usage:\n",
    "The actual file size is the number of bytes in the file.\n",
    "Disk usage is the amount of disk space the file occupies, which depends on the file system's block size.\n",
    "\n",
    "\n",
    "Block Size:\n",
    "Files are stored in blocks on disk. If a file is smaller than the block size, it still occupies one full block.\n",
    "For example, a 1-byte file on a system with a 4KB block size will occupy 4KB of disk space.\n",
    "\n",
    "\n",
    "Understanding Block Size with stat and du:\n",
    "stat shows file size, blocks allocated, and I/O block size.\n",
    "du shows the actual disk usage in terms of blocks allocated."
   ]
  }
 ],
 "metadata": {
  "kernelspec": {
   "display_name": "Python 3",
   "language": "python",
   "name": "python3"
  },
  "language_info": {
   "codemirror_mode": {
    "name": "ipython",
    "version": 3
   },
   "file_extension": ".py",
   "mimetype": "text/x-python",
   "name": "python",
   "nbconvert_exporter": "python",
   "pygments_lexer": "ipython3",
   "version": "3.12.3"
  }
 },
 "nbformat": 4,
 "nbformat_minor": 2
}
