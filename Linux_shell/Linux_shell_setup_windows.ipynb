{
 "cells": [
  {
   "cell_type": "markdown",
   "metadata": {},
   "source": [
    "A shell is a program that provides an interface between you (the user) and the operating system (like Windows, Linux, or macOS). Think of it like a translator that helps you communicate with your computer using commands.\n",
    "\n",
    "There are different types of shells:\n",
    "\n",
    "Command Prompt: The default shell for Windows.\n",
    "PowerShell: An advanced shell with more capabilities, also for Windows.\n",
    "Bash (Bourne Again Shell): A popular shell for Linux and macOS systems.\n",
    "Git Bash is a shell environment for Windows that provides Bash (the Linux-style shell) and integrates it with some additional features from Git.\n",
    "Bash on Windows: Normally, Windows uses Command Prompt or PowerShell, but Bash is a popular shell used on Linux systems. Git Bash brings the Bash shell to Windows, so you can use Linux-like commands (ls, pwd, rm, etc.) on your Windows system.\n",
    "\n",
    "A bash shell is like a command prompt but with commands similar to those used on Linux. Since we're using Git Bash and MinGW, these commands will behave like we're in a Linux-like environment on our Windows system. Git Bash is installed on Windows as a separate terminal program.\n",
    "It uses MinGW (Minimalist GNU for Windows) as its backend, which provides the necessary tools and libraries to mimic a Linux environment.\n",
    "\n",
    "%%bash\n",
    "This command is specific to Jupyter notebooks and tells the notebook to run the following commands in a bash shell.\n",
    "The %%bash is called a cell magic command. It allows you to run bash shell commands directly in a code cell. This means that any commands you write in that cell will be executed as if they were typed in a bash shell, instead of being interpreted as Python code.\n",
    "\n",
    "Here are a few common commands you can use in Git Bash:\n",
    "\n",
    "ls – Lists files and directories in the current directory.\n",
    "pwd – Prints the current directory path.\n",
    "cd <directory> – Changes to a different directory.\n",
    "touch <filename> – Creates an empty file.\n",
    "rm <filename> – Deletes a file.\n",
    "git status – Shows the current status of your Git repository.\n",
    "git clone <url> – Clones a Git repository from a URL.\n",
    "\n",
    "Why Not Just Use Python Code?\n",
    "Using bash commands is simpler and more efficient than using Python code, especially when interacting with the operating system. For example:\n",
    "File System Operations: ls, pwd, cd, rm are simpler than their Python equivalents (os.listdir(), os.getcwd(), os.remove()).\n",
    "Version Control: Managing Git commands is easier using shell commands (git status, git commit, etc.) rather than using Python libraries like subprocess.\n",
    "Package Management: Installing packages with pip or conda is easier in bash than using subprocess or Python methods."
   ]
  },
  {
   "cell_type": "code",
   "execution_count": 1,
   "metadata": {
    "vscode": {
     "languageId": "shellscript"
    }
   },
   "outputs": [
    {
     "name": "stdout",
     "output_type": "stream",
     "text": [
      "/g/My Drive/Upskilling/Github repository/Rep1/Linux_shell\n"
     ]
    }
   ],
   "source": [
    "%%bash\n",
    "pwd\n",
    "\n",
    "#Present working directory"
   ]
  },
  {
   "cell_type": "code",
   "execution_count": 2,
   "metadata": {
    "vscode": {
     "languageId": "shellscript"
    }
   },
   "outputs": [
    {
     "name": "stdout",
     "output_type": "stream",
     "text": [
      "Linux_shell_course.ipynb\n",
      "SC_Week0_Unit0.ipynb\n",
      "SC_Week0_Unit1.ipynb\n",
      "SC_Week0_Unit2.ipynb\n",
      "SC_Week0_Unit4.ipynb\n",
      "SC_Week0_Unit5.ipynb\n"
     ]
    }
   ],
   "source": [
    "%%bash\n",
    "ls\n",
    "\n",
    "#List files in current folder"
   ]
  },
  {
   "cell_type": "code",
   "execution_count": 8,
   "metadata": {
    "vscode": {
     "languageId": "shellscript"
    }
   },
   "outputs": [
    {
     "name": "stdout",
     "output_type": "stream",
     "text": [
      "      PID    PPID    PGID     WINPID   TTY         UID    STIME COMMAND\n",
      "      148     147     147       1996  ?         197609 09:57:43 /usr/bin/ps\n",
      "      147       1     147       2756  ?         197609 09:57:43 /usr/bin/bash\n"
     ]
    }
   ],
   "source": [
    "%%bash\n",
    "ps\n",
    "\n",
    "#Which shell is responding to our commands- bash shell "
   ]
  },
  {
   "cell_type": "markdown",
   "metadata": {},
   "source": [
    "The ps command shows the current running processes in your bash shell.\n",
    "\n",
    "The first line shows that bash is running with a process ID (PID).\n",
    "The second line shows the ps command itself running with a PID.\n",
    "This tells us what processes are running within your bash shell and gives information like when they started (STIME) and what command is being run (COMMAND)."
   ]
  },
  {
   "cell_type": "code",
   "execution_count": 6,
   "metadata": {
    "vscode": {
     "languageId": "shellscript"
    }
   },
   "outputs": [
    {
     "name": "stdout",
     "output_type": "stream",
     "text": [
      "MINGW64_NT-10.0-22631\n"
     ]
    }
   ],
   "source": [
    "%%bash\n",
    "uname\n",
    "\n",
    "#name of operating system\n"
   ]
  },
  {
   "cell_type": "markdown",
   "metadata": {},
   "source": [
    "The uname command outputs the name of your operating system or kernel.\n",
    "\n",
    "Kernel (in an operating system context): A core part of the operating system that manages hardware resources and coordinates between hardware and software.\n",
    "Kernel (in a Jupyter notebook context): An execution environment that runs your code, keeps track of its state, and returns the results.\n",
    "\n",
    "MinGW (Minimalist GNU for Windows), provides a Unix-like environment.\n",
    "This output indicates that you are using MinGW64 on a Windows system (NT-10.0-22631 refers to your Windows version).\n",
    "It means your bash shell is is built on top of MinGW.\n",
    "\n",
    "Since we're using Git Bash and MinGW, these commands will behave like we're in a Linux-like environment on our Windows system\n",
    "\n"
   ]
  },
  {
   "cell_type": "markdown",
   "metadata": {},
   "source": [
    "The Jupyter/VS Code kernel and the operating system (OS) kernel are different concepts:\n",
    "\n",
    "Operating System Kernel:\n",
    "The core component of an OS (like Windows, Linux, or macOS).\n",
    "Manages hardware resources, processes, memory, and device communication.\n",
    "Acts as the intermediary between hardware and software.\n",
    "\n",
    "Jupyter/VS Code Kernel:\n",
    "A specific execution environment that runs code in a programming language (e.g., Python, R, Julia). Jupyter Kernels:\n",
    "A Jupyter kernel is an execution environment that determines how the code in your notebook is run.\n",
    "Kernels can be for any language (Python, Bash, R, Julia, etc.).\n",
    "Each kernel is linked to a specific interpreter or environment.\n"
   ]
  },
  {
   "cell_type": "markdown",
   "metadata": {},
   "source": [
    "Conda Environment:\n",
    "A Conda environment is an isolated directory that contains its own Python interpreter, libraries, and packages.\n",
    "It helps you manage dependencies and avoid conflicts between different projects.\n",
    "When you create a Conda environment named simulations_env, it has its own Python interpreter and packages.\n",
    "\n",
    "You can then register an environment environment as a Jupyter kernel. When you select this kernel, the code you run will use the packages and interpreter from sim# 1. List all available kernels\n",
    "jupyter kernelspec list\n",
    "\n",
    "# 2. Start Jupyter notebook with a specific kernel (replace python3 with name)\n",
    "jupyter notebook --NotebookApp.default_kernel_name=python3\n",
    "\n",
    "# 3. Verify the active kernel within a notebook cell\n",
    "# (Run the following in the Jupyter notebook itself- its a python code)\n",
    "import sys\n",
    "print(sys.executable)\n",
    "\n",
    "# 4. Install a new kernel based on a Conda environment\n",
    "python -m ipykernel install --user --name simulations_env --display-name \"Simulations Environment\"\n",
    "\n",
    "# 5. Remove an existing kernel (replace bash with name of kernel)\n",
    "jupyter kernelspec uninstall bash\n",
    "\n",
    "# 6. conda info --envs\n",
    "list conda environments\n",
    "ulations_env."
   ]
  },
  {
   "cell_type": "code",
   "execution_count": 2,
   "metadata": {
    "vscode": {
     "languageId": "shellscript"
    }
   },
   "outputs": [
    {
     "name": "stderr",
     "output_type": "stream",
     "text": [
      "0.00s - Debugger warning: It seems that frozen modules are being used, which may\n",
      "0.00s - make the debugger miss breakpoints. Please pass -Xfrozen_modules=off\n",
      "0.00s - to python to disable frozen modules.\n",
      "0.00s - Note: Debugging will proceed. Set PYDEVD_DISABLE_FILE_VALIDATION=1 to disable this validation.\n"
     ]
    },
    {
     "name": "stdout",
     "output_type": "stream",
     "text": [
      "Available kernels:\n",
      "  python3    C:\\Users\\kavis\\.conda\\envs\\simulations_env\\Lib\\site-packages\\ipykernel\\resources\n"
     ]
    }
   ],
   "source": [
    "%%bash\n",
    "jupyter kernelspec list"
   ]
  },
  {
   "cell_type": "code",
   "execution_count": 1,
   "metadata": {
    "vscode": {
     "languageId": "shellscript"
    }
   },
   "outputs": [
    {
     "name": "stdout",
     "output_type": "stream",
     "text": [
      "# conda environments:\n",
      "#\n",
      "base                     C:\\ProgramData\\anaconda3\n",
      "mayavi_env               C:\\Users\\kavis\\.conda\\envs\\mayavi_env\n",
      "simulations_env       *  C:\\Users\\kavis\\.conda\\envs\\simulations_env\n",
      "\n"
     ]
    }
   ],
   "source": [
    "!conda info --envs\n"
   ]
  },
  {
   "cell_type": "markdown",
   "metadata": {},
   "source": [
    "The base environment is created during Anaconda’s installation, and by default, it goes to a shared location on your system (e.g., C:\\ProgramData\\anaconda3).\n",
    "Any new environment you create using Conda goes under a hidden .conda folder in your user directory (C:\\Users\\kavis\\.conda\\envs\\), unless you specify a different location.\n",
    "This separation helps keep the default setup and custom environments independent from each other."
   ]
  },
  {
   "cell_type": "code",
   "execution_count": 7,
   "metadata": {
    "vscode": {
     "languageId": "shellscript"
    }
   },
   "outputs": [
    {
     "name": "stdout",
     "output_type": "stream",
     "text": [
      "\u001b[H\u001b[2J"
     ]
    }
   ],
   "source": [
    "%%bash\n",
    "clear # used to clear the screen\n",
    "# or use ctrl+L"
   ]
  },
  {
   "cell_type": "code",
   "execution_count": 9,
   "metadata": {
    "vscode": {
     "languageId": "shellscript"
    }
   },
   "outputs": [],
   "source": [
    "%%bash\n",
    "exit\n",
    "# or ctrl+D to come out of shell"
   ]
  },
  {
   "cell_type": "code",
   "execution_count": 10,
   "metadata": {},
   "outputs": [
    {
     "name": "stdout",
     "output_type": "stream",
     "text": [
      ".\n",
      "..\n",
      "Linux_shell_course.ipynb\n",
      "SC_Week0_Unit0.ipynb\n",
      "SC_Week0_Unit1.ipynb\n",
      "SC_Week0_Unit2.ipynb\n",
      "SC_Week0_Unit4.ipynb\n",
      "SC_Week0_Unit5.ipynb\n"
     ]
    }
   ],
   "source": [
    "%%bash\n",
    "ls -a\n",
    "# -a option gives hidden files also"
   ]
  },
  {
   "cell_type": "code",
   "execution_count": 11,
   "metadata": {},
   "outputs": [
    {
     "name": "stdout",
     "output_type": "stream",
     "text": [
      "total 270\n",
      "-rw-r--r-- 0 kavis 197609  11069 Oct  6 11:21 Linux_shell_course.ipynb\n",
      "-rw-r--r-- 0 kavis 197609   8173 Oct  5 19:51 SC_Week0_Unit0.ipynb\n",
      "-rw-r--r-- 0 kavis 197609 230730 Oct  5 19:51 SC_Week0_Unit1.ipynb\n",
      "-rw-r--r-- 0 kavis 197609  16186 Oct  5 20:28 SC_Week0_Unit2.ipynb\n",
      "-rw-r--r-- 0 kavis 197609   3531 Oct  5 19:52 SC_Week0_Unit4.ipynb\n",
      "-rw-r--r-- 0 kavis 197609   4159 Oct  5 19:51 SC_Week0_Unit5.ipynb\n"
     ]
    }
   ],
   "source": [
    "%%bash\n",
    "ls -l\n",
    "# -l option gives long format"
   ]
  },
  {
   "cell_type": "code",
   "execution_count": 12,
   "metadata": {},
   "outputs": [
    {
     "name": "stdout",
     "output_type": "stream",
     "text": [
      "Usage: ls [OPTION]... [FILE]...\n",
      "List information about the FILEs (the current directory by default).\n",
      "Sort entries alphabetically if none of -cftuvSUX nor --sort is specified.\n",
      "\n",
      "Mandatory arguments to long options are mandatory for short options too.\n",
      "  -a, --all                  do not ignore entries starting with .\n",
      "  -A, --almost-all           do not list implied . and ..\n",
      "      --author               with -l, print the author of each file\n",
      "  -b, --escape               print C-style escapes for nongraphic characters\n",
      "      --block-size=SIZE      with -l, scale sizes by SIZE when printing them;\n",
      "                               e.g., '--block-size=M'; see SIZE format below\n",
      "  -B, --ignore-backups       do not list implied entries ending with ~\n",
      "  -c                         with -lt: sort by, and show, ctime (time of last\n",
      "                               modification of file status information);\n",
      "                               with -l: show ctime and sort by name;\n",
      "                               otherwise: sort by ctime, newest first\n",
      "  -C                         list entries by columns\n",
      "      --color[=WHEN]         colorize the output; WHEN can be 'always' (default\n",
      "                               if omitted), 'auto', or 'never'; more info below\n",
      "  -d, --directory            list directories themselves, not their contents\n",
      "  -D, --dired                generate output designed for Emacs' dired mode\n",
      "  -f                         do not sort, enable -aU, disable -ls --color\n",
      "  -F, --classify             append indicator (one of */=>@|) to entries\n",
      "      --file-type            likewise, except do not append '*'\n",
      "      --format=WORD          across -x, commas -m, horizontal -x, long -l,\n",
      "                               single-column -1, verbose -l, vertical -C\n",
      "      --full-time            like -l --time-style=full-iso\n",
      "  -g                         like -l, but do not list owner\n",
      "      --group-directories-first\n",
      "                             group directories before files;\n",
      "                               can be augmented with a --sort option, but any\n",
      "                               use of --sort=none (-U) disables grouping\n",
      "  -G, --no-group             in a long listing, don't print group names\n",
      "  -h, --human-readable       with -l and -s, print sizes like 1K 234M 2G etc.\n",
      "      --si                   likewise, but use powers of 1000 not 1024\n",
      "  -H, --dereference-command-line\n",
      "                             follow symbolic links listed on the command line\n",
      "      --dereference-command-line-symlink-to-dir\n",
      "                             follow each command line symbolic link\n",
      "                               that points to a directory\n",
      "      --hide=PATTERN         do not list implied entries matching shell PATTERN\n",
      "                               (overridden by -a or -A)\n",
      "      --hyperlink[=WHEN]     hyperlink file names; WHEN can be 'always'\n",
      "                               (default if omitted), 'auto', or 'never'\n",
      "      --indicator-style=WORD  append indicator with style WORD to entry names:\n",
      "                               none (default), slash (-p),\n",
      "                               file-type (--file-type), classify (-F)\n",
      "  -i, --inode                print the index number of each file\n",
      "  -I, --ignore=PATTERN       do not list implied entries matching shell PATTERN\n",
      "  -k, --kibibytes            default to 1024-byte blocks for disk usage;\n",
      "                               used only with -s and per directory totals\n",
      "  -l                         use a long listing format\n",
      "  -L, --dereference          when showing file information for a symbolic\n",
      "                               link, show information for the file the link\n",
      "                               references rather than for the link itself\n",
      "  -m                         fill width with a comma separated list of entries\n",
      "  -n, --numeric-uid-gid      like -l, but list numeric user and group IDs\n",
      "  -N, --literal              print entry names without quoting\n",
      "  -o                         like -l, but do not list group information\n",
      "  -p, --indicator-style=slash\n",
      "                             append / indicator to directories\n",
      "  -q, --hide-control-chars   print ? instead of nongraphic characters\n",
      "      --show-control-chars   show nongraphic characters as-is (the default,\n",
      "                               unless program is 'ls' and output is a terminal)\n",
      "  -Q, --quote-name           enclose entry names in double quotes\n",
      "      --quoting-style=WORD   use quoting style WORD for entry names:\n",
      "                               literal, locale, shell, shell-always,\n",
      "                               shell-escape, shell-escape-always, c, escape\n",
      "                               (overrides QUOTING_STYLE environment variable)\n",
      "  -r, --reverse              reverse order while sorting\n",
      "  -R, --recursive            list subdirectories recursively\n",
      "  -s, --size                 print the allocated size of each file, in blocks\n",
      "  -S                         sort by file size, largest first\n",
      "      --sort=WORD            sort by WORD instead of name: none (-U), size (-S),\n",
      "                               time (-t), version (-v), extension (-X)\n",
      "      --time=WORD            change the default of using modification times;\n",
      "                               access time (-u): atime, access, use;\n",
      "                               change time (-c): ctime, status;\n",
      "                               birth time: birth, creation;\n",
      "                             with -l, WORD determines which time to show;\n",
      "                             with --sort=time, sort by WORD (newest first)\n",
      "      --time-style=TIME_STYLE  time/date format with -l; see TIME_STYLE below\n",
      "  -t                         sort by time, newest first; see --time\n",
      "  -T, --tabsize=COLS         assume tab stops at each COLS instead of 8\n",
      "  -u                         with -lt: sort by, and show, access time;\n",
      "                               with -l: show access time and sort by name;\n",
      "                               otherwise: sort by access time, newest first\n",
      "  -U                         do not sort; list entries in directory order\n",
      "  -v                         natural sort of (version) numbers within text\n",
      "  -w, --width=COLS           set output width to COLS.  0 means no limit\n",
      "  -x                         list entries by lines instead of by columns\n",
      "  -X                         sort alphabetically by entry extension\n",
      "  -Z, --context              print any security context of each file\n",
      "  -1                         list one file per line.  Avoid '\\n' with -q or -b\n",
      "      --append-exe           append .exe if cygwin magic was needed\n",
      "      --help     display this help and exit\n",
      "      --version  output version information and exit\n",
      "\n",
      "The SIZE argument is an integer and optional unit (example: 10K is 10*1024).\n",
      "Units are K,M,G,T,P,E,Z,Y (powers of 1024) or KB,MB,... (powers of 1000).\n",
      "Binary prefixes can be used, too: KiB=K, MiB=M, and so on.\n",
      "\n",
      "The TIME_STYLE argument can be full-iso, long-iso, iso, locale, or +FORMAT.\n",
      "FORMAT is interpreted like in date(1).  If FORMAT is FORMAT1<newline>FORMAT2,\n",
      "then FORMAT1 applies to non-recent files and FORMAT2 to recent files.\n",
      "TIME_STYLE prefixed with 'posix-' takes effect only outside the POSIX locale.\n",
      "Also the TIME_STYLE environment variable sets the default style to use.\n",
      "\n",
      "Using color to distinguish file types is disabled both by default and\n",
      "with --color=never.  With --color=auto, ls emits color codes only when\n",
      "standard output is connected to a terminal.  The LS_COLORS environment\n",
      "variable can change the settings.  Use the dircolors command to set it.\n",
      "\n",
      "Exit status:\n",
      " 0  if OK,\n",
      " 1  if minor problems (e.g., cannot access subdirectory),\n",
      " 2  if serious trouble (e.g., cannot access command-line argument).\n",
      "\n",
      "GNU coreutils online help: <https://www.gnu.org/software/coreutils/>\n",
      "Report any translation bugs to <https://translationproject.org/team/>\n",
      "Full documentation <https://www.gnu.org/software/coreutils/ls>\n",
      "or available locally via: info '(coreutils) ls invocation'\n"
     ]
    }
   ],
   "source": [
    "%%bash\n",
    "ls --help\n",
    "#summary of how to use the command"
   ]
  },
  {
   "cell_type": "code",
   "execution_count": 15,
   "metadata": {},
   "outputs": [
    {
     "name": "stderr",
     "output_type": "stream",
     "text": [
      "/usr/bin/bash: line 1: man: command not found\n"
     ]
    },
    {
     "name": "stdout",
     "output_type": "stream",
     "text": [
      "\u001b[H\u001b[2J"
     ]
    }
   ],
   "source": [
    "%%bash\n",
    "man ls\n",
    "clear\n",
    "# doesn't work with vs code\n",
    "# manual page for the command, which provides detailed documentation."
   ]
  },
  {
   "cell_type": "markdown",
   "metadata": {},
   "source": [
    "Filesystem Hierarchy Standard followed by all linux systems\n",
    "FHS 3.0 released on June 03, 2015\n",
    "Available at\n",
    "https://refspecs.linuxfoundation.org/fhs.shtml"
   ]
  },
  {
   "cell_type": "code",
   "execution_count": 28,
   "metadata": {},
   "outputs": [
    {
     "name": "stdout",
     "output_type": "stream",
     "text": [
      "/g/My Drive/Upskilling/Github repository/Rep1\n",
      "/g/My Drive/Upskilling/Github repository/Rep1\n"
     ]
    },
    {
     "name": "stderr",
     "output_type": "stream",
     "text": [
      "/usr/bin/bash: line 10: cd: g/My Drive/Upskilling/Github repository: No such file or directory\n"
     ]
    },
    {
     "name": "stdout",
     "output_type": "stream",
     "text": [
      "/g/My Drive/Upskilling/Github repository/Rep1\n",
      "/g/My Drive/Upskilling/Github repository\n",
      "/c/Users/kavis\n"
     ]
    }
   ],
   "source": [
    "%%bash\n",
    "cd ..\n",
    "##change directory to parent directory of current directory (parent directory means just one level up)\n",
    "pwd\n",
    "\n",
    "cd . \n",
    "## single dot stands for present directory so, no change\n",
    "# cd . means stay in the current directory.\n",
    "pwd\n",
    "\n",
    "cd \"g/My Drive/Upskilling/Github repository\"  \n",
    "pwd\n",
    "#this path is relative to current directory and it doesn't actually exist\n",
    "\n",
    "cd \"/g/My Drive/Upskilling/Github repository\"\n",
    "pwd\n",
    "#absolute path\n",
    "\n",
    "# use the command cd ~ or cd $HOME\n",
    "cd ~\n",
    "# The home directory is the starting directory for a user\n",
    "pwd\n"
   ]
  },
  {
   "cell_type": "code",
   "execution_count": 35,
   "metadata": {},
   "outputs": [
    {
     "name": "stdout",
     "output_type": "stream",
     "text": [
      "/g/My Drive/Upskilling/Github repository/Rep1/Linux_shell\n",
      "/c/Users/kavis\n",
      "/\n",
      ".\n",
      "..\n",
      "LICENSE.txt\n",
      "ReleaseNotes.html\n",
      "bin\n",
      "cmd\n",
      "dev\n",
      "etc\n",
      "git-bash.exe\n",
      "git-cmd.exe\n",
      "mingw64\n",
      "proc\n",
      "tmp\n",
      "unins001.dat\n",
      "unins001.exe\n",
      "unins001.msg\n",
      "usr\n",
      "/\n",
      "/\n"
     ]
    }
   ],
   "source": [
    "%%bash\n",
    "pwd\n",
    "\n",
    "cd     # cd without arguement takes to the home directory\n",
    "pwd\n",
    "\n",
    "cd /    #root directory  (/) is the highest level in the filesystem hierarchy \n",
    "pwd\n",
    "ls -a\n",
    "\n",
    "#When you list all items in a directory using ls -a, you will see ..:\n",
    "#   . represents the current directory.\n",
    "#  .. always represents the parent directory, even if it’s a reference to the same directory (as is the case in the root directory).\n",
    "\n",
    "cd /\n",
    "pwd\n",
    "cd ..\n",
    "pwd"
   ]
  },
  {
   "cell_type": "code",
   "execution_count": 37,
   "metadata": {},
   "outputs": [
    {
     "name": "stdout",
     "output_type": "stream",
     "text": [
      "/g/My Drive/Upskilling/Github repository/Rep1/Linux_shell\n",
      "total 10793673\n",
      "drwxr-xr-x 1 kavis 197609          0 Oct 20  2022 $Recycle.Bin\n",
      "-rw-r--r-- 1 kavis 197609         40 Oct 21  2022 2CA0AE717CAA\n",
      "lrwxrwxrwx 1 kavis 197609          8 Oct 11  2022 Documents and Settings -> /c/Users\n",
      "drwxr-xr-x 1 kavis 197609          0 Jul 30  2022 Drivers\n",
      "-rw-r--r-- 1 kavis 197609      12288 Jul 12 09:14 DumpStack.log\n",
      "-rw-r--r-- 1 kavis 197609      12288 Oct  5 18:18 DumpStack.log.tmp\n",
      "drwxr-xr-x 1 kavis 197609          0 May  4 13:43 OneDriveTemp\n",
      "drwxr-xr-x 1 kavis 197609          0 May  7  2022 PerfLogs\n",
      "drwxr-xr-x 1 kavis 197609          0 Oct  6 09:13 Program Files\n",
      "drwxr-xr-x 1 kavis 197609          0 Jun 11 08:47 Program Files (x86)\n",
      "drwxr-xr-x 1 kavis 197609          0 Sep 19 22:02 ProgramData\n",
      "drwxr-xr-x 1 kavis 197609          0 Aug 10  2023 Recovery\n",
      "-rw-r--r-- 1 kavis 197609       1505 Dec 19  2023 Setup.log\n",
      "drwxr-xr-x 1 kavis 197609          0 Oct  6 09:12 System Volume Information\n",
      "drwxr-xr-x 1 kavis 197609          0 Dec  3  2023 Tenorshare\n",
      "drwxr-xr-x 1 kavis 197609          0 Jul 10 15:20 Users\n",
      "drwxr-xr-x 1 kavis 197609          0 Oct  5 16:33 Windows\n",
      "drwxr-xr-x 1 kavis 197609          0 Sep 13  2023 XboxGames\n",
      "-rw-r--r-- 1 kavis 197609 6756651008 Oct  6 14:21 hiberfil.sys\n",
      "drwxr-xr-x 1 kavis 197609          0 May 25 16:48 one plus\n",
      "-rw-r--r-- 1 kavis 197609 4279207936 Oct  6 14:46 pagefile.sys\n",
      "-rw-r--r-- 1 kavis 197609   16777216 Oct  5 18:18 swapfile.sys\n",
      "drwxr-xr-x 1 kavis 197609          0 Oct  5 08:20 tools\n"
     ]
    }
   ],
   "source": [
    "%%bash\n",
    "pwd\n",
    "cd /c\n",
    "ls -l"
   ]
  },
  {
   "cell_type": "markdown",
   "metadata": {},
   "source": [
    "#### Structure of Each Line:\n",
    "1. **Permissions**: (`drwxr-xr-x`)\n",
    "   - This shows the file permissions for the owner, group, and others.\n",
    "   - first letter -  `d` indicates a **directory** (if it were a file, it would be `-`).\n",
    "                     'l' indicates symbolic link (shortcut)\n",
    "                     '-' indicates file\n",
    "                     'c' character device\n",
    "                     'b' block devices (hard discs)\n",
    "   - next three for owner - `rwx` means **read, write, and execute** permissions for the owner.\n",
    "   - next three for group - `r-x` means **read and execute** permissions for the group.\n",
    "   - next three for others- `r-x` means **read and execute** permissions for others.\n",
    "\n",
    "2. **Links**: (`1`)\n",
    "   - The number of links or directories inside this directory.\n",
    "\n",
    "3. **Owner**: (`kavis`)\n",
    "   - The username of the owner of the file or directory.\n",
    "\n",
    "4. **Group**: (`197609`)\n",
    "   - The group ID associated with the file.\n",
    "\n",
    "5. **Size**: (`0`, `40`, `12288`, etc.)\n",
    "   - The size of the file in bytes. For directories, it’s usually `0` since it doesn’t directly reflect the size of contents.\n",
    "\n",
    "6. **Timestamp**: (`Oct 6 14:21`)\n",
    "   - The date and time when the file or directory was last modified.\n",
    "\n",
    "7. **File/Directory Name**: (`$Recycle.Bin`, `Documents and Settings`, etc.)\n",
    "   - The name of the file or directory.\n",
    "\n",
    "#### Listing Explanation:\n",
    "\n",
    "**`Documents and Settings -> /c/Users`**:\n",
    "   - This is a **symbolic link** (shortcut) that points to `/c/Users`. It means that trying to access `Documents and Settings` will actually redirect you to the `/c/Users` directory.\n",
    "\n",
    "**`Drivers`**:\n",
    "   - Likely a folder containing drivers for the system. Drivers are software that help the operating system communicate with hardware devices.\n",
    "\n",
    "**`Program Files`** and **`Program Files (x86)`**:\n",
    "   - Standard directories in Windows for installing 64-bit and 32-bit applications, respectively.\n",
    "\n",
    "**`ProgramData`**:\n",
    "   - A directory used to store application data that is not specific to a user. It’s shared among all users of the system.\n",
    "\n",
    "**`Users`**:\n",
    "    - This is where user profiles are stored on Windows, such as `Desktop`, `Documents`, `Downloads`, and so on for each user.\n",
    "\n",
    "**`Windows`**:\n",
    "    - The main directory containing the Windows operating system files.\n",
    "\n",
    "**`hiberfil.sys`**:\n",
    "    - A **system file** used by Windows to store the system state when it goes into **hibernation**. This file is often large and contains everything stored in memory (RAM)."
   ]
  },
  {
   "cell_type": "code",
   "execution_count": 5,
   "metadata": {},
   "outputs": [
    {
     "name": "stdout",
     "output_type": "stream",
     "text": [
      "/g/My Drive/Upskilling/Github repository/Rep1/Linux_shell\n",
      "total 5520\n",
      "-rw-r--r-- 1 kavis 197609   18765 Sep 24 12:26 LICENSE.txt\n",
      "-rw-r--r-- 1 kavis 197609  268097 Sep 24 12:26 ReleaseNotes.html\n",
      "drwxr-xr-x 1 kavis 197609       0 Oct  5 17:34 bin\n",
      "drwxr-xr-x 1 kavis 197609       0 Oct  5 17:34 cmd\n",
      "drwxr-xr-x 1 kavis 197609       0 Oct  5 17:34 dev\n",
      "drwxr-xr-x 1 kavis 197609       0 Oct  5 17:34 etc\n",
      "-rwxr-xr-x 1 kavis 197609  139144 Sep 24 12:05 git-bash.exe\n",
      "-rwxr-xr-x 1 kavis 197609  138616 Sep 24 12:05 git-cmd.exe\n",
      "drwxr-xr-x 1 kavis 197609       0 Oct  5 17:34 mingw64\n",
      "dr-xr-xr-x 8 kavis 197609       0 Oct  6 16:00 proc\n",
      "drwxr-xr-x 1 kavis 197609       0 Oct  6 15:59 tmp\n",
      "-rw-r--r-- 1 kavis 197609 1315870 Oct  5 17:34 unins001.dat\n",
      "-rwxr-xr-x 1 kavis 197609 3384040 Oct  5 17:34 unins001.exe\n",
      "-rw-r--r-- 1 kavis 197609   24183 Oct  5 17:34 unins001.msg\n",
      "drwxr-xr-x 1 kavis 197609       0 Oct  5 17:34 usr\n",
      "/g/My Drive/Upskilling/Github repository/Rep1/Linux_shell\n"
     ]
    }
   ],
   "source": [
    "%%bash\n",
    "pwd\n",
    "cd /\n",
    "ls -l\n",
    "\n",
    "cd -  # go to previous directory"
   ]
  },
  {
   "cell_type": "markdown",
   "metadata": {},
   "source": [
    "/bin -       essential command binaries - files in machine language for processor\n",
    "/usr/bin -   User commands\n",
    "/usr/lib -   Libraries"
   ]
  },
  {
   "cell_type": "code",
   "execution_count": 25,
   "metadata": {},
   "outputs": [
    {
     "name": "stdout",
     "output_type": "stream",
     "text": [
      "Sun Oct  6 16:25:35 IST 2024\n",
      "Sun, 06 Oct 2024 16:25:35 +0530\n"
     ]
    },
    {
     "name": "stderr",
     "output_type": "stream",
     "text": [
      "/usr/bin/bash: line 4: cal: command not found\n"
     ]
    },
    {
     "ename": "CalledProcessError",
     "evalue": "Command 'b'date\\ndate -R\\n\\ncal\\n'' returned non-zero exit status 127.",
     "output_type": "error",
     "traceback": [
      "\u001b[1;31m---------------------------------------------------------------------------\u001b[0m",
      "\u001b[1;31mCalledProcessError\u001b[0m                        Traceback (most recent call last)",
      "Cell \u001b[1;32mIn[25], line 1\u001b[0m\n\u001b[1;32m----> 1\u001b[0m get_ipython()\u001b[38;5;241m.\u001b[39mrun_cell_magic(\u001b[38;5;124m'\u001b[39m\u001b[38;5;124mbash\u001b[39m\u001b[38;5;124m'\u001b[39m, \u001b[38;5;124m'\u001b[39m\u001b[38;5;124m'\u001b[39m, \u001b[38;5;124m'\u001b[39m\u001b[38;5;124mdate\u001b[39m\u001b[38;5;130;01m\\n\u001b[39;00m\u001b[38;5;124mdate -R\u001b[39m\u001b[38;5;130;01m\\n\u001b[39;00m\u001b[38;5;130;01m\\n\u001b[39;00m\u001b[38;5;124mcal\u001b[39m\u001b[38;5;130;01m\\n\u001b[39;00m\u001b[38;5;124m'\u001b[39m)\n",
      "File \u001b[1;32mc:\\Users\\kavis\\.conda\\envs\\simulations_env\\Lib\\site-packages\\IPython\\core\\interactiveshell.py:2541\u001b[0m, in \u001b[0;36mInteractiveShell.run_cell_magic\u001b[1;34m(self, magic_name, line, cell)\u001b[0m\n\u001b[0;32m   2539\u001b[0m \u001b[38;5;28;01mwith\u001b[39;00m \u001b[38;5;28mself\u001b[39m\u001b[38;5;241m.\u001b[39mbuiltin_trap:\n\u001b[0;32m   2540\u001b[0m     args \u001b[38;5;241m=\u001b[39m (magic_arg_s, cell)\n\u001b[1;32m-> 2541\u001b[0m     result \u001b[38;5;241m=\u001b[39m fn(\u001b[38;5;241m*\u001b[39margs, \u001b[38;5;241m*\u001b[39m\u001b[38;5;241m*\u001b[39mkwargs)\n\u001b[0;32m   2543\u001b[0m \u001b[38;5;66;03m# The code below prevents the output from being displayed\u001b[39;00m\n\u001b[0;32m   2544\u001b[0m \u001b[38;5;66;03m# when using magics with decorator @output_can_be_silenced\u001b[39;00m\n\u001b[0;32m   2545\u001b[0m \u001b[38;5;66;03m# when the last Python token in the expression is a ';'.\u001b[39;00m\n\u001b[0;32m   2546\u001b[0m \u001b[38;5;28;01mif\u001b[39;00m \u001b[38;5;28mgetattr\u001b[39m(fn, magic\u001b[38;5;241m.\u001b[39mMAGIC_OUTPUT_CAN_BE_SILENCED, \u001b[38;5;28;01mFalse\u001b[39;00m):\n",
      "File \u001b[1;32mc:\\Users\\kavis\\.conda\\envs\\simulations_env\\Lib\\site-packages\\IPython\\core\\magics\\script.py:155\u001b[0m, in \u001b[0;36mScriptMagics._make_script_magic.<locals>.named_script_magic\u001b[1;34m(line, cell)\u001b[0m\n\u001b[0;32m    153\u001b[0m \u001b[38;5;28;01melse\u001b[39;00m:\n\u001b[0;32m    154\u001b[0m     line \u001b[38;5;241m=\u001b[39m script\n\u001b[1;32m--> 155\u001b[0m \u001b[38;5;28;01mreturn\u001b[39;00m \u001b[38;5;28mself\u001b[39m\u001b[38;5;241m.\u001b[39mshebang(line, cell)\n",
      "File \u001b[1;32mc:\\Users\\kavis\\.conda\\envs\\simulations_env\\Lib\\site-packages\\IPython\\core\\magics\\script.py:315\u001b[0m, in \u001b[0;36mScriptMagics.shebang\u001b[1;34m(self, line, cell)\u001b[0m\n\u001b[0;32m    310\u001b[0m \u001b[38;5;28;01mif\u001b[39;00m args\u001b[38;5;241m.\u001b[39mraise_error \u001b[38;5;129;01mand\u001b[39;00m p\u001b[38;5;241m.\u001b[39mreturncode \u001b[38;5;241m!=\u001b[39m \u001b[38;5;241m0\u001b[39m:\n\u001b[0;32m    311\u001b[0m     \u001b[38;5;66;03m# If we get here and p.returncode is still None, we must have\u001b[39;00m\n\u001b[0;32m    312\u001b[0m     \u001b[38;5;66;03m# killed it but not yet seen its return code. We don't wait for it,\u001b[39;00m\n\u001b[0;32m    313\u001b[0m     \u001b[38;5;66;03m# in case it's stuck in uninterruptible sleep. -9 = SIGKILL\u001b[39;00m\n\u001b[0;32m    314\u001b[0m     rc \u001b[38;5;241m=\u001b[39m p\u001b[38;5;241m.\u001b[39mreturncode \u001b[38;5;129;01mor\u001b[39;00m \u001b[38;5;241m-\u001b[39m\u001b[38;5;241m9\u001b[39m\n\u001b[1;32m--> 315\u001b[0m     \u001b[38;5;28;01mraise\u001b[39;00m CalledProcessError(rc, cell)\n",
      "\u001b[1;31mCalledProcessError\u001b[0m: Command 'b'date\\ndate -R\\n\\ncal\\n'' returned non-zero exit status 127."
     ]
    }
   ],
   "source": [
    "%%bash\n",
    "date\n",
    "date -R\n",
    "\n",
    "cal"
   ]
  }
 ],
 "metadata": {
  "kernelspec": {
   "display_name": "simulations_env",
   "language": "python",
   "name": "python3"
  },
  "language_info": {
   "codemirror_mode": {
    "name": "ipython",
    "version": 3
   },
   "file_extension": ".py",
   "mimetype": "text/x-python",
   "name": "python",
   "nbconvert_exporter": "python",
   "pygments_lexer": "ipython3",
   "version": "3.12.3"
  }
 },
 "nbformat": 4,
 "nbformat_minor": 2
}
