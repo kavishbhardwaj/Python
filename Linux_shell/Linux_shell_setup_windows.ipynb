{
 "cells": [
  {
   "cell_type": "markdown",
   "metadata": {},
   "source": [
    "# Whats a SHELL ?\n",
    "A shell is a program that provides an interface between you (the user) and the operating system (like Windows, Linux, or macOS). Think of it like a translator that helps you communicate with your computer using commands.\n",
    "\n",
    "There are different types of shells:\n",
    "\n",
    "Command Prompt: The default shell for Windows.\n",
    "\n",
    "PowerShell: An advanced shell with more capabilities, also for Windows.\n",
    "\n",
    "Bash (Bourne Again Shell): A popular shell for Linux and macOS systems."
   ]
  },
  {
   "cell_type": "markdown",
   "metadata": {},
   "source": [
    "# How to use bash shell ?\n",
    "1. Install linux based OS (like ubuntu)\n",
    "2. Install virtual machine in windows OS and run ubuntu in it\n",
    "3. Cloud based options are also available like google colab jupyter notebook \n",
    "4. GIT BASH based - OS is MinGW64 on windows system - Use Jupyter notebooks in VS code to run bash scripts in cells \n",
    "5. using WSL - Use Jupyter notebooks in VS code to run bash scripts in cells - launch the directory in VS Code through WSL- OS is linux"
   ]
  },
  {
   "cell_type": "markdown",
   "metadata": {},
   "source": [
    "\n",
    "# GIT BASH \n",
    "## What is git bash ?\n",
    "Git Bash is a shell environment for Windows that provides Bash (the Linux-style shell) and integrates it with some additional features from Git.\n",
    "Bash on Windows: Normally, Windows uses Command Prompt or PowerShell, but Bash is a popular shell used on Linux systems. Git Bash brings the Bash shell to Windows, so you can use Linux-like commands (ls, pwd, rm, etc.) on your Windows system.\n",
    "\n",
    "A bash shell is like a command prompt but with commands similar to those used on Linux. Since we're using Git Bash and MinGW, these commands will behave like we're in a Linux-like environment on our Windows system. Git Bash is installed on Windows as a separate terminal program.\n",
    "It uses MinGW (Minimalist GNU for Windows) as its backend, which provides the necessary tools and libraries to mimic a Linux environment.\n",
    "\n",
    "\n",
    "Since we're using Git Bash and MinGW, these commands will behave like we're in a Linux-like environment on our Windows system.\n",
    "Commands like cd, ls work but cal, file maight not be work\n",
    "\n",
    "## How to use git bash\n",
    "1. Launch git bash terminal\n",
    "OR\n",
    "2. Launch Jupyter notebook in VS code and use a kernel which has git bash\n",
    "\n",
    "%%bash\n",
    "This command is specific to Jupyter notebooks and tells the notebook to run the following commands in a bash shell.\n",
    "The %%bash is called a cell magic command. It allows you to run bash shell commands directly in a code cell. This means that any commands you write in that cell will be executed as if they were typed in a bash shell, instead of being interpreted as Python code.\n",
    "\n",
    "Here are a few common commands you can use in Git Bash:\n",
    "\n",
    "ls – Lists files and directories in the current directory.\n",
    "pwd – Prints the current directory path.\n",
    "cd <directory> – Changes to a different directory.\n",
    "touch <filename> – Creates an empty file.\n",
    "rm <filename> – Deletes a file.\n",
    "git status – Shows the current status of your Git repository.\n",
    "git clone <url> – Clones a Git repository from a URL.\n",
    "\n",
    "### Downsides: \n",
    "Commands like cd, ls work but cal, file maight not be work"
   ]
  },
  {
   "cell_type": "markdown",
   "metadata": {},
   "source": [
    "# WSL (Windows subsystem for linux) \n",
    "\n",
    "## What's WSL\n",
    "WSL (Windows Subsystem for Linux) allows you to run a Linux environment directly on your Windows computer. It’s like having a mini Linux system inside your Windows without the need for a separate installation or virtual machine. This makes it easy to use Linux commands and software while staying in your familiar Windows environment.\n",
    "\n",
    "\n",
    "## How to use WSL for linux shell\n",
    "1. Navigate to your desired directory in WSL and in the directory run \"code .\". This will open the current directory in Visual Studio Code through WSL. On the bottom left corner in vs code window, WSL: Ubuntu will be visible. \n",
    "\n",
    "OR\n",
    "\n",
    "2. Use a terminal session using WSL in a Linux environment (Ubuntu operating system) on your computer. \n",
    "\n",
    "The **prompt** `kavis@Ideapad-KB:~$` shows that you are logged in as the user `kavis` on the machine `Ideapad-KB`, and you are currently in your home directory (`~`).\n",
    "\n",
    "The command `uname` will return Linux `Linux`, indicating the operating system kernel type.\n",
    "\n",
    "The command `lsb_release -a` will provide a detailed information about the operating system, showing that you are using **Ubuntu 24.04.1 LTS** with the codename **noble**.\n",
    "\n",
    "### Downside \n",
    "You can either run VS code using WSL, working with files located in the /mnt directory (which maps to the Windows file system) may result in slower performance compared to working directly on the Linux filesystem (e.g., ~/home). This is because cross-file system operations between WSL and Windows can introduce latency.\n",
    "\n",
    "Solutions: Move the Workspace to the Linux File System (~/home)\n",
    "Create a new directory in your WSL Linux file system:"
   ]
  },
  {
   "cell_type": "markdown",
   "metadata": {},
   "source": [
    "\n",
    "# Why Not Just Use Python Code?\n",
    "Using bash commands is simpler and more efficient than using Python code, especially when interacting with the operating system. For example:\n",
    "File System Operations: ls, pwd, cd, rm are simpler than their Python equivalents (os.listdir(), os.getcwd(), os.remove()).\n",
    "Version Control: Managing Git commands is easier using shell commands (git status, git commit, etc.) rather than using Python libraries like subprocess.\n",
    "Package Management: Installing packages with pip or conda is easier in bash than using subprocess or Python methods."
   ]
  },
  {
   "cell_type": "code",
   "execution_count": 11,
   "metadata": {
    "vscode": {
     "languageId": "shellscript"
    }
   },
   "outputs": [
    {
     "name": "stderr",
     "output_type": "stream",
     "text": [
      "your 131072x1 screen size is bogus. expect trouble\n"
     ]
    },
    {
     "name": "stdout",
     "output_type": "stream",
     "text": [
      "    PID TTY          TIME CMD\n",
      "    750 pts/2    00:00:00 sh\n",
      "    751 pts/2    00:00:00 sh\n",
      "    756 pts/2    00:00:00 sh\n",
      "    760 pts/2    00:00:16 node\n",
      "    798 pts/2    00:00:01 node\n",
      "    824 pts/2    00:01:31 node\n",
      "   1296 pts/2    00:00:01 pet\n",
      "   1432 pts/2    00:00:05 node\n",
      "   1990 pts/2    00:00:25 node\n",
      "   2114 pts/2    00:00:01 python3\n",
      "   9290 pts/2    00:00:00 python3\n",
      "  10038 pts/2    00:00:02 node\n",
      "  22274 pts/2    00:00:00 bash\n",
      "  22275 pts/2    00:00:00 ps\n"
     ]
    }
   ],
   "source": [
    "%%bash\n",
    "ps\n",
    "\n",
    "#Which shell is responding to our commands"
   ]
  },
  {
   "cell_type": "markdown",
   "metadata": {},
   "source": [
    "The ps command shows the current running processes in your shell.\n",
    "\n",
    "bash is running with a process ID (PID).\n",
    "ps command itself running with a PID.\n",
    "This tells us what processes are running within your shell and gives information like when they started (STIME) and what command is being run (COMMAND)."
   ]
  },
  {
   "cell_type": "code",
   "execution_count": 12,
   "metadata": {
    "vscode": {
     "languageId": "shellscript"
    }
   },
   "outputs": [
    {
     "name": "stdout",
     "output_type": "stream",
     "text": [
      "Linux\n"
     ]
    }
   ],
   "source": [
    "%%bash\n",
    "uname\n",
    "\n",
    "#name of operating system\n"
   ]
  },
  {
   "cell_type": "markdown",
   "metadata": {},
   "source": [
    "### The uname command: \n",
    "outputs the name of your operating system or kernel.\n",
    "\n",
    "### Kernel:\n",
    "Kernel (in an operating system context): A core part of the operating system that manages hardware resources and coordinates between hardware and software.\n",
    "Kernel (in a Jupyter notebook context): An execution environment that runs your code, keeps track of its state, and returns the results.\n",
    "\n",
    "### Explaining outputs:\n",
    "MinGW (Minimalist GNU for Windows), provides a Unix-like environment. MinGW-NT-10.0-22631 - This output indicates that you are using MinGW64 on a Windows system (NT-10.0-22631 refers to your Windows version).\n",
    "It means your bash shell is is built on top of MinGW.\n",
    "\n",
    "Linux output shows that you are either using WSL or a linux based OS. "
   ]
  },
  {
   "cell_type": "markdown",
   "metadata": {},
   "source": [
    "### OS Kernel vs Jupyter kernel \n",
    "The Jupyter/VS Code kernel and the operating system (OS) kernel are different concepts:\n",
    "\n",
    "Operating System Kernel:\n",
    "The core component of an OS (like Windows, Linux, or macOS).\n",
    "Manages hardware resources, processes, memory, and device communication.\n",
    "Acts as the intermediary between hardware and software.\n",
    "\n",
    "Jupyter/VS Code Kernel:\n",
    "A specific execution environment that runs code in a programming language (e.g., Python, R, Julia). Jupyter Kernels:\n",
    "A Jupyter kernel is an execution environment that determines how the code in your notebook is run.\n",
    "Kernels can be for any language (Python, Bash, R, Julia, etc.).\n",
    "Each kernel is linked to a specific interpreter or environment."
   ]
  },
  {
   "cell_type": "markdown",
   "metadata": {},
   "source": [
    "### Conda Environment:\n",
    "A Conda environment is an isolated directory that contains its own Python interpreter, libraries, and packages.\n",
    "It helps you manage dependencies and avoid conflicts between different projects.\n",
    "When you create a Conda environment named simulations_env, it has its own Python interpreter and packages.\n",
    "\n",
    "You can then register an environment environment as a Jupyter kernel. When you select this kernel, the code you run will use the packages and interpreter from this environment.\n"
   ]
  },
  {
   "cell_type": "markdown",
   "metadata": {},
   "source": [
    "\n",
    "1. List all available kernels\n",
    "\n",
    "jupyter kernelspec list\n",
    "\n",
    "2. Start Jupyter notebook with a specific kernel (replace python3 with name)\n",
    "\n",
    "jupyter notebook --NotebookApp.default_kernel_name=python3\n",
    "\n",
    "3. Verify the active kernel within a notebook cell\n",
    "(Run the following in the Jupyter notebook itself- its a python code)\n",
    "\n",
    "import sys\n",
    "print(sys.executable)\n",
    "\n",
    "4. Install a new kernel based on a Conda environment\n",
    "\n",
    "python -m ipykernel install --user --name simulations_env --display-name \"Simulations Environment\"\n",
    "\n",
    "5. Remove an existing kernel (replace bash with name of kernel)\n",
    "\n",
    "jupyter kernelspec uninstall bash\n",
    "\n",
    "6. conda info --envs\n",
    "\n",
    "list conda environments\n",
    "\n",
    "7. activate a conda environment\n",
    "\n",
    "conda activate env_name"
   ]
  },
  {
   "cell_type": "code",
   "execution_count": 13,
   "metadata": {
    "vscode": {
     "languageId": "shellscript"
    }
   },
   "outputs": [
    {
     "name": "stderr",
     "output_type": "stream",
     "text": [
      "usage: jupyter [-h] [--version] [--config-dir] [--data-dir] [--runtime-dir]\n",
      "               [--paths] [--json] [--debug]\n",
      "               [subcommand]\n",
      "\n",
      "Jupyter: Interactive Computing\n",
      "\n",
      "positional arguments:\n",
      "  subcommand     the subcommand to launch\n",
      "\n",
      "options:\n",
      "  -h, --help     show this help message and exit\n",
      "  --version      show the versions of core jupyter packages and exit\n",
      "  --config-dir   show Jupyter config dir\n",
      "  --data-dir     show Jupyter data dir\n",
      "  --runtime-dir  show Jupyter runtime dir\n",
      "  --paths        show all Jupyter paths. Add --json for machine-readable\n",
      "                 format.\n",
      "  --json         output paths as machine-readable json\n",
      "  --debug        output debug information about paths\n",
      "\n",
      "Available subcommands: bundlerextension console-script.py console.exe dejavu-\n",
      "script.py dejavu.exe events-script.py events.exe execute execute.exe kernel-\n",
      "script.py kernel.exe kernelspec-script.py kernelspec.exe lab-script.py lab.exe\n",
      "labextension-script.py labextension.exe labhub-script.py labhub.exe migrate\n",
      "migrate.exe nbconvert-script.py nbconvert.exe nbextension notebook\n",
      "notebook.exe qtconsole-script.py qtconsole.exe run-script.py run.exe script.py\n",
      "server-script.py server.exe serverextension troubleshoot troubleshoot.exe\n",
      "trust-script.py trust.exe\n",
      "\n",
      "Jupyter command `jupyter-kernelspec` not found.\n"
     ]
    },
    {
     "ename": "CalledProcessError",
     "evalue": "Command 'b'jupyter kernelspec list\\n'' returned non-zero exit status 1.",
     "output_type": "error",
     "traceback": [
      "\u001b[0;31m---------------------------------------------------------------------------\u001b[0m",
      "\u001b[0;31mCalledProcessError\u001b[0m                        Traceback (most recent call last)",
      "Cell \u001b[0;32mIn[13], line 1\u001b[0m\n\u001b[0;32m----> 1\u001b[0m \u001b[43mget_ipython\u001b[49m\u001b[43m(\u001b[49m\u001b[43m)\u001b[49m\u001b[38;5;241;43m.\u001b[39;49m\u001b[43mrun_cell_magic\u001b[49m\u001b[43m(\u001b[49m\u001b[38;5;124;43m'\u001b[39;49m\u001b[38;5;124;43mbash\u001b[39;49m\u001b[38;5;124;43m'\u001b[39;49m\u001b[43m,\u001b[49m\u001b[43m \u001b[49m\u001b[38;5;124;43m'\u001b[39;49m\u001b[38;5;124;43m'\u001b[39;49m\u001b[43m,\u001b[49m\u001b[43m \u001b[49m\u001b[38;5;124;43m'\u001b[39;49m\u001b[38;5;124;43mjupyter kernelspec list\u001b[39;49m\u001b[38;5;130;43;01m\\n\u001b[39;49;00m\u001b[38;5;124;43m'\u001b[39;49m\u001b[43m)\u001b[49m\n",
      "File \u001b[0;32m/usr/lib/python3/dist-packages/IPython/core/interactiveshell.py:2517\u001b[0m, in \u001b[0;36mInteractiveShell.run_cell_magic\u001b[0;34m(self, magic_name, line, cell)\u001b[0m\n\u001b[1;32m   2515\u001b[0m \u001b[38;5;28;01mwith\u001b[39;00m \u001b[38;5;28mself\u001b[39m\u001b[38;5;241m.\u001b[39mbuiltin_trap:\n\u001b[1;32m   2516\u001b[0m     args \u001b[38;5;241m=\u001b[39m (magic_arg_s, cell)\n\u001b[0;32m-> 2517\u001b[0m     result \u001b[38;5;241m=\u001b[39m \u001b[43mfn\u001b[49m\u001b[43m(\u001b[49m\u001b[38;5;241;43m*\u001b[39;49m\u001b[43margs\u001b[49m\u001b[43m,\u001b[49m\u001b[43m \u001b[49m\u001b[38;5;241;43m*\u001b[39;49m\u001b[38;5;241;43m*\u001b[39;49m\u001b[43mkwargs\u001b[49m\u001b[43m)\u001b[49m\n\u001b[1;32m   2519\u001b[0m \u001b[38;5;66;03m# The code below prevents the output from being displayed\u001b[39;00m\n\u001b[1;32m   2520\u001b[0m \u001b[38;5;66;03m# when using magics with decorator @output_can_be_silenced\u001b[39;00m\n\u001b[1;32m   2521\u001b[0m \u001b[38;5;66;03m# when the last Python token in the expression is a ';'.\u001b[39;00m\n\u001b[1;32m   2522\u001b[0m \u001b[38;5;28;01mif\u001b[39;00m \u001b[38;5;28mgetattr\u001b[39m(fn, magic\u001b[38;5;241m.\u001b[39mMAGIC_OUTPUT_CAN_BE_SILENCED, \u001b[38;5;28;01mFalse\u001b[39;00m):\n",
      "File \u001b[0;32m/usr/lib/python3/dist-packages/IPython/core/magics/script.py:154\u001b[0m, in \u001b[0;36mScriptMagics._make_script_magic.<locals>.named_script_magic\u001b[0;34m(line, cell)\u001b[0m\n\u001b[1;32m    152\u001b[0m \u001b[38;5;28;01melse\u001b[39;00m:\n\u001b[1;32m    153\u001b[0m     line \u001b[38;5;241m=\u001b[39m script\n\u001b[0;32m--> 154\u001b[0m \u001b[38;5;28;01mreturn\u001b[39;00m \u001b[38;5;28;43mself\u001b[39;49m\u001b[38;5;241;43m.\u001b[39;49m\u001b[43mshebang\u001b[49m\u001b[43m(\u001b[49m\u001b[43mline\u001b[49m\u001b[43m,\u001b[49m\u001b[43m \u001b[49m\u001b[43mcell\u001b[49m\u001b[43m)\u001b[49m\n",
      "File \u001b[0;32m/usr/lib/python3/dist-packages/IPython/core/magics/script.py:314\u001b[0m, in \u001b[0;36mScriptMagics.shebang\u001b[0;34m(self, line, cell)\u001b[0m\n\u001b[1;32m    309\u001b[0m \u001b[38;5;28;01mif\u001b[39;00m args\u001b[38;5;241m.\u001b[39mraise_error \u001b[38;5;129;01mand\u001b[39;00m p\u001b[38;5;241m.\u001b[39mreturncode \u001b[38;5;241m!=\u001b[39m \u001b[38;5;241m0\u001b[39m:\n\u001b[1;32m    310\u001b[0m     \u001b[38;5;66;03m# If we get here and p.returncode is still None, we must have\u001b[39;00m\n\u001b[1;32m    311\u001b[0m     \u001b[38;5;66;03m# killed it but not yet seen its return code. We don't wait for it,\u001b[39;00m\n\u001b[1;32m    312\u001b[0m     \u001b[38;5;66;03m# in case it's stuck in uninterruptible sleep. -9 = SIGKILL\u001b[39;00m\n\u001b[1;32m    313\u001b[0m     rc \u001b[38;5;241m=\u001b[39m p\u001b[38;5;241m.\u001b[39mreturncode \u001b[38;5;129;01mor\u001b[39;00m \u001b[38;5;241m-\u001b[39m\u001b[38;5;241m9\u001b[39m\n\u001b[0;32m--> 314\u001b[0m     \u001b[38;5;28;01mraise\u001b[39;00m CalledProcessError(rc, cell)\n",
      "\u001b[0;31mCalledProcessError\u001b[0m: Command 'b'jupyter kernelspec list\\n'' returned non-zero exit status 1."
     ]
    }
   ],
   "source": [
    "%%bash\n",
    "jupyter kernelspec list\n"
   ]
  },
  {
   "cell_type": "code",
   "execution_count": 16,
   "metadata": {
    "vscode": {
     "languageId": "shellscript"
    }
   },
   "outputs": [
    {
     "name": "stderr",
     "output_type": "stream",
     "text": [
      "bash: line 1: conda: command not found\n"
     ]
    },
    {
     "ename": "CalledProcessError",
     "evalue": "Command 'b'conda info --envs\\n'' returned non-zero exit status 127.",
     "output_type": "error",
     "traceback": [
      "\u001b[0;31m---------------------------------------------------------------------------\u001b[0m",
      "\u001b[0;31mCalledProcessError\u001b[0m                        Traceback (most recent call last)",
      "Cell \u001b[0;32mIn[16], line 1\u001b[0m\n\u001b[0;32m----> 1\u001b[0m \u001b[43mget_ipython\u001b[49m\u001b[43m(\u001b[49m\u001b[43m)\u001b[49m\u001b[38;5;241;43m.\u001b[39;49m\u001b[43mrun_cell_magic\u001b[49m\u001b[43m(\u001b[49m\u001b[38;5;124;43m'\u001b[39;49m\u001b[38;5;124;43mbash\u001b[39;49m\u001b[38;5;124;43m'\u001b[39;49m\u001b[43m,\u001b[49m\u001b[43m \u001b[49m\u001b[38;5;124;43m'\u001b[39;49m\u001b[38;5;124;43m'\u001b[39;49m\u001b[43m,\u001b[49m\u001b[43m \u001b[49m\u001b[38;5;124;43m'\u001b[39;49m\u001b[38;5;124;43mconda info --envs\u001b[39;49m\u001b[38;5;130;43;01m\\n\u001b[39;49;00m\u001b[38;5;124;43m'\u001b[39;49m\u001b[43m)\u001b[49m\n",
      "File \u001b[0;32m/usr/lib/python3/dist-packages/IPython/core/interactiveshell.py:2517\u001b[0m, in \u001b[0;36mInteractiveShell.run_cell_magic\u001b[0;34m(self, magic_name, line, cell)\u001b[0m\n\u001b[1;32m   2515\u001b[0m \u001b[38;5;28;01mwith\u001b[39;00m \u001b[38;5;28mself\u001b[39m\u001b[38;5;241m.\u001b[39mbuiltin_trap:\n\u001b[1;32m   2516\u001b[0m     args \u001b[38;5;241m=\u001b[39m (magic_arg_s, cell)\n\u001b[0;32m-> 2517\u001b[0m     result \u001b[38;5;241m=\u001b[39m \u001b[43mfn\u001b[49m\u001b[43m(\u001b[49m\u001b[38;5;241;43m*\u001b[39;49m\u001b[43margs\u001b[49m\u001b[43m,\u001b[49m\u001b[43m \u001b[49m\u001b[38;5;241;43m*\u001b[39;49m\u001b[38;5;241;43m*\u001b[39;49m\u001b[43mkwargs\u001b[49m\u001b[43m)\u001b[49m\n\u001b[1;32m   2519\u001b[0m \u001b[38;5;66;03m# The code below prevents the output from being displayed\u001b[39;00m\n\u001b[1;32m   2520\u001b[0m \u001b[38;5;66;03m# when using magics with decorator @output_can_be_silenced\u001b[39;00m\n\u001b[1;32m   2521\u001b[0m \u001b[38;5;66;03m# when the last Python token in the expression is a ';'.\u001b[39;00m\n\u001b[1;32m   2522\u001b[0m \u001b[38;5;28;01mif\u001b[39;00m \u001b[38;5;28mgetattr\u001b[39m(fn, magic\u001b[38;5;241m.\u001b[39mMAGIC_OUTPUT_CAN_BE_SILENCED, \u001b[38;5;28;01mFalse\u001b[39;00m):\n",
      "File \u001b[0;32m/usr/lib/python3/dist-packages/IPython/core/magics/script.py:154\u001b[0m, in \u001b[0;36mScriptMagics._make_script_magic.<locals>.named_script_magic\u001b[0;34m(line, cell)\u001b[0m\n\u001b[1;32m    152\u001b[0m \u001b[38;5;28;01melse\u001b[39;00m:\n\u001b[1;32m    153\u001b[0m     line \u001b[38;5;241m=\u001b[39m script\n\u001b[0;32m--> 154\u001b[0m \u001b[38;5;28;01mreturn\u001b[39;00m \u001b[38;5;28;43mself\u001b[39;49m\u001b[38;5;241;43m.\u001b[39;49m\u001b[43mshebang\u001b[49m\u001b[43m(\u001b[49m\u001b[43mline\u001b[49m\u001b[43m,\u001b[49m\u001b[43m \u001b[49m\u001b[43mcell\u001b[49m\u001b[43m)\u001b[49m\n",
      "File \u001b[0;32m/usr/lib/python3/dist-packages/IPython/core/magics/script.py:314\u001b[0m, in \u001b[0;36mScriptMagics.shebang\u001b[0;34m(self, line, cell)\u001b[0m\n\u001b[1;32m    309\u001b[0m \u001b[38;5;28;01mif\u001b[39;00m args\u001b[38;5;241m.\u001b[39mraise_error \u001b[38;5;129;01mand\u001b[39;00m p\u001b[38;5;241m.\u001b[39mreturncode \u001b[38;5;241m!=\u001b[39m \u001b[38;5;241m0\u001b[39m:\n\u001b[1;32m    310\u001b[0m     \u001b[38;5;66;03m# If we get here and p.returncode is still None, we must have\u001b[39;00m\n\u001b[1;32m    311\u001b[0m     \u001b[38;5;66;03m# killed it but not yet seen its return code. We don't wait for it,\u001b[39;00m\n\u001b[1;32m    312\u001b[0m     \u001b[38;5;66;03m# in case it's stuck in uninterruptible sleep. -9 = SIGKILL\u001b[39;00m\n\u001b[1;32m    313\u001b[0m     rc \u001b[38;5;241m=\u001b[39m p\u001b[38;5;241m.\u001b[39mreturncode \u001b[38;5;129;01mor\u001b[39;00m \u001b[38;5;241m-\u001b[39m\u001b[38;5;241m9\u001b[39m\n\u001b[0;32m--> 314\u001b[0m     \u001b[38;5;28;01mraise\u001b[39;00m CalledProcessError(rc, cell)\n",
      "\u001b[0;31mCalledProcessError\u001b[0m: Command 'b'conda info --envs\\n'' returned non-zero exit status 127."
     ]
    }
   ],
   "source": [
    "%%bash\n",
    "conda info --envs\n"
   ]
  },
  {
   "cell_type": "markdown",
   "metadata": {},
   "source": [
    "The base environment is created during Anaconda’s installation, and by default, it goes to a shared location on your system (e.g., C:\\ProgramData\\anaconda3).\n",
    "Any new environment you create using Conda goes under a hidden .conda folder in your user directory (C:\\Users\\kavis\\.conda\\envs\\), unless you specify a different location.\n",
    "This separation helps keep the default setup and custom environments independent from each other."
   ]
  }
 ],
 "metadata": {
  "kernelspec": {
   "display_name": "Python 3",
   "language": "python",
   "name": "python3"
  },
  "language_info": {
   "codemirror_mode": {
    "name": "ipython",
    "version": 3
   },
   "file_extension": ".py",
   "mimetype": "text/x-python",
   "name": "python",
   "nbconvert_exporter": "python",
   "pygments_lexer": "ipython3",
   "version": "3.12.3"
  }
 },
 "nbformat": 4,
 "nbformat_minor": 2
}
