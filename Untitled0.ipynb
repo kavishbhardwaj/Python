{
  "nbformat": 4,
  "nbformat_minor": 0,
  "metadata": {
    "colab": {
      "provenance": [],
      "authorship_tag": "ABX9TyMkdy8JXGuuo75NEmQ1vk0+",
      "include_colab_link": true
    },
    "kernelspec": {
      "name": "python3",
      "display_name": "Python 3"
    },
    "language_info": {
      "name": "python"
    }
  },
  "cells": [
    {
      "cell_type": "markdown",
      "metadata": {
        "id": "view-in-github",
        "colab_type": "text"
      },
      "source": [
        "<a href=\"https://colab.research.google.com/github/kavishbhardwaj/Rep1/blob/main/Untitled0.ipynb\" target=\"_parent\"><img src=\"https://colab.research.google.com/assets/colab-badge.svg\" alt=\"Open In Colab\"/></a>"
      ]
    },
    {
      "cell_type": "markdown",
      "source": [
        "# Running Linux Commands\n",
        "In Google Colab, you can execute Linux commands directly in code cells by using a special cell magic command called %%bash."
      ],
      "metadata": {
        "id": "YrR3IIXl6Q6P"
      }
    },
    {
      "cell_type": "markdown",
      "source": [
        "## Example code cells"
      ],
      "metadata": {
        "id": "_7-73aER64Pz"
      }
    },
    {
      "cell_type": "code",
      "execution_count": 1,
      "metadata": {
        "colab": {
          "base_uri": "https://localhost:8080/"
        },
        "id": "haYBu85O5tZu",
        "outputId": "e6befec8-fb67-4cff-ce40-6371771975cf"
      },
      "outputs": [
        {
          "output_type": "stream",
          "name": "stdout",
          "text": [
            "Hello, World!\n"
          ]
        }
      ],
      "source": [
        "%%bash\n",
        "echo \"Hello, World!\""
      ]
    },
    {
      "cell_type": "code",
      "source": [
        "%%bash\n",
        "ls -l # This command lists all the files in the current directory in the long listing format."
      ],
      "metadata": {
        "colab": {
          "base_uri": "https://localhost:8080/"
        },
        "id": "fQU009to7DjH",
        "outputId": "97f920fb-69e3-4f24-c303-201968ec5bf6"
      },
      "execution_count": 2,
      "outputs": [
        {
          "output_type": "stream",
          "name": "stdout",
          "text": [
            "total 4\n",
            "drwxr-xr-x 1 root root 4096 Oct  3 13:24 sample_data\n"
          ]
        }
      ]
    },
    {
      "cell_type": "markdown",
      "source": [
        "## Exploring Simple Commands in Colab\n",
        "\n",
        "Here are some basic Linux commands you can try in your Colab notebook:"
      ],
      "metadata": {
        "id": "nnCp3Rg5nITI"
      }
    },
    {
      "cell_type": "code",
      "source": [
        "# @title i. Viewing the Current Directory:\n",
        "%%bash\n",
        "pwd"
      ],
      "metadata": {
        "id": "-6VXeEXenXdy",
        "colab": {
          "base_uri": "https://localhost:8080/"
        },
        "outputId": "9208c4e2-01b7-40fc-b740-5f37b61cdb63"
      },
      "execution_count": null,
      "outputs": [
        {
          "output_type": "stream",
          "name": "stdout",
          "text": [
            "/content\n"
          ]
        }
      ]
    },
    {
      "cell_type": "code",
      "source": [
        "# @title ii. Listing Files and Directories:\n",
        "%%bash\n",
        "ls -la"
      ],
      "metadata": {
        "colab": {
          "base_uri": "https://localhost:8080/"
        },
        "id": "wNpQfPCnoG_9",
        "outputId": "37a97911-68ef-496b-9a9d-8b78f2876a4a"
      },
      "execution_count": null,
      "outputs": [
        {
          "output_type": "stream",
          "name": "stdout",
          "text": [
            "total 16\n",
            "drwxr-xr-x 1 root root 4096 Aug 23 13:20 .\n",
            "drwxr-xr-x 1 root root 4096 Aug 27 06:51 ..\n",
            "drwxr-xr-x 4 root root 4096 Aug 23 13:20 .config\n",
            "drwxr-xr-x 1 root root 4096 Aug 23 13:20 sample_data\n"
          ]
        }
      ]
    },
    {
      "cell_type": "code",
      "source": [
        "# @title iii. Creating a Directory:\n",
        "%%bash\n",
        "mkdir test_directory"
      ],
      "metadata": {
        "id": "LEtbPr7aoPeF"
      },
      "execution_count": null,
      "outputs": []
    },
    {
      "cell_type": "markdown",
      "source": [
        "**Note** - Remember in linux when everything goes well, it does not print anything. It works on the principle of *No Nonsense Approach*."
      ],
      "metadata": {
        "id": "FdbtrMuPoWd_"
      }
    },
    {
      "cell_type": "code",
      "source": [
        "# @title iv. Navigating into a Directory:\n",
        "%%bash\n",
        "cd test_directory\n",
        "pwd"
      ],
      "metadata": {
        "colab": {
          "base_uri": "https://localhost:8080/"
        },
        "id": "mzHDl-h7o3y7",
        "outputId": "ccfdeba3-3ac5-4df0-d4ed-240a496bed1e"
      },
      "execution_count": null,
      "outputs": [
        {
          "output_type": "stream",
          "name": "stdout",
          "text": [
            "/content/test_directory\n"
          ]
        }
      ]
    },
    {
      "cell_type": "code",
      "source": [
        "# @title v. Creating and Writing to a File:\n",
        "%%bash\n",
        "echo \"Hello, Colab!\" > hello.txt\n",
        "cat hello.txt"
      ],
      "metadata": {
        "colab": {
          "base_uri": "https://localhost:8080/"
        },
        "id": "Tt-SINdqo_lv",
        "outputId": "e97a3752-b592-463f-a4a7-794e0587c7c6"
      },
      "execution_count": null,
      "outputs": [
        {
          "output_type": "stream",
          "name": "stdout",
          "text": [
            "Hello, Colab!\n"
          ]
        }
      ]
    },
    {
      "cell_type": "markdown",
      "source": [
        "## 5. Common Errors and Troubleshooting\n",
        "\n",
        "*   **Command Not Found**: Ensure that the command is typed correctly and is available in the environment. In the following units we will learn how to install a new command if needed, how to access the manual page of any command and explore their attributes and parameters. [link text](https://)\n",
        "*   **Permission Denied**: Check if you have the necessary permissions to execute the command or access the file/directory. Understanding what permissions you have in the directory is important and how to change them, if needed. We will explore these options too in the subsequent units. [link text](https://)\n",
        "*   **No Such File or Directory**: Verify the path or file name you’re trying to access.\n",
        "\n",
        "These are some of the common mistakes that we face when we first start working on the linux commands. There are others as well, which we will deal with later.\n",
        "\n"
      ],
      "metadata": {
        "id": "871knJDUqj4e"
      }
    }
  ]
}